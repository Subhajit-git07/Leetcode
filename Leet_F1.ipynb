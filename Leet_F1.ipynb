{
 "cells": [
  {
   "cell_type": "code",
   "execution_count": 4,
   "id": "separated-armor",
   "metadata": {},
   "outputs": [
    {
     "data": {
      "text/plain": [
       "'https://leetcode.com/problems/design-tinyurl'"
      ]
     },
     "execution_count": 4,
     "metadata": {},
     "output_type": "execute_result"
    }
   ],
   "source": [
    "##535. Encode and Decode TinyURL\n",
    "class TinyUrl:\n",
    "    def __init__(self):\n",
    "        self.encodeDict = {}\n",
    "        self.decodeDict = {}\n",
    "        self.base = \"http://tinyurl.com/\"\n",
    "        \n",
    "    def encode(self, longUrl):\n",
    "        if longUrl not in self.encodeDict:\n",
    "            shortUrl = self.base + str(len(self.encodeDict)+1)\n",
    "            self.encodeDict[longUrl] = shortUrl\n",
    "            self.decodeDict[shortUrl] = longUrl\n",
    "        return self.encodeDict[longUrl]\n",
    "    \n",
    "    def decode(self, shortUrl):\n",
    "        if shortUrl in self.decodeDict:\n",
    "            return self.decodeDict[shortUrl]\n",
    "        return -1\n",
    "    \n",
    "longUrl = \"https://leetcode.com/problems/design-tinyurl\"\n",
    "tUrl = TinyUrl()\n",
    "shortUrl = tUrl.encode(longUrl)\n",
    "tUrl.decode(shortUrl)"
   ]
  },
  {
   "cell_type": "code",
   "execution_count": 17,
   "id": "exclusive-shuttle",
   "metadata": {},
   "outputs": [
    {
     "data": {
      "text/plain": [
       "1994"
      ]
     },
     "execution_count": 17,
     "metadata": {},
     "output_type": "execute_result"
    }
   ],
   "source": [
    "##13. Roman to Integer\n",
    "# Input: s = \"LVIII\"\n",
    "# Output: 58\n",
    "# Explanation: L = 50, V= 5, III = 3.\n",
    "\n",
    "def RomanToInt(s):\n",
    "    symbolDict = {\"M\":1000, \"D\":500, \"C\":100, \"L\":50, \"X\":10, \"V\":5, \"I\":1}\n",
    "    n = len(s)\n",
    "    res = symbolDict[s[n-1]]\n",
    "    for i in range(n-2, -1, -1):\n",
    "        if symbolDict[s[i]] < symbolDict[s[i+1]]:\n",
    "            res -= symbolDict[s[i]]\n",
    "        else:\n",
    "            res += symbolDict[s[i]]\n",
    "    return res\n",
    "\n",
    "\n",
    "s = \"MCMXCIV\"\n",
    "RomanToInt(s)"
   ]
  },
  {
   "cell_type": "code",
   "execution_count": 18,
   "id": "alpine-improvement",
   "metadata": {},
   "outputs": [
    {
     "data": {
      "text/plain": [
       "[0, 1]"
      ]
     },
     "execution_count": 18,
     "metadata": {},
     "output_type": "execute_result"
    }
   ],
   "source": [
    "##1. Two Sum\n",
    "# Input: nums = [2,7,11,15], target = 9\n",
    "# Output: [0,1]\n",
    "# Output: Because nums[0] + nums[1] == 9, we return [0, 1].\n",
    "\n",
    "def twoSum(nums, target):\n",
    "    numDict = {}\n",
    "    for i in range(len(nums)):\n",
    "        if target - nums[i] in numDict:\n",
    "            return [numDict[target-nums[i]], i]\n",
    "        else:\n",
    "            numDict[nums[i]] = i\n",
    "            \n",
    "nums = [2,7,11,15]\n",
    "target = 9\n",
    "twoSum(nums, target)"
   ]
  },
  {
   "cell_type": "code",
   "execution_count": 25,
   "id": "wicked-color",
   "metadata": {},
   "outputs": [
    {
     "data": {
      "text/plain": [
       "'10011111'"
      ]
     },
     "execution_count": 25,
     "metadata": {},
     "output_type": "execute_result"
    }
   ],
   "source": [
    "##Int to Binary\n",
    "## base 2\n",
    "\n",
    "def intToBin(num):\n",
    "    res = \"\"\n",
    "    while num >0:\n",
    "        rem = num%2\n",
    "        num = num // 2\n",
    "        res += str(rem)\n",
    "    res = res[::-1]\n",
    "    return res\n",
    "\n",
    "intToBin(159)"
   ]
  },
  {
   "cell_type": "code",
   "execution_count": 26,
   "id": "inappropriate-astrology",
   "metadata": {},
   "outputs": [
    {
     "data": {
      "text/plain": [
       "'0b10011111'"
      ]
     },
     "execution_count": 26,
     "metadata": {},
     "output_type": "execute_result"
    }
   ],
   "source": [
    "bin(159)"
   ]
  },
  {
   "cell_type": "code",
   "execution_count": 35,
   "id": "dress-business",
   "metadata": {},
   "outputs": [
    {
     "data": {
      "text/plain": [
       "True"
      ]
     },
     "execution_count": 35,
     "metadata": {},
     "output_type": "execute_result"
    }
   ],
   "source": [
    "###20. Valid Parentheses\n",
    "def validParen(s):\n",
    "    stack = []\n",
    "    for i in range(len(s)):\n",
    "        if s[i] in \"({[\":\n",
    "            stack.append(s[i])\n",
    "        else:\n",
    "            if len(stack) == 0:\n",
    "                return False\n",
    "            else:\n",
    "                close = s[i]\n",
    "                openning = stack.pop()\n",
    "                if not isValid(openning, close):\n",
    "                    return False\n",
    "    if len(stack) != 0:\n",
    "        return False\n",
    "    else:\n",
    "        return True\n",
    "    \n",
    "def isValid(p1, p2):\n",
    "    if p1 == '(' and p2 == \")\":\n",
    "        return True\n",
    "    elif p1 == '{' and p2 == \"}\":\n",
    "        return True\n",
    "    elif p1 == '[' and p2 == ']':\n",
    "        return True\n",
    "    else:\n",
    "        return False\n",
    "    \n",
    "s = \"{[]}\"\n",
    "validParen(s)\n",
    "##Time complexity O(len(S)) space O(n)"
   ]
  },
  {
   "cell_type": "code",
   "execution_count": 36,
   "id": "celtic-night",
   "metadata": {},
   "outputs": [],
   "source": [
    "##206. Reverse Linked List\n",
    "class ListNode:\n",
    "    def __init__(self, val):\n",
    "        self.val = val\n",
    "        self.next = None\n",
    "        \n",
    "def reverseList(head):\n",
    "    if head is None:\n",
    "        return None\n",
    "    prev = None\n",
    "    while head:\n",
    "        temp = head.next\n",
    "        head.next = prev\n",
    "        prev = head\n",
    "        head = temp\n",
    "    return prev\n",
    "\n",
    "##Time complexity O(n) and space O(1)"
   ]
  },
  {
   "cell_type": "code",
   "execution_count": 50,
   "id": "operational-study",
   "metadata": {},
   "outputs": [],
   "source": [
    "##146. LRU Cache  -- using doubly linked list and hashmap\n",
    "class DLL:\n",
    "    def __init__(self, key, val):\n",
    "        self.key = key\n",
    "        self.val = val\n",
    "        self.next = None\n",
    "        self.prev = None\n",
    "        \n",
    "class LRU:\n",
    "    def __init__(self, capacity):\n",
    "        self.cache = {}\n",
    "        self.capacity = capacity\n",
    "        self.head = DLL(0,0)\n",
    "        self.tail = DLL(0,0)\n",
    "        self.head.next = self.tail\n",
    "        self.tail.prev = self.head\n",
    "        \n",
    "    def addNode(self, node):\n",
    "        p = self.tail.prev\n",
    "        p.next = node\n",
    "        node.prev = p\n",
    "        \n",
    "        node.next = self.tail\n",
    "        self.tail.prev = node\n",
    "        \n",
    "    def removeNode(self, node):\n",
    "        p = node.prev\n",
    "        n = node.next\n",
    "        \n",
    "        p.next = n\n",
    "        n.prev = p\n",
    "        \n",
    "    def get(self, key):\n",
    "        if key in self.cache:\n",
    "            node = self.cache[key]\n",
    "            self.removeNode(node)\n",
    "            self.addNode(node)\n",
    "            return node.val\n",
    "        return -1\n",
    "    \n",
    "    def put(self, key, val):\n",
    "        if key in self.cache:\n",
    "            node = self.cache[key]\n",
    "            self.removeNode(node)\n",
    "            self.addNode(node)\n",
    "        else:\n",
    "            self.cache[key] = DLL(key, val)\n",
    "            node = self.cache[key]\n",
    "            self.addNode(node)\n",
    "        if self.capacity < len(self.cache):\n",
    "            lru = self.head.next\n",
    "            self.removeNode(lru)\n",
    "            del self.cache[lru.key]"
   ]
  },
  {
   "cell_type": "code",
   "execution_count": 56,
   "id": "roman-mouth",
   "metadata": {},
   "outputs": [
    {
     "data": {
      "text/plain": [
       "4"
      ]
     },
     "execution_count": 56,
     "metadata": {},
     "output_type": "execute_result"
    }
   ],
   "source": [
    "lru = LRU(2)\n",
    "lru.put(1,1)\n",
    "lru.put(2,2)\n",
    "lru.get(1)\n",
    "lru.put(3,3)\n",
    "lru.get(2)\n",
    "lru.put(4,4)\n",
    "lru.get(1)\n",
    "lru.get(3)\n",
    "lru.get(4)"
   ]
  },
  {
   "cell_type": "code",
   "execution_count": 57,
   "id": "organized-contribution",
   "metadata": {},
   "outputs": [
    {
     "data": {
      "text/plain": [
       "[1, 3, 12, 0, 0]"
      ]
     },
     "execution_count": 57,
     "metadata": {},
     "output_type": "execute_result"
    }
   ],
   "source": [
    "###283. Move Zeroes\n",
    "def moveZeros(nums):\n",
    "    left = 0\n",
    "    right = 0\n",
    "    n = len(nums)\n",
    "    \n",
    "    while right < n:\n",
    "        if nums[right] == 0:\n",
    "            right += 1\n",
    "        else:\n",
    "            nums[left], nums[right] = nums[right], nums[left]\n",
    "            left += 1\n",
    "            right += 1\n",
    "    return nums\n",
    "\n",
    "nums = [0,1,0,3,12]\n",
    "moveZeros(nums)"
   ]
  },
  {
   "cell_type": "code",
   "execution_count": 2,
   "id": "turkish-aruba",
   "metadata": {},
   "outputs": [
    {
     "data": {
      "text/plain": [
       "[1, 2, 3, 4, 5, 6, 7]"
      ]
     },
     "execution_count": 2,
     "metadata": {},
     "output_type": "execute_result"
    }
   ],
   "source": [
    "##26. Remove Duplicates from Sorted Array\n",
    "\n",
    "def removeDuplicate(nums):\n",
    "    i = 0\n",
    "    for j in range(1, len(nums)):\n",
    "        if nums[i] != nums[j]:\n",
    "            i += 1\n",
    "            nums[i], nums[j] = nums[j], nums[i]\n",
    "    return nums[:i+1]\n",
    "\n",
    "nums = [1,2,2,2,3,4,4,5,6,7]\n",
    "removeDuplicate(nums)"
   ]
  },
  {
   "cell_type": "code",
   "execution_count": 3,
   "id": "powered-aquarium",
   "metadata": {},
   "outputs": [
    {
     "data": {
      "text/plain": [
       "([1, 2, 3, 5], [5, 7, 10, 14])"
      ]
     },
     "execution_count": 3,
     "metadata": {},
     "output_type": "execute_result"
    }
   ],
   "source": [
    "##Rearrange lists\n",
    "\n",
    "def rearrange_list(nums1, nums2):\n",
    "    i = 0\n",
    "    while i < len(nums1):\n",
    "        if nums1[i] > nums2[0]:\n",
    "            nums1[i], nums2[0] = nums2[0], nums1[i]\n",
    "            reArrange(nums2, 0)\n",
    "        i += 1\n",
    "    return nums1, nums2\n",
    "        \n",
    "def reArrange(nums2, i):\n",
    "    original = nums2[i]\n",
    "    i += 1\n",
    "    while i < len(nums2) and nums2[i] < original:\n",
    "        nums2[i-1] = nums2[i]\n",
    "        i += 1\n",
    "    nums2[i-1] = original\n",
    "    \n",
    "nums1 = [1,3, 5, 7]\n",
    "nums2 = [2,5, 10, 14]\n",
    "rearrange_list(nums1, nums2)"
   ]
  },
  {
   "cell_type": "code",
   "execution_count": 2,
   "id": "challenging-nomination",
   "metadata": {},
   "outputs": [
    {
     "data": {
      "text/plain": [
       "3"
      ]
     },
     "execution_count": 2,
     "metadata": {},
     "output_type": "execute_result"
    }
   ],
   "source": [
    "##200. Number of Islands\n",
    "def numOfIsland(grid):\n",
    "    count = 0\n",
    "    visited = [[False for col in range(len(grid[0]))] for row in range(len(grid))]\n",
    "    for i in range(len(grid)):\n",
    "        for j in range(len(grid[0])):\n",
    "            if grid[i][j] == \"1\" and not visited[i][j]:\n",
    "                DFS(grid, visited, i, j)\n",
    "                count += 1\n",
    "    return count\n",
    "\n",
    "def DFS(grid, visited, i, j):\n",
    "    if i < 0 or i >= len(grid) or j < 0 or j >= len(grid[0]) or grid[i][j] == \"0\":\n",
    "        return\n",
    "    if visited[i][j]:\n",
    "        return\n",
    "    visited[i][j] = True\n",
    "    DFS(grid, visited, i+1, j)\n",
    "    DFS(grid, visited, i-1, j)\n",
    "    DFS(grid, visited, i, j+1)\n",
    "    DFS(grid, visited, i, j-1)\n",
    "    \n",
    "grid = [\n",
    "  [\"1\",\"1\",\"0\",\"0\",\"0\"],\n",
    "  [\"1\",\"1\",\"0\",\"0\",\"0\"],\n",
    "  [\"0\",\"0\",\"1\",\"0\",\"0\"],\n",
    "  [\"0\",\"0\",\"0\",\"1\",\"1\"]\n",
    "]\n",
    "\n",
    "numOfIsland(grid)\n"
   ]
  },
  {
   "cell_type": "code",
   "execution_count": 8,
   "id": "controlled-trust",
   "metadata": {},
   "outputs": [
    {
     "data": {
      "text/plain": [
       "[['eat', 'tea', 'ate'], ['tan', 'nat'], ['bat']]"
      ]
     },
     "execution_count": 8,
     "metadata": {},
     "output_type": "execute_result"
    }
   ],
   "source": [
    "##49. Group Anagrams\n",
    "# Input: strs = [\"eat\",\"tea\",\"tan\",\"ate\",\"nat\",\"bat\"]\n",
    "# Output: [[\"bat\"],[\"nat\",\"tan\"],[\"ate\",\"eat\",\"tea\"]]\n",
    "\n",
    "def groupAnagrams(strs):\n",
    "    res = []\n",
    "    anagramDict = {}\n",
    "    for word in strs:\n",
    "        countLetter = [0]*26\n",
    "        for char in word:\n",
    "            pos = ord(char) - ord('a')\n",
    "            countLetter[pos] += 1\n",
    "        countLetter = tuple(countLetter)\n",
    "        if countLetter in anagramDict:\n",
    "            anagramDict[countLetter].append(word)\n",
    "        else:\n",
    "            anagramDict[countLetter] = [word]\n",
    "    return list(anagramDict.values())\n",
    "\n",
    "strs = [\"eat\",\"tea\",\"tan\",\"ate\",\"nat\",\"bat\"]\n",
    "groupAnagrams(strs)\n",
    "##Time complexity O(nK) space O(N)"
   ]
  },
  {
   "cell_type": "code",
   "execution_count": 11,
   "id": "detailed-drove",
   "metadata": {},
   "outputs": [
    {
     "data": {
      "text/plain": [
       "[[1, 18]]"
      ]
     },
     "execution_count": 11,
     "metadata": {},
     "output_type": "execute_result"
    }
   ],
   "source": [
    "##56. Merge Intervals\n",
    "# Input: intervals = [[1,3],[2,6],[8,10],[15,18]]\n",
    "# Output: [[1,6],[8,10],[15,18]]\n",
    "# Explanation: Since intervals [1,3] and [2,6] overlaps, merge them into [1,6].\n",
    "\n",
    "def mergeIntervals(intervals):\n",
    "    intervals.sort(key=lambda x:x[0])\n",
    "    res = []\n",
    "    inter = intervals[0]\n",
    "    for i in range(1, len(intervals)):\n",
    "        if inter[1] < intervals[i][0]:\n",
    "            res.append(inter)\n",
    "            inter = intervals[i]\n",
    "        else:\n",
    "            inter[0] = min(inter[0], intervals[i][0])\n",
    "            inter[1] = max(inter[1], intervals[i][1])\n",
    "    res.append(inter)\n",
    "    return res\n",
    "\n",
    "intervals = [[1,3],[2,6],[5,10],[9,18]]\n",
    "mergeIntervals(intervals)\n",
    "##Time complexity O(nlogn) space O(n)\n"
   ]
  },
  {
   "cell_type": "code",
   "execution_count": 16,
   "id": "earlier-increase",
   "metadata": {},
   "outputs": [
    {
     "data": {
      "text/plain": [
       "[[1, 5], [6, 9]]"
      ]
     },
     "execution_count": 16,
     "metadata": {},
     "output_type": "execute_result"
    }
   ],
   "source": [
    "##57. Insert Interval\n",
    "# Input: intervals = [[1,2],[3,5],[6,7],[8,10],[12,16]], newInterval = [4,8]\n",
    "# Output: [[1,2],[3,10],[12,16]]\n",
    "# Explanation: Because the new interval [4,8] overlaps with [3,5],[6,7],[8,10].\n",
    "\n",
    "def insertIntervals(intervals, newInterval):\n",
    "    res = []\n",
    "    for inter in intervals:\n",
    "        if inter[0] > newInterval[1]:\n",
    "            res.append(newInterval)\n",
    "            newInterval = inter\n",
    "        elif inter[1] < newInterval[0]:\n",
    "            res.append(inter)\n",
    "        else:\n",
    "            newInterval[0] = min(newInterval[0], inter[0])\n",
    "            newInterval[1] = max(newInterval[1], inter[1])\n",
    "    res.append(newInterval)\n",
    "    return res\n",
    "\n",
    "intervals = [[1,3],[6,9]]\n",
    "newInterval = [2,5]\n",
    "insertIntervals(intervals, newInterval)           \n",
    "##Time O(n) space O(n)       "
   ]
  },
  {
   "cell_type": "code",
   "execution_count": 18,
   "id": "corrected-naples",
   "metadata": {},
   "outputs": [],
   "source": [
    "##234. Palindrome Linked List\n",
    "def palindromLinedList(head):\n",
    "    slow = head\n",
    "    fast = head\n",
    "    cur = head\n",
    "    if head is None or head.next is None:\n",
    "        return True\n",
    "    \n",
    "    while fast and fast.next:\n",
    "        slow = slow.next\n",
    "        fast = fast.next.next\n",
    "    if fast:\n",
    "        slow = slow.next\n",
    "    tail = reverse(slow)\n",
    "    while tail:\n",
    "        if cur.val != tail.val:\n",
    "            return False\n",
    "        cur = cur.next\n",
    "        tail = tail.next\n",
    "    return True\n",
    "        \n",
    "def reverse(head):\n",
    "    prev = None\n",
    "    cur = head\n",
    "    while cur:\n",
    "        temp = cur.next\n",
    "        cur.next = prev\n",
    "        prev = cur\n",
    "        cur = temp\n",
    "    return prev\n",
    "\n",
    "##Time O(n) and space O(1)"
   ]
  },
  {
   "cell_type": "code",
   "execution_count": 23,
   "id": "demographic-suicide",
   "metadata": {},
   "outputs": [
    {
     "data": {
      "text/plain": [
       "-1"
      ]
     },
     "execution_count": 23,
     "metadata": {},
     "output_type": "execute_result"
    }
   ],
   "source": [
    "##33. Search in Rotated Sorted Array\n",
    "# Input: nums = [4,5,6,7,0,1,2], target = 0\n",
    "# Output: 4\n",
    "\n",
    "def search(nums, target):\n",
    "    left = 0\n",
    "    right = len(nums) - 1\n",
    "    while left <= right:\n",
    "        mid = left + (right-left)//2\n",
    "        if nums[mid] == target:\n",
    "            return mid\n",
    "        if nums[mid] >= nums[left]:\n",
    "            if target >= nums[left] and target < nums[mid]:\n",
    "                right = mid - 1\n",
    "            else:\n",
    "                left = mid + 1\n",
    "        else:\n",
    "            if target > nums[mid] and target <= nums[right]:\n",
    "                left = mid + 1\n",
    "            else:\n",
    "                right = mid - 1\n",
    "    return -1\n",
    "\n",
    "nums = [1]\n",
    "target = 0\n",
    "search(nums, target)\n",
    "##Time O(logN) space O(1)"
   ]
  },
  {
   "cell_type": "code",
   "execution_count": 25,
   "id": "emotional-silly",
   "metadata": {},
   "outputs": [
    {
     "data": {
      "text/plain": [
       "2"
      ]
     },
     "execution_count": 25,
     "metadata": {},
     "output_type": "execute_result"
    }
   ],
   "source": [
    "##28. Implement strStr()\n",
    "# Input: haystack = \"hello\", needle = \"ll\"\n",
    "# Output: 2\n",
    "\n",
    "def strStr(haystack, needle):\n",
    "    if needle == \"\":\n",
    "        return 0\n",
    "    m = len(haystack)\n",
    "    n = len(needle)\n",
    "    \n",
    "    if n > m:\n",
    "        return -1\n",
    "    else:\n",
    "        for i in range(m-n+1):\n",
    "            if haystack[i:i+n] == needle:\n",
    "                return i\n",
    "        return -1\n",
    "    \n",
    "haystack = \"hello\"\n",
    "needle = \"ll\"\n",
    "strStr(haystack, needle)"
   ]
  },
  {
   "cell_type": "code",
   "execution_count": 1,
   "id": "willing-proceeding",
   "metadata": {},
   "outputs": [],
   "source": [
    "##235. Lowest Common Ancestor of a Binary Search Tree\n",
    "def lowestCommonAnsester(root, p, q):\n",
    "    while root:\n",
    "        if root.val > p.val and root.val > q.val:\n",
    "            root = root.left\n",
    "        elif root.val < p.val and root.val < q.val:\n",
    "            root = root.right\n",
    "        else:\n",
    "            return root\n",
    "        \n",
    "##Time O(h) space O(1)"
   ]
  },
  {
   "cell_type": "code",
   "execution_count": 3,
   "id": "tracked-surface",
   "metadata": {},
   "outputs": [
    {
     "data": {
      "text/plain": [
       "2"
      ]
     },
     "execution_count": 3,
     "metadata": {},
     "output_type": "execute_result"
    }
   ],
   "source": [
    "##69. Sqrt(x)\n",
    "def sqrtF(x):\n",
    "    left = 0\n",
    "    right = x\n",
    "    while left <= right:\n",
    "        mid = left + (right-left)//2\n",
    "        if mid*mid == x:\n",
    "            return mid\n",
    "        if mid*mid < x:\n",
    "            left = mid + 1\n",
    "        else:\n",
    "            right = mid - 1\n",
    "    return left - 1\n",
    "\n",
    "sqrtF(8)"
   ]
  },
  {
   "cell_type": "code",
   "execution_count": 9,
   "id": "juvenile-converter",
   "metadata": {},
   "outputs": [
    {
     "data": {
      "text/plain": [
       "'56088'"
      ]
     },
     "execution_count": 9,
     "metadata": {},
     "output_type": "execute_result"
    }
   ],
   "source": [
    "##43. Multiply Strings\n",
    "def multipltStrng(num1, num2):\n",
    "    if num1 == \"0\" or num2 == \"0\":\n",
    "        return \"0\"\n",
    "    res = 0\n",
    "    for n in num1:\n",
    "        res = res*10 + multiply(n, num2)\n",
    "    return str(res)\n",
    "\n",
    "def multiply(n, num2):\n",
    "    ans = 0\n",
    "    for x in num2:\n",
    "        ans = ans*10 + (ord(n)-ord('0'))*(ord(x)-ord('0'))\n",
    "    return ans\n",
    "\n",
    "\n",
    "num1 = \"123\"\n",
    "num2 = \"456\"\n",
    "multipltStrng(num1, num2)"
   ]
  },
  {
   "cell_type": "code",
   "execution_count": 14,
   "id": "extensive-ebony",
   "metadata": {},
   "outputs": [
    {
     "data": {
      "text/plain": [
       "False"
      ]
     },
     "execution_count": 14,
     "metadata": {},
     "output_type": "execute_result"
    }
   ],
   "source": [
    "##79. Word Search\n",
    "def wordSearch(grid, word):\n",
    "    for i in range(len(grid)):\n",
    "        for j in range(len(grid[0])):\n",
    "            if grid[i][j] == word[0] and DFS(grid, i, j, 0, word):\n",
    "                return True\n",
    "    return False\n",
    "\n",
    "def DFS(grid, i, j, count, word):\n",
    "    if count == len(word):\n",
    "        return True\n",
    "    if i < 0 or i >= len(grid) or j < 0 or j >= len(grid[0]) or grid[i][j] != word[count]:\n",
    "        return False\n",
    "    temp = grid[i][j]\n",
    "    grid[i][j] = \"*\"\n",
    "    return DFS(grid, i+1, j, count+1, word) or DFS(grid, i-1, j, count+1, word) or DFS(grid, i, j+1, count+1, word) or DFS(grid, i, j-1, count+1, word)\n",
    "    grid[i][j] = temp\n",
    "    \n",
    "grid = board = [[\"A\",\"B\",\"C\",\"E\"],[\"S\",\"F\",\"C\",\"S\"],[\"A\",\"D\",\"E\",\"E\"]]\n",
    "word = \"ABCB\"\n",
    "wordSearch(grid, word)\n",
    "\n",
    "##Time complexity O(M*N*4^L) L is length of word  space -- for recusrion space"
   ]
  },
  {
   "cell_type": "code",
   "execution_count": 15,
   "id": "following-apple",
   "metadata": {},
   "outputs": [],
   "source": [
    "##236. Lowest Common Ancestor of a Binary Tree\n",
    "\n",
    "def lowestCommonAnsestorBT(root, p, q):\n",
    "    if root is None or root in [p,q]:\n",
    "        return root\n",
    "    leftRes = lowestCommonAnsestorBT(root.left, p, q)\n",
    "    rightRes = lowestCommonAnsestorBT(root.right, p, q)\n",
    "    if leftRes and rightRes:\n",
    "        return root\n",
    "    elif leftRes:\n",
    "        return leftRes\n",
    "    else:\n",
    "        return rightRes\n",
    "    \n",
    "##Time complexity O(N) and space complexity O(N)\n",
    "    "
   ]
  },
  {
   "cell_type": "code",
   "execution_count": 20,
   "id": "differential-latest",
   "metadata": {},
   "outputs": [
    {
     "data": {
      "text/plain": [
       "0"
      ]
     },
     "execution_count": 20,
     "metadata": {},
     "output_type": "execute_result"
    }
   ],
   "source": [
    "##127. Word Ladder\n",
    "# Input: beginWord = \"hit\", endWord = \"cog\", wordList = [\"hot\",\"dot\",\"dog\",\"lot\",\"log\",\"cog\"]\n",
    "# Output: 5\n",
    "# Explanation: One shortest transformation sequence is \"hit\" -> \"hot\" -> \"dot\" -> \"dog\" -> cog\", \n",
    "# which is 5 words long.\n",
    "\n",
    "def wordLadder(beginWord, endWord, wordList):\n",
    "    wordList = set(wordList)\n",
    "    if len(beginWord) == 0 or endWord not in wordList:\n",
    "        return 0\n",
    "    stack = [beginWord]\n",
    "    alpha = \"abcdefghijklmnopqrstuvwxyz\"\n",
    "    level = 1\n",
    "    while len(stack) != 0:\n",
    "        temp = []\n",
    "        for cur in stack:\n",
    "            if cur == endWord:\n",
    "                return level\n",
    "            for i in range(len(cur)):\n",
    "                for char in alpha:\n",
    "                    newWord = cur[:i] + char + cur[i+1:]\n",
    "                    if newWord in wordList:\n",
    "                        temp.append(newWord)\n",
    "                        wordList.remove(newWord)\n",
    "        stack = temp\n",
    "        level += 1\n",
    "    return 0\n",
    "\n",
    "beginWord = \"hit\"\n",
    "endWord = \"cog\"\n",
    "wordList = [\"hot\",\"dot\",\"dog\",\"lot\",\"log\"]\n",
    "wordLadder(beginWord, endWord, wordList)\n",
    "    \n",
    "##Time complexity O(MN26) m = len(wordList) n = average length of word"
   ]
  },
  {
   "cell_type": "code",
   "execution_count": 26,
   "id": "prescription-netherlands",
   "metadata": {},
   "outputs": [
    {
     "data": {
      "text/plain": [
       "True"
      ]
     },
     "execution_count": 26,
     "metadata": {},
     "output_type": "execute_result"
    }
   ],
   "source": [
    "###125. Valid Palindrome\n",
    "\n",
    "def validPalin(s):\n",
    "    res = \"\"\n",
    "    for char in s:\n",
    "        if char.isalpha():\n",
    "            res += char.lower()\n",
    "    left = 0\n",
    "    right = len(res) - 1\n",
    "    \n",
    "    while left <= right:\n",
    "        if res[left] != res[right]:\n",
    "            return False\n",
    "        left += 1\n",
    "        right -= 1\n",
    "    return True\n",
    "    \n",
    "    \n",
    "    \n",
    "s = \" \"\n",
    "validPalin(s)"
   ]
  },
  {
   "cell_type": "code",
   "execution_count": 34,
   "id": "individual-cisco",
   "metadata": {},
   "outputs": [
    {
     "data": {
      "text/plain": [
       "False"
      ]
     },
     "execution_count": 34,
     "metadata": {},
     "output_type": "execute_result"
    }
   ],
   "source": [
    "##680. Valid Palindrome II\n",
    "def validPalindeome2(s):\n",
    "    left = 0\n",
    "    right = len(s) - 1\n",
    "    \n",
    "    while left <= right:\n",
    "        if s[left] != s[right]:\n",
    "            return isPalin(left+1, right, s) or isPalin(left, right-1, s)\n",
    "        left += 1\n",
    "        right -= 1\n",
    "    return True\n",
    "\n",
    "def isPalin(left, right, s):\n",
    "    while left <= right:\n",
    "        if s[left] != s[right]:\n",
    "            return False\n",
    "        left += 1\n",
    "        right -= 1\n",
    "    return True\n",
    "\n",
    "s = \"abc\"\n",
    "validPalindeome2(s)\n",
    "##Time complexity O(n) and space O(1)"
   ]
  },
  {
   "cell_type": "code",
   "execution_count": 41,
   "id": "acting-smith",
   "metadata": {},
   "outputs": [
    {
     "data": {
      "text/plain": [
       "'1,2,None,None,3,4,None,None,5,None,None,'"
      ]
     },
     "execution_count": 41,
     "metadata": {},
     "output_type": "execute_result"
    }
   ],
   "source": [
    "##297. Serialize and Deserialize Binary Tree\n",
    "class TreeNode:\n",
    "    def __init__(self, val):\n",
    "        self.val = val\n",
    "        self.left = None\n",
    "        self.right = None\n",
    "        \n",
    "class seriDeseiBT:\n",
    "    def serialize(self, root):\n",
    "        if root is None:\n",
    "            return None\n",
    "        res = []\n",
    "        self.treeDFS(root, res)\n",
    "        return \"\".join(res)\n",
    "        \n",
    "    def treeDFS(self, root, res):\n",
    "        if root is None:\n",
    "            res.append(\"None,\")\n",
    "            return\n",
    "        res.append(str(root.val)+ \",\")\n",
    "        self.treeDFS(root.left, res)\n",
    "        self.treeDFS(root.right, res)\n",
    "        \n",
    "    def deserialize(self, data):\n",
    "        data = data.split(',')\n",
    "        import collections\n",
    "        data = collections.deque([data])\n",
    "        root = self.deserializeHelper(data)\n",
    "        return root\n",
    "    \n",
    "    def deserializeHelper(self, data):\n",
    "        if data[0] == \"None\":\n",
    "            data.popleft()\n",
    "            return None\n",
    "        else:\n",
    "            root = TreeNode(data[0])\n",
    "            data.popleft()\n",
    "            root.left = deserializeHelper(data)\n",
    "            root.right = deserializeHelper(data)\n",
    "        return root\n",
    "        \n",
    "root = TreeNode(1)\n",
    "root.left = TreeNode(2)\n",
    "root.right = TreeNode(3)\n",
    "root.right.left = TreeNode(4)\n",
    "root.right.right = TreeNode(5)\n",
    "\n",
    "sdBT = seriDeseiBT()\n",
    "sdBT.serialize(root)"
   ]
  },
  {
   "cell_type": "code",
   "execution_count": 42,
   "id": "private-evolution",
   "metadata": {},
   "outputs": [],
   "source": [
    "##449. Serialize and Deserialize BST\n",
    "\n",
    "class SeriDeseriBST:\n",
    "    def serialize(self, root):\n",
    "        res = []\n",
    "        self.DFS(root, res)\n",
    "        return \"\".join(res)\n",
    "    \n",
    "    def DFS(self, root, res):\n",
    "        if root is None:\n",
    "            return\n",
    "        res.append(str(root.val)+\",\")\n",
    "        DFS(root.left)\n",
    "        DFS(root.right)\n",
    "    \n",
    "    def deserialize(self, data):\n",
    "        data = data.split(',')\n",
    "        data.pop()\n",
    "        root = None\n",
    "        stack = []\n",
    "        for n in data:\n",
    "            node = TreeNode(int(n))\n",
    "            if root is None:\n",
    "                root = Node\n",
    "                stack.append(node)\n",
    "            else:\n",
    "                if stack[-1].val > node.val:\n",
    "                    stack[-1].left = node\n",
    "                else:\n",
    "                    while stack and stack[-1].val < node.val:\n",
    "                        u = stack.pop()\n",
    "                    u.right = node\n",
    "                stack.append(node)\n",
    "        return root\n",
    "    \n",
    "##Time complexity O(n) space complexity O(n)\n",
    "                "
   ]
  },
  {
   "cell_type": "code",
   "execution_count": 43,
   "id": "under-consciousness",
   "metadata": {},
   "outputs": [],
   "source": [
    "##278. First Bad Version\n",
    "def firstbadVersion(n):\n",
    "    left = 1\n",
    "    right = n\n",
    "    while left <= right:\n",
    "        mid = left + (right-left)//2\n",
    "        if isBad(mid):\n",
    "            result = mid\n",
    "            right = mid - 1\n",
    "        else:\n",
    "            left = mid + 1\n",
    "    return result"
   ]
  },
  {
   "cell_type": "code",
   "execution_count": 50,
   "id": "growing-killer",
   "metadata": {},
   "outputs": [
    {
     "data": {
      "text/plain": [
       "[0, 0, 0, 0, 0, 0, 0, 1, 1, 1, 1, 1, 1, 2, 2, 2, 2, 2, 2, 2]"
      ]
     },
     "execution_count": 50,
     "metadata": {},
     "output_type": "execute_result"
    }
   ],
   "source": [
    "###75. Sort Colors\n",
    "def sortColors(nums):\n",
    "    left = 0\n",
    "    right = len(nums) - 1\n",
    "    \n",
    "    current = 0\n",
    "    while current <= right:\n",
    "        if nums[current] == 0:\n",
    "            nums[current], nums[left] = nums[left], nums[current]\n",
    "            left += 1\n",
    "            current += 1\n",
    "        elif nums[current] == 2:\n",
    "            nums[current], nums[right] = nums[right], nums[current]\n",
    "            right -= 1\n",
    "        else:\n",
    "            current += 1\n",
    "            \n",
    "    return nums\n",
    "\n",
    "nums = [2,0,1,0,0,0,0,0,1,2,2,1,2,1,2,1,2,1,2,0]\n",
    "sortColors(nums)"
   ]
  },
  {
   "cell_type": "code",
   "execution_count": 1,
   "id": "proved-montana",
   "metadata": {},
   "outputs": [],
   "source": [
    "##25. Reverse Nodes in k-Group\n",
    "def reverseNodeKgroup(head, k):\n",
    "    if head is None or head.next is None:\n",
    "        return head\n",
    "    dummy = ListNode(0)\n",
    "    dummyCur = dummy\n",
    "    while head:\n",
    "        count = 1\n",
    "        cur = head\n",
    "        while cur.next and count < k:\n",
    "            count += 1\n",
    "            cur = cur.next\n",
    "        if count == k:\n",
    "            remaining = cur.next\n",
    "            cur.next = None\n",
    "            dummyCur.next = reverse(head)\n",
    "            head.next = remaining\n",
    "            dummyCur = head\n",
    "            head = remaining\n",
    "        else:\n",
    "            return dummy.next\n",
    "    return dummy.next\n",
    "\n",
    "def reverse(head):\n",
    "    prev = None\n",
    "    while head:\n",
    "        temp = head.next\n",
    "        head.next = prev\n",
    "        prev = head\n",
    "        head = temp\n",
    "    return prev"
   ]
  },
  {
   "cell_type": "code",
   "execution_count": 3,
   "id": "included-updating",
   "metadata": {},
   "outputs": [
    {
     "data": {
      "text/plain": [
       "['', 'home', '', 'foo', '']"
      ]
     },
     "execution_count": 3,
     "metadata": {},
     "output_type": "execute_result"
    }
   ],
   "source": [
    "a = \"/home//foo/\"\n",
    "a.split(\"/\")"
   ]
  },
  {
   "cell_type": "code",
   "execution_count": 9,
   "id": "sexual-gallery",
   "metadata": {},
   "outputs": [
    {
     "data": {
      "text/plain": [
       "'/c'"
      ]
     },
     "execution_count": 9,
     "metadata": {},
     "output_type": "execute_result"
    }
   ],
   "source": [
    "##71. Simplify Path\n",
    "def simplifyPath(path):\n",
    "    stack = []\n",
    "    path = path.split(\"/\")\n",
    "    for i in range(1, len(path)):\n",
    "        if path[i] == \".\" or path[i] == \"\":\n",
    "            continue\n",
    "        if path[i] == \"..\":\n",
    "            if len(stack) != 0:\n",
    "                stack.pop()\n",
    "            else:\n",
    "                continue\n",
    "        else:\n",
    "            stack.append(path[i])\n",
    "    res = \"/\".join(stack)\n",
    "    return \"/\" + res\n",
    "\n",
    "path = \"/a/./b/../../c/\"\n",
    "simplifyPath(path)"
   ]
  },
  {
   "cell_type": "code",
   "execution_count": 12,
   "id": "southeast-marathon",
   "metadata": {},
   "outputs": [
    {
     "data": {
      "text/plain": [
       "[[7, 0, 0], [-7, 0, 3]]"
      ]
     },
     "execution_count": 12,
     "metadata": {},
     "output_type": "execute_result"
    }
   ],
   "source": [
    "###311 - Sparse Matrix Multiplication\n",
    "def sparseMulti(A, B):\n",
    "    C = [[0 for col in range(len(B[0]))] for row in range(len(A))]\n",
    "    for i in range(len(C)):\n",
    "        for k in range(len(A[0])):\n",
    "            if A[i][k] != 0:\n",
    "                for j in range(len(C[0])):\n",
    "                    C[i][j] += A[i][k] * B[k][j]\n",
    "    return C\n",
    "\n",
    "A = [\n",
    " [ 1, 0, 0],\n",
    " [-1, 0, 3]\n",
    " ]\n",
    "\n",
    "B = [\n",
    " [ 7, 0, 0 ],\n",
    " [ 0, 0, 0 ],\n",
    " [ 0, 0, 1 ]\n",
    " ]\n",
    "    \n",
    "sparseMulti(A, B)"
   ]
  },
  {
   "cell_type": "code",
   "execution_count": 15,
   "id": "convenient-roman",
   "metadata": {},
   "outputs": [
    {
     "data": {
      "text/plain": [
       "1"
      ]
     },
     "execution_count": 15,
     "metadata": {},
     "output_type": "execute_result"
    }
   ],
   "source": [
    "##221. Maximal Square\n",
    "\n",
    "def maximalSquare(grid):\n",
    "    m = len(grid)\n",
    "    n = len(grid[0])\n",
    "    height = 0\n",
    "    table = [[0 for col in range(n+1)] for row in range(m+1)]\n",
    "    for i in range(len(table)):\n",
    "        for j in range(len(table[0])):\n",
    "            if grid[i-1][j-1] == \"1\":\n",
    "                table[i][j] = 1 + min(table[i-1][j], table[i][j-1], table[i-1][j-1])\n",
    "                height = max(height, table[i][j])\n",
    "    return height*height\n",
    "\n",
    "grid = [[\"0\",\"1\"],[\"1\",\"0\"]]\n",
    "maximalSquare(grid)\n",
    "##Time complexity O(MN) space complexity O(MN)"
   ]
  },
  {
   "cell_type": "code",
   "execution_count": 25,
   "id": "happy-glucose",
   "metadata": {},
   "outputs": [
    {
     "data": {
      "text/plain": [
       "2"
      ]
     },
     "execution_count": 25,
     "metadata": {},
     "output_type": "execute_result"
    }
   ],
   "source": [
    "##380. Insert Delete GetRandom O(1)\n",
    "import random\n",
    "class randomizedSet:\n",
    "    def __init__(self):\n",
    "        self.array = []\n",
    "        self.dict1 = {}\n",
    "        self.pointer = -1\n",
    "        \n",
    "    def insert(self, val):\n",
    "        if val not in self.dict1:\n",
    "            self.dict1[val] = len(self.array)\n",
    "            self.array.append(val)\n",
    "            return True\n",
    "        return False\n",
    "    \n",
    "    def remove(self, val):\n",
    "        if val in self.dict1:\n",
    "            lastElement = self.array[-1]\n",
    "            idx = self.dict1[val]\n",
    "            self.array[idx] = lastElement\n",
    "            self.array.pop()\n",
    "            self.dict1[lastElement] = idx\n",
    "            del self.dict1[val]\n",
    "            return True\n",
    "        return False\n",
    "    \n",
    "    def getRandom(self):\n",
    "        return random.choice(self.array)\n",
    "    \n",
    "ranSet = randomizedSet()\n",
    "ranSet.insert(1)\n",
    "ranSet.remove(2)\n",
    "ranSet.insert(2)\n",
    "ranSet.getRandom()\n",
    "ranSet.remove(1)\n",
    "ranSet.insert(2)\n",
    "ranSet.getRandom()"
   ]
  },
  {
   "cell_type": "code",
   "execution_count": 1,
   "id": "weighted-surgeon",
   "metadata": {},
   "outputs": [],
   "source": [
    "##98. Validate Binary Search Tree\n",
    "def validateBST(root):\n",
    "    stack = []\n",
    "    prev = None\n",
    "    while root or stack:\n",
    "        while root:\n",
    "            stack.append(root)\n",
    "            root = root.left\n",
    "        root = stack.pop()\n",
    "        if prev and prev.val > root.val:\n",
    "            return False\n",
    "        prev = root\n",
    "        root = root.right\n",
    "    return True\n",
    "\n",
    "\n",
    "        "
   ]
  },
  {
   "cell_type": "code",
   "execution_count": 4,
   "id": "sexual-medicare",
   "metadata": {},
   "outputs": [
    {
     "data": {
      "text/plain": [
       "[[1, 2], [3, 10], [12, 16]]"
      ]
     },
     "execution_count": 4,
     "metadata": {},
     "output_type": "execute_result"
    }
   ],
   "source": [
    "##57. Insert Interval\n",
    "\n",
    "def insertIntervals(intervals, newInterval):\n",
    "    res = []\n",
    "    for inter in intervals:\n",
    "        if inter[1] < newInterval[0]:\n",
    "            res.append(inter)\n",
    "        elif newInterval[1] < inter[0]:\n",
    "            res.append(newInterval)\n",
    "            newInterval = inter\n",
    "        else:\n",
    "            newInterval[0] = min(newInterval[0], inter[0])\n",
    "            newInterval[1] = max(newInterval[1], inter[1])\n",
    "    res.append(newInterval)\n",
    "    return res\n",
    "\n",
    "intervals = [[1,2],[3,5],[6,7],[8,10],[12,16]]\n",
    "newInterval = [4,8]\n",
    "insertIntervals(intervals, newInterval)\n",
    "##Time O(N) space O(N)"
   ]
  },
  {
   "cell_type": "code",
   "execution_count": 10,
   "id": "contained-symbol",
   "metadata": {},
   "outputs": [
    {
     "data": {
      "text/plain": [
       "0"
      ]
     },
     "execution_count": 10,
     "metadata": {},
     "output_type": "execute_result"
    }
   ],
   "source": [
    "##209. Minimum Size Subarray Sum\n",
    "# Input: target = 7, nums = [2,3,1,2,4,3]\n",
    "# Output: 2\n",
    "# Explanation: The subarray [4,3] has the minimal length under the problem constraint.\n",
    "\n",
    "def minSizeSubArraySum(nums, target):\n",
    "    minLen = len(nums) + 1\n",
    "    left = 0\n",
    "    cSum = 0\n",
    "    for right in range(len(nums)):\n",
    "        cSum += nums[right]\n",
    "        while left <= right and cSum >= target:\n",
    "            minLen = min(minLen, right-left+1)\n",
    "            cSum -= nums[left]\n",
    "            left += 1\n",
    "    if minLen == len(nums) + 1:\n",
    "        return 0\n",
    "    else:\n",
    "        return minLen\n",
    "    \n",
    "target = 11\n",
    "nums = [1,1,1,1,1,1,1,1]\n",
    "minSizeSubArraySum(nums, target)\n",
    "    "
   ]
  },
  {
   "cell_type": "code",
   "execution_count": 12,
   "id": "tired-carter",
   "metadata": {},
   "outputs": [
    {
     "data": {
      "text/plain": [
       "True"
      ]
     },
     "execution_count": 12,
     "metadata": {},
     "output_type": "execute_result"
    }
   ],
   "source": [
    "###252. Meeting Rooms\n",
    "# Input: [[0,30],[5,10],[15,20]]\n",
    "# Output: false\n",
    "\n",
    "def meetingRoom(intervals):\n",
    "    intervals.sort(key=lambda x:x[0])\n",
    "    for i in range(1, len(intervals)):\n",
    "        if intervals[i][0] < intervals[i-1][1]:\n",
    "            return False\n",
    "    return True\n",
    "\n",
    "intervals = [[7,10],[2,4]]\n",
    "meetingRoom(intervals)\n",
    "    "
   ]
  },
  {
   "cell_type": "code",
   "execution_count": 13,
   "id": "august-alberta",
   "metadata": {},
   "outputs": [],
   "source": [
    "##116. Populating Next Right Pointers in Each Node\n",
    "##Using space\n",
    "class TreeNode:\n",
    "    def __init__(self, val):\n",
    "        self.val = val\n",
    "        self.left = None\n",
    "        self.right = None\n",
    "        self.next = None\n",
    "        \n",
    "def nextRightPointer(root):\n",
    "    if root is None:\n",
    "        return None\n",
    "    stack = [root]\n",
    "    while len(stack) != 0:\n",
    "        temp = []\n",
    "        for i in range(len(stack)):\n",
    "            if stack[i].left:\n",
    "                temp.append(stack[i].left)\n",
    "            if stack[i].right:\n",
    "                temp.append(stack[i].right)\n",
    "            if i == len(stack) - 1:\n",
    "                stack[i].next = None\n",
    "            elif i < len(stack) - 1:\n",
    "                stack[i].next = stack[i+1]\n",
    "        stack = temp\n",
    "    return root\n",
    "\n",
    "##Without space , using recursion\n",
    "\n",
    "def connectRight(root):\n",
    "    if root is None:\n",
    "        return None\n",
    "    if root.left:\n",
    "        root.left.next = root.right\n",
    "    if root.right:\n",
    "        if root.next:\n",
    "            root.right.next = root.next.left\n",
    "    connectRight(root.left)\n",
    "    connectRight(root.right)\n",
    "    return root\n",
    "\n",
    "            \n",
    "    "
   ]
  },
  {
   "cell_type": "code",
   "execution_count": 14,
   "id": "convinced-blackjack",
   "metadata": {},
   "outputs": [],
   "source": [
    "##653. Two Sum IV - Input is a BST\n",
    "def twoSum4(root, target):\n",
    "    stack = []\n",
    "    nums = []\n",
    "    while stack or root:\n",
    "        while root:\n",
    "            stack.append(root.val)\n",
    "            root = root.left\n",
    "        root = stack.pop()\n",
    "        nums.append(root.val)\n",
    "        root = root.right\n",
    "        \n",
    "    left = 0\n",
    "    right = len(nums) - 1\n",
    "    \n",
    "    while left < right:\n",
    "        if nums[left] + nums[right] == target:\n",
    "            return True\n",
    "        if nums[left] + nums[right] < target:\n",
    "            left += 1\n",
    "        else:\n",
    "            right -= 1\n",
    "    return False\n"
   ]
  },
  {
   "cell_type": "code",
   "execution_count": 19,
   "id": "durable-hunter",
   "metadata": {},
   "outputs": [
    {
     "data": {
      "text/plain": [
       "[2]"
      ]
     },
     "execution_count": 19,
     "metadata": {},
     "output_type": "execute_result"
    }
   ],
   "source": [
    "##674. Longest Continuous Increasing Subsequence\n",
    "def lenOfLCIS(nums):\n",
    "    if len(nums) == 0:\n",
    "        return 0\n",
    "    res = 1\n",
    "    curCount = 1\n",
    "    left = 0\n",
    "    ans = []\n",
    "    for i in range(1, len(nums)):\n",
    "        if nums[i] > nums[i-1]:\n",
    "            curCount += 1\n",
    "        else:\n",
    "            curCount = 1\n",
    "            left = i\n",
    "        res = max(res, curCount)\n",
    "        if len(nums[left:i+1]) > len(ans):\n",
    "            ans = nums[left:i+1]\n",
    "        \n",
    "    return ans\n",
    "\n",
    "nums = [2,2,2,2,2]\n",
    "lenOfLCIS(nums)"
   ]
  },
  {
   "cell_type": "code",
   "execution_count": 4,
   "id": "olympic-pressure",
   "metadata": {},
   "outputs": [
    {
     "data": {
      "text/plain": [
       "25"
      ]
     },
     "execution_count": 4,
     "metadata": {},
     "output_type": "execute_result"
    }
   ],
   "source": [
    "ord('z') - ord('a')"
   ]
  },
  {
   "cell_type": "code",
   "execution_count": 2,
   "id": "strategic-shape",
   "metadata": {},
   "outputs": [
    {
     "name": "stdout",
     "output_type": "stream",
     "text": [
      "22\n"
     ]
    }
   ],
   "source": [
    "import pandas as pd\n",
    "import os\n",
    "from glob import glob\n",
    "PATH = r\"C:\\Users\\ZG973FN\\Downloads\\Cyper Pen POC\\4_DiffReports\\IAA Auction\"\n",
    "EXT = \"*.csv\"\n",
    "all_csv_files = [file\n",
    "                 for path, subdir, files in os.walk(PATH)\n",
    "                 for file in glob(os.path.join(path, EXT))]\n",
    "print(len(all_csv_files))\n",
    "\n",
    "# merging two csv files\n",
    "# df = pd.concat(\n",
    "#     map(pd.read_csv, all_csv_files), ignore_index=False)\n",
    "# df.to_csv(\"cyberPOC.csv\")\n",
    "\n",
    "with open('IAA_Auction.csv', 'w') as outfile:\n",
    "    for names in all_csv_files:\n",
    "        with open(names) as infile:\n",
    "            outfile.write(infile.read())\n",
    "        outfile.write(\"\\n\")"
   ]
  },
  {
   "cell_type": "code",
   "execution_count": null,
   "id": "selected-discipline",
   "metadata": {},
   "outputs": [],
   "source": []
  },
  {
   "cell_type": "code",
   "execution_count": 4,
   "id": "signed-video",
   "metadata": {},
   "outputs": [
    {
     "data": {
      "text/plain": [
       "[['Gabe', 'Gabe0@m.co', 'Gabe1@m.co', 'Gabe3@m.co'],\n",
       " ['Kevin', 'Kevin0@m.co', 'Kevin3@m.co', 'Kevin5@m.co'],\n",
       " ['Ethan', 'Ethan0@m.co', 'Ethan4@m.co', 'Ethan5@m.co'],\n",
       " ['Hanzo', 'Hanzo0@m.co', 'Hanzo1@m.co', 'Hanzo3@m.co'],\n",
       " ['Fern', 'Fern0@m.co', 'Fern1@m.co', 'Fern5@m.co']]"
      ]
     },
     "execution_count": 4,
     "metadata": {},
     "output_type": "execute_result"
    }
   ],
   "source": [
    "##721. Accounts Merge\n",
    "# Input: accounts = [[\"John\",\"johnsmith@mail.com\",\"john_newyork@mail.com\"],[\"John\",\"johnsmith@mail.com\",\"john00@mail.com\"],[\"Mary\",\"mary@mail.com\"],[\"John\",\"johnnybravo@mail.com\"]]\n",
    "# Output: [[\"John\",\"john00@mail.com\",\"john_newyork@mail.com\",\"johnsmith@mail.com\"],[\"Mary\",\"mary@mail.com\"],[\"John\",\"johnnybravo@mail.com\"]]\n",
    "\n",
    "\n",
    "def accountMerge(accounts):\n",
    "    parent = {}\n",
    "    emailToName = {}\n",
    "    for acc in accounts:\n",
    "        name = acc[0]\n",
    "        for email1 in acc[1:]:\n",
    "            emailToName[email1] = name\n",
    "            parent[email1] = email1\n",
    "    for acc in accounts:\n",
    "        email1 = acc[1]\n",
    "        for email2 in acc[2:]:\n",
    "            union(parent, email1, email2)\n",
    "    groups = {}\n",
    "    for email in parent:\n",
    "        r = find(parent, email)\n",
    "        if r in groups:\n",
    "            groups[r].append(email)\n",
    "        else:\n",
    "            groups[r] =[email]\n",
    "    res = []\n",
    "    for email in groups:\n",
    "        res.append(([emailToName[email]] + sorted(groups[email])))\n",
    "    return res\n",
    "            \n",
    "    \n",
    "def union(parent, email1, email2):\n",
    "    email1_p = find(parent, email1)\n",
    "    email2_p = find(parent, email2)\n",
    "    \n",
    "    if email1_p != email2_p:\n",
    "        parent[email2_p] = email1_p\n",
    "        \n",
    "        \n",
    "def find(parent, x):\n",
    "    if parent[x] != x:\n",
    "        parent[x] = find(parent, parent[x])\n",
    "    return parent[x]\n",
    "\n",
    "accounts = [[\"Gabe\",\"Gabe0@m.co\",\"Gabe3@m.co\",\"Gabe1@m.co\"],[\"Kevin\",\"Kevin3@m.co\",\"Kevin5@m.co\",\"Kevin0@m.co\"],[\"Ethan\",\"Ethan5@m.co\",\"Ethan4@m.co\",\"Ethan0@m.co\"],[\"Hanzo\",\"Hanzo3@m.co\",\"Hanzo1@m.co\",\"Hanzo0@m.co\"],[\"Fern\",\"Fern5@m.co\",\"Fern1@m.co\",\"Fern0@m.co\"]]\n",
    "accountMerge(accounts)\n",
    "##Time complexity O(NKlogNK) space O(NK) N - number of accounts K - max length of an account"
   ]
  },
  {
   "cell_type": "code",
   "execution_count": null,
   "id": "suffering-preliminary",
   "metadata": {},
   "outputs": [],
   "source": []
  }
 ],
 "metadata": {
  "kernelspec": {
   "display_name": "Python 3",
   "language": "python",
   "name": "python3"
  },
  "language_info": {
   "codemirror_mode": {
    "name": "ipython",
    "version": 3
   },
   "file_extension": ".py",
   "mimetype": "text/x-python",
   "name": "python",
   "nbconvert_exporter": "python",
   "pygments_lexer": "ipython3",
   "version": "3.7.4"
  }
 },
 "nbformat": 4,
 "nbformat_minor": 5
}
