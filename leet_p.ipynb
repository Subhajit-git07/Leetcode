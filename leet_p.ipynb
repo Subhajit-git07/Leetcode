{
 "cells": [
  {
   "cell_type": "code",
   "execution_count": 2,
   "id": "chicken-monaco",
   "metadata": {},
   "outputs": [
    {
     "data": {
      "text/plain": [
       "6"
      ]
     },
     "execution_count": 2,
     "metadata": {},
     "output_type": "execute_result"
    }
   ],
   "source": [
    "##Trapping rain water\n",
    "height = [0,1,0,2,1,0,1,3,2,1,2,1]\n",
    "\n",
    "def trap(height):\n",
    "    res = 0\n",
    "    left = 0\n",
    "    right = len(height) - 1\n",
    "    left_max = 0\n",
    "    right_max = 0\n",
    "    \n",
    "    while left < right:\n",
    "        left_max = max(left_max, height[left])\n",
    "        right_max = max(right_max, height[right])\n",
    "        \n",
    "        if left_max <= right_max:\n",
    "            res += left_max - height[left]\n",
    "            left += 1\n",
    "        else:\n",
    "            res += right_max - height[right]\n",
    "            right -= 1\n",
    "    return res\n",
    "## Time Complexity is O(n) and space complexity is O(1)\n",
    "trap(height)"
   ]
  },
  {
   "cell_type": "code",
   "execution_count": 21,
   "id": "facial-acting",
   "metadata": {},
   "outputs": [
    {
     "data": {
      "text/plain": [
       "[24, 12, 8, 6]"
      ]
     },
     "execution_count": 21,
     "metadata": {},
     "output_type": "execute_result"
    }
   ],
   "source": [
    "##238. Product of Array Except Self\n",
    "#Input: nums = [1,2,3,4]\n",
    "#Output: [24,12,8,6]\n",
    "\n",
    "nums = [1,2,3,4]\n",
    "def productExceptSelf(nums):\n",
    "    mul = 1\n",
    "    for num in nums:\n",
    "        mul *= num\n",
    "    for i in range(len(nums)):\n",
    "        nums[i] = mul // nums[i]\n",
    "    return nums\n",
    "\n",
    "#productExceptSelf(nums)\n",
    "\n",
    "def productExceptSelf2(nums):\n",
    "    left = [1]*len(nums)\n",
    "    right = [1]*len(nums)\n",
    "    \n",
    "    for i in range(1, len(nums)):\n",
    "        left[i] = left[i-1]*nums[i-1]\n",
    "    for i in range(len(nums)-2,-1,-1):\n",
    "        right[i] = right[i+1]*nums[i+1]\n",
    "        \n",
    "    for i in range(len(right)):\n",
    "        left[i] = left[i]*right[i]\n",
    "        \n",
    "    return left\n",
    "\n",
    "productExceptSelf2(nums)\n",
    "\n",
    "##Time complexity is O(n)\n"
   ]
  },
  {
   "cell_type": "code",
   "execution_count": 35,
   "id": "forced-bidder",
   "metadata": {},
   "outputs": [
    {
     "data": {
      "text/plain": [
       "49"
      ]
     },
     "execution_count": 35,
     "metadata": {},
     "output_type": "execute_result"
    }
   ],
   "source": [
    "#11. Container With Most Water\n",
    "#Input: height = [1,8,6,2,5,4,8,3,7]\n",
    "#Output: 49\n",
    "height = [1,8,6,2,5,4,8,3,7]\n",
    "def maxArea(height):\n",
    "    res = 0\n",
    "    left = 0\n",
    "    right = len(height) - 1\n",
    "    left_max = 0\n",
    "    right_max = 0\n",
    "    while left < right:\n",
    "        left_max = max(left_max, height[left])\n",
    "        right_max = max(right_max, height[right])\n",
    "        if left_max <= right_max:\n",
    "            res = max(res, left_max*(right-left))\n",
    "            left += 1\n",
    "        else:\n",
    "            res = max(res, right_max*(right-left))\n",
    "            right -= 1\n",
    "    return res\n",
    "\n",
    "maxArea(height)\n"
   ]
  },
  {
   "cell_type": "code",
   "execution_count": 39,
   "id": "adult-exchange",
   "metadata": {},
   "outputs": [
    {
     "data": {
      "text/plain": [
       "23"
      ]
     },
     "execution_count": 39,
     "metadata": {},
     "output_type": "execute_result"
    }
   ],
   "source": [
    "##53. Maximum Subarray\n",
    "#Input: nums = [-2,1,-3,4,-1,2,1,-5,4]\n",
    "#Output: 6\n",
    "#Explanation: [4,-1,2,1] has the largest sum = 6.\n",
    "##Kadhane's algorithm\n",
    "\n",
    "def maxSubArray(nums):\n",
    "    max_by_end = nums[0]\n",
    "    max_so_far = nums[0]\n",
    "    \n",
    "    for i in range(1, len(nums)):\n",
    "        max_by_end = max(nums[i], max_by_end+nums[i])\n",
    "        max_so_far = max(max_by_end, max_so_far)\n",
    "    return max_so_far\n",
    "\n",
    "nums = [5,4,-1,7,8]\n",
    "maxSubArray(nums)"
   ]
  },
  {
   "cell_type": "code",
   "execution_count": 5,
   "id": "cognitive-burton",
   "metadata": {},
   "outputs": [
    {
     "data": {
      "text/plain": [
       "7"
      ]
     },
     "execution_count": 5,
     "metadata": {},
     "output_type": "execute_result"
    }
   ],
   "source": [
    "#121. Best Time to Buy and Sell Stock\n",
    "#Input: prices = [7,1,5,3,6,4]\n",
    "#Output: 5\n",
    "\n",
    "def maxProfit(prices):\n",
    "    res = 0\n",
    "    min_price = prices[0]\n",
    "    for i in range(1, len(prices)):\n",
    "        if prices[i] < min_price:\n",
    "            min_price = prices[i]\n",
    "        else:\n",
    "            profit = prices[i] - min_price\n",
    "            res = max(res, profit)\n",
    "    return res\n",
    "\n",
    "prices = [7,6,5,4,3,10]\n",
    "maxProfit(prices)"
   ]
  },
  {
   "cell_type": "code",
   "execution_count": 6,
   "id": "suspected-hypothesis",
   "metadata": {},
   "outputs": [
    {
     "data": {
      "text/plain": [
       "7"
      ]
     },
     "execution_count": 6,
     "metadata": {},
     "output_type": "execute_result"
    }
   ],
   "source": [
    "##122. Best Time to Buy and Sell Stock II\n",
    "#Input: prices = [7,1,5,3,6,4]\n",
    "#Output: 7\n",
    "def maxProfit(prices):\n",
    "    max_profit = 0\n",
    "    for i in range(1, len(prices)):\n",
    "        if prices[i] > prices[i-1]:\n",
    "            max_profit += prices[i] - prices[i-1]\n",
    "    return max_profit\n",
    "\n",
    "prices = [7,1,5,3,6,4]\n",
    "maxProfit(prices)\n"
   ]
  },
  {
   "cell_type": "code",
   "execution_count": 14,
   "id": "prepared-trigger",
   "metadata": {},
   "outputs": [
    {
     "data": {
      "text/plain": [
       "20560637875127661376774632"
      ]
     },
     "execution_count": 14,
     "metadata": {},
     "output_type": "execute_result"
    }
   ],
   "source": [
    "##62 Unique paths\n",
    "##Input: m = 3, n = 7\n",
    "#Output: 28\n",
    "\n",
    "def uniquePaths(m, n):\n",
    "    table = [[0 for col in range(n)] for row in range(m)]\n",
    "    table[0][0] = 1\n",
    "    \n",
    "    for row in range(1,m):\n",
    "        table[row][0] = 1\n",
    "    for col in range(1, n):\n",
    "        table[0][col] = 1\n",
    "    \n",
    "    for row in range(1, m):\n",
    "        for col in range(1, n):\n",
    "            table[row][col] = table[row-1][col] + table[row][col-1]\n",
    "    return table[m-1][n-1]\n",
    "\n",
    "uniquePaths(70, 31)\n",
    "\n",
    "        "
   ]
  },
  {
   "cell_type": "code",
   "execution_count": 17,
   "id": "knowing-developer",
   "metadata": {},
   "outputs": [
    {
     "data": {
      "text/plain": [
       "1"
      ]
     },
     "execution_count": 17,
     "metadata": {},
     "output_type": "execute_result"
    }
   ],
   "source": [
    "##63. Unique Paths II\n",
    "\n",
    "def uniquePathWithObstacle(grid):\n",
    "    if grid[0][0] == 1:\n",
    "        return 0\n",
    "    rows = len(grid)\n",
    "    cols = len(grid[0])\n",
    "    \n",
    "    table = [[0 for col in range(cols)] for row in range(rows)]\n",
    "    table[0][0] = 1\n",
    "    for row in range(1, rows):\n",
    "        if grid[row][0] != 1:\n",
    "            table[row][0] = table[row-1][0]\n",
    "        else:\n",
    "            table[row][0] = 0\n",
    "            \n",
    "    for col in range(1, cols):\n",
    "        if grid[0][col] != 1:\n",
    "            table[0][col] = table[0][col-1]\n",
    "        else:\n",
    "            table[0][col] = 0\n",
    "            \n",
    "    for row in range(1, rows):\n",
    "        for col in range(1, cols):\n",
    "            if grid[row][col] != 1:\n",
    "                table[row][col] = table[row-1][col] + table[row][col-1]\n",
    "            else:\n",
    "                table[row][col] = 0\n",
    "    return table[rows-1][cols-1]\n",
    "\n",
    "grid = [[0,1],[0,0]]\n",
    "uniquePathWithObstacle(grid)\n",
    "          "
   ]
  },
  {
   "cell_type": "code",
   "execution_count": 3,
   "id": "polyphonic-victorian",
   "metadata": {},
   "outputs": [
    {
     "data": {
      "text/plain": [
       "12"
      ]
     },
     "execution_count": 3,
     "metadata": {},
     "output_type": "execute_result"
    }
   ],
   "source": [
    "##64. Minimum Path Sum\n",
    "\n",
    "def minPathSum(grid):\n",
    "    rows = len(grid)\n",
    "    cols = len(grid[0])\n",
    "    \n",
    "    for row in range(1, rows):\n",
    "        grid[row][0] += grid[row-1][0]\n",
    "        \n",
    "    for col in range(1, cols):\n",
    "        grid[0][col] += grid[0][col-1]\n",
    "        \n",
    "    for row in range(1, rows):\n",
    "        for col in range(1, cols):\n",
    "            grid[row][col] += min(grid[row-1][col], grid[row][col-1])\n",
    "    return grid[rows-1][cols-1]\n",
    "\n",
    "grid = [[1,2,3],[4,5,6]]\n",
    "minPathSum(grid)\n",
    "            "
   ]
  },
  {
   "cell_type": "code",
   "execution_count": 6,
   "id": "improving-petersburg",
   "metadata": {},
   "outputs": [
    {
     "data": {
      "text/plain": [
       "1"
      ]
     },
     "execution_count": 6,
     "metadata": {},
     "output_type": "execute_result"
    }
   ],
   "source": [
    "##174. Dungeon Game\n",
    "def dungeon(grid):\n",
    "    rows = len(grid)\n",
    "    cols = len(grid)\n",
    "    \n",
    "    if grid[rows-1][cols-1] > 0:\n",
    "        grid[rows-1][cols-1] = 1\n",
    "    else:\n",
    "        grid[rows-1][cols-1] = 1 - grid[rows-1][cols-1]\n",
    "        \n",
    "    for row in range(rows-2, -1, -1):\n",
    "        grid[row][cols-1] = max(grid[row+1][cols-1] - grid[row][cols-1], 1)\n",
    "    \n",
    "    for col in range(cols-2, -1, -1):\n",
    "        grid[rows-1][col] = max(grid[rows-1][col+1] - grid[rows-1][col], 1)\n",
    "        \n",
    "    for row in range(rows-2, -1, -1):\n",
    "        for col in range(cols-2, -1, -1):\n",
    "            grid[row][col] = max(min(grid[row+1][col], grid[row][col+1]) - grid[row][col] , 1)\n",
    "    return grid[0][0]\n",
    "\n",
    "grid = [[0]]\n",
    "dungeon(grid)"
   ]
  },
  {
   "cell_type": "code",
   "execution_count": 16,
   "id": "thousand-angel",
   "metadata": {},
   "outputs": [
    {
     "data": {
      "text/plain": [
       "'aca'"
      ]
     },
     "execution_count": 16,
     "metadata": {},
     "output_type": "execute_result"
    }
   ],
   "source": [
    "##5. Longest Palindromic Substring\n",
    "\n",
    "def is_pelin(S, left, right):\n",
    "    while left >= 0 and right < len(S) and S[left] == S[right]:\n",
    "        left -= 1\n",
    "        right += 1\n",
    "    return S[left+1:right]\n",
    "\n",
    "def longestPelindrom(S):\n",
    "    res = \"\"\n",
    "    for i in range(len(S)):\n",
    "        odd = is_pelin(S, i, i)\n",
    "        if len(odd) > len(res):\n",
    "            res = odd\n",
    "        even = is_pelin(S, i, i+1)\n",
    "        if len(even) > len(res):\n",
    "            res = even\n",
    "    return res\n",
    "\n",
    "S = \"aca\"\n",
    "longestPelindrom(S)\n",
    "##Time complexity is O(n^2) and space complexity O(1)    "
   ]
  },
  {
   "cell_type": "code",
   "execution_count": 6,
   "id": "measured-tourist",
   "metadata": {},
   "outputs": [
    {
     "data": {
      "text/plain": [
       "4"
      ]
     },
     "execution_count": 6,
     "metadata": {},
     "output_type": "execute_result"
    }
   ],
   "source": [
    "##152. Maximum Product Subarray\n",
    "\n",
    "def maxProduct(nums):\n",
    "    prev_min_prod = nums[0]\n",
    "    prev_max_prod = nums[0]\n",
    "    result = nums[0]\n",
    "    \n",
    "    for i in range(1, len(nums)):\n",
    "        cur_min_prod = min(prev_min_prod*nums[i], prev_max_prod*nums[i], nums[i])\n",
    "        cur_max_prod = max(prev_min_prod*nums[i], prev_max_prod*nums[i], nums[i])\n",
    "        \n",
    "        result = max(result, cur_max_prod)\n",
    "        \n",
    "        prev_min_prod = cur_min_prod\n",
    "        prev_max_prod = cur_max_prod\n",
    "    return result\n",
    "\n",
    "nums = [-2,-2,-1]\n",
    "maxProduct(nums)"
   ]
  },
  {
   "cell_type": "code",
   "execution_count": 3,
   "id": "incorporated-duration",
   "metadata": {},
   "outputs": [
    {
     "data": {
      "text/plain": [
       "0"
      ]
     },
     "execution_count": 3,
     "metadata": {},
     "output_type": "execute_result"
    }
   ],
   "source": [
    "##209. Minimum Size Subarray Sum\n",
    "#Input: target = 7, nums = [2,3,1,2,4,3]\n",
    "#Output: 2\n",
    "\n",
    "def minSubArrayLen(nums, target):\n",
    "    subarraySum = 0\n",
    "    left = 0\n",
    "    res = len(nums) + 1\n",
    "    for i in range(len(nums)):\n",
    "        subarraySum += nums[i]\n",
    "        while subarraySum >= target and left <= i:\n",
    "            res = min(res, i-left+1)\n",
    "            subarraySum -= nums[left]\n",
    "            left += 1\n",
    "    if res == len(nums) + 1:\n",
    "        return 0\n",
    "    else:\n",
    "        return res\n",
    "    \n",
    "nums = [1,1,1,1,1,1,1,1]\n",
    "target = 11\n",
    "minSubArrayLen(nums, target)"
   ]
  },
  {
   "cell_type": "code",
   "execution_count": 5,
   "id": "scientific-irish",
   "metadata": {},
   "outputs": [
    {
     "data": {
      "text/plain": [
       "2"
      ]
     },
     "execution_count": 5,
     "metadata": {},
     "output_type": "execute_result"
    }
   ],
   "source": [
    "#560. Subarray Sum Equals K\n",
    "def subArraySum(nums, k):\n",
    "    dict1 = {}\n",
    "    subArraySum = 0\n",
    "    dict1[0] = 1\n",
    "    count = 0\n",
    "    for i in range(len(nums)):\n",
    "        subArraySum += nums[i]\n",
    "        if subArraySum - k in dict1:\n",
    "            count += dict1[subArraySum - k]\n",
    "        if subArraySum in dict1:\n",
    "           dict1[subArraySum] += 1\n",
    "        else:\n",
    "            dict1[subArraySum] = 1\n",
    "    return count\n",
    "\n",
    "nums = [1,2,3]\n",
    "k = 3\n",
    "subArraySum(nums, k)      "
   ]
  },
  {
   "cell_type": "code",
   "execution_count": 11,
   "id": "distributed-replica",
   "metadata": {},
   "outputs": [
    {
     "data": {
      "text/plain": [
       "3"
      ]
     },
     "execution_count": 11,
     "metadata": {},
     "output_type": "execute_result"
    }
   ],
   "source": [
    "##3. Longest Substring Without Repeating Characters\n",
    "#Input: s = \"abcabcbb\"\n",
    "#Output: 3\n",
    "\n",
    "def lenLonestSubStr(s):\n",
    "    left = 0\n",
    "    seen = {}\n",
    "    res = 0\n",
    "    for i in range(len(s)):\n",
    "        if s[i] in seen:\n",
    "            left = max(left, seen[s[i]]+1)\n",
    "        seen[s[i]] = i\n",
    "        res = max(res, i-left+1)\n",
    "    return res\n",
    "\n",
    "s = \"abcabcbb\"\n",
    "lenLonestSubStr(s)"
   ]
  },
  {
   "cell_type": "code",
   "execution_count": 4,
   "id": "comparable-george",
   "metadata": {},
   "outputs": [
    {
     "data": {
      "text/plain": [
       "5"
      ]
     },
     "execution_count": 4,
     "metadata": {},
     "output_type": "execute_result"
    }
   ],
   "source": [
    "##Longest substring with k - distinct character\n",
    "def kDistinct(s, k):\n",
    "    \n",
    "kDistinct(\"abcad\", 2)\n",
    "            "
   ]
  },
  {
   "cell_type": "code",
   "execution_count": 6,
   "id": "expired-digit",
   "metadata": {},
   "outputs": [
    {
     "data": {
      "text/plain": [
       "[1, 2, 3, 4, 5, 6, 7, 8, 9]"
      ]
     },
     "execution_count": 6,
     "metadata": {},
     "output_type": "execute_result"
    }
   ],
   "source": [
    "##Median of two sorted array\n",
    "arr1 = [1,3,5,6]\n",
    "arr2 = [2,4,7,8,9]\n",
    "\n",
    "i = 0\n",
    "j = 0\n",
    "arr3 = []\n",
    "while i < len(arr1) and j < len(arr2):\n",
    "    if arr1[i] < arr2[j]:\n",
    "        arr3.append(arr1[i])\n",
    "        i += 1\n",
    "    else:\n",
    "        arr3.append(arr2[j])\n",
    "        j += 1\n",
    "while i < len(arr1):\n",
    "    arr3.append(arr1[i])\n",
    "    i += 1\n",
    "    \n",
    "while j < len(arr2):\n",
    "    arr3.append(arr2[j])\n",
    "    j += 1\n",
    "arr3"
   ]
  },
  {
   "cell_type": "code",
   "execution_count": 8,
   "id": "wound-mother",
   "metadata": {},
   "outputs": [
    {
     "data": {
      "text/plain": [
       "'fl'"
      ]
     },
     "execution_count": 8,
     "metadata": {},
     "output_type": "execute_result"
    }
   ],
   "source": [
    "##14. Longest Common Prefix\n",
    "#Input: strs = [\"flower\",\"flow\",\"flight\"]\n",
    "#Output: \"fl\"\n",
    "\n",
    "def longestCommonPrefix(strs):\n",
    "    length = len(strs[0])\n",
    "    small_str = strs[0]\n",
    "    for s in strs:\n",
    "        if len(s) < length:\n",
    "            length = len(s)\n",
    "            small_str = s\n",
    "    res = \"\"\n",
    "    for i in range(length):\n",
    "        curr = strs[0][i]\n",
    "        for j in range(1, len(strs)):\n",
    "            if curr != strs[j][i]:\n",
    "                return res\n",
    "        res += curr\n",
    "    return res\n",
    "\n",
    "strs = [\"flower\",\"flow\",\"flight\"]\n",
    "longestCommonPrefix(strs)"
   ]
  },
  {
   "cell_type": "code",
   "execution_count": 11,
   "id": "steady-membrane",
   "metadata": {},
   "outputs": [
    {
     "data": {
      "text/plain": [
       "[[2, 2, 3], [7]]"
      ]
     },
     "execution_count": 11,
     "metadata": {},
     "output_type": "execute_result"
    }
   ],
   "source": [
    "##39. Combination Sum\n",
    "#Input: candidates = [2,3,6,7], target = 7\n",
    "#Output: [[2,2,3],[7]]\n",
    "\n",
    "def combinationSum(nums, target):\n",
    "    result = []\n",
    "    arr = []\n",
    "    helper(nums, target, arr, result)\n",
    "    return result\n",
    "\n",
    "\n",
    "def helper(nums, target, arr, result):\n",
    "    if target == 0:\n",
    "        result.append(arr)\n",
    "        return\n",
    "    if target < 0:\n",
    "        return\n",
    "    for i in range(len(nums)):\n",
    "        rem = target - nums[i]\n",
    "        helper(nums[i:], rem, arr+[nums[i]], result)\n",
    "    \n",
    "candidates = [2,3,6,7]\n",
    "target = 7    \n",
    "combinationSum(nums, target)   \n",
    "    "
   ]
  },
  {
   "cell_type": "code",
   "execution_count": 10,
   "id": "compatible-greek",
   "metadata": {},
   "outputs": [
    {
     "name": "stdout",
     "output_type": "stream",
     "text": [
      "[0, 0, 6, 11, 13, 15, 20, 21, 30, 34]\n"
     ]
    }
   ],
   "source": [
    "#Input: A = [0,6,5,2,2,5,1,9,4], L = 1, M = 2\n",
    "#Output: 20\n",
    "#Explanation: One choice of subarrays is [9] with length 1, and [6,5] with length 2.\n",
    "A = [0,6,5,2,2,5,1,9,4]\n",
    "L = 1\n",
    "M = 2\n",
    "sums = [0]*(len(A)+1)\n",
    "sums\n",
    "for i in range(1, len(A)+1):\n",
    "    sums[i] = A[i-1] + sums[i-1]\n",
    "    \n",
    "print(sums)\n",
    "ans = 0\n"
   ]
  },
  {
   "cell_type": "code",
   "execution_count": null,
   "id": "banned-campbell",
   "metadata": {},
   "outputs": [],
   "source": []
  },
  {
   "cell_type": "code",
   "execution_count": null,
   "id": "egyptian-exploration",
   "metadata": {},
   "outputs": [],
   "source": []
  },
  {
   "cell_type": "code",
   "execution_count": 6,
   "id": "headed-pride",
   "metadata": {},
   "outputs": [
    {
     "data": {
      "text/plain": [
       "True"
      ]
     },
     "execution_count": 6,
     "metadata": {},
     "output_type": "execute_result"
    }
   ],
   "source": [
    "##Valid Parenthesis\n",
    "\n",
    "def validParen(s):\n",
    "    stack = []\n",
    "    #valid = True\n",
    "    for i in range(len(s)):\n",
    "        if s[i] in \"({[\":\n",
    "            stack.append(s[i])\n",
    "        else:\n",
    "            if len(stack) == 0:\n",
    "                return False\n",
    "            else:\n",
    "                top = s[i]\n",
    "                bottom = stack.pop()\n",
    "                if not is_valid(bottom, top):\n",
    "                    return False\n",
    "                    \n",
    "                    #valid = True\n",
    "    if len(stack) == 0:\n",
    "        return True\n",
    "    else:\n",
    "        return False\n",
    "    \n",
    "def is_valid(p1, p2):\n",
    "    if p1 == \"(\" and p2 == \")\":\n",
    "        return True\n",
    "    if p1 == \"{\" and p2 == \"}\":\n",
    "        return True\n",
    "    if p1 == \"[\" and p2 == \"]\":\n",
    "        return True\n",
    "    else:\n",
    "        return False\n",
    "    \n",
    "validParen(\"{[]}\")"
   ]
  },
  {
   "cell_type": "code",
   "execution_count": 10,
   "id": "civil-transportation",
   "metadata": {},
   "outputs": [
    {
     "data": {
      "text/plain": [
       "0"
      ]
     },
     "execution_count": 10,
     "metadata": {},
     "output_type": "execute_result"
    }
   ],
   "source": [
    "##32 longest valid parenthesis\n",
    "\n",
    "def longestValidParen(s):\n",
    "    left_bracket = 0\n",
    "    right_bracket = 0\n",
    "    max_length = 0\n",
    "    for i in range(len(s)):\n",
    "        if s[i] == \"(\":\n",
    "            left_bracket += 1\n",
    "        else:\n",
    "            right_bracket += 1\n",
    "            \n",
    "        if left_bracket == right_bracket:\n",
    "            max_length = max(max_length, left_bracket+right_bracket)\n",
    "        elif right_bracket > left_bracket:\n",
    "            left_bracket = 0\n",
    "            right_bracket = 0\n",
    "            \n",
    "    left_bracket = 0\n",
    "    right_bracket = 0\n",
    "    for i in range(len(s)-1, -1, -1):\n",
    "        if s[i] == \"(\":\n",
    "            left_bracket += 1\n",
    "        else:\n",
    "            right_bracket += 1\n",
    "            \n",
    "        if left_bracket == right_bracket:\n",
    "            max_length = max(max_length, left_bracket+right_bracket)\n",
    "        elif left_bracket > right_bracket:\n",
    "            left_bracket = 0\n",
    "            right_bracket = 0\n",
    "            \n",
    "    return max_length\n",
    "\n",
    "longestValidParen(\"\")\n",
    "    "
   ]
  },
  {
   "cell_type": "code",
   "execution_count": 11,
   "id": "acoustic-embassy",
   "metadata": {},
   "outputs": [],
   "source": [
    "##Merge two sorted list\n",
    "class ListNode:\n",
    "    def __init__(self, val):\n",
    "        self.val = val\n",
    "        self.next = None\n",
    "        \n",
    "def merge(l1, l2):\n",
    "    if not l1:\n",
    "        return l2\n",
    "    if not l2:\n",
    "        return l1\n",
    "    \n",
    "    dummy = ListNode()\n",
    "    temp = dummy\n",
    "    \n",
    "    while l1 and l2:\n",
    "        if l1.val < l2.val:\n",
    "            temp.next = l1\n",
    "            l1 = l1.next\n",
    "        else:\n",
    "            temp.next = l2\n",
    "            l2 = l2.next\n",
    "        temp = temp.next\n",
    "        \n",
    "    while l1:\n",
    "        temp.next = l1\n",
    "        l1 = l1.next\n",
    "        temp = temp.next\n",
    "        \n",
    "    while l2:\n",
    "        temp.next = l2\n",
    "        l2 = l2.next\n",
    "        temp = temp.next\n",
    "        \n",
    "    return dummmy.next\n",
    "        \n",
    "        \n",
    "    "
   ]
  },
  {
   "cell_type": "code",
   "execution_count": 16,
   "id": "material-brick",
   "metadata": {},
   "outputs": [
    {
     "name": "stdout",
     "output_type": "stream",
     "text": [
      "['ab']\n",
      "['ab', 'cd']\n",
      "['ab', 'cd', 'e']\n",
      "['abcd']\n",
      "['abcd', 'e']\n",
      "['abcde']\n"
     ]
    }
   ],
   "source": [
    "array = [\"a\",\"b\",\"c\",\"d\",\"e\"]\n",
    "while len(array) > 1:\n",
    "    merged = []\n",
    "    for i in range(0, len(array), 2):\n",
    "        l1 = array[i]\n",
    "        if i + 1 < len(array):\n",
    "            l2 = array[i+1]\n",
    "        else:\n",
    "            l2 = \"\"\n",
    "        merged.append(l1+l2)\n",
    "        print(merged)\n",
    "    array = merged\n",
    "        \n",
    "    "
   ]
  },
  {
   "cell_type": "code",
   "execution_count": 18,
   "id": "returning-panic",
   "metadata": {},
   "outputs": [],
   "source": [
    "##24. Swap Nodes in Pairs\n",
    "#d->p->q->3->4\n",
    "\n",
    "\n",
    "\n",
    "\n",
    "class ListNode:\n",
    "    def __init__(self, val):\n",
    "        self.val = val\n",
    "        self.next = None\n",
    "        \n",
    "def swapPairs(head):\n",
    "    d = ListMode(0)\n",
    "    d1 = d\n",
    "    d.next = head\n",
    "    \n",
    "    while d.next and d.next.next:\n",
    "        p = d.next\n",
    "        q = d.next.next\n",
    "        \n",
    "        d.next = q\n",
    "        p.next = q.next\n",
    "        q.next = p\n",
    "        \n",
    "        d = p\n",
    "    return d1.next\n"
   ]
  },
  {
   "cell_type": "code",
   "execution_count": 29,
   "id": "greek-embassy",
   "metadata": {},
   "outputs": [
    {
     "data": {
      "text/plain": [
       "[1, 2, 3, 4, 5, 5]"
      ]
     },
     "execution_count": 29,
     "metadata": {},
     "output_type": "execute_result"
    }
   ],
   "source": [
    "##26. Remove Duplicates from Sorted Array ---> inplace\n",
    "nums = [1,2,2,3,4,5]\n",
    "i = 0\n",
    "for j in range(1, len(nums)):\n",
    "    if nums[i] != nums[j]:\n",
    "        i += 1\n",
    "        nums[i] = nums[j]\n",
    "\n",
    "\n",
    "nums"
   ]
  },
  {
   "cell_type": "code",
   "execution_count": 18,
   "id": "royal-private",
   "metadata": {},
   "outputs": [
    {
     "data": {
      "text/plain": [
       "5"
      ]
     },
     "execution_count": 18,
     "metadata": {},
     "output_type": "execute_result"
    }
   ],
   "source": [
    "##33. Search in Rotated Sorted Array\n",
    "\n",
    "#Input: nums = [4,5,6,7,0,1,2], target = 0\n",
    "#Output: 4\n",
    "def search1(nums, target):\n",
    "    left = 0\n",
    "    right = len(nums) - 1\n",
    "    while left <= right:\n",
    "        mid = (left+right) // 2\n",
    "        if nums[mid] == target:\n",
    "            return mid\n",
    "        if nums[mid] > nums[left]:\n",
    "            if target >= nums[left] and target < nums[mid]:\n",
    "                right = mid - 1\n",
    "            else:\n",
    "                left = mid + 1\n",
    "        else:\n",
    "            if target > nums[mid] and target <= nums[right]:\n",
    "                left = mid + 1\n",
    "            else:\n",
    "                right = mid - 1\n",
    "    return -1\n",
    "\n",
    "nums = [4,5,6,7,0,1,1,2]\n",
    "target = 1\n",
    "search1(nums, target)"
   ]
  },
  {
   "cell_type": "code",
   "execution_count": 3,
   "id": "structural-aircraft",
   "metadata": {},
   "outputs": [
    {
     "data": {
      "text/plain": [
       "0"
      ]
     },
     "execution_count": 3,
     "metadata": {},
     "output_type": "execute_result"
    }
   ],
   "source": [
    "##209. Minimum Size Subarray Sum\n",
    "#Input: target = 7, nums = [2,3,1,2,4,3]\n",
    "#Output: 2\n",
    "def minSubArrayLen(nums, target):\n",
    "    result = len(nums) + 1\n",
    "    left = 0\n",
    "    subArraySum = 0\n",
    "    for right in range(len(nums)):\n",
    "        subArraySum += nums[right]\n",
    "        while left <= right and subArraySum >= target:\n",
    "            result = min(result, right-left+1)\n",
    "            subArraySum -= nums[left]\n",
    "            left += 1\n",
    "    if result == len(nums) + 1:\n",
    "        return 0\n",
    "    else:\n",
    "        return result\n",
    "\n",
    "nums = [1,1,1,1,1,1,1,1]\n",
    "target = 11\n",
    "minSubArrayLen(nums, target)\n"
   ]
  },
  {
   "cell_type": "code",
   "execution_count": 3,
   "id": "sorted-jewel",
   "metadata": {},
   "outputs": [
    {
     "data": {
      "text/plain": [
       "1"
      ]
     },
     "execution_count": 3,
     "metadata": {},
     "output_type": "execute_result"
    }
   ],
   "source": [
    "##Longest increasing subsequence\n",
    "#Input: nums = [10,9,2,5,3,7,101,18]\n",
    "#Output: 4\n",
    "\n",
    "def lengthOfLIS(nums):\n",
    "    table = [1]*len(nums)\n",
    "    for i in range(1, len(nums)):\n",
    "        maxLen = 0\n",
    "        for j in range(i):\n",
    "            if nums[i] > nums[j]:\n",
    "                maxLen = max(maxLen, table[j])\n",
    "        table[i] = maxLen + 1\n",
    "    return table[-1]\n",
    "    \n",
    "nums = [7,7,7,7,7,7,7]\n",
    "lengthOfLIS(nums)\n",
    "    "
   ]
  },
  {
   "cell_type": "code",
   "execution_count": 12,
   "id": "adverse-function",
   "metadata": {},
   "outputs": [
    {
     "data": {
      "text/plain": [
       "[0, 2, 4, 9, 10, 15, 16]"
      ]
     },
     "execution_count": 12,
     "metadata": {},
     "output_type": "execute_result"
    }
   ],
   "source": [
    "##Longest increasing subsequence using binary search\n",
    "\n",
    "def binary_insert(nums, target):\n",
    "    left = 0\n",
    "    right = len(nums) - 1\n",
    "    while left <= right:\n",
    "        mid = left + (right-left)//2\n",
    "        if nums[mid] == target:\n",
    "            return mid\n",
    "        elif target > nums[mid]:\n",
    "            left = mid + 1\n",
    "        else:\n",
    "            right = mid - 1\n",
    "    return left\n",
    "\n",
    "def lengthOfLIS2(nums):\n",
    "    table = [nums[0]]\n",
    "    for i in range(1, len(nums)):\n",
    "        if table[-1] < nums[i]:\n",
    "            table.append(nums[i])\n",
    "        else:\n",
    "            ind = binary_insert(table, nums[i])\n",
    "            table[ind] = nums[i]\n",
    "    return table\n",
    "\n",
    "nums = [0,3,2,7,12,4,9,10,15,16]\n",
    "lengthOfLIS2(nums)"
   ]
  },
  {
   "cell_type": "code",
   "execution_count": 20,
   "id": "indoor-dutch",
   "metadata": {},
   "outputs": [
    {
     "data": {
      "text/plain": [
       "[[1, 1, 1, 1], [1, 1, 2], [1, 3]]"
      ]
     },
     "execution_count": 20,
     "metadata": {},
     "output_type": "execute_result"
    }
   ],
   "source": [
    "##377. Combination Sum IV\n",
    "\"\"\"Input: nums = [1,2,3], target = 4\n",
    "Output: 7\n",
    "Explanation:\n",
    "The possible combination ways are:\n",
    "(1, 1, 1, 1)\n",
    "(1, 1, 2)\n",
    "(1, 2, 1)\n",
    "(1, 3)\n",
    "(2, 1, 1)\n",
    "(2, 2)\n",
    "(3, 1)\"\"\"\n",
    "\n",
    "def combinationSum4(nums, target):\n",
    "    arr = []\n",
    "    result = []\n",
    "    memo = {}\n",
    "    helper4(nums, target, arr, result, memo)\n",
    "    return result\n",
    "    \n",
    "def helper4(nums, target, arr, result, memo):\n",
    "    if target == 0:\n",
    "        result.append(arr)\n",
    "        return\n",
    "    if target in memo:\n",
    "        return memo[target]\n",
    "    if target < 0:\n",
    "        return\n",
    "    \n",
    "    for i in range(len(nums)):\n",
    "        memo[target] = helper4(nums, target-nums[i], arr+[nums[i]], result, memo)\n",
    "    return memo[target]\n",
    "        \n",
    "nums = [1,2,3]\n",
    "target = 4\n",
    "combinationSum4(nums, target)"
   ]
  },
  {
   "cell_type": "code",
   "execution_count": 4,
   "id": "statutory-identification",
   "metadata": {},
   "outputs": [
    {
     "data": {
      "text/plain": [
       "[[3, 1], [4, 2]]"
      ]
     },
     "execution_count": 4,
     "metadata": {},
     "output_type": "execute_result"
    }
   ],
   "source": [
    "##48. Rotate Image\n",
    "##rotate 90 degree means Transpose + reverse\n",
    "\n",
    "def rotate(matrix):\n",
    "    for row in range(len(matrix)):\n",
    "        for col in range(row, len(matrix[0])):\n",
    "            matrix[row][col], matrix[col][row] = matrix[col][row], matrix[row][col]\n",
    "    for row in range(len(matrix)):\n",
    "        matrix[row] = matrix[row][::-1]\n",
    "    return matrix\n",
    "\n",
    "rotate([[1,2],[3,4]])"
   ]
  },
  {
   "cell_type": "code",
   "execution_count": 18,
   "id": "instrumental-story",
   "metadata": {},
   "outputs": [
    {
     "data": {
      "text/plain": [
       "dict_values([['eat', 'tea', 'ate'], ['tan', 'nat'], ['bat']])"
      ]
     },
     "execution_count": 18,
     "metadata": {},
     "output_type": "execute_result"
    }
   ],
   "source": [
    "##49. Group Anagrams\n",
    "#Input: strs = [\"eat\",\"tea\",\"tan\",\"ate\",\"nat\",\"bat\"]\n",
    "#Output: [[\"bat\"],[\"nat\",\"tan\"],[\"ate\",\"eat\",\"tea\"]]\n",
    "\n",
    "def groupAnagrams(strs):\n",
    "    str_dict = {}\n",
    "    for str1 in strs:\n",
    "        c = [0]*26\n",
    "        for s in str1:\n",
    "            pos = ord(s) - ord('a')\n",
    "            c[pos] += 1\n",
    "        if tuple(c) in str_dict:\n",
    "            str_dict[tuple(c)].append(str1)\n",
    "        else:\n",
    "            str_dict[tuple(c)] = [str1]\n",
    "    return str_dict.values()\n",
    "strs = [\"eat\",\"tea\",\"tan\",\"ate\",\"nat\",\"bat\"]\n",
    "groupAnagrams(strs)"
   ]
  },
  {
   "cell_type": "code",
   "execution_count": 3,
   "id": "curious-council",
   "metadata": {},
   "outputs": [
    {
     "data": {
      "text/plain": [
       "False"
      ]
     },
     "execution_count": 3,
     "metadata": {},
     "output_type": "execute_result"
    }
   ],
   "source": [
    "##55. Jump Game\n",
    "#Input: nums = [2,3,1,1,4]\n",
    "#Output: true\n",
    "\n",
    "def canJump(nums):\n",
    "    max_reach = 0\n",
    "    for i in range(len(nums)):\n",
    "        if max_reach < i:\n",
    "            return False\n",
    "        max_reach = max(max_reach, nums[i]+i)\n",
    "    return True\n",
    "nums = [3,2,1,0,4]\n",
    "canJump(nums)\n",
    "        "
   ]
  },
  {
   "cell_type": "code",
   "execution_count": 17,
   "id": "quarterly-seeker",
   "metadata": {},
   "outputs": [
    {
     "data": {
      "text/plain": [
       "[[1, 19]]"
      ]
     },
     "execution_count": 17,
     "metadata": {},
     "output_type": "execute_result"
    }
   ],
   "source": [
    "##56. Merge Intervals\n",
    "#Input: intervals = [[1,3],[2,6],[8,10],[15,18]]\n",
    "#Output: [[1,6],[8,10],[15,18]]\n",
    "\n",
    "def mergeInterval(intervals):\n",
    "    intervals.sort()\n",
    "    i = 1\n",
    "    while len(intervals) > i:\n",
    "        if intervals[i-1][1] >= intervals[i][0]:\n",
    "            intervals[i-1][0] = min(intervals[i-1][0], intervals[i][0])\n",
    "            intervals[i-1][1] = max(intervals[i-1][1], intervals[i][1])\n",
    "            intervals.pop(i)\n",
    "        else:\n",
    "            i += 1\n",
    "    return intervals\n",
    "        \n",
    "intervals = [[1,19],[2,4],[5,8],[15,18]]\n",
    "mergeInterval(intervals)\n",
    "##Time complexity is nlogn"
   ]
  },
  {
   "cell_type": "code",
   "execution_count": 22,
   "id": "silent-establishment",
   "metadata": {},
   "outputs": [
    {
     "data": {
      "text/plain": [
       "[9, 9, 1]"
      ]
     },
     "execution_count": 22,
     "metadata": {},
     "output_type": "execute_result"
    }
   ],
   "source": [
    "##66. Plus One\n",
    "#Input: digits = [1,2,3]\n",
    "#Output: [1,2,4]\n",
    "def plusOne(digits):\n",
    "    val = nums[-1] + 1\n",
    "    carry = val // 10\n",
    "    val = val % 10\n",
    "    nums[-1] = val\n",
    "    for i in range(len(digits)-2, -1, -1):\n",
    "        val = nums[i] + carry\n",
    "        carry = val // 10\n",
    "        val = val % 10\n",
    "        nums[i] = val\n",
    "    if carry > 0:\n",
    "        nums.insert(0, carry)\n",
    "    return nums\n",
    "\n",
    "nums = [9,9,0]\n",
    "plusOne(nums)"
   ]
  },
  {
   "cell_type": "code",
   "execution_count": 27,
   "id": "looking-dispatch",
   "metadata": {},
   "outputs": [
    {
     "data": {
      "text/plain": [
       "3"
      ]
     },
     "execution_count": 27,
     "metadata": {},
     "output_type": "execute_result"
    }
   ],
   "source": [
    "##69. Sqrt(x)\n",
    "def mySqrt(x):\n",
    "    left = 0\n",
    "    right = x\n",
    "    while left <= right:\n",
    "        mid = left + (right-left)//2\n",
    "        if mid*mid == x:\n",
    "            return mid\n",
    "        if mid*mid > x:\n",
    "            right = mid -1\n",
    "        else:\n",
    "            left = mid + 1\n",
    "            result = mid\n",
    "    return result\n",
    "\n",
    "mySqrt(15)"
   ]
  },
  {
   "cell_type": "code",
   "execution_count": 31,
   "id": "harmful-hacker",
   "metadata": {},
   "outputs": [
    {
     "data": {
      "text/plain": [
       "21"
      ]
     },
     "execution_count": 31,
     "metadata": {},
     "output_type": "execute_result"
    }
   ],
   "source": [
    "##70. Climbing Stairs\n",
    "def climbStairs(n):\n",
    "    table = [0]*(n+1)\n",
    "    table[1] = 1\n",
    "    table[2] = 2\n",
    "    table[3] = 3\n",
    "    for i in range(4, n+1):\n",
    "        table[i] = table[i-1] + table[i-2]\n",
    "    return table[n]\n",
    "climbStairs(7)\n",
    "    "
   ]
  },
  {
   "cell_type": "code",
   "execution_count": 4,
   "id": "frozen-determination",
   "metadata": {},
   "outputs": [
    {
     "data": {
      "text/plain": [
       "[[0, 0, 0, 0], [0, 0, 0, 0], [0, 0, 0, 0]]"
      ]
     },
     "execution_count": 4,
     "metadata": {},
     "output_type": "execute_result"
    }
   ],
   "source": [
    "##73. Set Matrix Zeroes\n",
    "def setZeros(matrix):\n",
    "    for row in range(len(matrix)):\n",
    "        for col in range(len(matrix[0])):\n",
    "            if matrix[row][col] == 0:\n",
    "                matrix[row][0] = 0\n",
    "                matrix[0][col] = 0\n",
    "                \n",
    "    for row in range(len(matrix)):\n",
    "        for col in range(len(matrix[0])):\n",
    "            if matrix[row][0] == 0 or matrix[0][col] == 0:\n",
    "                matrix[row][col] = 0\n",
    "                \n",
    "    return matrix\n",
    "\n",
    "matrix = [[0,1,2,0],[3,4,5,2],[1,3,1,5]]\n",
    "setZeros(matrix)"
   ]
  },
  {
   "cell_type": "code",
   "execution_count": 7,
   "id": "monthly-equation",
   "metadata": {},
   "outputs": [
    {
     "data": {
      "text/plain": [
       "15"
      ]
     },
     "execution_count": 7,
     "metadata": {},
     "output_type": "execute_result"
    }
   ],
   "source": [
    "##1793. Maximum Score of a Good Subarray\n",
    "\n",
    "#Input: nums = [1,4,3,7,4,5], k = 3\n",
    "#Output: 15\n",
    "#Explanation: The optimal subarray is (1, 5) with a score of min(4,3,7,4,5) * (5-1+1) = 3 * 5 = 15. \n",
    "\n",
    "def maximumScore(nums, k):\n",
    "    left = right = k\n",
    "    result = nums[k]\n",
    "    min_value = nums[k]\n",
    "    while left > 0 or right < len(nums) - 1:\n",
    "        if left > 0 and right < len(nums) - 1:\n",
    "            if nums[left-1] > nums[right+1]:\n",
    "                left -= 1\n",
    "                min_value = min(min_value, nums[left])\n",
    "            else:\n",
    "                right += 1\n",
    "                min_value = min(min_value, nums[right])\n",
    "        elif left > 0:\n",
    "            left -= 1\n",
    "            min_value = min(min_value, nums[left])\n",
    "        else:\n",
    "            right += 1\n",
    "            min_value = min(min_value, nums[right])\n",
    "            \n",
    "        result = max(result, min_value*(right-left+1))\n",
    "    return result\n",
    "nums = [1,4,3,7,4,5]\n",
    "k = 3       \n",
    "maximumScore(nums, k)"
   ]
  },
  {
   "cell_type": "code",
   "execution_count": 1,
   "id": "smaller-folks",
   "metadata": {},
   "outputs": [],
   "source": [
    "##230. Kth Smallest Element in a BST\n",
    "\n",
    "class TreeNode:\n",
    "    def __init__(self, val):\n",
    "        self.val = val\n",
    "        self.left = None\n",
    "        self.right = None\n",
    "        \n",
    "def kSmallest(root):\n",
    "    output = []\n",
    "    stack = []\n",
    "    \n",
    "    while stack or root:\n",
    "        while root:\n",
    "            stack.append(root)\n",
    "            root = root.left\n",
    "        root = stack.pop()\n",
    "        output.append(root)\n",
    "        root = root.right\n",
    "    return output[k-1]"
   ]
  },
  {
   "cell_type": "code",
   "execution_count": 17,
   "id": "average-repository",
   "metadata": {},
   "outputs": [
    {
     "data": {
      "text/plain": [
       "4"
      ]
     },
     "execution_count": 17,
     "metadata": {},
     "output_type": "execute_result"
    }
   ],
   "source": [
    "#241. Different Ways to Add Parentheses\n",
    "#Input: expression = \"2-1-1\"\n",
    "#Output: [0,2]\n",
    "#Explanation:\n",
    "#((2-1)-1) = 0 \n",
    "#(2-(1-1)) = 2\n",
    "\n",
    "def diffWayCompute(s):\n",
    "    memo = {}\n",
    "    res = helper_1(s, memo)\n",
    "    return len(res)\n",
    "    \n",
    "def helper_1(s, memo):\n",
    "    result = set()\n",
    "    if \"+\" not in s and \"-\" not in s and \"*\" not in s:\n",
    "        result.add(int(s))\n",
    "        #print(result)\n",
    "    if s in memo:\n",
    "        return memo[s]\n",
    "    for i in range(len(s)):\n",
    "        if s[i] == \"+\" or s[i] == \"-\" or s[i] == \"*\":\n",
    "            left = helper_1(s[:i], memo)\n",
    "            right = helper_1(s[i+1:], memo)\n",
    "            for left_val in left:\n",
    "                for right_val in right:\n",
    "                    if s[i] == \"+\":\n",
    "                        result.add(left_val+right_val)\n",
    "                        #print(result)\n",
    "                    elif s[i] == \"-\":\n",
    "                        result.add(left_val-right_val)\n",
    "                        #print(result)\n",
    "                    else:\n",
    "                        result.add(left_val*right_val)\n",
    "                        #print(result)\n",
    "    memo[s] = result\n",
    "    return memo[s]\n",
    " \n",
    "s = \"2*3-4*5\"\n",
    "diffWayCompute(s)"
   ]
  },
  {
   "cell_type": "code",
   "execution_count": null,
   "id": "sublime-herald",
   "metadata": {},
   "outputs": [],
   "source": [
    "##98. Validate Binary Search Tree\n",
    "class TreeNode:\n",
    "    def __init__(self, val):\n",
    "        self.val = val\n",
    "        self.left = None\n",
    "        self.right = None\n",
    "        \n",
    "def isValidBST(root):\n",
    "    return helper(root, float(\"-inf\"), float(\"inf\"))\n",
    "    \n",
    "def helper(root, minVal, maxVal):\n",
    "    if root is None:\n",
    "        return True\n",
    "    if root.val <= minVal or root.val >= maxVal:\n",
    "        return False\n",
    "    return helper(root.left, minVal, root.val) and helper(root.right, root.val, maxVal)"
   ]
  },
  {
   "cell_type": "code",
   "execution_count": null,
   "id": "informed-group",
   "metadata": {},
   "outputs": [],
   "source": [
    "##101. Symmetric Tree\n",
    "def isSymmatric(root):\n",
    "    if root is None:\n",
    "        return True\n",
    "    return helper2(root.left, root.right)\n",
    "def helper2(leftroot, rightroot):\n",
    "    if leftroot is None and rightroot is None:\n",
    "        return True\n",
    "    if leftroot is None or rightroot is None:\n",
    "        return False\n",
    "    if leftroot.val != rightroot.val:\n",
    "        return False\n",
    "    return helper2(leftroot.left, rightroot.right) and helper2(rightroot.right, leftroot.left)"
   ]
  },
  {
   "cell_type": "code",
   "execution_count": 1,
   "id": "addressed-right",
   "metadata": {},
   "outputs": [],
   "source": [
    "##Binary Tree Inorder traversal\n",
    "\n",
    "class TreeNode:\n",
    "    def __init__(self, val):\n",
    "        self.val = val\n",
    "        self.left = None\n",
    "        self.right = None\n",
    "        \n",
    "def inOrder(root):\n",
    "    if root is None:\n",
    "        return None\n",
    "    stack = []\n",
    "    result = []\n",
    "    while root or stack:\n",
    "        while root:\n",
    "            stack.append(root)\n",
    "            root = root.left\n",
    "        root = stack.pop()\n",
    "        result.append(root.val)\n",
    "        root = root.right\n",
    "    return result"
   ]
  },
  {
   "cell_type": "code",
   "execution_count": 1,
   "id": "moral-direction",
   "metadata": {},
   "outputs": [],
   "source": [
    "##103. Binary Tree Zigzag Level Order Traversal\n",
    "\n",
    "def zigzag(root):\n",
    "    if root is None:\n",
    "        return None\n",
    "    result = [[root.val]]\n",
    "    stack = [root]\n",
    "    level = 1\n",
    "    while len(stack) != 0:\n",
    "        array = []\n",
    "        array_val = []\n",
    "        for node in stack:\n",
    "            if node.left:\n",
    "                array.append(node.left)\n",
    "                array_val.append(node.left.val)\n",
    "            if node.right:\n",
    "                array.append(node.right)\n",
    "                array_val.append(node.right.val)\n",
    "        level += 1\n",
    "        if len(array) != 0:\n",
    "            if level%2 == 0:\n",
    "                result.append(array_val[::-1])\n",
    "            else:\n",
    "                result.append(array_val)\n",
    "        stack = array\n",
    "    return result\n",
    "        "
   ]
  },
  {
   "cell_type": "code",
   "execution_count": 12,
   "id": "chinese-brooks",
   "metadata": {},
   "outputs": [
    {
     "data": {
      "text/plain": [
       "True"
      ]
     },
     "execution_count": 12,
     "metadata": {},
     "output_type": "execute_result"
    }
   ],
   "source": [
    "##139. Word Break\n",
    "#Input: s = \"leetcode\", wordDict = [\"leet\",\"code\"]\n",
    "#Output: true\n",
    "\n",
    "def wordBreak(s, wordDict):\n",
    "    wordSet = set(wordDict)\n",
    "    table = [0]*(len(s)+ 1)\n",
    "    table[0] = True\n",
    "    for i in range(1, len(s)+1):\n",
    "        for j in range(i):\n",
    "            if table[j] and s[j:i] in wordSet:\n",
    "                table[i] = True\n",
    "                break\n",
    "            else:\n",
    "                table[i] = False\n",
    "    return table[-1]\n",
    "        \n",
    "s = \"applepenapple\"\n",
    "wordDict = [\"apple\",\"pen\"]\n",
    "wordBreak(s, wordDict)\n",
    "    "
   ]
  },
  {
   "cell_type": "code",
   "execution_count": 13,
   "id": "bigger-literacy",
   "metadata": {},
   "outputs": [
    {
     "data": {
      "text/plain": [
       "7"
      ]
     },
     "execution_count": 13,
     "metadata": {},
     "output_type": "execute_result"
    }
   ],
   "source": [
    "##Sqrt\n",
    "\n",
    "def square(x):\n",
    "    left = 0\n",
    "    right = x\n",
    "    while left <= right:\n",
    "        mid = left + (right-left)//2\n",
    "        if mid*mid == x:\n",
    "            return mid\n",
    "        else:\n",
    "            if mid*mid > x:\n",
    "                right = mid - 1\n",
    "            else:\n",
    "                left = mid + 1\n",
    "    return left - 1\n",
    "square(50)\n",
    "            \n",
    "                "
   ]
  },
  {
   "cell_type": "code",
   "execution_count": 19,
   "id": "suspected-booking",
   "metadata": {},
   "outputs": [
    {
     "data": {
      "text/plain": [
       "5"
      ]
     },
     "execution_count": 19,
     "metadata": {},
     "output_type": "execute_result"
    }
   ],
   "source": [
    "##35. Search Insert Position [Easy]\n",
    "\n",
    "#Input: [1,3,5,6], 5\n",
    "#Output: 2\n",
    "\n",
    "def searchInsert(nums, target):\n",
    "    left = 0\n",
    "    right = len(nums) - 1\n",
    "    while left <= right:\n",
    "        mid = left + (right-left) // 2\n",
    "        if nums[mid] == target:\n",
    "            return mid\n",
    "        else:\n",
    "            if nums[mid] > target:\n",
    "                right = mid -1\n",
    "            else:\n",
    "                left = mid + 1\n",
    "    return left\n",
    "\n",
    "nums = [1,3,5,6,7,10]\n",
    "searchInsert(nums, 8)\n",
    "                "
   ]
  },
  {
   "cell_type": "code",
   "execution_count": 1,
   "id": "satisfied-congo",
   "metadata": {},
   "outputs": [],
   "source": [
    "##112. Path Sum\n",
    "\n",
    "class TreeNode:\n",
    "    def __init__(self, val):\n",
    "        self.val = val\n",
    "        self.left = None\n",
    "        self.right = None\n",
    "        \n",
    "def hasPathSum(root, target):\n",
    "    if root is None:\n",
    "        return False\n",
    "    if root.val == target and root.left is None and root.right is None:\n",
    "        return True\n",
    "    return hasPathSum(root.left, target-root.val) and hasPathSum(root.right, target-root.val)"
   ]
  },
  {
   "cell_type": "code",
   "execution_count": 1,
   "id": "complimentary-shelter",
   "metadata": {},
   "outputs": [],
   "source": [
    "##113. Path Sum II\n",
    "\n",
    "def pathSum(root, target):\n",
    "    tempList = []\n",
    "    result = []\n",
    "    helper(root, tempList, result, target)\n",
    "    return result\n",
    "    \n",
    "def helper(root, tempList, result, target):\n",
    "    if root.val == target and root.left is None and root.right is None:\n",
    "        result.append(tempList)\n",
    "        return\n",
    "    if target < 0 :\n",
    "        return\n",
    "    return helper(root.left, tempList+[root.val], result, target-root.val) and helper(root.right, tempList+[root.val],\n",
    "                                                                                       result, target-root.val)"
   ]
  },
  {
   "cell_type": "code",
   "execution_count": 3,
   "id": "rational-hazard",
   "metadata": {},
   "outputs": [],
   "source": [
    "##116. Populating Next Right Pointers in Each Node\n",
    "\n",
    "def connect(root):\n",
    "    if root is None:\n",
    "        return None\n",
    "    if root.left:\n",
    "        root.left.next = root.right\n",
    "    if root.right:\n",
    "        if root.next:\n",
    "            root.right.next = root.next.left\n",
    "    connect(root.left)\n",
    "    connect(root.right)\n",
    "    return root\n"
   ]
  },
  {
   "cell_type": "code",
   "execution_count": 6,
   "id": "administrative-palace",
   "metadata": {},
   "outputs": [
    {
     "data": {
      "text/plain": [
       "dict_values([['a']])"
      ]
     },
     "execution_count": 6,
     "metadata": {},
     "output_type": "execute_result"
    }
   ],
   "source": [
    "##49. Group Anagrams\n",
    "#Input: strs = [\"eat\",\"tea\",\"tan\",\"ate\",\"nat\",\"bat\"]\n",
    "#Output: [[\"bat\"],[\"nat\",\"tan\"],[\"ate\",\"eat\",\"tea\"]]\n",
    "\n",
    "def groupAnagrams(strs):\n",
    "    dict1 = {}\n",
    "    for s in strs:\n",
    "        char_list = [0]*26\n",
    "        for char in s:\n",
    "            pos = ord(char) - ord('a')\n",
    "            char_list[pos] += 1\n",
    "        if tuple(char_list) in dict1:\n",
    "            dict1[tuple(char_list)].append(s)\n",
    "        else:\n",
    "            dict1[tuple(char_list)] = [s]\n",
    "            \n",
    "    return dict1.values()\n",
    "#strs = [\"eat\",\"tea\",\"tan\",\"ate\",\"nat\",\"bat\"]\n",
    "strs = [\"a\"]\n",
    "groupAnagrams(strs)"
   ]
  },
  {
   "cell_type": "code",
   "execution_count": 10,
   "id": "encouraging-cleaners",
   "metadata": {},
   "outputs": [
    {
     "data": {
      "text/plain": [
       "True"
      ]
     },
     "execution_count": 10,
     "metadata": {},
     "output_type": "execute_result"
    }
   ],
   "source": [
    "##242. Valid Anagram\n",
    "\n",
    "def isAnagram(s1, s2):\n",
    "    dict_s1 = {}\n",
    "    dict_s2 = {}\n",
    "    \n",
    "    for char in s1:\n",
    "        if char in dict_s1:\n",
    "            dict_s1[char] += 1\n",
    "        else:\n",
    "            dict_s1[char] = 1\n",
    "            \n",
    "    for char in s2:\n",
    "        if char in dict_s2:\n",
    "            dict_s2[char] += 1\n",
    "        else:\n",
    "            dict_s2[char] = 1\n",
    "    return dict_s1 == dict_s2\n",
    "\n",
    "isAnagram(\"ttar\", \"ratt\")"
   ]
  },
  {
   "cell_type": "code",
   "execution_count": 13,
   "id": "labeled-navigator",
   "metadata": {},
   "outputs": [
    {
     "data": {
      "text/plain": [
       "[0, 6]"
      ]
     },
     "execution_count": 13,
     "metadata": {},
     "output_type": "execute_result"
    }
   ],
   "source": [
    "##438. Find All Anagrams in a String\n",
    "\n",
    "#Input: s = \"cbaebabacd\", p = \"abc\"\n",
    "#Output: [0,6]\n",
    "\n",
    "def findAnagrams(s, p):\n",
    "    output = []\n",
    "    dict_p = {}\n",
    "    for c in p:\n",
    "        if c in dict_p:\n",
    "            dict_p[c] += 1\n",
    "        else:\n",
    "            dict_p[c] = 1\n",
    "    dict_s = {}\n",
    "    for i,char in enumerate(s):\n",
    "        if char in dict_s:\n",
    "            dict_s[char] += 1\n",
    "        else:\n",
    "            dict_s[char] = 1\n",
    "              \n",
    "        if i >= len(p):\n",
    "            if dict_s[s[i-len(p)]] == 1:\n",
    "                del dict_s[s[i-len(p)]]\n",
    "            else:\n",
    "                dict_s[s[i-len(p)]] -= 1\n",
    "                \n",
    "        if dict_s == dict_p:\n",
    "            output.append(i-len(p)+1)\n",
    "    return output\n",
    "    \n",
    "s = \"cbaebabacd\"\n",
    "p = \"abc\"\n",
    "findAnagrams(s, p)"
   ]
  },
  {
   "cell_type": "code",
   "execution_count": 21,
   "id": "adolescent-leeds",
   "metadata": {},
   "outputs": [
    {
     "data": {
      "text/plain": [
       "True"
      ]
     },
     "execution_count": 21,
     "metadata": {},
     "output_type": "execute_result"
    }
   ],
   "source": [
    "##567. Permutation in String\n",
    "#Input: s1 = \"ab\", s2 = \"eidbaooo\"\n",
    "#Output: true\n",
    "\n",
    "def permutationInStr(s1, s2):\n",
    "    dict_s1 = {}\n",
    "    for char in s1:\n",
    "        if char in dict_s1:\n",
    "            dict_s1[char] += 1\n",
    "        else:\n",
    "            dict_s1[char] = 1\n",
    "            \n",
    "    dict_s2 = {}\n",
    "    for i,char in enumerate(s2):\n",
    "        if char in dict_s2:\n",
    "            dict_s2[char] += 1\n",
    "        else:\n",
    "            dict_s2[char] = 1\n",
    "        \n",
    "        if i>= len(s1):\n",
    "            if dict_s2[s2[i-len(s1)]] == 1:\n",
    "                del dict_s2[s2[i-len(s1)]]\n",
    "            else:\n",
    "                dict_s2[s2[i-len(s1)]] -= 1\n",
    "        if dict_s1 == dict_s2:\n",
    "            return True\n",
    "    return False\n",
    "s1 = \"oao\"\n",
    "s2 = \"eidbaooo\"\n",
    "permutationInStr(s1, s2)"
   ]
  },
  {
   "cell_type": "code",
   "execution_count": 2,
   "id": "attempted-house",
   "metadata": {},
   "outputs": [
    {
     "data": {
      "text/plain": [
       "False"
      ]
     },
     "execution_count": 2,
     "metadata": {},
     "output_type": "execute_result"
    }
   ],
   "source": [
    "##55. Jump Game\n",
    "\n",
    "def canJump(nums):\n",
    "    maxReach = 0\n",
    "    for i in range(len(nums)):\n",
    "        if i > maxReach:\n",
    "            return False\n",
    "        maxReach = max(maxReach, i+nums[i])\n",
    "    return True\n",
    "nums = [3,2,1,0,4]\n",
    "canJump(nums)"
   ]
  },
  {
   "cell_type": "code",
   "execution_count": 4,
   "id": "mature-personal",
   "metadata": {},
   "outputs": [
    {
     "data": {
      "text/plain": [
       "2"
      ]
     },
     "execution_count": 4,
     "metadata": {},
     "output_type": "execute_result"
    }
   ],
   "source": [
    "##45. Jump Game II\n",
    "#Input: nums = [2,3,1,1,4]\n",
    "#Output: 2\n",
    "\n",
    "def jump(nums):\n",
    "    jumps = 0\n",
    "    farthestIndex = 0\n",
    "    curPos = 0\n",
    "    \n",
    "    for i in range(len(nums)):\n",
    "        farthestIndex = max(farthestIndex, i+nums[i])\n",
    "        if i == curPos:\n",
    "            jumps += 1\n",
    "        curPos = farthestIndex\n",
    "    return jumps\n",
    "\n",
    "nums = [2,3,1,1,4]\n",
    "jump(nums)"
   ]
  },
  {
   "cell_type": "code",
   "execution_count": 9,
   "id": "quick-sunrise",
   "metadata": {},
   "outputs": [
    {
     "data": {
      "text/plain": [
       "False"
      ]
     },
     "execution_count": 9,
     "metadata": {},
     "output_type": "execute_result"
    }
   ],
   "source": [
    "##1306. Jump Game III\n",
    "#Input: arr = [4,2,3,0,3,1,2], start = 5\n",
    "#Output: true\n",
    "\n",
    "def canReach(nums, start):\n",
    "    stack = [start]\n",
    "    while len(stack) != 0:\n",
    "        cur = stack.pop()\n",
    "        if cur-nums[cur] >=0:\n",
    "            if nums[cur-nums[cur]] == 0:\n",
    "                return True\n",
    "            elif nums[cur-nums[cur]] > 0:\n",
    "                stack.append(cur-nums[cur])\n",
    "        if cur+nums[cur] < len(nums):\n",
    "            if nums[cur+nums[cur]] == 0:\n",
    "                return True\n",
    "            elif nums[cur+nums[cur]] > 0:\n",
    "                stack.append(cur+nums[cur])\n",
    "        nums[cur] = -1\n",
    "    return False\n",
    "\n",
    "nums = [3,0,2,1,2]\n",
    "start = 2\n",
    "canReach(nums, start)"
   ]
  },
  {
   "cell_type": "code",
   "execution_count": 4,
   "id": "suitable-deployment",
   "metadata": {},
   "outputs": [
    {
     "data": {
      "text/plain": [
       "2"
      ]
     },
     "execution_count": 4,
     "metadata": {},
     "output_type": "execute_result"
    }
   ],
   "source": [
    "##Jump game 2\n",
    "#Input: nums = [2,3,1,1,4]\n",
    "#Output: 2\n",
    "def jumpgame2(nums):\n",
    "    jumps = 0\n",
    "    farthest = 0\n",
    "    curPos = 0\n",
    "    \n",
    "    for i in range(len(nums)-1):\n",
    "        farthest = max(farthest, i+nums[i])\n",
    "        if i == curPos:\n",
    "            jumps += 1\n",
    "            curPos = farthest\n",
    "    return jumps\n",
    "\n",
    "nums = [2,3,1,1,4]\n",
    "jumpgame2(nums)"
   ]
  },
  {
   "cell_type": "code",
   "execution_count": 1,
   "id": "happy-organizer",
   "metadata": {},
   "outputs": [
    {
     "data": {
      "text/plain": [
       "[[0, 0, 0, 0, 0],\n",
       " [0, 0, 0, 0, 0],\n",
       " [0, 0, 0, 0, 0],\n",
       " [0, 0, 0, 0, 0],\n",
       " [0, 0, 0, 0, 0]]"
      ]
     },
     "execution_count": 1,
     "metadata": {},
     "output_type": "execute_result"
    }
   ],
   "source": [
    "dp = [[0] * 5 for _ in range(5)]\n",
    "dp"
   ]
  },
  {
   "cell_type": "code",
   "execution_count": 19,
   "id": "potential-station",
   "metadata": {},
   "outputs": [
    {
     "data": {
      "text/plain": [
       "False"
      ]
     },
     "execution_count": 19,
     "metadata": {},
     "output_type": "execute_result"
    }
   ],
   "source": [
    "class TreeNode:\n",
    "    def __init__(self):\n",
    "        self.child = {}\n",
    "        self.endhere = False\n",
    "        \n",
    "class trie:\n",
    "    def __init__(self):\n",
    "        self.root = TreeNode()\n",
    "        \n",
    "    def add(self, word):\n",
    "        parent = self.root\n",
    "        for i,char in enumerate(word):\n",
    "            if char not in parent.child:\n",
    "                parent.child[char] = TreeNode()\n",
    "            parent = parent.child[char]\n",
    "            if i == len(word) - 1:\n",
    "                parent.endhere = True\n",
    "                \n",
    "    def search(self, word):\n",
    "        parent = self.root\n",
    "        for char in word:\n",
    "            if char not in parent.child:\n",
    "                return False\n",
    "            parent = parent.child[char]\n",
    "        return parent.endhere\n",
    "    \n",
    "    def startswith(self, prefix):\n",
    "        parent = self.root\n",
    "        for char in prefix:\n",
    "            if char not in parent.child:\n",
    "                return True\n",
    "            parent = parent.child[char]\n",
    "        return True\n",
    "    \n",
    "    def build(self, words):\n",
    "        parent = self.root\n",
    "        for word in words:\n",
    "            self.add(word)\n",
    "            \n",
    "t = trie()\n",
    "words = [\"ra\", \"rat\", \"round\", \"cash\", \"ram\"]\n",
    "t.build(words)\n",
    "t.search(\"ram\")\n",
    "\n",
    "t.root.endhere"
   ]
  },
  {
   "cell_type": "code",
   "execution_count": 39,
   "id": "varying-multimedia",
   "metadata": {},
   "outputs": [
    {
     "data": {
      "text/plain": [
       "['eat', 'oath']"
      ]
     },
     "execution_count": 39,
     "metadata": {},
     "output_type": "execute_result"
    }
   ],
   "source": [
    "def dfs(board, i, j, node, res, prefix):\n",
    "    if i < 0 or i >= len(board) or j < 0 or j >= len(board[0]) or board[i][j] == \"*\":\n",
    "        return\n",
    "    temp = board[i][j]\n",
    "    board[i][j] = \"*\"\n",
    "    p = prefix + temp\n",
    "    is_word = node.search(p)\n",
    "    if is_word:\n",
    "        res.add(p)\n",
    "    if is_word or node.startswith(p):\n",
    "        dfs(board, i+1, j, node, res, p)\n",
    "        dfs(board, i-1, j, node, res, p)\n",
    "        dfs(board, i, j+1, node, res, p)\n",
    "        dfs(board, i, j-1, node, res, p)\n",
    "    board[i][j] = temp\n",
    "    #seen.remove((i,j))\n",
    "            \n",
    "\n",
    "def find(board, words):\n",
    "    seen = set()\n",
    "    res = set()\n",
    "    t = trie()\n",
    "    t.build(words)\n",
    "    for i in range(len(board)):\n",
    "        for j in range(len(board[0])):\n",
    "            dfs(board, i, j, t, res, \"\")\n",
    "    return list(res)\n",
    "\n",
    "board = [[\"o\",\"a\",\"a\",\"n\"],[\"e\",\"t\",\"a\",\"e\"],[\"i\",\"h\",\"k\",\"r\"],[\"i\",\"f\",\"l\",\"v\"]]\n",
    "words = [\"oath\",\"pea\",\"eat\",\"rain\"]\n",
    "#Output: [\"eat\",\"oath\"]\n",
    "find(board, words)            "
   ]
  },
  {
   "cell_type": "code",
   "execution_count": 11,
   "id": "interesting-census",
   "metadata": {},
   "outputs": [
    {
     "data": {
      "text/plain": [
       "3"
      ]
     },
     "execution_count": 11,
     "metadata": {},
     "output_type": "execute_result"
    }
   ],
   "source": [
    "##Edit Distance\n",
    "\n",
    "\"\"\"\"\"   r o s\n",
    "\"\" 0 1 2 3\n",
    "h  1 1 2 3\n",
    "o  2 2 1 2\n",
    "r  3 2 2 2\n",
    "s  4 3 3 2\n",
    "e  5 4 4 3\"\"\"\n",
    "\n",
    "def editDistance(word1, word2):\n",
    "    table = [[0 for col in range(len(word2)+1)] for row in range(len(word1)+1)]\n",
    "    for i in range(len(word1)+1):\n",
    "        for j in range(len(word2)+1):\n",
    "            if i == 0:\n",
    "                table[0][j] = j\n",
    "            elif j == 0:\n",
    "                table[i][0] = i\n",
    "            elif word1[i-1] == word2[j-1]:\n",
    "                table[i][j] = table[i-1][j-1]\n",
    "            else:\n",
    "                table[i][j] = 1 + min(table[i-1][j], table[i][j-1], table[i-1][j-1])\n",
    "    return table[-1][-1]\n",
    "    #return table\n",
    "\n",
    "word1 = \"horse\"\n",
    "word2 = \"ros\"\n",
    "editDistance(word1, word2)"
   ]
  },
  {
   "cell_type": "code",
   "execution_count": 5,
   "id": "composite-sunday",
   "metadata": {},
   "outputs": [
    {
     "data": {
      "text/plain": [
       "[[1, 0, 1], [0, 0, 0], [1, 0, 1]]"
      ]
     },
     "execution_count": 5,
     "metadata": {},
     "output_type": "execute_result"
    }
   ],
   "source": [
    "## Set Matrix Zeroes\n",
    "\n",
    "def setZeros(board):\n",
    "    rowSet = set()\n",
    "    colSet = set()\n",
    "    table = [[1 for col in range(len(board[0]))] for row in range(len(board))]\n",
    "    for i in range(len(board)):\n",
    "        for j in range(len(board[0])):\n",
    "            if board[i][j] == 0:\n",
    "                rowSet.add(i)\n",
    "                colSet.add(j)\n",
    "    for row in range(len(board)):\n",
    "        for col in range(len(board[0])):\n",
    "            if row in rowSet or col in colSet:\n",
    "                board[row][col] = 0\n",
    "    return board\n",
    "\n",
    "board = [[1,1,1],[1,0,1],[1,1,1]]\n",
    "#Output: [[1,0,1],[0,0,0],[1,0,1]]\n",
    "##Time complexity O(mn) and space complexity O(m+n)\n",
    "setZeros(board)"
   ]
  },
  {
   "cell_type": "code",
   "execution_count": 8,
   "id": "surrounded-collapse",
   "metadata": {},
   "outputs": [
    {
     "data": {
      "text/plain": [
       "[0, 0, 2, 2, 1, 1]"
      ]
     },
     "execution_count": 8,
     "metadata": {},
     "output_type": "execute_result"
    }
   ],
   "source": [
    "##75. Sort Colors\n",
    "\n",
    "#Input: nums = [2,0,2,1,1,0]\n",
    "#Output: [0,0,1,1,2,2]\n",
    "\n",
    "def sortColors(nums):\n",
    "    left = 0\n",
    "    cur = 0\n",
    "    right = len(nums) - 1\n",
    "    while left <= right:\n",
    "        if nums[cur] == 0:\n",
    "            nums[left], nums[cur] = nums[cur], nums[left]\n",
    "            left += 1\n",
    "            cur += 1\n",
    "        elif nums[cur] == 2:\n",
    "            nums[cur], nums[right] = nums[right], nums[cur]\n",
    "            right -= 1    \n",
    "        else:\n",
    "            cur += 1\n",
    "    return nums\n",
    "nums = [2,0,2,1,1,0]\n",
    "sortColors(nums)\n",
    "    "
   ]
  },
  {
   "cell_type": "code",
   "execution_count": 13,
   "id": "acoustic-night",
   "metadata": {},
   "outputs": [
    {
     "data": {
      "text/plain": [
       "10"
      ]
     },
     "execution_count": 13,
     "metadata": {},
     "output_type": "execute_result"
    }
   ],
   "source": [
    "##84. Largest Rectangle in Histogram\n",
    "def largestArea(nums):\n",
    "    maxArea = 0\n",
    "    for i in range(len(nums)):\n",
    "        for j in range(i, len(nums)):\n",
    "            dis = j - i + 1\n",
    "            hight = min(nums[i:j+1])\n",
    "            area = dis * hight\n",
    "            maxArea = max(maxArea, area)\n",
    "    return maxArea\n",
    "\n",
    "nums = [2,1,5,6,2,3]\n",
    "largestArea(nums)"
   ]
  },
  {
   "cell_type": "code",
   "execution_count": 16,
   "id": "criminal-documentation",
   "metadata": {},
   "outputs": [
    {
     "data": {
      "text/plain": [
       "4"
      ]
     },
     "execution_count": 16,
     "metadata": {},
     "output_type": "execute_result"
    }
   ],
   "source": [
    "##84. Largest Rectangle in Histogram\n",
    "\n",
    "def largestArea2(nums):\n",
    "    n = len(nums)\n",
    "    stack = []\n",
    "    left = [0]*n\n",
    "    right = [0]*n\n",
    "    \n",
    "    for i in range(len(nums)):\n",
    "        if len(stack) == 0:\n",
    "            left[i] = 0\n",
    "            stack.append(i)\n",
    "        else:\n",
    "            while len(stack) != 0 and nums[i] <= nums[stack[-1]]:\n",
    "                stack.pop()\n",
    "            if len(stack) == 0:\n",
    "                left[i] = 0\n",
    "            else:\n",
    "                left[i] = stack[-1] + 1\n",
    "            stack.append(i)\n",
    "            \n",
    "    stack = []\n",
    "    for i in range(len(nums)-1, -1, -1):\n",
    "        if len(stack) == 0:\n",
    "            right[i] = n - 1\n",
    "            stack.append(i)\n",
    "        else:\n",
    "            while len(stack) != 0 and nums[i] <= nums[stack[-1]]:\n",
    "                stack.pop()\n",
    "            if len(stack) == 0:\n",
    "                right[i] = n - 1\n",
    "            else:\n",
    "                right[i] = stack[-1] - 1\n",
    "            stack.append(i)\n",
    "            \n",
    "    maxArea = 0       \n",
    "    for i in range(n):\n",
    "        maxArea = max(maxArea, (right[i]-left[i]+1)*nums[i])\n",
    "    return maxArea\n",
    "nums = [2,4]\n",
    "largestArea2(nums)\n",
    "        \n",
    "        "
   ]
  },
  {
   "cell_type": "code",
   "execution_count": 13,
   "id": "greater-starter",
   "metadata": {},
   "outputs": [
    {
     "data": {
      "text/plain": [
       "6"
      ]
     },
     "execution_count": 13,
     "metadata": {},
     "output_type": "execute_result"
    }
   ],
   "source": [
    "##\n",
    "def largestRect(nums):\n",
    "    n = len(nums)\n",
    "    left = [0]*n\n",
    "    right = [0]*n\n",
    "    \n",
    "    stack = []\n",
    "    for i in range(n):\n",
    "        if len(stack) == 0:\n",
    "            left[i] = 0\n",
    "            stack.append(i)\n",
    "        else:\n",
    "            while len(stack) != 0 and nums[i] <= nums[stack[-1]]:\n",
    "                stack.pop()\n",
    "            if len(stack) == 0:\n",
    "                left[i] = 0\n",
    "            else:\n",
    "                left[i] = stack[-1] + 1\n",
    "            stack.append(i)\n",
    "    while len(stack) != 0:\n",
    "        stack.pop()\n",
    "    for i in range(n-1, -1, -1):\n",
    "        if len(stack) == 0:\n",
    "            right[i] = n - 1\n",
    "            stack.append(i)\n",
    "        else:\n",
    "            while len(stack) != 0 and nums[i] <= nums[stack[-1]]:\n",
    "                stack.pop()\n",
    "            if len(stack) == 0:\n",
    "                right[i] = n - 1\n",
    "            else:\n",
    "                right[i] = stack[-1] - 1\n",
    "            stack.append(i)\n",
    "            \n",
    "    maxArea = 0\n",
    "    for i in range(n):\n",
    "        maxArea = max(maxArea, (right[i]-left[i]+1)*nums[i])\n",
    "    return maxArea\n",
    "\n",
    "\n",
    "def maximalRect(matrix):\n",
    "    maxArea = 0\n",
    "    for i in range(len(matrix)):\n",
    "        for j in range(len(matrix[0])):\n",
    "            matrix[i][j] = int(matrix[i][j])\n",
    "            \n",
    "    for i in range(1, len(matrix)):\n",
    "        for j in range(len(matrix[0])):\n",
    "            if matrix[i][j] != 0:\n",
    "                matrix[i][j] += matrix[i-1][j]\n",
    "                \n",
    "    for i in range(len(matrix)):\n",
    "        maxArea = max(maxArea, largestRect(matrix[i]))\n",
    "    return maxArea\n",
    "\n",
    "matrix = [[\"1\",\"0\",\"1\",\"0\",\"0\"],[\"1\",\"0\",\"1\",\"1\",\"1\"],[\"1\",\"1\",\"1\",\"1\",\"1\"],[\"1\",\"0\",\"0\",\"1\",\"0\"]]\n",
    "maximalRect(matrix)\n",
    "                \n",
    "    "
   ]
  },
  {
   "cell_type": "code",
   "execution_count": 1,
   "id": "institutional-marriage",
   "metadata": {},
   "outputs": [],
   "source": [
    "def hasPathSum(root, target):\n",
    "    if root is None:\n",
    "        return False\n",
    "    if root.val == target and root.left is None and root.right is None:\n",
    "        return True\n",
    "    leftH = hasPathSum(root.left, target-root.val)\n",
    "    rightH = hasPathSum(root.right, target-root.val)\n",
    "    \n",
    "    if leftH or rightH:\n",
    "        return True\n",
    "    else:\n",
    "        return False\n",
    "    "
   ]
  },
  {
   "cell_type": "code",
   "execution_count": 6,
   "id": "mysterious-template",
   "metadata": {},
   "outputs": [
    {
     "data": {
      "text/plain": [
       "False"
      ]
     },
     "execution_count": 6,
     "metadata": {},
     "output_type": "execute_result"
    }
   ],
   "source": [
    "#79. Word Search\n",
    "\n",
    "#Input: board = [[\"A\",\"B\",\"C\",\"E\"],[\"S\",\"F\",\"C\",\"S\"],[\"A\",\"D\",\"E\",\"E\"]], word = \"ABCCED\"\n",
    "#Output: true\n",
    "\n",
    "def wordSearch(board, word):\n",
    "    for i in range(len(board)):\n",
    "        for j in range(len(board[0])):\n",
    "            if board[i][j] == word[0] and dfs(board, i, j, word, 0):\n",
    "                return True\n",
    "    return False\n",
    "    \n",
    "    \n",
    "def dfs(board, i, j, word, count):\n",
    "    if count == len(word):\n",
    "        return True\n",
    "    if i < 0 or i >= len(board) or j < 0 or j >= len(board[0]) or board[i][j] != word[count]:\n",
    "        return False\n",
    "    \n",
    "    temp = board[i][j]\n",
    "    board[i][j] = \"*\"\n",
    "    match = dfs(board, i+1, j, word, count+1) or dfs(board, i-1, j, word, count+1) or dfs(board, i,\n",
    "                            j+1, word, count+1) or dfs(board, i, j-1, word, count+1)\n",
    "    board[i][j] = temp\n",
    "    return match\n",
    "    \n",
    "board = [[\"A\",\"B\",\"C\",\"E\"],[\"S\",\"F\",\"C\",\"S\"],[\"A\",\"D\",\"E\",\"E\"]]\n",
    "word = \"ABCB\"\n",
    "wordSearch(board, word)"
   ]
  },
  {
   "cell_type": "code",
   "execution_count": 7,
   "id": "searching-assist",
   "metadata": {},
   "outputs": [],
   "source": [
    "##Binary tree inorder traversal\n",
    "\n",
    "def inOrder(root):\n",
    "    stack = []\n",
    "    res = []\n",
    "    while stack or root:\n",
    "        while root:\n",
    "            stack.append(root)\n",
    "            root = root.left\n",
    "        root = stack.pop()\n",
    "        res.append(root)\n",
    "        root = root.right\n",
    "    return res"
   ]
  },
  {
   "cell_type": "code",
   "execution_count": 8,
   "id": "acquired-blanket",
   "metadata": {},
   "outputs": [],
   "source": [
    "##Same tree\n",
    "\n",
    "def sameTree(p1, p2):\n",
    "    if p1 and p1:\n",
    "        return True\n",
    "    if p1 or p2:\n",
    "        return False\n",
    "    \n",
    "    if p1.val != p2.val:\n",
    "        return False\n",
    "    return sameTree(p1.left, p2.left) and sameTree(p1.right, p2.right)"
   ]
  },
  {
   "cell_type": "code",
   "execution_count": 1,
   "id": "appointed-defendant",
   "metadata": {},
   "outputs": [
    {
     "name": "stdout",
     "output_type": "stream",
     "text": [
      "[1, 6, 11, 12, 7, 2, 3, 8, 13, 14, 9, 4, 5, 10, 15]\n"
     ]
    }
   ],
   "source": [
    "##DFS\n",
    "matrix = [[1,2,3,4,5],\n",
    "         [6,7,8,9,10],\n",
    "         [11,12,13,14,15]]\n",
    "\n",
    "def dfs(matrix, seen, i, j, values):\n",
    "    if i < 0 or i >= len(matrix) or j < 0 or j >= len(matrix[0]) or seen[i][j]:\n",
    "        return\n",
    "    values.append(matrix[i][j])\n",
    "    seen[i][j] = True\n",
    "    dfs(matrix, seen, i+1, j, values)\n",
    "    dfs(matrix, seen, i-1, j, values)\n",
    "    dfs(matrix, seen, i, j+1, values)\n",
    "    dfs(matrix, seen, i, j-1, values)\n",
    "    \n",
    "m = len(matrix)\n",
    "n = len(matrix[0])\n",
    "\n",
    "seen = [[False for col in range(n)] for row in range(m)]\n",
    "values = []\n",
    "dfs(matrix, seen, 0, 0, values)\n",
    "print(values)"
   ]
  },
  {
   "cell_type": "code",
   "execution_count": 2,
   "id": "ignored-burden",
   "metadata": {},
   "outputs": [],
   "source": [
    "matrix = [[0,0,\"d\",0],\n",
    "          [\"0\",\"b\",0,\"b\"],\n",
    "          [0,\"0\",0,\"b\"],\n",
    "          [0,\"b\",0,0]]\n",
    "\n",
    "m = len(matrix)\n",
    "n = len(matrix[0])\n",
    "def dfs(matrix, seen, i, j):\n",
    "    if i < 0 or i >= m or j < 0 or j >=n or matrix[i][j] == \"b\" or seen[i][j]:\n",
    "        return\n",
    "    "
   ]
  },
  {
   "cell_type": "code",
   "execution_count": 3,
   "id": "distinct-clark",
   "metadata": {},
   "outputs": [
    {
     "data": {
      "text/plain": [
       "5"
      ]
     },
     "execution_count": 3,
     "metadata": {},
     "output_type": "execute_result"
    }
   ],
   "source": [
    "##127. Word Ladder\n",
    "#Input: beginWord = \"hit\", endWord = \"cog\", wordList = [\"hot\",\"dot\",\"dog\",\"lot\",\"log\",\"cog\"]\n",
    "#Output: 5\n",
    "\n",
    "def wordladder(beginWord, endWord, wordList):\n",
    "    wordList = set(wordList)\n",
    "    if endWord not in wordList:\n",
    "        return 0\n",
    "    level = 1\n",
    "    stack = [beginWord]\n",
    "    alpha = \"abcdefghijklmnopqrstuvwxyz\"\n",
    "    while len(stack) != 0:\n",
    "        next = []\n",
    "        size = len(stack)\n",
    "        while size != 0:\n",
    "            cur_word = stack.pop()\n",
    "            if cur_word == endWord:\n",
    "                return level\n",
    "            for i in range(len(cur_word)):\n",
    "                for c in alpha:\n",
    "                    new_word = cur_word[:i] + c + cur_word[i+1:]\n",
    "                    if new_word in wordList:\n",
    "                        wordList.remove(new_word)\n",
    "                        next.append(new_word)\n",
    "            size -= 1\n",
    "        level += 1\n",
    "        stack = next\n",
    "    return 0\n",
    "            \n",
    "beginWord = \"hit\"\n",
    "endWord = \"cog\"\n",
    "wordList = [\"hot\",\"dot\",\"dog\",\"lot\",\"log\",\"cog\"]\n",
    "wordladder(beginWord, endWord, wordList)"
   ]
  },
  {
   "cell_type": "code",
   "execution_count": 5,
   "id": "academic-ordinary",
   "metadata": {},
   "outputs": [
    {
     "data": {
      "text/plain": [
       "9"
      ]
     },
     "execution_count": 5,
     "metadata": {},
     "output_type": "execute_result"
    }
   ],
   "source": [
    "##Longest Consecutive Sequence\n",
    "#Input: nums = [100,4,200,1,3,2]\n",
    "#Output: 4\n",
    "\n",
    "def longestConSub(nums):\n",
    "    if len(nums) == 0:\n",
    "        return 0\n",
    "    maxLength = 0\n",
    "    numSet = set(nums)\n",
    "    for num in nums:\n",
    "        if num - 1 not in numSet:\n",
    "            cur_len = 1\n",
    "            curNum = num\n",
    "            while curNum + 1 in numSet:\n",
    "                curNum = curNum + 1\n",
    "                cur_len += 1\n",
    "            maxLength = max(maxLength, cur_len)\n",
    "    return cur_len\n",
    "\n",
    "nums = [0,3,7,2,5,8,4,6,0,1]\n",
    "longestConSub(nums)"
   ]
  },
  {
   "cell_type": "code",
   "execution_count": 6,
   "id": "fiscal-contrary",
   "metadata": {},
   "outputs": [],
   "source": [
    "##129. Sum Root to Leaf Numbers\n",
    "def sumRootToLeaf(root):\n",
    "    if root is None:\n",
    "        return None\n",
    "    return dfs(root, 0)\n",
    "\n",
    "def dfs(root, sum):\n",
    "    if root is None:\n",
    "        return 0\n",
    "    newSum = sum*10 + root.val\n",
    "    if root.left is None or root.right is None:\n",
    "        return newSum\n",
    "    return dfs(root.left, newSum) + dfs(root.right, newSum)\n",
    "##Time complexity is O(n) and space complexity O(n)"
   ]
  },
  {
   "cell_type": "code",
   "execution_count": 3,
   "id": "massive-extreme",
   "metadata": {},
   "outputs": [
    {
     "data": {
      "text/plain": [
       "[['X', 'X', 'X', 'X'],\n",
       " ['X', 'X', 'X', 'X'],\n",
       " ['X', 'X', 'X', 'X'],\n",
       " ['X', 'O', 'X', 'X']]"
      ]
     },
     "execution_count": 3,
     "metadata": {},
     "output_type": "execute_result"
    }
   ],
   "source": [
    "##130. Surrounded Regions\n",
    "#Input: board = [[\"X\",\"X\",\"X\",\"X\"],[\"X\",\"O\",\"O\",\"X\"],[\"X\",\"X\",\"O\",\"X\"],[\"X\",\"O\",\"X\",\"X\"]]\n",
    "#Output: [[\"X\",\"X\",\"X\",\"X\"],[\"X\",\"X\",\"X\",\"X\"],[\"X\",\"X\",\"X\",\"X\"],[\"X\",\"O\",\"X\",\"X\"]]\n",
    "\n",
    "def surroundedRegions(board):\n",
    "    m = len(board)\n",
    "    n = len(board[0])\n",
    "    for i in range(m):\n",
    "        for j in range(n):\n",
    "            if board[i][j] == \"O\":\n",
    "                board[i][j] = \"*\"\n",
    "                \n",
    "    for i in range(m):\n",
    "        for j in range(n):\n",
    "            if board[i][j] == \"*\" and i == 0 or j == 0 or i == m -1 or j == n- 1:\n",
    "                dfs(board, i, j)\n",
    "                \n",
    "    for i in range(m):\n",
    "        for j in range(n):\n",
    "            if board[i][j] == \"*\":\n",
    "                board[i][j] = \"X\"\n",
    "    return board\n",
    "                \n",
    "    \n",
    "def dfs(board, i, j):\n",
    "    if i < 0 or j < 0 or i >= len(board) or j >= len(board[0]):\n",
    "        return\n",
    "    if board[i][j] != \"*\":\n",
    "        return\n",
    "    board[i][j] = \"O\"\n",
    "    dfs(board, i+1, j)\n",
    "    dfs(board, i-1, j)\n",
    "    dfs(board, i, j+1)\n",
    "    dfs(board, i, j-1)\n",
    "    \n",
    "    \n",
    "board = [[\"X\",\"X\",\"X\",\"X\"],[\"X\",\"O\",\"O\",\"X\"],[\"X\",\"X\",\"O\",\"X\"],[\"X\",\"O\",\"X\",\"X\"]]\n",
    "surroundedRegions(board)"
   ]
  },
  {
   "cell_type": "code",
   "execution_count": 19,
   "id": "joined-candidate",
   "metadata": {},
   "outputs": [
    {
     "data": {
      "text/plain": [
       "3"
      ]
     },
     "execution_count": 19,
     "metadata": {},
     "output_type": "execute_result"
    }
   ],
   "source": [
    "def numberOfIslands(grid):\n",
    "    m = len(grid)\n",
    "    n = len(grid[0])\n",
    "    visited = [[False for col in range(n)] for row in range(m)]\n",
    "    count = 0\n",
    "    for i in range(m):\n",
    "        for j in range(n):\n",
    "            if visited[i][j] == False and grid[i][j] == \"1\":\n",
    "                dfs(grid, i, j, visited)\n",
    "                count += 1\n",
    "    return count\n",
    "    \n",
    "    \n",
    "def dfs(grid, i, j, visited):\n",
    "    if i < 0 or j < 0 or i >= len(grid) or j >= len(grid[0]):\n",
    "        return\n",
    "    if grid[i][j] == \"0\":\n",
    "        return\n",
    "    if visited[i][j]:\n",
    "        return\n",
    "    visited[i][j] = True\n",
    "    dfs(grid, i+1, j, visited)\n",
    "    dfs(grid, i-1, j, visited)\n",
    "    dfs(grid, i, j+1, visited)\n",
    "    dfs(grid, i, j-1, visited)\n",
    "\n",
    "    \n",
    "grid = [\n",
    "  [\"1\",\"1\",\"0\",\"0\",\"0\"],\n",
    "  [\"1\",\"1\",\"0\",\"0\",\"0\"],\n",
    "  [\"0\",\"0\",\"1\",\"0\",\"0\"],\n",
    "  [\"0\",\"0\",\"0\",\"1\",\"1\"]\n",
    "]\n",
    "numberOfIslands(grid)"
   ]
  },
  {
   "cell_type": "code",
   "execution_count": 20,
   "id": "revised-chassis",
   "metadata": {},
   "outputs": [],
   "source": [
    "##141. Linked List Cycle\n",
    "class ListNode:\n",
    "    def __init__(self, val):\n",
    "        self.val = val\n",
    "        self.next = None\n",
    "        \n",
    "def LinkedListCycle(head):\n",
    "    if head is None:\n",
    "        return None\n",
    "    fast = head\n",
    "    slow = head\n",
    "    \n",
    "    while fast != None and fast.next != None:\n",
    "        fast = fast.next.next\n",
    "        slow = slow.next\n",
    "        if slow == fast:\n",
    "            return True\n",
    "    return False"
   ]
  },
  {
   "cell_type": "code",
   "execution_count": 21,
   "id": "pediatric-threat",
   "metadata": {},
   "outputs": [],
   "source": [
    "##142. Linked List Cycle II\n",
    "\n",
    "def LinkedListCycle2(head):\n",
    "    if head is None:\n",
    "        return None\n",
    "    slow = head\n",
    "    fast = head\n",
    "    while fast and fast.next:\n",
    "        slow = slow.next\n",
    "        fast = fast.next.next\n",
    "        if slow == fast:\n",
    "            slow = head\n",
    "            while fast != slow:\n",
    "                fast = fats.next\n",
    "                slow = slow.next\n",
    "            return slow\n",
    "    return None"
   ]
  },
  {
   "cell_type": "code",
   "execution_count": 2,
   "id": "instant-soviet",
   "metadata": {},
   "outputs": [
    {
     "data": {
      "text/plain": [
       "[['a', 'a', 'b'], ['aa', 'b']]"
      ]
     },
     "execution_count": 2,
     "metadata": {},
     "output_type": "execute_result"
    }
   ],
   "source": [
    "##131. Palindrome Partitioning\n",
    "#Input: s = \"aab\"\n",
    "#Output: [[\"a\",\"a\",\"b\"],[\"aa\",\"b\"]]\n",
    "\n",
    "def pelindromPartitioning(s):\n",
    "    result = []\n",
    "    temp = []\n",
    "    dfs(s, result, temp, 0)\n",
    "    return result\n",
    "\n",
    "def dfs(s, result, temp, i):\n",
    "    if i >= len(s):\n",
    "        result.append(temp.copy())\n",
    "        return\n",
    "    \n",
    "    for j in range(i, len(s)):\n",
    "        if isPelin(s, i, j):\n",
    "            temp.append(s[i:j+1])\n",
    "            dfs(s, result, temp, j+1)\n",
    "            temp.pop()\n",
    "    \n",
    "def isPelin(s, left, right):\n",
    "    while left <= right:\n",
    "        if s[left] != s[right]:\n",
    "            return False\n",
    "        left += 1\n",
    "        right -= 1\n",
    "    return True\n",
    "\n",
    "s = \"aab\"\n",
    "pelindromPartitioning(s)"
   ]
  },
  {
   "cell_type": "code",
   "execution_count": 23,
   "id": "decent-japan",
   "metadata": {},
   "outputs": [
    {
     "name": "stdout",
     "output_type": "stream",
     "text": [
      "[0, inf, inf, inf, inf]\n",
      "[0, 1, inf, inf, inf]\n",
      "[0, 1, 1, inf, inf]\n",
      "[0, 1, 1, inf, inf]\n",
      "[0, 1, 1, 2, inf]\n",
      "[0, 1, 1, 2, 2]\n",
      "[0, 1, 1, 2, 2]\n"
     ]
    },
    {
     "data": {
      "text/plain": [
       "[0, 1, 1, 2, 2]"
      ]
     },
     "execution_count": 23,
     "metadata": {},
     "output_type": "execute_result"
    }
   ],
   "source": [
    "s = \"aaba\"\n",
    "dp = [float('inf')] * (len(s)+1)\n",
    "dp[0] = 0\n",
    "print(dp)\n",
    "for j in range(1, len(s)+1):\n",
    "    for i in range(j):\n",
    "        if dp[i] != float('inf') and s[i:j] == s[i:j][::-1]:\n",
    "            dp[j] = min(dp[j], dp[i]+1)\n",
    "            print(dp)\n",
    "#dp[-1]-1\n",
    "dp"
   ]
  },
  {
   "cell_type": "code",
   "execution_count": null,
   "id": "balanced-cylinder",
   "metadata": {},
   "outputs": [],
   "source": []
  },
  {
   "cell_type": "code",
   "execution_count": 4,
   "id": "obvious-arrival",
   "metadata": {},
   "outputs": [
    {
     "data": {
      "text/plain": [
       "4"
      ]
     },
     "execution_count": 4,
     "metadata": {},
     "output_type": "execute_result"
    }
   ],
   "source": [
    "##Max Points on a Line\n",
    "#Input: points = [[1,1],[2,2],[3,3]]\n",
    "#Output: 3\n",
    "\n",
    "def maxPoints(points):\n",
    "    res = 0\n",
    "    while points:\n",
    "        curPoint = points.pop()\n",
    "        res = max(res, lineHelper(curPoint, points))\n",
    "        return res\n",
    "    \n",
    "def lineHelper(curPoint, points):\n",
    "    ans = 0\n",
    "    duplicates = 0\n",
    "    slopes = {}\n",
    "    \n",
    "    x1, y1 = curPoint\n",
    "    for x2, y2 in points:\n",
    "        if x1 == x2 and y1 == y2:\n",
    "            duplicates += 1\n",
    "        else:\n",
    "            if y1 == y2:\n",
    "                slope = float('inf')\n",
    "            else:\n",
    "                slope = (x2-x1)/(y2-y1)\n",
    "            if slope in slopes:\n",
    "                slopes[slope] += 1\n",
    "            else:\n",
    "                slopes[slope] = 1\n",
    "        ans = max(ans, slopes[slope])\n",
    "    return ans + duplicates + 1\n",
    "\n",
    "points = [[1,1],[3,2],[5,3],[4,1],[2,3],[1,4]]\n",
    "maxPoints(points)\n",
    "##Time complexity O(n^2) and space complexity O(n)            "
   ]
  },
  {
   "cell_type": "code",
   "execution_count": 12,
   "id": "announced-vietnam",
   "metadata": {},
   "outputs": [
    {
     "name": "stdout",
     "output_type": "stream",
     "text": [
      "[10, 6, 9, 3]\n",
      "[10, 6, 12, -11]\n",
      "[10, 6, -132]\n",
      "[10, 0]\n",
      "[0, 17]\n",
      "[17, 5]\n"
     ]
    },
    {
     "data": {
      "text/plain": [
       "22"
      ]
     },
     "execution_count": 12,
     "metadata": {},
     "output_type": "execute_result"
    }
   ],
   "source": [
    "##Evaluate Reverse Polish Notation\n",
    "\n",
    "def evalRPN(tokens):\n",
    "    stack = []\n",
    "    for c in tokens:\n",
    "        if c in \"+-*/\":\n",
    "            print(stack)\n",
    "            first = stack.pop()\n",
    "            second = stack.pop()\n",
    "            if c == \"+\":\n",
    "                val = first + second\n",
    "            elif c == \"-\":\n",
    "                val = second - first\n",
    "            elif c == \"*\":\n",
    "                val = first * second\n",
    "            elif c == \"/\":\n",
    "                val = int(second / first)\n",
    "            stack.append(val)\n",
    "        else:\n",
    "            stack.append(int(c))\n",
    "    return stack.pop()\n",
    "\n",
    "tokens = [\"10\",\"6\",\"9\",\"3\",\"+\",\"-11\",\"*\",\"/\",\"*\",\"17\",\"+\",\"5\",\"+\"]\n",
    "evalRPN(tokens)\n",
    "##Time O(n) and space O(n)"
   ]
  },
  {
   "cell_type": "code",
   "execution_count": 6,
   "id": "grand-regular",
   "metadata": {},
   "outputs": [
    {
     "data": {
      "text/plain": [
       "4"
      ]
     },
     "execution_count": 6,
     "metadata": {},
     "output_type": "execute_result"
    }
   ],
   "source": [
    "#152. Maximum Product Subarray\n",
    "#Input: nums = [2,3,-2,4]\n",
    "#Output: 6\n",
    "\n",
    "def maxProdSubArray(nums):\n",
    "    prev_min_prod = nums[0]\n",
    "    prev_max_prod = nums[0]\n",
    "    result = nums[0]\n",
    "    \n",
    "    for i in range(1, len(nums)):\n",
    "        cur_min_prod = min(prev_min_prod*nums[i],prev_max_prod*nums[i], nums[i])\n",
    "        cur_max_prod = max(prev_min_prod*nums[i],prev_max_prod*nums[i], nums[i])\n",
    "        \n",
    "        result = max(result, cur_max_prod)\n",
    "        prev_min_prod = cur_min_prod\n",
    "        prev_max_prod = cur_max_prod\n",
    "        \n",
    "    return result\n",
    "nums = [2,-2,-1, -1]\n",
    "maxProdSubArray(nums)"
   ]
  },
  {
   "cell_type": "code",
   "execution_count": 9,
   "id": "given-plastic",
   "metadata": {},
   "outputs": [
    {
     "data": {
      "text/plain": [
       "11"
      ]
     },
     "execution_count": 9,
     "metadata": {},
     "output_type": "execute_result"
    }
   ],
   "source": [
    "##153. Find Minimum in Rotated Sorted Array\n",
    "#Input: nums = [3,4,5,1,2]\n",
    "#Output: 1\n",
    "\n",
    "def findMin(nums):\n",
    "    left = 0\n",
    "    right = len(nums) - 1\n",
    "    \n",
    "    if nums[left] < nums[right]:\n",
    "        return nums[0]\n",
    "    while left <= right:\n",
    "        mid = (left+right)//2\n",
    "        if nums[mid] > nums[mid+1]:\n",
    "            return nums[mid+1]\n",
    "        if nums[mid-1] > nums[mid]:\n",
    "            return nums[mid]\n",
    "        \n",
    "        if nums[mid] > nums[left]:\n",
    "            left = mid + 1\n",
    "        else:\n",
    "            right = mid - 1\n",
    "nums = [11,13,15,17]\n",
    "findMin(nums)\n",
    "            "
   ]
  },
  {
   "cell_type": "code",
   "execution_count": 3,
   "id": "received-jesus",
   "metadata": {},
   "outputs": [
    {
     "data": {
      "text/plain": [
       "7"
      ]
     },
     "execution_count": 3,
     "metadata": {},
     "output_type": "execute_result"
    }
   ],
   "source": [
    "#Dungeon game\n",
    "def dungeon(grid):\n",
    "    m = len(grid)\n",
    "    n = len(grid[0])\n",
    "    \n",
    "    if grid[m-1][n-1] > 0:\n",
    "        grid[m-1][n-1] = 1\n",
    "    else:\n",
    "        grid[m-1][n-1] = 1 - grid[m-1][n-1]\n",
    "        \n",
    "    for r in range(m-2, -1, -1):\n",
    "        grid[r][n-1] = max(grid[r+1][n-1] - grid[r][n-1], 1)\n",
    "        \n",
    "    for c in range(n-2, -1, -1):\n",
    "        grid[m-1][c] = max(grid[m-1][c+1]-grid[m-1][c], 1)\n",
    "        \n",
    "    for r in range(m-2, -1, -1):\n",
    "        for c in range(n-2, -1, -1):\n",
    "            grid[r][c] = max(min(grid[r+1][c], grid[r][c+1])- grid[r][c], 1)\n",
    "            \n",
    "    return grid[0][0]\n",
    "\n",
    "grid = [[-2,-3,3],[-5,-10,1],[10,30,-5]]\n",
    "dungeon(grid)\n",
    "        \n",
    "        "
   ]
  },
  {
   "cell_type": "code",
   "execution_count": 6,
   "id": "optimum-atlas",
   "metadata": {},
   "outputs": [
    {
     "data": {
      "text/plain": [
       "[5, 6, 7, 1, 2, 3, 4]"
      ]
     },
     "execution_count": 6,
     "metadata": {},
     "output_type": "execute_result"
    }
   ],
   "source": [
    "##189. Rotate Array\n",
    "##Using O(n) time and O(1) space\n",
    "#Input: nums = [1,2,3,4,5,6,7], k = 3\n",
    "#Output: [5,6,7,1,2,3,4]\n",
    "##Algo reverse 1 half then reverse 2nd half then reverse the whole nums\n",
    "\n",
    "def reverse(nums, left, right):\n",
    "    while left < right:\n",
    "        nums[left], nums[right] = nums[right], nums[left]\n",
    "        left += 1\n",
    "        right -= 1\n",
    "        \n",
    "def rotate(nums, k):\n",
    "    n = len(nums)\n",
    "    k = k%n\n",
    "    reverse(nums, 0, n-k-1)\n",
    "    reverse(nums, n-k, n-1)\n",
    "    reverse(nums, 0, n-1)\n",
    "    return nums\n",
    "nums = [1,2,3,4,5,6,7]\n",
    "k = 3\n",
    "rotate(nums, k)    "
   ]
  },
  {
   "cell_type": "code",
   "execution_count": 1,
   "id": "african-taylor",
   "metadata": {},
   "outputs": [
    {
     "data": {
      "text/plain": [
       "[\"Let's\", 'take', 'LeetCode', 'contest']"
      ]
     },
     "execution_count": 1,
     "metadata": {},
     "output_type": "execute_result"
    }
   ],
   "source": [
    "s = \"Let's take LeetCode contest\"\n",
    "s = s.split()\n",
    "s"
   ]
  },
  {
   "cell_type": "code",
   "execution_count": 11,
   "id": "improving-parker",
   "metadata": {},
   "outputs": [
    {
     "data": {
      "text/plain": [
       "'the sky is blue'"
      ]
     },
     "execution_count": 11,
     "metadata": {},
     "output_type": "execute_result"
    }
   ],
   "source": [
    "##186. Reverse Words in a String II\n",
    "\n",
    "#Input:  [\"t\",\"h\",\"e\",\" \",\"s\",\"k\",\"y\",\" \",\"i\",\"s\",\" \",\"b\",\"l\",\"u\",\"e\"]\n",
    "#Output: [\"b\",\"l\",\"u\",\"e\",\" \",\"i\",\"s\",\" \",\"s\",\"k\",\"y\",\" \",\"t\",\"h\",\"e\"]\n",
    "def reverse(s, left, right):\n",
    "    while left < right:\n",
    "        s[left], s[right] = s[right], s[left]\n",
    "        left += 1\n",
    "        right -= 1\n",
    "        \n",
    "def reverse_each_word(s):\n",
    "    start = 0\n",
    "    end = 0\n",
    "    while end < len(s):\n",
    "        while end < len(s) and s[end] != \" \":\n",
    "            end += 1\n",
    "        reverse(s, start, end-1)\n",
    "        start = end + 1\n",
    "        end += 1\n",
    "    return s\n",
    "def reverseStr2(s):\n",
    "    reverse(s, 0, len(s)-1)\n",
    "    reverse_each_word(s)\n",
    "    return s\n",
    "    \n",
    "s = [\"t\",\"h\",\"e\",\" \",\"s\",\"k\",\"y\",\" \",\"i\",\"s\",\" \",\"b\",\"l\",\"u\",\"e\"]\n",
    "\"\".join(s)\n",
    "#reverseStr2(s)"
   ]
  },
  {
   "cell_type": "code",
   "execution_count": 19,
   "id": "baking-alias",
   "metadata": {},
   "outputs": [
    {
     "data": {
      "text/plain": [
       "['the', 'sky', 'is', 'blue']"
      ]
     },
     "execution_count": 19,
     "metadata": {},
     "output_type": "execute_result"
    }
   ],
   "source": [
    "s = \"the sky is blue\"\n",
    "s.split()\n"
   ]
  },
  {
   "cell_type": "code",
   "execution_count": 22,
   "id": "cultural-pilot",
   "metadata": {},
   "outputs": [
    {
     "data": {
      "text/plain": [
       "12"
      ]
     },
     "execution_count": 22,
     "metadata": {},
     "output_type": "execute_result"
    }
   ],
   "source": [
    "##198. House Robber\n",
    "#Input: nums = [1,2,3,1]\n",
    "#Output: 4\n",
    "\n",
    "def houseRobber(nums):\n",
    "    if len(nums) == 0:\n",
    "        return 0\n",
    "    table = [0]*len(nums)\n",
    "    if len(nums) >= 1:\n",
    "        table[0] = nums[0]\n",
    "    if len(nums) >= 2:\n",
    "        table[1] = max(nums[0], nums[1])\n",
    "    for i in range(2, len(nums)):\n",
    "        table[i] = max(table[i-1], table[i-2]+nums[i])\n",
    "    return table[-1]\n",
    "\n",
    "nums = [2,7,9,3,1]\n",
    "houseRobber(nums)\n",
    "##Time complexity O(n) and space complexity O(n)    "
   ]
  },
  {
   "cell_type": "code",
   "execution_count": 31,
   "id": "genuine-finding",
   "metadata": {},
   "outputs": [
    {
     "data": {
      "text/plain": [
       "3"
      ]
     },
     "execution_count": 31,
     "metadata": {},
     "output_type": "execute_result"
    }
   ],
   "source": [
    "##213. House Robber II\n",
    "# Input: nums = [2,3,2]\n",
    "# Output: 3\n",
    "    \n",
    "def houseHelper(nums):\n",
    "    table = [0]*len(nums)\n",
    "    if len(nums) >= 1:\n",
    "        table[0] = nums[0]\n",
    "    if len(nums) >= 2:\n",
    "        table[1] = max(nums[0], nums[1])\n",
    "    for i in range(2, len(nums)):\n",
    "        table[i] = max(table[i-1], table[i-2]+nums[i])\n",
    "    return table[-1]\n",
    "\n",
    "def houseRobber2(nums):\n",
    "    if len(nums) == 0:\n",
    "        return 0\n",
    "    if len(nums) == 1:\n",
    "        return nums[0]\n",
    "    return max(houseHelper(nums[:len(nums)-1]), houseHelper(nums[1:len(nums)]))\n",
    "\n",
    "nums = [1,2,3]\n",
    "houseRobber2(nums)\n",
    "##Time complexity O(n) and space complexikty OL(n)"
   ]
  },
  {
   "cell_type": "code",
   "execution_count": 33,
   "id": "western-nursery",
   "metadata": {},
   "outputs": [],
   "source": [
    "##337. House Robber III\n",
    "#Tree structure houses\n",
    "\n",
    "def houseRobber3(root):\n",
    "    if root is None:\n",
    "        return 0\n",
    "    memo = {}\n",
    "    res = robber3(root, memo)\n",
    "    return res\n",
    "    \n",
    "def robber3(root, memo):\n",
    "    if root is None:\n",
    "        return 0\n",
    "    if root in memo:\n",
    "        return memo[root]\n",
    "    value = root.val\n",
    "    if root.left:\n",
    "        value += robber3(root.left.left, memo) + robber3(root.left.right, memo)\n",
    "    if root.right:\n",
    "        value += robber3(root.right.left, memo) + robber3(root.right.right, memo)\n",
    "        \n",
    "    value_without_root = robber3(root.left, memo) + robber3(root.right, memo)\n",
    "    memo[root] = max(value, value_without_root)\n",
    "    return memo[root]"
   ]
  },
  {
   "cell_type": "code",
   "execution_count": 2,
   "id": "expired-testament",
   "metadata": {},
   "outputs": [
    {
     "data": {
      "text/plain": [
       "array([[0., 0.],\n",
       "       [0., 0.],\n",
       "       [0., 0.]])"
      ]
     },
     "execution_count": 2,
     "metadata": {},
     "output_type": "execute_result"
    }
   ],
   "source": [
    "import numpy as np\n",
    "y = np.zeros((3,2))\n",
    "y"
   ]
  },
  {
   "cell_type": "code",
   "execution_count": 24,
   "id": "animated-desire",
   "metadata": {},
   "outputs": [
    {
     "name": "stdout",
     "output_type": "stream",
     "text": [
      "[4, 3]\n"
     ]
    }
   ],
   "source": [
    "##209. Minimum Size Subarray Sum\n",
    "# Input: target = 7, nums = [2,3,1,2,4,3]\n",
    "# Output: 2\n",
    "\n",
    "def minSizeSubArrySum(nums, target):\n",
    "    left = 0\n",
    "    length = len(nums) + 1\n",
    "    Sum = 0\n",
    "    res = []\n",
    "    for right in range(len(nums)):\n",
    "        Sum += nums[right]\n",
    "        while Sum >= target and left <= right:\n",
    "            output = nums[left:right+1]\n",
    "            #print(\"output\", output)\n",
    "            if len(output) > 0 and len(output) < length:\n",
    "                res = output\n",
    "                #print(res)\n",
    "                length = len(output)\n",
    "            #length = min(length, right-left+1)\n",
    "            Sum -= nums[left]\n",
    "            left += 1\n",
    "#     if length == len(nums) + 1:\n",
    "#         return 0\n",
    "#     else:\n",
    "#         return length\n",
    "    return res\n",
    "nums = [2,3,1,2,4,3]\n",
    "target = 7\n",
    "print(minSizeSubArrySum(nums, target))"
   ]
  },
  {
   "cell_type": "code",
   "execution_count": 32,
   "id": "indie-guinea",
   "metadata": {},
   "outputs": [
    {
     "data": {
      "text/plain": [
       "False"
      ]
     },
     "execution_count": 32,
     "metadata": {},
     "output_type": "execute_result"
    }
   ],
   "source": [
    "##79. Word Search\n",
    "def wordSearch(board, word):\n",
    "    for i in range(len(board)):\n",
    "        for j in range(len(board[0])):\n",
    "            if board[i][j] == word[0] and searchDFS(board, i, j, 0, word):\n",
    "                return True\n",
    "    return False\n",
    "    \n",
    "def searchDFS(board, i, j, count, word):\n",
    "    if len(word) == count:\n",
    "        return True\n",
    "    if i < 0 or i >= len(board) or j < 0 or j >= len(board[0]) or board[i][j] != word[count]:\n",
    "        return False\n",
    "    temp = board[i][j]\n",
    "    board[i][j] = \"*\"\n",
    "    match = searchDFS(board, i+1, j, count+1, word) or searchDFS(board, i+1, j, count+1, word) or searchDFS(board, i, j+1, count+1, word) or searchDFS(board, i, j-1, count+1, word)      \n",
    "    board[i][j] = temp\n",
    "    return match\n",
    "    \n",
    "[[\"A\",\"B\",\"C\",\"E\"],[\"S\",\"F\",\"C\",\"S\"],[\"A\",\"D\",\"E\",\"E\"]]\n",
    "word = \"ABCB\"\n",
    "wordSearch(board, word)"
   ]
  },
  {
   "cell_type": "code",
   "execution_count": 38,
   "id": "likely-response",
   "metadata": {},
   "outputs": [
    {
     "data": {
      "text/plain": [
       "6"
      ]
     },
     "execution_count": 38,
     "metadata": {},
     "output_type": "execute_result"
    }
   ],
   "source": [
    "##62. Unique Paths\n",
    "def uniquePath(m, n):\n",
    "    table = [[0 for col in range(n)] for row in range(m)]\n",
    "    table[0][0] = 1\n",
    "    for i in range(m):\n",
    "        table[i][0] = 1\n",
    "    for j in range(n):\n",
    "        table[0][j] = 1\n",
    "        \n",
    "    for i in range(1, m):\n",
    "        for j in range(1, n):\n",
    "            table[i][j] += table[i-1][j] + table[i][j-1]\n",
    "    return table[m-1][n-1]\n",
    "\n",
    "uniquePath(3, 3)\n",
    "            \n"
   ]
  },
  {
   "cell_type": "code",
   "execution_count": 48,
   "id": "broadband-account",
   "metadata": {},
   "outputs": [
    {
     "data": {
      "text/plain": [
       "1"
      ]
     },
     "execution_count": 48,
     "metadata": {},
     "output_type": "execute_result"
    }
   ],
   "source": [
    "##63. Unique Paths II\n",
    "def uniquepath2(grid):\n",
    "    if grid[0][0] == 1:\n",
    "        return 0\n",
    "    grid[0][0] = 1\n",
    "    for i in range(1, len(grid)):\n",
    "        grid[i][0] = int(grid[i][0] == 0 and grid[i-1][0]==1)\n",
    "    for j in range(1, len(grid[0])):\n",
    "        grid[0][j] = int(grid[0][j] == 0 and grid[0][j-1]==1)\n",
    "    for i in range(1, len(grid)):\n",
    "        for j in range(1, len(grid[0])):\n",
    "            if grid[i][j] == 1:\n",
    "                grid[i][j] = 0\n",
    "            else:\n",
    "                grid[i][j] += grid[i-1][j] + grid[i][j-1]\n",
    "    return grid[len(grid)-1][len(grid[0])-1]\n",
    "\n",
    "grid = [[0,1],[0,0]]\n",
    "uniquepath2(grid)"
   ]
  },
  {
   "cell_type": "code",
   "execution_count": 1,
   "id": "consistent-trace",
   "metadata": {},
   "outputs": [],
   "source": [
    "##222. Count Complete Tree Nodes\n",
    "\n",
    "def CountComTreeNode(root):\n",
    "    if root is None:\n",
    "        return 0\n",
    "    leftHight = 1\n",
    "    L = root.left\n",
    "    R = root.right\n",
    "    \n",
    "    while L:\n",
    "        leftHight += 1\n",
    "        L = L.left\n",
    "    rightHight = 1\n",
    "    while R:\n",
    "        rightHight += 1\n",
    "        R = R.right\n",
    "    if leftHight == rightHight:\n",
    "        return 2**leftHight - 1\n",
    "    return 1 + CountComTreeNode(root.left) + CountComTreeNode(root.right)\n",
    "##Time complexity O(logn*logn) and space complexity O(logn)\n",
    "        "
   ]
  },
  {
   "cell_type": "code",
   "execution_count": 11,
   "id": "demanding-rings",
   "metadata": {},
   "outputs": [
    {
     "data": {
      "text/plain": [
       "33"
      ]
     },
     "execution_count": 11,
     "metadata": {},
     "output_type": "execute_result"
    }
   ],
   "source": [
    "##224. Basic Calculator\n",
    "# Input: s = \"(1+(4+5+2)-3)+(6+8)\"\n",
    "# Output: 23\n",
    "    \n",
    "def basicCalculator(s):\n",
    "    sign = 1\n",
    "    res = 0\n",
    "    number = 0\n",
    "    stack = []\n",
    "    for c in s:\n",
    "        if c.isdigit():\n",
    "            number = number*10 + int(c)\n",
    "        elif c == \"+\":\n",
    "            res += sign*number\n",
    "            sign = 1\n",
    "            number = 0\n",
    "        elif c == \"-\":\n",
    "            res += sign*number\n",
    "            sign = -1\n",
    "            number = 0\n",
    "        elif c == \"(\":\n",
    "            res += sign*number\n",
    "            stack.append(res)\n",
    "            stack.append(sign)\n",
    "            nunber = 0\n",
    "            sign = 1\n",
    "            res = 0\n",
    "        elif c == \")\":\n",
    "            res += sign*number\n",
    "            res *= stack.pop()\n",
    "            res += stack.pop()\n",
    "            sign = 1\n",
    "            number = 0\n",
    "    return res + sign*number\n",
    "\n",
    "s = \"(1+(4+5+2)-3)+(6+8)+ (10+2-2)\"\n",
    "basicCalculator(s)\n",
    "    "
   ]
  },
  {
   "cell_type": "code",
   "execution_count": 19,
   "id": "banned-overall",
   "metadata": {},
   "outputs": [
    {
     "data": {
      "text/plain": [
       "2"
      ]
     },
     "execution_count": 19,
     "metadata": {},
     "output_type": "execute_result"
    }
   ],
   "source": [
    "##169. Majority Element\n",
    "# Input: nums = [2,2,1,1,1,2,2]\n",
    "# Output: 2\n",
    "##Boyers moore voting algorithm\n",
    "def mazorityElement(nums):\n",
    "    count = 0\n",
    "    candidate = None\n",
    "    for num in nums:\n",
    "        if count == 0:\n",
    "            candidate = num\n",
    "        if num == candidate:\n",
    "            count += 1\n",
    "        else:\n",
    "            count -= 1\n",
    "            \n",
    "    return candidate\n",
    "nums = [2,2,1,1,1,2,2]\n",
    "mazorityElement(nums)\n"
   ]
  },
  {
   "cell_type": "code",
   "execution_count": 1,
   "id": "broad-rescue",
   "metadata": {},
   "outputs": [],
   "source": [
    "##230. Kth Smallest Element in a BST\n",
    "# Input: root = [3,1,4,null,2], k = 1\n",
    "# Output: 1\n",
    "\n",
    "def kthSmallest(root, k):\n",
    "    if root is None:\n",
    "        return None\n",
    "    output = []\n",
    "    stack = []\n",
    "    while root or stack:\n",
    "        while root:\n",
    "            stack.append(root)\n",
    "            root = root.left\n",
    "        root = stack.pop()\n",
    "        output.append(root.val)\n",
    "        root = root.right\n",
    "    return output[k-1]\n"
   ]
  },
  {
   "cell_type": "code",
   "execution_count": 1,
   "id": "naked-discovery",
   "metadata": {},
   "outputs": [],
   "source": [
    "##237. Delete Node in a Linked List\n",
    "\n",
    "def deleteNode(root):\n",
    "    #when you have access to only deleted node\n",
    "    node.val = node.next.val\n",
    "    node.next = node.next.next"
   ]
  },
  {
   "cell_type": "code",
   "execution_count": 5,
   "id": "geological-movement",
   "metadata": {},
   "outputs": [
    {
     "data": {
      "text/plain": [
       "[0, 0, 9, 0, 0]"
      ]
     },
     "execution_count": 5,
     "metadata": {},
     "output_type": "execute_result"
    }
   ],
   "source": [
    "##238. Product of Array Except Self\n",
    "# Input: nums = [1,2,3,4]\n",
    "# Output: [24,12,8,6]\n",
    "\n",
    "def productOfArrayExceptSelf(nums):\n",
    "    n = len(nums)\n",
    "    left = [1]*n\n",
    "    right = [1]*n\n",
    "    \n",
    "    for i in range(1, n):\n",
    "        left[i] = left[i-1]*nums[i-1]\n",
    "    for j in range(n-2, -1, -1):\n",
    "        right[j] = right[j+1]*nums[j+1]\n",
    "        \n",
    "    res = []\n",
    "    for i in range(n):\n",
    "        res.append(left[i]*right[i])\n",
    "    return res\n",
    "nums = [-1,1,0,-3,3]\n",
    "productOfArrayExceptSelf(nums)"
   ]
  },
  {
   "cell_type": "code",
   "execution_count": 14,
   "id": "exclusive-table",
   "metadata": {},
   "outputs": [
    {
     "data": {
      "text/plain": [
       "[3, 3, 5, 5, 6, 7]"
      ]
     },
     "execution_count": 14,
     "metadata": {},
     "output_type": "execute_result"
    }
   ],
   "source": [
    "##239. Sliding Window Maximum\n",
    "# Input: nums = [1,3,-1,-3,5,3,6,7], k = 3\n",
    "# Output: [3,3,5,5,6,7]\n",
    "\n",
    "def slidingWindowMax(nums, k):\n",
    "    res = []\n",
    "    r = 0\n",
    "    import collections\n",
    "    deque = collections.deque()\n",
    "    \n",
    "    while r < len(nums):\n",
    "        ##Check if leftout element is maximum in previoud window\n",
    "        if r >= k and nums[r-k] == deque[0]:\n",
    "            deque.popleft()\n",
    "        ##Keep the queue monotonically decreasing\n",
    "        while deque and deque[-1] < nums[r]:\n",
    "            deque.pop()\n",
    "        deque.append(nums[r])\n",
    "        if r >= k - 1:\n",
    "            res.append(deque[0])\n",
    "        r += 1\n",
    "    return res\n",
    "    \n",
    "nums = [1,3,-1,-3,5,3,6,7]\n",
    "k = 3\n",
    "slidingWindowMax(nums, k)\n",
    "    "
   ]
  },
  {
   "cell_type": "code",
   "execution_count": 20,
   "id": "sticky-fitting",
   "metadata": {},
   "outputs": [
    {
     "data": {
      "text/plain": [
       "5"
      ]
     },
     "execution_count": 20,
     "metadata": {},
     "output_type": "execute_result"
    }
   ],
   "source": [
    "##159. Longest Substring with At Most Two Distinct Characters\n",
    "\n",
    "# Input: \"eceba\"\n",
    "# Output: 3\n",
    "# Explanation: t is \"ece\" which its length is 3.\n",
    "\n",
    "def atMostTwoDistinct(s):\n",
    "    left = 0\n",
    "    right = 0\n",
    "    maxLen = 0\n",
    "    dict1 = {}\n",
    "    \n",
    "    for right in range(len(s)):\n",
    "        dict1[s[right]] = right\n",
    "        if len(dict1) > 2:\n",
    "            minIdx = min(dict1.values())\n",
    "            del dict1[s[minIdx]]\n",
    "            left = minIdx + 1\n",
    "        maxLen = max(maxLen, right-left+1)\n",
    "    return maxLen\n",
    "s = \"ccaabbb\"\n",
    "atMostTwoDistinct(s)"
   ]
  },
  {
   "cell_type": "code",
   "execution_count": 5,
   "id": "according-eleven",
   "metadata": {},
   "outputs": [
    {
     "data": {
      "text/plain": [
       "[-34, -10, -14, -10, 10]"
      ]
     },
     "execution_count": 5,
     "metadata": {},
     "output_type": "execute_result"
    }
   ],
   "source": [
    "##241. Different Ways to Add Parentheses\n",
    "# Input: expression = \"2-1-1\"\n",
    "# Output: [0,2]\n",
    "# Explanation:\n",
    "# ((2-1)-1) = 0 \n",
    "# (2-(1-1)) = 2\n",
    "\n",
    "def diffWayAddParen(exp):\n",
    "    memo = {}\n",
    "    return helpDiff(exp, memo)\n",
    "    \n",
    "def helpDiff(exp, memo):\n",
    "    res = []\n",
    "    if \"+\" not in exp and \"-\" not in exp and \"*\" not in exp:\n",
    "        res.append(int(exp))\n",
    "    if exp in memo:\n",
    "        return memo[exp]\n",
    "        \n",
    "    for i in range(len(exp)):\n",
    "        if exp[i] == \"+\" or exp[i] == \"-\" or exp[i] == \"*\":\n",
    "            left = helpDiff(exp[:i], memo)\n",
    "            right = helpDiff(exp[i+1:], memo)\n",
    "            \n",
    "            for L in left:\n",
    "                for R in right:\n",
    "                    if exp[i] == \"+\":\n",
    "                        res.append(L+R)\n",
    "                    elif exp[i] == \"-\":\n",
    "                        res.append(L-R)\n",
    "                    else:\n",
    "                        res.append(L*R)\n",
    "    memo[exp] = res\n",
    "    return res\n",
    "exp = \"2*3-4*5\"\n",
    "diffWayAddParen(exp)"
   ]
  },
  {
   "cell_type": "code",
   "execution_count": 10,
   "id": "micro-providence",
   "metadata": {},
   "outputs": [
    {
     "data": {
      "text/plain": [
       "0"
      ]
     },
     "execution_count": 10,
     "metadata": {},
     "output_type": "execute_result"
    }
   ],
   "source": [
    "##765. Couples Holding Hands\n",
    "# Input: row = [0,2,1,3]\n",
    "# Output: 1\n",
    "# 0 : 0\n",
    "# 2: 1\n",
    "# 1 : 2\n",
    "# 3 : 3\n",
    "# 0 1 2 3\n",
    "def couple(row):\n",
    "    rowDict = {}\n",
    "    for i in range(len(row)):\n",
    "        rowDict[row[i]] = i\n",
    "    swap = 0\n",
    "    for i,val in enumerate(row):\n",
    "        if i%2 == 0:\n",
    "            if val%2 == 0:\n",
    "                if row[i+1] != val + 1:\n",
    "                    tempIdx = rowDict[val+1]\n",
    "                    row[i+1], row[tempIdx] = row[tempIdx], row[i+1]\n",
    "                    rowDict[row[i+1]] = i+1\n",
    "                    rowDict[row[tempIdx]] = tempIdx\n",
    "                    swap += 1\n",
    "            else:\n",
    "                if row[i+1] != val - 1:\n",
    "                    tempIdx = rowDict[val-1]\n",
    "                    row[i+1], row[tempIdx] = row[tempIdx], row[i+1]\n",
    "                    rowDict[row[i+1]] = i+1\n",
    "                    rowDict[row[tempIdx]] = tempIdx\n",
    "                    swap += 1\n",
    "    return swap\n",
    "row = [3,2,0,1]\n",
    "couple(row)\n",
    "\n",
    "                "
   ]
  },
  {
   "cell_type": "code",
   "execution_count": 6,
   "id": "academic-cruise",
   "metadata": {},
   "outputs": [],
   "source": [
    "##278. First Bad Version\n",
    "\n",
    "def firstBadVersion(n):\n",
    "    left = 0\n",
    "    right = n\n",
    "    while left <= right:\n",
    "        mid = left + (right-left)//2\n",
    "        if isBad(mid):\n",
    "            res = mid\n",
    "            right = mid - 1\n",
    "        else:\n",
    "            left = mid + 1\n",
    "    return res\n",
    "        "
   ]
  },
  {
   "cell_type": "code",
   "execution_count": 8,
   "id": "acquired-wednesday",
   "metadata": {},
   "outputs": [
    {
     "data": {
      "text/plain": [
       "[-1, -1]"
      ]
     },
     "execution_count": 8,
     "metadata": {},
     "output_type": "execute_result"
    }
   ],
   "source": [
    "###34. Find First and Last Position of Element in Sorted Array\n",
    "\n",
    "def findFirstlast(nums, target):\n",
    "    left = findHelper(nums, target, True)\n",
    "    right = findHelper(nums, target, False)\n",
    "    return [left, right]\n",
    "    \n",
    "def findHelper(nums, target, leftBias):\n",
    "    left = 0\n",
    "    right = len(nums) - 1\n",
    "    idx = -1\n",
    "    while left <= right:\n",
    "        mid = left + (right-left)// 2\n",
    "        if nums[mid] == target:\n",
    "            idx = mid\n",
    "            if leftBias:\n",
    "                right = mid - 1\n",
    "            else:\n",
    "                left = mid + 1\n",
    "        else:\n",
    "            if nums[mid] < target:\n",
    "                left = mid + 1\n",
    "            else:\n",
    "                right = mid - 1\n",
    "    return idx\n",
    "\n",
    "nums = [5,7,7,8,8,10]\n",
    "target = 6\n",
    "findFirstlast(nums, target)"
   ]
  },
  {
   "cell_type": "code",
   "execution_count": 11,
   "id": "defensive-visibility",
   "metadata": {},
   "outputs": [
    {
     "data": {
      "text/plain": [
       "2"
      ]
     },
     "execution_count": 11,
     "metadata": {},
     "output_type": "execute_result"
    }
   ],
   "source": [
    "##287. Find the Duplicate Number\n",
    "def findDuplicate(nums):\n",
    "    slow = nums[0]\n",
    "    fast = nums[0]\n",
    "    \n",
    "    while True:\n",
    "        fast = nums[nums[fast]]\n",
    "        slow = nums[slow]\n",
    "        if fast == slow:\n",
    "            break\n",
    "        \n",
    "    slow = nums[0]\n",
    "    while fast != slow:\n",
    "        fast = nums[fast]\n",
    "        slow = nums[slow]\n",
    "    return slow\n",
    "\n",
    "nums = [1,3,4,2,2]\n",
    "findDuplicate(nums)\n",
    "        "
   ]
  },
  {
   "cell_type": "code",
   "execution_count": 21,
   "id": "round-cosmetic",
   "metadata": {},
   "outputs": [
    {
     "data": {
      "text/plain": [
       "[[0, 0, 0], [1, 0, 1], [0, 1, 1], [0, 1, 0]]"
      ]
     },
     "execution_count": 21,
     "metadata": {},
     "output_type": "execute_result"
    }
   ],
   "source": [
    "##289. Game of Life\n",
    "def gameOfLife(grid):\n",
    "    ##live --> dead 2 (later need to do 0)\n",
    "    ##dead --> live -1 (later need to do 1)\n",
    "    for i in range(len(grid)):\n",
    "        for j in range(len(grid[0])):\n",
    "            if grid[i][j] == 0:\n",
    "                res = countLive(grid, i, j)\n",
    "                if res == 3:\n",
    "                    grid[i][j] = -1\n",
    "            if grid[i][j] == 1:\n",
    "                res = countLive(grid, i, j)\n",
    "                if res == 2 or res == 3:\n",
    "                    grid[i][j] = 1\n",
    "                if res < 2 or res > 3:\n",
    "                    grid[i][j] = 2\n",
    "    for i in range(len(grid)):\n",
    "        for j in range(len(grid[0])):\n",
    "            if grid[i][j] == 2:\n",
    "                grid[i][j] = 0\n",
    "            if grid[i][j] == -1:\n",
    "                grid[i][j] = 1\n",
    "                    \n",
    "    return grid\n",
    "    \n",
    "    \n",
    "def countLive(grid, i, j):\n",
    "    dirs = [(0,1),(0,-1),(1,0),(-1,0),(-1,-1),(-1,1),(1,-1),(1,1)]\n",
    "    res = 0\n",
    "    for dir in dirs:\n",
    "        newRow = i + dir[0]\n",
    "        newCol = j + dir[1]\n",
    "        if (newRow >= 0 and newRow < len(grid) and newCol >= 0 and newCol < len(grid[0]) and (grid[newRow][newCol] == 1 or grid[newRow][newCol] == 2)):\n",
    "            res += 1\n",
    "    return res\n",
    "    \n",
    "\n",
    "grid = [[0,1,0],[0,0,1],[1,1,1],[0,0,0]]\n",
    "gameOfLife(grid)"
   ]
  },
  {
   "cell_type": "code",
   "execution_count": 1,
   "id": "successful-blank",
   "metadata": {},
   "outputs": [],
   "source": [
    "##328. Odd Even Linked List\n",
    "\n",
    "def oddEvenList(head):\n",
    "    if head is None:\n",
    "        return head\n",
    "    \n",
    "    oddHead = head\n",
    "    evenHead = head.next\n",
    "    \n",
    "    odd = head\n",
    "    even = head.next\n",
    "    \n",
    "    while evenHead and evenHead.next:\n",
    "        oddHead.next = oddHead.next.next\n",
    "        evenHead.next = evenHead.next.next\n",
    "        \n",
    "        oddHead = oddHead.next\n",
    "        evenHead = evenHead.next\n",
    "        \n",
    "    oddHead.next = even\n",
    "    return head\n",
    "    \n",
    "    "
   ]
  },
  {
   "cell_type": "code",
   "execution_count": 4,
   "id": "genuine-columbia",
   "metadata": {},
   "outputs": [
    {
     "data": {
      "text/plain": [
       "[5, 6, 7, 1, 2, 3, 4]"
      ]
     },
     "execution_count": 4,
     "metadata": {},
     "output_type": "execute_result"
    }
   ],
   "source": [
    "##89. Rotate Array\n",
    "# Input: nums = [1,2,3,4,5,6,7], k = 3\n",
    "# Output: [5,6,7,1,2,3,4]\n",
    "\n",
    "def rotateArray(nums, k):\n",
    "    n = len(nums)\n",
    "    reverse(nums, 0, n-k-1)\n",
    "    reverse(nums, n-k, n-1)\n",
    "    reverse(nums, 0, n-1)\n",
    "    return nums\n",
    "    \n",
    "def reverse(nums, left, right):\n",
    "#     left = 0\n",
    "#     right = len(nums) - 1\n",
    "    while left <= right:\n",
    "        nums[left], nums[right] = nums[right], nums[left]\n",
    "        left += 1\n",
    "        right -= 1\n",
    "        \n",
    "nums = [1,2,3,4,5,6,7]\n",
    "k = 3\n",
    "rotateArray(nums, k)"
   ]
  },
  {
   "cell_type": "code",
   "execution_count": 3,
   "id": "naval-sample",
   "metadata": {},
   "outputs": [
    {
     "data": {
      "text/plain": [
       "False"
      ]
     },
     "execution_count": 3,
     "metadata": {},
     "output_type": "execute_result"
    }
   ],
   "source": [
    "##334. Increasing Triplet Subsequence\n",
    "def increasingTriplet(nums):\n",
    "    i = float('inf')\n",
    "    j = float('inf')\n",
    "    for k in range(len(nums)):\n",
    "        if nums[k] <= i:\n",
    "            i = nums[k]\n",
    "        elif nums[k] <= j:\n",
    "            j = nums[k]\n",
    "        else:\n",
    "            return True\n",
    "    return False\n",
    "nums = [5,4,3,2,1]\n",
    "increasingTriplet(nums)"
   ]
  },
  {
   "cell_type": "code",
   "execution_count": 8,
   "id": "distinguished-review",
   "metadata": {},
   "outputs": [
    {
     "data": {
      "text/plain": [
       "['i', 'love']"
      ]
     },
     "execution_count": 8,
     "metadata": {},
     "output_type": "execute_result"
    }
   ],
   "source": [
    "##692. Top K Frequent Words\n",
    "# Input: words = [\"i\",\"love\",\"leetcode\",\"i\",\"love\",\"coding\"], k = 2\n",
    "# Output: [\"i\",\"love\"]\n",
    "\n",
    "def topKfrequentWords(words, k):\n",
    "    import heapq\n",
    "    wordDict = {}\n",
    "    for word in words:\n",
    "        if word in wordDict:\n",
    "            wordDict[word] += 1\n",
    "        else:\n",
    "            wordDict[word] = 1\n",
    "            \n",
    "    heap = []\n",
    "    #heapq.heapify(heap)\n",
    "    for key, value in wordDict.items():\n",
    "        heapq.heappush(heap, (-value,key))\n",
    "    res = []\n",
    "    for i in range(k):\n",
    "        curMax = heapq. heappop(heap)\n",
    "        res.append(curMax[1])\n",
    "    return res\n",
    "\n",
    "words = [\"i\",\"love\",\"leetcode\",\"i\",\"love\",\"coding\"]\n",
    "k = 2\n",
    "topKfrequentWords(words, k)"
   ]
  },
  {
   "cell_type": "code",
   "execution_count": 12,
   "id": "synthetic-wisdom",
   "metadata": {},
   "outputs": [
    {
     "data": {
      "text/plain": [
       "-1"
      ]
     },
     "execution_count": 12,
     "metadata": {},
     "output_type": "execute_result"
    }
   ],
   "source": [
    "##1779. Find Nearest Point That Has the Same X or Y Coordinate\n",
    "# Input: x = 3, y = 4, points = [[1,2],[3,1],[2,4],[2,3],[4,4]]\n",
    "# Output: 2\n",
    "\n",
    "def nearestValidPoint(x, y, points):\n",
    "    index = -1\n",
    "    distance = float('inf')\n",
    "    \n",
    "    for i, (x1,y1) in enumerate(points):\n",
    "        if x == x1 or y == y1:\n",
    "            dist = abs(x-x1) + abs(y-y1)\n",
    "            if dist < distance:\n",
    "                distance = dist\n",
    "                index = i\n",
    "    return index\n",
    "\n",
    "x = 3\n",
    "y = 4\n",
    "points = [[2,3]]\n",
    "nearestValidPoint(x, y, points)\n",
    "\n",
    "##Time complexity O(n) and space complexity O(1)"
   ]
  },
  {
   "cell_type": "code",
   "execution_count": 25,
   "id": "advisory-spokesman",
   "metadata": {},
   "outputs": [
    {
     "data": {
      "text/plain": [
       "1"
      ]
     },
     "execution_count": 25,
     "metadata": {},
     "output_type": "execute_result"
    }
   ],
   "source": [
    "##354. Russian Doll Envelopes\n",
    "# Input: envelopes = [[5,4],[6,4],[6,7],[2,3]]\n",
    "# Output: 3\n",
    "\n",
    "def russianDollEnv(envelopes):\n",
    "    envelopes.sort(key=lambda x : (x[0], -x[1]))\n",
    "    res = [envelopes[0][1]]\n",
    "    for i in range(1, len(envelopes)):\n",
    "        if envelopes[i][1] > res[-1]:\n",
    "            res.append(envelopes[i][1])\n",
    "        else:\n",
    "            idx = binary(res, envelopes[i][1])\n",
    "            res[idx] = envelopes[i][1]\n",
    "    return len(res)\n",
    "\n",
    "def binary(nums, target):\n",
    "    left = 0\n",
    "    right = len(nums) - 1\n",
    "    while left <= right:\n",
    "        mid = left + (right-left)//2\n",
    "        if nums[mid] == target:\n",
    "            return mid\n",
    "        if nums[mid] < target:\n",
    "            left = mid + 1\n",
    "        else:\n",
    "            right = mid - 1\n",
    "    return left\n",
    "            \n",
    "envelopes = [[1,1],[1,1],[1,1]]\n",
    "russianDollEnv(envelopes)\n",
    "\n",
    "##Time complexity O(NlogN) space complexity O(n)"
   ]
  },
  {
   "cell_type": "code",
   "execution_count": 21,
   "id": "psychological-peace",
   "metadata": {},
   "outputs": [
    {
     "data": {
      "text/plain": [
       "[[2, 3], [5, 4], [6, 7], [6, 4]]"
      ]
     },
     "execution_count": 21,
     "metadata": {},
     "output_type": "execute_result"
    }
   ],
   "source": [
    "nums = [[5,4],[6,4],[6,7],[2,3]]\n",
    "nums.sort(key=lambda x:(x[0], -x[1]))\n",
    "nums"
   ]
  },
  {
   "cell_type": "code",
   "execution_count": 5,
   "id": "consistent-instruction",
   "metadata": {},
   "outputs": [
    {
     "data": {
      "text/plain": [
       "True"
      ]
     },
     "execution_count": 5,
     "metadata": {},
     "output_type": "execute_result"
    }
   ],
   "source": [
    "##367. Valid Perfect Square\n",
    "\n",
    "def validPerfectSquare(num):\n",
    "    left = 0\n",
    "    right = num\n",
    "    while left <= right:\n",
    "        mid = (left+right)//2 #left + (right-left)//2\n",
    "        if mid*mid == num:\n",
    "            return True\n",
    "        if mid*mid > num:\n",
    "            right = mid - 1\n",
    "        else:\n",
    "            left = mid + 1\n",
    "    return False\n",
    "\n",
    "validPerfectSquare(16)"
   ]
  },
  {
   "cell_type": "code",
   "execution_count": 11,
   "id": "threaded-congress",
   "metadata": {},
   "outputs": [
    {
     "data": {
      "text/plain": [
       "15"
      ]
     },
     "execution_count": 11,
     "metadata": {},
     "output_type": "execute_result"
    }
   ],
   "source": [
    "##69. Sqrt(x)\n",
    "\n",
    "def squareRoot(num):\n",
    "    left = 0\n",
    "    right = num\n",
    "    while left <= right:\n",
    "        mid = left + (right-left)//2\n",
    "        if mid*mid == num:\n",
    "            return mid\n",
    "        if mid*mid > num:\n",
    "            right = mid - 1\n",
    "        else:\n",
    "            left = mid + 1\n",
    "    return left\n",
    "\n",
    "squareRoot(225)"
   ]
  },
  {
   "cell_type": "code",
   "execution_count": 2,
   "id": "special-veteran",
   "metadata": {},
   "outputs": [
    {
     "data": {
      "text/plain": [
       "3"
      ]
     },
     "execution_count": 2,
     "metadata": {},
     "output_type": "execute_result"
    }
   ],
   "source": [
    "##668. Kth Smallest Number in Multiplication Table\n",
    "\n",
    "def findKthNumber(m, n, k):\n",
    "    left = 1\n",
    "    right = m*n\n",
    "    while left <= right:\n",
    "        mid = left + (right-left)//2\n",
    "        count = helper(m, n, mid)\n",
    "        if count >= k:\n",
    "            right = mid - 1\n",
    "        else:\n",
    "            left = mid + 1\n",
    "    return left\n",
    "\n",
    "def helper(m, n, mid):\n",
    "    count = 0\n",
    "    for i in range(1, m+1):\n",
    "        count += min(mid//i, n)\n",
    "    return count\n",
    "\n",
    "findKthNumber(3, 3, 5)"
   ]
  },
  {
   "cell_type": "code",
   "execution_count": null,
   "id": "public-register",
   "metadata": {},
   "outputs": [],
   "source": []
  }
 ],
 "metadata": {
  "kernelspec": {
   "display_name": "Python 3",
   "language": "python",
   "name": "python3"
  },
  "language_info": {
   "codemirror_mode": {
    "name": "ipython",
    "version": 3
   },
   "file_extension": ".py",
   "mimetype": "text/x-python",
   "name": "python",
   "nbconvert_exporter": "python",
   "pygments_lexer": "ipython3",
   "version": "3.7.4"
  }
 },
 "nbformat": 4,
 "nbformat_minor": 5
}
