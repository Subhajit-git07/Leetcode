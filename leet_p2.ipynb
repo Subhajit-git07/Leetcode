{
 "cells": [
  {
   "cell_type": "code",
   "execution_count": 3,
   "id": "vanilla-drink",
   "metadata": {},
   "outputs": [
    {
     "data": {
      "text/plain": [
       "[1, 2]"
      ]
     },
     "execution_count": 3,
     "metadata": {},
     "output_type": "execute_result"
    }
   ],
   "source": [
    "# #1. Two Sum\n",
    "# Input: nums = [2,7,11,15], target = 9\n",
    "# Output: [0,1]\n",
    "# Output: Because nums[0] + nums[1] == 9, we return [0, 1].\n",
    "\n",
    "def twoSum(nums, target):\n",
    "    dict1 = {}\n",
    "    for i in range(len(nums)):\n",
    "        if target - nums[i] in dict1:\n",
    "            return [dict1[target-nums[i]], i]\n",
    "        else:\n",
    "            dict1[nums[i]] = i\n",
    "nums = [3,2,4]\n",
    "target = 6\n",
    "twoSum(nums, target)\n",
    "##Time O(n) and space O(n)"
   ]
  },
  {
   "cell_type": "code",
   "execution_count": 4,
   "id": "bearing-dutch",
   "metadata": {},
   "outputs": [],
   "source": [
    "##2. Add Two Numbers\n",
    "\n",
    "# Input: l1 = [2, 4, 3],\n",
    "##       l2 = [5, 6, 4]\n",
    "# Output: [7,0,8]\n",
    "# Explanation: 342 + 465 = 807.\n",
    "##Linked list\n",
    "def addTwoNums(l1, l2):\n",
    "    if l1 is None:\n",
    "        return l2\n",
    "    if l2 is None:\n",
    "        return l1\n",
    "    carry = 0\n",
    "    dummy = ListNode()\n",
    "    cur = dummy\n",
    "    while l1 or l2 or carry:\n",
    "        val1 = l1.val if l1 else 0\n",
    "        val2 = l2.val if l2 else 0\n",
    "        \n",
    "        val = val1 + val2 + carry\n",
    "        carry = val // 10\n",
    "        val = val%10\n",
    "        cur.next = ListNode(val)\n",
    "        \n",
    "        cur = cur.next\n",
    "        l1 = l1.next if l1 else None\n",
    "        l2 = l2.next if l2 else None\n",
    "        \n",
    "    return cur.next\n",
    "        \n",
    "    "
   ]
  },
  {
   "cell_type": "code",
   "execution_count": 12,
   "id": "interpreted-summer",
   "metadata": {},
   "outputs": [
    {
     "data": {
      "text/plain": [
       "'abc'"
      ]
     },
     "execution_count": 12,
     "metadata": {},
     "output_type": "execute_result"
    }
   ],
   "source": [
    "###3. Longest Substring Without Repeating Characters\n",
    "# Input: s = \"abcabcbb\"\n",
    "# Output: 3\n",
    "# Explanation: The answer is \"abc\", with the length of 3.\n",
    "\n",
    "def longestSubsStrWithoutRepeat(s):\n",
    "    left = 0\n",
    "    seen = {}\n",
    "    maxLen = 0\n",
    "    substr = \"\"\n",
    "    for i in range(len(s)):\n",
    "        if s[i] in seen:\n",
    "            left = seen[s[i]] + 1\n",
    "        seen[s[i]] = i\n",
    "        maxLen = max(maxLen, i-left+1)\n",
    "        if len(substr) < len(s[left:i+1]):\n",
    "            substr = s[left:i+1]\n",
    "    return substr \n",
    "\n",
    "s = \"abcabcbb\"\n",
    "longestSubsStrWithoutRepeat(s)"
   ]
  },
  {
   "cell_type": "code",
   "execution_count": 3,
   "id": "composite-eligibility",
   "metadata": {},
   "outputs": [
    {
     "data": {
      "text/plain": [
       "''"
      ]
     },
     "execution_count": 3,
     "metadata": {},
     "output_type": "execute_result"
    }
   ],
   "source": [
    "#14. Longest Common Prefix\n",
    "# Input: strs = [\"flower\",\"flow\",\"flight\"]\n",
    "# Output: \"fl\"\n",
    "\n",
    "def longestCommonPrefix(strs):\n",
    "    if len(strs) == 0:\n",
    "        return \"\"\n",
    "    res = \"\"\n",
    "    minLen = len(strs[0])\n",
    "    for i in range(1, len(strs)):\n",
    "        minLen = min(minLen, len(strs[i]))\n",
    "        \n",
    "    for i in range(minLen):\n",
    "        for j in range(1, len(strs)):\n",
    "            if strs[0][i] != strs[j][i]:\n",
    "                return res\n",
    "        res += strs[j][i]\n",
    "    \n",
    "strs = [\"dog\",\"racecar\",\"car\"]               \n",
    "longestCommonPrefix(strs)        \n",
    "\n",
    "#Time O(mn) space O(1)\n",
    "        \n"
   ]
  },
  {
   "cell_type": "code",
   "execution_count": 11,
   "id": "deadly-remove",
   "metadata": {},
   "outputs": [
    {
     "data": {
      "text/plain": [
       "[[-1, -1, 2], [-1, 0, 1]]"
      ]
     },
     "execution_count": 11,
     "metadata": {},
     "output_type": "execute_result"
    }
   ],
   "source": [
    "##15. 3Sum\n",
    "def threeSum(nums):\n",
    "    output = []\n",
    "    nums.sort()\n",
    "    for i in range(len(nums)):\n",
    "        if i > 0 and nums[i] == nums[i-1]:\n",
    "            continue\n",
    "        left = i + 1\n",
    "        right = len(nums) - 1\n",
    "        while left < right:\n",
    "            if nums[i] + nums[left] + nums[right] == 0:\n",
    "                output.append([nums[i],nums[left],nums[right]])\n",
    "                while left < right and nums[left] == nums[left+1]:\n",
    "                    left += 1\n",
    "                while left < right and nums[right] == nums[right-1]:\n",
    "                    right -= 1\n",
    "                left += 1\n",
    "                right -= 1\n",
    "            elif nums[i] + nums[left] + nums[right] < 0:\n",
    "                left += 1\n",
    "            else:\n",
    "                right -= 1\n",
    "    return output\n",
    "    \n",
    "nums = [-1,0,1,2,-1,-4]\n",
    "threeSum(nums)\n",
    "##Time O(n^2) and space O(n)"
   ]
  },
  {
   "cell_type": "code",
   "execution_count": 16,
   "id": "essential-citizenship",
   "metadata": {},
   "outputs": [
    {
     "data": {
      "text/plain": [
       "2"
      ]
     },
     "execution_count": 16,
     "metadata": {},
     "output_type": "execute_result"
    }
   ],
   "source": [
    "##16. 3Sum Closest\n",
    "# Input: nums = [-1,2,1,-4], target = 1\n",
    "# Output: 2\n",
    "# Explanation: The sum that is closest to the target is 2. (-1 + 2 + 1 = 2).\n",
    "\n",
    "def threeSumClosest(nums, target):\n",
    "    nums.sort()\n",
    "    diff = float('inf')\n",
    "    for i in range(len(nums)):\n",
    "        left = i + 1\n",
    "        right = len(nums) - 1\n",
    "        while left < right:\n",
    "            total = nums[i] + nums[left] + nums[right]\n",
    "            if abs(total-target) < abs(diff):\n",
    "                diff = target - total\n",
    "            elif total < target:\n",
    "                left += 1\n",
    "            else:\n",
    "                right -= 1\n",
    "                \n",
    "    return target - diff\n",
    "    \n",
    "nums = [-1,2,1,-4]\n",
    "target = 1    \n",
    "threeSumClosest(nums, target)\n",
    "##Time complexity O(n^2) and space complexity O(n)"
   ]
  },
  {
   "cell_type": "code",
   "execution_count": 1,
   "id": "prompt-bidder",
   "metadata": {},
   "outputs": [],
   "source": [
    "##Evaluation of expression tree\n",
    "class TreeNode:\n",
    "    def __init__(self, val):\n",
    "        self.val = val\n",
    "        self.left = None\n",
    "        self.right = None\n",
    "        \n",
    "        \n",
    "def evalTree(root):\n",
    "    if root is None:\n",
    "        return 0\n",
    "    if root.left is None and root.right is None:\n",
    "        return int(root.val)\n",
    "    leftSum = evalTree(root.left)\n",
    "    rightSum = evalTree(root.right)\n",
    "    \n",
    "    if root.val == \"+\":\n",
    "        return leftSum + rightSum\n",
    "    if root.val == \"-\":\n",
    "        return leftSum - rightSum\n",
    "    if root.val == \"*\":\n",
    "        return leftSum*rightSum\n",
    "    else:\n",
    "        return leftSum / rightSum"
   ]
  },
  {
   "cell_type": "code",
   "execution_count": 5,
   "id": "colonial-complaint",
   "metadata": {},
   "outputs": [
    {
     "data": {
      "text/plain": [
       "2"
      ]
     },
     "execution_count": 5,
     "metadata": {},
     "output_type": "execute_result"
    }
   ],
   "source": [
    "def fibonaci(n):\n",
    "    ##base\n",
    "    if n == 0:\n",
    "        return 0\n",
    "    if n == 1:\n",
    "        return 1\n",
    "    table = [0]*(n+1)\n",
    "    table[0] = 0\n",
    "    table[1] = 1\n",
    "    table[2] = 1\n",
    "    \n",
    "    for i in range(3,n+1):\n",
    "        table[i] = table[i-1] + table[i-2]\n",
    "    return table[n]\n",
    "\n",
    "fibonaci(3)\n",
    "        "
   ]
  },
  {
   "cell_type": "code",
   "execution_count": 7,
   "id": "original-routine",
   "metadata": {},
   "outputs": [
    {
     "data": {
      "text/plain": [
       "6"
      ]
     },
     "execution_count": 7,
     "metadata": {},
     "output_type": "execute_result"
    }
   ],
   "source": [
    "##746. Min Cost Climbing Stairs\n",
    "# Input: cost = [1,100,1,1,1,100,1,1,100,1]\n",
    "# Output: 6\n",
    "# Explanation: Cheapest is: start on cost[0], and only step on 1s, skipping cost[3].\n",
    "\n",
    "def minCostClimbing(cost):\n",
    "    if len(cost) == 1:\n",
    "        return cost[0]\n",
    "    if len(cost) == 2:\n",
    "        return min(cost[0], cost[1])\n",
    "    table = [0]*len(cost)\n",
    "    table[0] = cost[0]\n",
    "    table[1] = cost[1]\n",
    "    for i in range(2, len(table)):\n",
    "        table[i] = min(cost[i]+table[i-1], cost[i]+table[i-2])\n",
    "    return table[-1]\n",
    "cost = [1,100,1,1,1,100,1,1,100,1]\n",
    "minCostClimbing(cost)"
   ]
  },
  {
   "cell_type": "code",
   "execution_count": 10,
   "id": "republican-longitude",
   "metadata": {},
   "outputs": [
    {
     "name": "stdout",
     "output_type": "stream",
     "text": [
      "[0, 1, 1, 2, 4]\n"
     ]
    },
    {
     "data": {
      "text/plain": [
       "4"
      ]
     },
     "execution_count": 10,
     "metadata": {},
     "output_type": "execute_result"
    }
   ],
   "source": [
    "##1137. N-th Tribonacci Number\n",
    "def tribonaci(n):\n",
    "    if n == 0:\n",
    "        return 0\n",
    "    if n < 3:\n",
    "        return 1\n",
    "    table = [0]*(n+1)\n",
    "    table[0] = 0\n",
    "    table[1] = 1\n",
    "    table[2] = 1\n",
    "    \n",
    "    for i in range(3, n+1):\n",
    "        table[i] = table[i-1] + table[i-2] + table[i-3]\n",
    "    print(table)\n",
    "    return table[n]\n",
    "\n",
    "tribonaci(4)"
   ]
  },
  {
   "cell_type": "code",
   "execution_count": 11,
   "id": "embedded-testing",
   "metadata": {},
   "outputs": [],
   "source": [
    "##513. Find Bottom Left Tree Value\n",
    "def bottomLeftTreeValue(root):\n",
    "    if root is None:\n",
    "        return None\n",
    "    stack = [root]\n",
    "    res = [[root]]\n",
    "    \n",
    "    while len(stack) != 0:\n",
    "        tempLevel = []\n",
    "        for cur in stack:\n",
    "            if cur.left:\n",
    "                tempLevel.append(cur.left)\n",
    "            if cur.right:\n",
    "                tempLevel.append(cur.right)\n",
    "        if len(tempLevel) != 0:\n",
    "            res.append(tempLevel)\n",
    "        stack = tempLevel\n",
    "    return res[-1][0].val\n",
    "                "
   ]
  },
  {
   "cell_type": "code",
   "execution_count": 17,
   "id": "effective-pathology",
   "metadata": {},
   "outputs": [
    {
     "data": {
      "text/plain": [
       "False"
      ]
     },
     "execution_count": 17,
     "metadata": {},
     "output_type": "execute_result"
    }
   ],
   "source": [
    "##523. Continuous Subarray Sum\n",
    "# Input: nums = [23,2,4,6,7], k = 6\n",
    "# Output: true\n",
    "# Explanation: [2, 4] is a continuous subarray of size 2 whose elements sum up to 6.\n",
    "def subArraySum(nums, k):\n",
    "    dict1 = {0:-1}\n",
    "    Sum = 0\n",
    "    \n",
    "    for i in range(len(nums)):\n",
    "        Sum += nums[i]\n",
    "        Sum = Sum%k\n",
    "        if Sum in dict1:\n",
    "            if i-dict1[Sum] >= 2:\n",
    "                return nums[dict1[Sum]+1:i+1]\n",
    "        dict1[Sum] = i\n",
    "    return False\n",
    "\n",
    "nums = [23,2,6,4,7]\n",
    "k = 13\n",
    "subArraySum(nums, k)"
   ]
  },
  {
   "cell_type": "code",
   "execution_count": 18,
   "id": "homeless-plasma",
   "metadata": {},
   "outputs": [],
   "source": [
    "##530. Minimum Absolute Difference in BST\n",
    "def minAbsDiff(root):\n",
    "    if root is None:\n",
    "        return 0\n",
    "    stack = []\n",
    "    prev = None\n",
    "    minDiff = float('inf')\n",
    "    while stack or root:\n",
    "        while root:\n",
    "            stack.append(root)\n",
    "            root = root.left\n",
    "            \n",
    "        root = stack.pop()\n",
    "        if prev:\n",
    "            minDiff = min(minDiff, abs(prev.val-root.val))\n",
    "        prev = root\n",
    "        root = root.right\n",
    "    return minDiff\n",
    "\n",
    "##Time complexity O(n)"
   ]
  },
  {
   "cell_type": "code",
   "execution_count": 6,
   "id": "ecological-active",
   "metadata": {},
   "outputs": [],
   "source": [
    "##Maximum depth of n-array tree\n",
    "class Node:\n",
    "    def __init__(self, val):\n",
    "        self.val = val\n",
    "        self.children = None\n",
    "        \n",
    "def nArrayTree(root):\n",
    "    if root is None:\n",
    "        return 0\n",
    "    maxDepth = 1\n",
    "    stack = [(root, 1)]\n",
    "    \n",
    "    while len(stack) != 0:\n",
    "        cur, depth = stack.pop()\n",
    "        if cur.children:\n",
    "            for child in cur.children:\n",
    "                stack.append((child, depth+1))\n",
    "        else:\n",
    "            maxDepth = max(maxDepth, depth)\n",
    "    return maxDepth\n",
    "        \n",
    "##Time complexity O(n) and space complexity O(n)"
   ]
  },
  {
   "cell_type": "code",
   "execution_count": 6,
   "id": "domestic-community",
   "metadata": {},
   "outputs": [
    {
     "data": {
      "text/plain": [
       "0"
      ]
     },
     "execution_count": 6,
     "metadata": {},
     "output_type": "execute_result"
    }
   ],
   "source": [
    "##581. Shortest Unsorted Continuous Subarray\n",
    "\n",
    "# Input: nums = [2,6,4,8,10,9,15]\n",
    "# Output: 5\n",
    "# Explanation: You need to sort [6, 4, 8, 10, 9] in ascending order to make the whole array sorted in \n",
    "# ascending order.\n",
    "\n",
    "def sortedUnSorted(nums):\n",
    "    minVal = float('inf')\n",
    "    maxVal = float('-inf')\n",
    "    \n",
    "    for i in range(1, len(nums)):\n",
    "        if nums[i] < nums[i-1]:\n",
    "            minVal = min(minVal, nums[i])\n",
    "            \n",
    "    for j in range(len(nums)-2, -1, -1):\n",
    "        if nums[j] > nums[j+1]:\n",
    "            maxVal = max(maxVal, nums[j])\n",
    "            \n",
    "    if minVal == float('inf') and maxVal == float('-inf'):\n",
    "        return 0\n",
    "    for i in range(len(nums)):\n",
    "        if nums[i] > minVal:\n",
    "            left = i\n",
    "            break\n",
    "    for j in range(len(nums)-1, -1, -1):\n",
    "        if nums[j] < maxVal:\n",
    "            right = j\n",
    "            break\n",
    "    return right - left + 1\n",
    "\n",
    "nums = [1]\n",
    "sortedUnSorted(nums)"
   ]
  },
  {
   "cell_type": "code",
   "execution_count": 10,
   "id": "broken-opposition",
   "metadata": {},
   "outputs": [
    {
     "data": {
      "text/plain": [
       "4"
      ]
     },
     "execution_count": 10,
     "metadata": {},
     "output_type": "execute_result"
    }
   ],
   "source": [
    "##583. Delete Operation for Two Strings\n",
    "# Input: word1 = \"sea\", word2 = \"eat\"\n",
    "# Output: 2\n",
    "# Explanation: You need one step to make \"sea\" to \"ea\" and another step to make \"eat\" to \"ea\".\n",
    "\n",
    "#    0  s e a\n",
    "#    0  1 2 3\n",
    "#  e 1  2 1 2\n",
    "#  a 2  3 2 1\n",
    "#  t 3  4 3 2\n",
    "\n",
    "def minDistance(word1, word2):\n",
    "    table = [[0 for col in range(len(word2)+1)] for row in range(len(word1)+1)]\n",
    "    \n",
    "    for i in range(len(word1)+1):\n",
    "        for j in range(len(word2)+1):\n",
    "            if i == 0:\n",
    "                table[0][j] = j\n",
    "            elif j == 0:\n",
    "                table[i][0] = i\n",
    "            elif word1[i-1] == word2[j-1]:\n",
    "                table[i][j] = table[i-1][j-1]\n",
    "            else:\n",
    "                table[i][j] = 1 + min(table[i-1][j], table[i][j-1])\n",
    "    return table[len(word1)][len(word2)]\n",
    "\n",
    "word1 = \"leetcode\"\n",
    "word2 = \"etco\"\n",
    "minDistance(word1, word2)\n"
   ]
  },
  {
   "cell_type": "code",
   "execution_count": 12,
   "id": "american-trick",
   "metadata": {},
   "outputs": [
    {
     "data": {
      "text/plain": [
       "3"
      ]
     },
     "execution_count": 12,
     "metadata": {},
     "output_type": "execute_result"
    }
   ],
   "source": [
    "##72. Edit Distance\n",
    "# Input: word1 = \"horse\", word2 = \"ros\"\n",
    "# Output: 3\n",
    "# Explanation: \n",
    "# horse -> rorse (replace 'h' with 'r')\n",
    "# rorse -> rose (remove 'r')\n",
    "# rose -> ros (remove 'e')\n",
    "\n",
    "def editDistance(word1, word2):\n",
    "    table = [[0 for col in range(len(word2)+1)] for row in range(len(word1)+1)]\n",
    "    \n",
    "    for i in range(len(word1)+1):\n",
    "        for j in range(len(word2)+1):\n",
    "            if i == 0:\n",
    "                table[0][j] = j\n",
    "            elif j == 0:\n",
    "                table[i][0] = i\n",
    "            elif word1[i-1] == word2[j-1]:\n",
    "                table[i][j] = table[i-1][j-1]\n",
    "            else:\n",
    "                table[i][j] = 1 + min(table[i-1][j], table[i][j-1], table[i-1][j-1])\n",
    "    return table[len(word1)][len(word2)]\n",
    "\n",
    "word1 = \"horse\"\n",
    "word2 = \"ros\"\n",
    "editDistance(word1, word2)"
   ]
  },
  {
   "cell_type": "code",
   "execution_count": 17,
   "id": "higher-phase",
   "metadata": {},
   "outputs": [
    {
     "name": "stdout",
     "output_type": "stream",
     "text": [
      "[['t', 'e', 'a', 't'], ['s', 'se', 'sa', 'st'], ['e', 's', 'as', 'est'], ['a', 'as', 's', 'ts']]\n"
     ]
    },
    {
     "data": {
      "text/plain": [
       "'ts'"
      ]
     },
     "execution_count": 17,
     "metadata": {},
     "output_type": "execute_result"
    }
   ],
   "source": [
    "##712. Minimum ASCII Delete Sum for Two Strings\n",
    "# Input: s1 = \"sea\", s2 = \"eat\"\n",
    "# Output: 231\n",
    "# Explanation: Deleting \"s\" from \"sea\" adds the ASCII value of \"s\" (115) to the sum.\n",
    "# Deleting \"t\" from \"eat\" adds 116 to the sum.\n",
    "# At the end, both strings are equal, and 115 + 116 = 231 is the minimum sum possible to achieve this.\n",
    "def minASCIIDelSum(s1, s2):\n",
    "    table = [[\"\" for col in range(len(s2)+1)] for row in range(len(s1)+1)]\n",
    "    \n",
    "    for i in range(len(s1)+1):\n",
    "        for j in range(len(s2)+1):\n",
    "            if i == 0:\n",
    "                table[0][j] = table[0][j] + s2[j-1]\n",
    "            elif j == 0:\n",
    "                table[i][0] = table[i][0] + s1[i-1]\n",
    "            elif s1[i-1] == s2[j-1]:\n",
    "                table[i][j] = table[i-1][j-1]\n",
    "            else:\n",
    "                if len(s1[i-1]+table[i-1][j]) > len(s2[j-1]+table[i][j-1]):\n",
    "                    s = s2[j-1]+table[i][j-1]\n",
    "                else:\n",
    "                    s = s1[i-1]+table[i-1][j]\n",
    "                table[i][j] = s\n",
    "    print(table)\n",
    "    return table[len(s1)][len(s2)]\n",
    "   \n",
    "s1 = \"sea\"\n",
    "s2 = \"eat\"\n",
    "minASCIIDelSum(s1, s2)"
   ]
  },
  {
   "cell_type": "code",
   "execution_count": 22,
   "id": "central-apollo",
   "metadata": {},
   "outputs": [
    {
     "data": {
      "text/plain": [
       "'a'"
      ]
     },
     "execution_count": 22,
     "metadata": {},
     "output_type": "execute_result"
    }
   ],
   "source": [
    "##5. Longest Palindromic Substring\n",
    "# Input: s = \"babad\"\n",
    "# Output: \"bab\"\n",
    "# Note: \"aba\" is also a valid answer.\n",
    "\n",
    "def longestPalindromicSubStr(s):\n",
    "    res = \"\"\n",
    "    for i in range(len(s)):\n",
    "        oddStr = helper(s, i, i)\n",
    "        if len(oddStr) > len(res):\n",
    "            res = oddStr\n",
    "        evenStr = helper(s, i, i+1)\n",
    "        if len(evenStr) > len(res):\n",
    "            res = evenStr\n",
    "    return res\n",
    "    \n",
    "def helper(s, left, right):\n",
    "    while left >= 0 and right < len(s) and s[left] == s[right]:\n",
    "        left -= 1\n",
    "        right += 1\n",
    "    return s[left+1:right]\n",
    "\n",
    "s = \"ac\"\n",
    "longestPalindromicSubStr(s)\n",
    "##Time complexity O(n^2) and space complexity O(1)"
   ]
  },
  {
   "cell_type": "code",
   "execution_count": 24,
   "id": "accepting-updating",
   "metadata": {},
   "outputs": [
    {
     "data": {
      "text/plain": [
       "49"
      ]
     },
     "execution_count": 24,
     "metadata": {},
     "output_type": "execute_result"
    }
   ],
   "source": [
    "##11. Container With Most Water\n",
    "# Input: height = [1,8,6,2,5,4,8,3,7]\n",
    "# Output: 49\n",
    "# Explanation: The above vertical lines are represented by array [1,8,6,2,5,4,8,3,7]. In this case, \n",
    "# the max area of water (blue section) the container can contain is 49.\n",
    "\n",
    "def containerWithMostWater(height):\n",
    "    left = 0\n",
    "    right = len(height) -1 \n",
    "    maxArea = 0\n",
    "    while left < right:\n",
    "        maxArea = max(maxArea, (right-left)*min(height[left], height[right]))\n",
    "        if height[left] <= height[right]:\n",
    "            left += 1\n",
    "        else:\n",
    "            right -= 1\n",
    "            \n",
    "    return maxArea\n",
    "height = [1,8,6,2,5,4,8,3,7]\n",
    "containerWithMostWater(height)"
   ]
  },
  {
   "cell_type": "code",
   "execution_count": 27,
   "id": "renewable-apollo",
   "metadata": {},
   "outputs": [
    {
     "data": {
      "text/plain": [
       "[[-1, -1, 2], [-1, 0, 1]]"
      ]
     },
     "execution_count": 27,
     "metadata": {},
     "output_type": "execute_result"
    }
   ],
   "source": [
    "##15. 3Sum\n",
    "# Input: nums = [-1,0,1,2,-1,-4]\n",
    "# Output: [[-1,-1,2],[-1,0,1]]\n",
    "\n",
    "def threeSum(nums):\n",
    "    nums.sort()\n",
    "    res = []\n",
    "    for i in range(len(nums)):\n",
    "        if i>0 and nums[i] == nums[i-1]:\n",
    "            continue\n",
    "        right = len(nums) - 1\n",
    "        left = i + 1\n",
    "        while left < right:\n",
    "            total = nums[i] + nums[left] + nums[right]\n",
    "            if total == 0:\n",
    "                res.append([nums[i], nums[left], nums[right]])\n",
    "                while left < right and nums[left] == nums[left+1]:\n",
    "                    left += 1\n",
    "                while left < right and nums[right] == nums[right-1]:\n",
    "                    right -= 1\n",
    "                left += 1\n",
    "                right -= 1\n",
    "            elif total < 0:\n",
    "                left += 1\n",
    "            else:\n",
    "                right -= 1\n",
    "    return res\n",
    "##Time O(n^2)\n",
    "nums = [-1,0,1,2,-1,-4]\n",
    "threeSum(nums)"
   ]
  },
  {
   "cell_type": "code",
   "execution_count": 28,
   "id": "authentic-warner",
   "metadata": {},
   "outputs": [],
   "source": [
    "##16. 3Sum Closest\n",
    "# Input: nums = [-1,2,1,-4], target = 1\n",
    "# Output: 2\n",
    "# Explanation: The sum that is closest to the target is 2. (-1 + 2 + 1 = 2).\n",
    "\n",
    "def threeSumClosest(nums, target):\n",
    "    nums.sort()\n",
    "    diff = float('inf')\n",
    "    \n",
    "    for i in range(len(nums)):\n",
    "        left = i + 1\n",
    "        right = len(nums) - 1\n",
    "        while left < right:\n",
    "            total = nums[i] + nums[left] + nums[right]\n",
    "            if abs(total-target) < abs(diff):\n",
    "                diff = total - target\n",
    "            if total < target:\n",
    "                left += 1\n",
    "            else:\n",
    "                right -= 1\n",
    "    return target - diff"
   ]
  },
  {
   "cell_type": "code",
   "execution_count": 29,
   "id": "underlying-fancy",
   "metadata": {},
   "outputs": [],
   "source": [
    "##21. Merge Two Sorted Lists\n",
    "# Input: l1 = [1,2,4], l2 = [1,3,4]\n",
    "# Output: [1,1,2,3,4,4]\n",
    "\n",
    "class ListNode:\n",
    "    def __init__(self, val):\n",
    "        self.val = val\n",
    "        self.next = None\n",
    "        \n",
    "def Merge(l1, l2):\n",
    "    cur = ListNode()\n",
    "    head = cur\n",
    "    \n",
    "    while l1 and l2:\n",
    "        if l1.val < l2.val:\n",
    "            cur.next = l1.val\n",
    "            l1 = l1.next\n",
    "        else:\n",
    "            cur.next = l2.val\n",
    "            l2 = l2.next\n",
    "        cur = cur.next\n",
    "        \n",
    "    while l1:\n",
    "        cur.next = l1.val\n",
    "        l1 = l1.next\n",
    "        cur = cur.next\n",
    "    while l2:\n",
    "        cur.next = l2.val\n",
    "        l2 = l2.next\n",
    "        cur = cur.next\n",
    "        \n",
    "    return head.next"
   ]
  },
  {
   "cell_type": "code",
   "execution_count": 33,
   "id": "blind-screw",
   "metadata": {},
   "outputs": [],
   "source": [
    "##23. Merge k Sorted Lists\n",
    "def mergeKSortedList(lists):\n",
    "    if len(lists) == 0:\n",
    "        return None\n",
    "    amount = len(lists)\n",
    "    interval = 1\n",
    "    while interval < amount:\n",
    "        for i in range(0, amount-interval, interval*2):\n",
    "            lists[i] = merge(lists[i], lists[i+interval])\n",
    "        interval *= 2\n",
    "    return lists[0] if amount>0 else None\n",
    "\n",
    "def Merge(l1, l2):\n",
    "    cur = ListNode()\n",
    "    head = cur\n",
    "    \n",
    "    while l1 and l2:\n",
    "        if l1.val < l2.val:\n",
    "            cur.next = l1.val\n",
    "            l1 = l1.next\n",
    "        else:\n",
    "            cur.next = l2.val\n",
    "            l2 = l2.next\n",
    "        cur = cur.next\n",
    "        \n",
    "    while l1:\n",
    "        cur.next = l1.val\n",
    "        l1 = l1.next\n",
    "        cur = cur.next\n",
    "    while l2:\n",
    "        cur.next = l2.val\n",
    "        l2 = l2.next\n",
    "        cur = cur.next\n",
    "        \n",
    "    return head.next"
   ]
  },
  {
   "cell_type": "code",
   "execution_count": 2,
   "id": "victorian-conditioning",
   "metadata": {},
   "outputs": [],
   "source": [
    "for i in range(5,5):\n",
    "    print(i)"
   ]
  },
  {
   "cell_type": "code",
   "execution_count": 7,
   "id": "african-coupon",
   "metadata": {},
   "outputs": [
    {
     "data": {
      "text/plain": [
       "['KFC']"
      ]
     },
     "execution_count": 7,
     "metadata": {},
     "output_type": "execute_result"
    }
   ],
   "source": [
    "##599. Minimum Index Sum of Two Lists\n",
    "# Input: list1 = [\"Shogun\",\"Tapioca Express\",\"Burger King\",\"KFC\"], list2 = [\"Piatti\",\"The Grill at \n",
    "# Torrey Pines\",\"Hungry Hunter Steakhouse\",\"Shogun\"]\n",
    "# Output: [\"Shogun\"]\n",
    "# Explanation: The only restaurant they both like is \"Shogun\".\n",
    "\n",
    "def minIndexSum(list1, list2):\n",
    "    dict1 = {}\n",
    "    for i in range(len(list1)):\n",
    "        dict1[list1[i]] = i\n",
    "            \n",
    "    res = []\n",
    "    minSum = float('inf')\n",
    "    for i in range(len(list2)):\n",
    "        if list2[i] in dict1:\n",
    "            Sum = i + dict1[list2[i]]\n",
    "            if Sum < minSum:\n",
    "                minSum = Sum\n",
    "                res = []\n",
    "                res.append(list2[i])\n",
    "            elif Sum == minSum:\n",
    "                res.append(list2[i])\n",
    "    return res\n",
    "\n",
    "list1 = [\"KFC\"]\n",
    "list2 = [\"KFC\"]\n",
    "minIndexSum(list1, list2)\n",
    "        "
   ]
  },
  {
   "cell_type": "code",
   "execution_count": 8,
   "id": "wicked-balloon",
   "metadata": {},
   "outputs": [],
   "source": [
    "##617. Merge Two Binary Trees\n",
    "def mergeTree(t1, t2):\n",
    "    if t1 is None:\n",
    "        return t2\n",
    "    if t2 is None:\n",
    "        return t1\n",
    "    t1.val += t2.val\n",
    "    t1.left = mergeTree(t1.left, t2.left)\n",
    "    t1.right = mergeTree(t1.right, t2.right)\n",
    "    return t1"
   ]
  },
  {
   "cell_type": "code",
   "execution_count": 12,
   "id": "italian-block",
   "metadata": {},
   "outputs": [
    {
     "data": {
      "text/plain": [
       "16"
      ]
     },
     "execution_count": 12,
     "metadata": {},
     "output_type": "execute_result"
    }
   ],
   "source": [
    "##621. Task Scheduler\n",
    "# Input: tasks = [\"A\",\"A\",\"A\",\"B\",\"B\",\"B\"], n = 2\n",
    "# Output: 8\n",
    "# Explanation: \n",
    "# A -> B -> idle -> A -> B -> idle -> A -> B\n",
    "# There is at least 2 units of time between any two same tasks.\n",
    "##\n",
    "def taskscheduler(tasks, n):\n",
    "    if n == 0:\n",
    "        return len(tasks)\n",
    "    dict1 = {}\n",
    "    for t in tasks:\n",
    "        if t in dict1:\n",
    "            dict1[t] += 1\n",
    "        else:\n",
    "            dict1[t] = 1\n",
    "    FreqList = [val for val in dict1.values()]\n",
    "    maxFreq = max(FreqList)\n",
    "    samFreq = FreqList.count(maxFreq)\n",
    "    return (maxFreq-1)*(n+1) + samFreq\n",
    "\n",
    "tasks = [\"A\",\"A\",\"A\",\"A\",\"A\",\"A\",\"B\",\"C\",\"D\",\"E\",\"F\",\"G\"]\n",
    "n = 2\n",
    "taskscheduler(tasks, n)"
   ]
  },
  {
   "cell_type": "code",
   "execution_count": 1,
   "id": "matched-meter",
   "metadata": {},
   "outputs": [],
   "source": [
    "##Merge two binary tree\n",
    "def mergeTree(t1, t2):\n",
    "    if t1 is None:\n",
    "        return t2\n",
    "    if t2 is None:\n",
    "        return t1\n",
    "    t1.val += t2.val\n",
    "    t1.left = mergeTree(t1.left, t2.left)\n",
    "    t2.right = mergeTree(t1.right, t2.right)\n",
    "    return t2"
   ]
  },
  {
   "cell_type": "code",
   "execution_count": 7,
   "id": "qualified-disposition",
   "metadata": {},
   "outputs": [
    {
     "data": {
      "text/plain": [
       "True"
      ]
     },
     "execution_count": 7,
     "metadata": {},
     "output_type": "execute_result"
    }
   ],
   "source": [
    "##633. Sum of Square Numbers\n",
    "def sumOfsquare(c):\n",
    "    if c == 0:\n",
    "        return True\n",
    "    a = 0\n",
    "    while a*a < c:\n",
    "        b = c - a*a\n",
    "        if perfectSquare(b):\n",
    "            return True\n",
    "        a += 1\n",
    "    return False\n",
    "    \n",
    "def perfectSquare(num):\n",
    "    left = 0\n",
    "    right = num\n",
    "    \n",
    "    while left <= right:\n",
    "        mid = left + (right-left)//2\n",
    "        if mid*mid == num:\n",
    "            return True\n",
    "        if mid*mid > num:\n",
    "            right = mid - 1\n",
    "        else:\n",
    "            left = mid + 1\n",
    "    return False\n",
    "c = 4\n",
    "sumOfsquare(c)"
   ]
  },
  {
   "cell_type": "code",
   "execution_count": 11,
   "id": "informative-raleigh",
   "metadata": {},
   "outputs": [
    {
     "data": {
      "text/plain": [
       "[1, 2]"
      ]
     },
     "execution_count": 11,
     "metadata": {},
     "output_type": "execute_result"
    }
   ],
   "source": [
    "##645. Set Mismatch\n",
    "# Input: nums = [1,2,2,4]\n",
    "# Output: [2,3]\n",
    "\n",
    "def setMismatch(nums):\n",
    "    numSet = set(nums)\n",
    "    originalSum = sum(nums)\n",
    "    setSum = sum(numSet)\n",
    "    duplicate = originalSum - setSum\n",
    "    numSum = 0\n",
    "    for i in range(1, len(nums)+1):\n",
    "        numSum += i\n",
    "    missing = numSum - setSum\n",
    "    return [duplicate, missing]\n",
    "\n",
    "nums = [1,1]\n",
    "setMismatch(nums)"
   ]
  },
  {
   "cell_type": "code",
   "execution_count": 16,
   "id": "prime-curtis",
   "metadata": {},
   "outputs": [
    {
     "data": {
      "text/plain": [
       "1"
      ]
     },
     "execution_count": 16,
     "metadata": {},
     "output_type": "execute_result"
    }
   ],
   "source": [
    "##287. Find the Duplicate Number\n",
    "##floyd's cycle detection\n",
    "\n",
    "def findDuplicate(nums):\n",
    "    tortoise = nums[0]\n",
    "    hare = nums[0]\n",
    "    \n",
    "    while True:\n",
    "        tortoise = nums[tortoise]\n",
    "        hare = nums[nums[hare]]\n",
    "        if tortoise == hare:\n",
    "            break\n",
    "    tortoise = nums[0]\n",
    "    while tortoise != hare:\n",
    "        tortoise = nums[tortoise]\n",
    "        hare = nums[hare]\n",
    "    return hare\n",
    "\n",
    "nums = [1,1,2]\n",
    "findDuplicate(nums)\n",
    "    "
   ]
  },
  {
   "cell_type": "code",
   "execution_count": 23,
   "id": "ancient-valley",
   "metadata": {},
   "outputs": [
    {
     "data": {
      "text/plain": [
       "3"
      ]
     },
     "execution_count": 23,
     "metadata": {},
     "output_type": "execute_result"
    }
   ],
   "source": [
    "##647. Palindromic Substrings\n",
    "# Input: s = \"aaa\"\n",
    "# Output: 6\n",
    "# Explanation: Six palindromic strings: \"a\", \"a\", \"a\", \"aa\", \"aa\", \"aaa\".\n",
    "\n",
    "def palindromicSubStr(s):\n",
    "    res = 0\n",
    "    for i in range(len(s)):\n",
    "        res += helper(i, i, s)\n",
    "        res += helper(i, i+1, s)\n",
    "    return res\n",
    "\n",
    "def helper(left, right, s):\n",
    "    count = 0\n",
    "    while left >= 0 and right < len(s) and s[left] == s[right]:\n",
    "        count += 1\n",
    "        left -= 1\n",
    "        right += 1\n",
    "    return count\n",
    "\n",
    "s = \"abc\"\n",
    "palindromicSubStr(s)"
   ]
  },
  {
   "cell_type": "code",
   "execution_count": 26,
   "id": "hydraulic-christian",
   "metadata": {},
   "outputs": [
    {
     "data": {
      "text/plain": [
       "'the cat was rat by the bat'"
      ]
     },
     "execution_count": 26,
     "metadata": {},
     "output_type": "execute_result"
    }
   ],
   "source": [
    "##648. Replace Words\n",
    "# Input: dictionary = [\"cat\",\"bat\",\"rat\"], sentence = \"the cattle was rattled by the battery\"\n",
    "# Output: \"the cat was rat by the bat\"\n",
    "\n",
    "def replaceWords(dict1, sentence):\n",
    "    dict1 = set(dict1)\n",
    "    res = []\n",
    "    sentence = sentence.split()\n",
    "    for i, word in enumerate(sentence):\n",
    "        temp = \"\"\n",
    "        for c in word:\n",
    "            temp += c\n",
    "            if temp in dict1:\n",
    "                sentence[i] = temp\n",
    "                break\n",
    "    return \" \".join(sentence)\n",
    "dict1 = [\"cat\",\"bat\",\"rat\"]\n",
    "sentence = \"the cattle was rattled by the battery\"\n",
    "replaceWords(dict1, sentence)"
   ]
  },
  {
   "cell_type": "code",
   "execution_count": 33,
   "id": "brief-possible",
   "metadata": {},
   "outputs": [
    {
     "name": "stdout",
     "output_type": "stream",
     "text": [
      "['the', 'cattle', 'was', 'rattled', 'by', 'the', 'battery']\n",
      "the\n",
      "cat\n",
      "was\n",
      "rat\n",
      "by\n",
      "the\n",
      "bat\n"
     ]
    },
    {
     "data": {
      "text/plain": [
       "'the cat was rat by the bat'"
      ]
     },
     "execution_count": 33,
     "metadata": {},
     "output_type": "execute_result"
    }
   ],
   "source": [
    "##648. Replace Words\n",
    "##Using trie data structure\n",
    "class Node:\n",
    "    def __init__(self):\n",
    "        self.children = {}\n",
    "        self.isEnd = False\n",
    "    \n",
    "class trie:\n",
    "    def __init__(self):\n",
    "        self.root = Node()\n",
    "        \n",
    "    def insert(self, word):\n",
    "        parent = self.root\n",
    "        for i, char in enumerate(word):\n",
    "            if char not in parent.children:\n",
    "                parent.children[char] = Node()\n",
    "            parent = parent.children[char]\n",
    "        parent.isEnd = True\n",
    "        \n",
    "    def findRoot(self, word):\n",
    "        parent = self.root\n",
    "        for i, char in enumerate(word):\n",
    "            if char not in parent.children:\n",
    "                return word\n",
    "            if parent.children[char].isEnd:\n",
    "                return word[:i+1]\n",
    "            parent = parent.children[char]\n",
    "        return word\n",
    "            \n",
    "def replaceWord(dict1, sentence):\n",
    "    t = trie()\n",
    "    for word in dict1:\n",
    "        t.insert(word)\n",
    "    sentence = sentence.split()\n",
    "    print(sentence)\n",
    "    for i,word in enumerate(sentence):\n",
    "        root = t.findRoot(word)\n",
    "        print(root)\n",
    "        sentence[i] = root\n",
    "    return \" \".join(sentence)\n",
    "\n",
    "\n",
    "dict1 = [\"cat\",\"bat\",\"rat\"]\n",
    "sentence = \"the cattle was rattled by the battery\"\n",
    "replaceWord(dict1, sentence)"
   ]
  },
  {
   "cell_type": "code",
   "execution_count": 2,
   "id": "automotive-large",
   "metadata": {},
   "outputs": [],
   "source": [
    "##653. Two Sum IV - Input is a BST\n",
    "\n",
    "def inorder(root):\n",
    "    res = []\n",
    "    if root is None:\n",
    "        return None\n",
    "    stack = []\n",
    "    while root or stack:\n",
    "        while root:\n",
    "            stack.append(root)\n",
    "            root = root.left\n",
    "        root = stack.pop()\n",
    "        res.append(root)\n",
    "        root = root.right\n",
    "  \n",
    "#nums = inorder(root)\n",
    "def binary(nums, target):\n",
    "    left = 0\n",
    "    right = len(nums) - 1\n",
    "    while left < right:\n",
    "        if nums[left] + nums[right] == target:\n",
    "            return True\n",
    "        if nums[left] + nums[right] < target:\n",
    "            left += 1\n",
    "        else:\n",
    "            right -= 1\n",
    "    return False"
   ]
  },
  {
   "cell_type": "code",
   "execution_count": 5,
   "id": "electric-final",
   "metadata": {},
   "outputs": [
    {
     "data": {
      "text/plain": [
       "['i', 'love']"
      ]
     },
     "execution_count": 5,
     "metadata": {},
     "output_type": "execute_result"
    }
   ],
   "source": [
    "##692. Top K Frequent Words\n",
    "# Input: words = [\"i\",\"love\",\"leetcode\",\"i\",\"love\",\"coding\"], k = 2\n",
    "# Output: [\"i\",\"love\"]\n",
    "# Explanation: \"i\" and \"love\" are the two most frequent words.\n",
    "# Note that \"i\" comes before \"love\" due to a lower alphabetical order.\n",
    "\n",
    "def topKFreqWord(words, k):\n",
    "    import heapq\n",
    "    if len(words) == 0 or k == 0:\n",
    "        return []\n",
    "    heap = []\n",
    "    res = []\n",
    "    wordDict = {}\n",
    "    for word in words:\n",
    "        if word in wordDict:\n",
    "            wordDict[word] += 1\n",
    "        else:\n",
    "            wordDict[word] = 1\n",
    "    for key, value in wordDict.items():\n",
    "        heapq.heappush(heap, (-1*value, key))\n",
    "    for i in range(k):\n",
    "        res.append(heapq.heappop(heap)[1])\n",
    "    return res\n",
    "    \n",
    "words = [\"i\",\"love\",\"leetcode\",\"i\",\"love\",\"coding\"]\n",
    "k = 2\n",
    "topKFreqWord(words, k)    "
   ]
  },
  {
   "cell_type": "code",
   "execution_count": 9,
   "id": "liked-enemy",
   "metadata": {},
   "outputs": [
    {
     "data": {
      "text/plain": [
       "8"
      ]
     },
     "execution_count": 9,
     "metadata": {},
     "output_type": "execute_result"
    }
   ],
   "source": [
    "##26. Remove Duplicates from Sorted Array\n",
    "\n",
    "def removeDuplicates(nums):\n",
    "    i = 0\n",
    "    for j in range(1, len(nums)):\n",
    "        if nums[i] != nums[j]:\n",
    "            i += 1\n",
    "            nums[i] = nums[j]\n",
    "    return i\n",
    "\n",
    "nums = [1,1,1,2,3,4,4,4,5,6,7,7,8,9]\n",
    "removeDuplicates(nums)"
   ]
  },
  {
   "cell_type": "code",
   "execution_count": 18,
   "id": "realistic-glance",
   "metadata": {},
   "outputs": [
    {
     "name": "stdout",
     "output_type": "stream",
     "text": [
      "()()\n"
     ]
    },
    {
     "data": {
      "text/plain": [
       "'()()'"
      ]
     },
     "execution_count": 18,
     "metadata": {},
     "output_type": "execute_result"
    }
   ],
   "source": [
    "##32. Longest Valid Parentheses\n",
    "# Input: s = \")()())\"\n",
    "# Output: 4\n",
    "# Explanation: The longest valid parentheses substring is \"()()\".\n",
    "\n",
    "def longestValidParen(s):\n",
    "    if len(s) == 0:\n",
    "        return 0\n",
    "    left = 0\n",
    "    right = 0\n",
    "    maxLen = 0\n",
    "    res = \"\"\n",
    "    start1 = 0\n",
    "    ##Left scan\n",
    "    for i in range(len(s)):\n",
    "        if s[i] == \"(\":\n",
    "            left += 1\n",
    "        else:\n",
    "            right += 1\n",
    "        if left == right:\n",
    "            maxLen = max(maxLen, left+right)\n",
    "            if len(res) < len(s[start1:i+1]):\n",
    "                res = s[start1:i+1]\n",
    "        elif right > left:\n",
    "            start1 = i+1\n",
    "            left = 0\n",
    "            right = 0\n",
    "    print(res)     \n",
    "    ##Right scan\n",
    "    left = 0\n",
    "    right = 0\n",
    "    start2 = len(s) -1\n",
    "    for i in range(len(s)-1, -1, -1):\n",
    "        if s[i] == \"(\":\n",
    "            left += 1\n",
    "        else:\n",
    "            right += 1\n",
    "        if left == right:\n",
    "            maxLen = max(maxLen, left + right)\n",
    "            if len(res) < len(s[i:start2+1]):\n",
    "                res = s[i:start2+1]\n",
    "        elif left > right:\n",
    "            start2 = i\n",
    "            left = 0\n",
    "            right = 0\n",
    "            \n",
    "    return res\n",
    "\n",
    "s = \")()())\"\n",
    "longestValidParen(s)"
   ]
  },
  {
   "cell_type": "code",
   "execution_count": 13,
   "id": "external-logan",
   "metadata": {},
   "outputs": [
    {
     "data": {
      "text/plain": [
       "0"
      ]
     },
     "execution_count": 13,
     "metadata": {},
     "output_type": "execute_result"
    }
   ],
   "source": [
    "s2 = \"abs\"\n",
    "sum(ord(c) for c in s2[:0])\n"
   ]
  },
  {
   "cell_type": "code",
   "execution_count": 17,
   "id": "inner-capitol",
   "metadata": {},
   "outputs": [
    {
     "data": {
      "text/plain": [
       "231"
      ]
     },
     "execution_count": 17,
     "metadata": {},
     "output_type": "execute_result"
    }
   ],
   "source": [
    "##712. Minimum ASCII Delete Sum for Two Strings\n",
    " \n",
    "#    \"\" e a t\n",
    "# \"\" 0  1 2 3\n",
    "# s  1  2 3 4\n",
    "# e  2  1 2 3\n",
    "# a  3  2 1 2\n",
    "\n",
    "# Input: s1 = \"sea\", s2 = \"eat\"\n",
    "# Output: 231\n",
    "# Explanation: Deleting \"s\" from \"sea\" adds the ASCII value of \"s\" (115) to the sum.\n",
    "# Deleting \"t\" from \"eat\" adds 116 to the sum.\n",
    "# At the end, both strings are equal, and 115 + 116 = 231 is the minimum sum possible to achieve this.\n",
    "\n",
    "def minASCII(s1, s2):\n",
    "    table = [[0 for col in range(len(s2)+1)] for row in range(len(s1)+1)]\n",
    "    \n",
    "    for i in range(len(s1)+1):\n",
    "        for j in range(len(s2)+1):\n",
    "            if i == 0:\n",
    "                table[0][j] = sum(ord(c) for c in s2[:j])\n",
    "            elif j == 0:\n",
    "                table[i][0] = sum(ord(c) for c in s1[:i])\n",
    "            else:\n",
    "                if s1[i-1] == s2[j-1]:\n",
    "                    table[i][j] = table[i-1][j-1]\n",
    "                else:\n",
    "                    table[i][j] = min(ord(s1[i-1])+table[i-1][j],  ord(s2[j-1])+table[i][j-1])\n",
    "    return table[len(s1)][len(s2)]\n",
    "    \n",
    "s1 = \"sea\"\n",
    "s2 = \"eat\"\n",
    "minASCII(s1, s2)"
   ]
  },
  {
   "cell_type": "code",
   "execution_count": 18,
   "id": "plastic-bronze",
   "metadata": {},
   "outputs": [
    {
     "data": {
      "text/plain": [
       "3"
      ]
     },
     "execution_count": 18,
     "metadata": {},
     "output_type": "execute_result"
    }
   ],
   "source": [
    "##724. Find Pivot Index\n",
    "# Input: nums = [1,7,3,6,5,6]\n",
    "# Output: 3\n",
    "# Explanation:\n",
    "# The pivot index is 3.\n",
    "# Left sum = nums[0] + nums[1] + nums[2] = 1 + 7 + 3 = 11\n",
    "# Right sum = nums[4] + nums[5] = 5 + 6 = 11\n",
    "\n",
    "##left + right  = sum(num) - nums[pivot]\n",
    "\n",
    "def pivotIndex(nums):\n",
    "    totalSum = sum(nums)\n",
    "    leftSum = 0\n",
    "    for i in range(len(nums)):\n",
    "        if leftSum == totalSum - nums[i] - leftSum:\n",
    "            return i\n",
    "        leftSum += nums[i]\n",
    "    return -1\n",
    "\n",
    "nums = [1,7,3,6,5,6]\n",
    "pivotIndex(nums)"
   ]
  },
  {
   "cell_type": "code",
   "execution_count": 1,
   "id": "higher-comfort",
   "metadata": {},
   "outputs": [],
   "source": [
    "#783. Minimum Distance Between BST Nodes\n",
    "\n",
    "def minDist(root):\n",
    "    if root is None:\n",
    "        return 0\n",
    "    stack = []\n",
    "    prev = None\n",
    "    minDis = float('inf')\n",
    "    while root or stack:\n",
    "        while root:\n",
    "            stack.append(root)\n",
    "            root = root.left\n",
    "        root = stack.pop()\n",
    "        if prev:\n",
    "            minDis = min(minDis, abs(prev.val - root.val))\n",
    "        prev = root\n",
    "        root = root.right\n",
    "    return minDis\n",
    "        "
   ]
  },
  {
   "cell_type": "code",
   "execution_count": 6,
   "id": "quick-language",
   "metadata": {},
   "outputs": [
    {
     "data": {
      "text/plain": [
       "True"
      ]
     },
     "execution_count": 6,
     "metadata": {},
     "output_type": "execute_result"
    }
   ],
   "source": [
    "##785. Is Graph Bipartite?\n",
    "def bipardite(graph):\n",
    "    ##0 --> no color\n",
    "    ##1 --> red\n",
    "    ## -1 --> green color\n",
    "    color = [0]*len(graph)\n",
    "    from collections import deque\n",
    "    for i in range(len(graph)):\n",
    "        if color[i] == 0:\n",
    "            queue = deque([])\n",
    "            queue.append(i)\n",
    "            color[i] = 1\n",
    "            while len(queue) != 0:\n",
    "                cur = queue.popleft()\n",
    "                for neighbour in graph[cur]:\n",
    "                    if color[neighbour] == color[cur]:\n",
    "                        return False\n",
    "                    elif color[neighbour] == 0:\n",
    "                        queue.append(neighbour)\n",
    "                        color[neighbour] = -color[cur]\n",
    "    return True\n",
    "\n",
    "graph = [[1,3],[0,2],[1,3],[0,2]]\n",
    "bipardite(graph)\n",
    "                    "
   ]
  },
  {
   "cell_type": "code",
   "execution_count": 27,
   "id": "occupational-houston",
   "metadata": {},
   "outputs": [
    {
     "data": {
      "text/plain": [
       "True"
      ]
     },
     "execution_count": 27,
     "metadata": {},
     "output_type": "execute_result"
    }
   ],
   "source": [
    "##794. Valid Tic-Tac-Toe State\n",
    "def validTicTac(grid):\n",
    "    xCount = 0\n",
    "    oCount = 0\n",
    "    for i in range(len(grid)):\n",
    "        for j in range(len(grid[0])):\n",
    "            if grid[i][j] == \"X\":\n",
    "                xCount += 1\n",
    "            elif grid[i][j] == \"O\":\n",
    "                oCount += 1\n",
    "    if oCount not in {xCount-1, xCount}:\n",
    "        return False\n",
    "    if win(grid, \"X\") and oCount + 1 != xCount:\n",
    "        return False\n",
    "    if win(grid, \"O\") and oCount != xCount:\n",
    "        return False\n",
    "    return True\n",
    "        \n",
    "                            \n",
    "def win(board, player):\n",
    "    for i in range(len(board)):\n",
    "        if board[i][0] == player and board[i][1] == player and board[i][2] == player:\n",
    "            return True\n",
    "    for j in range(len(board[0])):\n",
    "        if board[0][j] == player and board[1][j] == player and board[2][j] == player:\n",
    "            return True\n",
    "    return (player == board[0][0] == board[1][1] == board[2][2] or player == board[0][2] == board[1][1] == board[2][0])\n",
    "\n",
    "grid = [\"XOX\",\"O O\",\"XOX\"]\n",
    "validTicTac(grid)\n"
   ]
  },
  {
   "cell_type": "code",
   "execution_count": 31,
   "id": "assigned-priest",
   "metadata": {},
   "outputs": [
    {
     "data": {
      "text/plain": [
       "2"
      ]
     },
     "execution_count": 31,
     "metadata": {},
     "output_type": "execute_result"
    }
   ],
   "source": [
    "##854. K-Similar Strings\n",
    "# Input: s1 = \"abac\", s2 = \"baca\"\n",
    "# Output: 2\n",
    "def kSimilarStr(s1, s2):\n",
    "    hight = {}\n",
    "    hight[s1] = 0\n",
    "    from collections import deque\n",
    "    queue = deque([])\n",
    "    queue.append(s1)\n",
    "    \n",
    "    while queue:\n",
    "        cur = queue.popleft()\n",
    "        if cur == s2:\n",
    "            return hight[cur]\n",
    "        neighbourList = getNeighbour(cur, s2)\n",
    "        for nei in neighbourList:\n",
    "            if nei not in hight:\n",
    "                hight[nei] = hight[cur] + 1\n",
    "                queue.append(nei)\n",
    "    return -1\n",
    "    \n",
    "def getNeighbour(cur, s2):\n",
    "    res = []\n",
    "    i = 0\n",
    "    while cur[i] == s2[i]:\n",
    "        i += 1\n",
    "    curList = list(cur)\n",
    "    for j in range(i+1, len(cur)):\n",
    "        if cur[i] == s2[j]:\n",
    "            curList[i], curList[j] = curList[j], curList[i]\n",
    "            res.append(\"\".join(curList))\n",
    "            curList[i], curList[j] = curList[j], curList[i]\n",
    "    return res\n",
    "        \n",
    "s1 = \"aabc\"\n",
    "s2 = \"abca\"\n",
    "kSimilarStr(s1,s2)"
   ]
  },
  {
   "cell_type": "code",
   "execution_count": 32,
   "id": "developmental-mailman",
   "metadata": {},
   "outputs": [],
   "source": [
    "##865. Smallest Subtree with all the Deepest Nodes\n",
    "## Or lowest common Ancestor\n",
    "\n",
    "def lowestCommonAncestor(root):\n",
    "    if root is None:\n",
    "        return None\n",
    "    leftH = getHight(root.left)\n",
    "    rightH = getHight(root.right)\n",
    "    \n",
    "    if leftH == rightH:\n",
    "        return root\n",
    "    if leftH > rightH:\n",
    "        return lowestCommonAncestor(root.left)\n",
    "    else:\n",
    "        return lowestCommonAncestor(root.right)\n",
    "    \n",
    "def getHight(root):\n",
    "    if root is None:\n",
    "        return 0\n",
    "    return 1 + max(getHight(root.left), getHight(root.left))"
   ]
  },
  {
   "cell_type": "code",
   "execution_count": 11,
   "id": "available-fireplace",
   "metadata": {},
   "outputs": [
    {
     "data": {
      "text/plain": [
       "False"
      ]
     },
     "execution_count": 11,
     "metadata": {},
     "output_type": "execute_result"
    }
   ],
   "source": [
    "class hashSet:\n",
    "    def __init__(self):\n",
    "        self.numBuckets = 15000\n",
    "        self.bucket = [[] for i in range(self.numBuckets)]\n",
    "        \n",
    "    def hash_function(self, key):\n",
    "        return key % self.numBuckets\n",
    "    \n",
    "    def add(self, val):\n",
    "        i = self.hash_function(val)\n",
    "        if val not in self.bucket[i]:\n",
    "            self.bucket[i].append(val)\n",
    "        \n",
    "            \n",
    "    def remove(self, val):\n",
    "        i = self.hash_function(val)\n",
    "        if val in self.bucket[i]:\n",
    "            self.bucket[i].remove(val)\n",
    "            \n",
    "    def contain(self, val):\n",
    "        i = self.hash_function(val)\n",
    "        if val not in self.bucket[i]:\n",
    "            return False\n",
    "        return True\n",
    "    \n",
    "HS = hashSet()\n",
    "HS.add(1)\n",
    "HS.add(2)\n",
    "HS.contain(3)\n",
    "HS.add(2)\n",
    "HS.contain(2)\n",
    "HS.remove(2)\n",
    "HS.contain(2)"
   ]
  },
  {
   "cell_type": "code",
   "execution_count": 19,
   "id": "located-gardening",
   "metadata": {},
   "outputs": [
    {
     "data": {
      "text/plain": [
       "-1"
      ]
     },
     "execution_count": 19,
     "metadata": {},
     "output_type": "execute_result"
    }
   ],
   "source": [
    "##706. Design HashMap\n",
    "class hashMap:\n",
    "    def __init__(self):\n",
    "        self.map = [-1]*(10*6 + 1)\n",
    "        \n",
    "    def put(self, key, val):\n",
    "        self.map[key] = val\n",
    "        \n",
    "    def get(self, key):\n",
    "        return self.map[key]\n",
    "    \n",
    "    def remove(self, key):\n",
    "        self.map[key] = -1\n",
    "        \n",
    "map = hashMap()\n",
    "map.put(1,1)\n",
    "map.put(2,2)\n",
    "map.get(1)\n",
    "map.get(3)\n",
    "map.put(2,1)\n",
    "map.get(2)\n",
    "map.remove(2)\n",
    "map.get(2)"
   ]
  },
  {
   "cell_type": "code",
   "execution_count": 25,
   "id": "polar-jurisdiction",
   "metadata": {},
   "outputs": [
    {
     "data": {
      "text/plain": [
       "403"
      ]
     },
     "execution_count": 25,
     "metadata": {},
     "output_type": "execute_result"
    }
   ],
   "source": [
    "##712. Minimum ASCII Delete Sum for Two Strings\n",
    "\n",
    "def minASCII(s1, s2):\n",
    "    table = [[0 for col in range(len(s2)+1)] for row in range(len(s1)+1)]\n",
    "    \n",
    "    for i in range(len(table)):\n",
    "        for j in range(len(table[0])):\n",
    "            if i == 0:\n",
    "                table[0][j] = sum(ord(s) for s in s2[:j])\n",
    "            elif j == 0:\n",
    "                table[i][0] = sum(ord(s) for s in s1[:i])\n",
    "                \n",
    "            else:\n",
    "                if s1[i-1] == s2[j-1]:\n",
    "                    table[i][j] = table[i-1][j-1]\n",
    "                else:\n",
    "                    table[i][j] = min(ord(s1[i-1])+table[i-1][j], ord(s2[j-1])+table[i][j-1])\n",
    "    return table[len(s1)][len(s2)]\n",
    "    \n",
    "s1 = \"delete\"\n",
    "s2 = \"leet\"\n",
    "minASCII(s1, s2)"
   ]
  },
  {
   "cell_type": "code",
   "execution_count": 29,
   "id": "sweet-honey",
   "metadata": {},
   "outputs": [
    {
     "data": {
      "text/plain": [
       "5"
      ]
     },
     "execution_count": 29,
     "metadata": {},
     "output_type": "execute_result"
    }
   ],
   "source": [
    "##719. Find K-th Smallest Pair Distance\n",
    "# Input: nums = [1,3,1], k = 1\n",
    "# Output: 0\n",
    "# Explanation: Here are all the pairs:\n",
    "# (1,3) -> 2\n",
    "# (1,1) -> 0\n",
    "# (3,1) -> 2\n",
    "# Then the 1st smallest distance pair is (1,1), and its distance is 0.\n",
    "\n",
    "def kThSmallest(nums, k):\n",
    "    nums.sort()\n",
    "    left = 0\n",
    "    right = nums[-1] - nums[0]\n",
    "    \n",
    "    while left <= right:\n",
    "        mid = left + (right-left)//2\n",
    "        count = condition(nums, mid)\n",
    "        if count >= k:\n",
    "            right = mid - 1\n",
    "        else:\n",
    "            left = mid + 1\n",
    "    return left\n",
    "\n",
    "def condition(nums, mid):\n",
    "    count = 0\n",
    "    left = 0\n",
    "    for right in range(1, len(nums)):\n",
    "        while nums[right] - nums[left] > mid:\n",
    "            left += 1\n",
    "        count += right - left\n",
    "    return count\n",
    "\n",
    "nums = [1,6,1]\n",
    "k = 3\n",
    "kThSmallest(nums, k)\n"
   ]
  },
  {
   "cell_type": "code",
   "execution_count": 32,
   "id": "specified-stadium",
   "metadata": {},
   "outputs": [
    {
     "name": "stdout",
     "output_type": "stream",
     "text": [
      "0\n"
     ]
    }
   ],
   "source": [
    "##724. Find Pivot Index\n",
    "# Input: nums = [1,7,3,6,5,6]\n",
    "# Output: 3\n",
    "# Explanation:\n",
    "# The pivot index is 3.\n",
    "# Left sum = nums[0] + nums[1] + nums[2] = 1 + 7 + 3 = 11\n",
    "# Right sum = nums[4] + nums[5] = 5 + 6 = 11\n",
    "\n",
    "#leftSum  = total - pivot -leftSum\n",
    "\n",
    "def pivotIndex(nums):\n",
    "    leftSum = 0\n",
    "    total = sum(nums)\n",
    "    for i in range(len(nums)):\n",
    "        if leftSum == total - nums[i] - leftSum:\n",
    "            return i\n",
    "        leftSum += nums[i]\n",
    "    return -1   \n",
    "nums = [2,1,-1]\n",
    "print(pivotIndex(nums))\n",
    "\n",
    "##Time O(n) and space O(1)\n",
    "        "
   ]
  },
  {
   "cell_type": "code",
   "execution_count": 41,
   "id": "heated-saver",
   "metadata": {},
   "outputs": [
    {
     "data": {
      "text/plain": [
       "[[2, 2, 2], [2, 2, 2]]"
      ]
     },
     "execution_count": 41,
     "metadata": {},
     "output_type": "execute_result"
    }
   ],
   "source": [
    "##733. Flood Fill\n",
    "def floodFill(image, sr, sc, newColor):\n",
    "    visited = [[False for col in range(len(image[0]))] for row in range(len(image))]\n",
    "    startColor = image[sr][sr]\n",
    "    floodFill_DFS(image, visited, sr, sc, newColor, startColor)\n",
    "    return image\n",
    "\n",
    "def floodFill_DFS(image, visited, i, j, newColor, startColor):\n",
    "    if i < 0 or i >= len(image) or j < 0 or j >= len(image[0]) or image[i][j] != startColor:\n",
    "        return\n",
    "    if visited[i][j]:\n",
    "        return\n",
    "    visited[i][j] = True\n",
    "    image[i][j] = newColor\n",
    "    floodFill_DFS(image, visited, i+1, j, newColor, startColor)\n",
    "    floodFill_DFS(image, visited, i-1, j, newColor, startColor)\n",
    "    floodFill_DFS(image, visited, i, j+1, newColor, startColor)\n",
    "    floodFill_DFS(image, visited, i, j-1, newColor, startColor)\n",
    "    \n",
    "image = [[0,0,0],[0,0,0]]\n",
    "sr = 0\n",
    "sc = 0\n",
    "newColor = 2\n",
    "floodFill(image, sr, sc, newColor)"
   ]
  },
  {
   "cell_type": "code",
   "execution_count": 2,
   "id": "motivated-sleeve",
   "metadata": {},
   "outputs": [
    {
     "data": {
      "text/plain": [
       "14"
      ]
     },
     "execution_count": 2,
     "metadata": {},
     "output_type": "execute_result"
    }
   ],
   "source": [
    "index = {'Year':5, 'Month' : 8, 'Day' : 11, 'Hour' : 14, 'Minute' : 17, 'Second' :20}['Hour']\n",
    "index"
   ]
  },
  {
   "cell_type": "code",
   "execution_count": 1,
   "id": "indirect-particle",
   "metadata": {},
   "outputs": [
    {
     "data": {
      "text/plain": [
       "'aa'"
      ]
     },
     "execution_count": 1,
     "metadata": {},
     "output_type": "execute_result"
    }
   ],
   "source": [
    "##604. Design Compressed String Iterator\n",
    "class StringIterator:\n",
    "    def __init__(self,s):\n",
    "        newS = \"\"\n",
    "        for i in range(0, len(s)-1, 2):\n",
    "            newS += s[i]*s[i+1]\n",
    "        self.pointer = -1\n",
    "        \n",
    "    def next(se)"
   ]
  },
  {
   "cell_type": "code",
   "execution_count": 6,
   "id": "flexible-example",
   "metadata": {},
   "outputs": [
    {
     "data": {
      "text/plain": [
       "'C'"
      ]
     },
     "execution_count": 6,
     "metadata": {},
     "output_type": "execute_result"
    }
   ],
   "source": [
    "s = \"L1e2t1C1o1d1e1\"\n",
    "newS = \"\"\n",
    "for i in range(0, len(s)-1, 2):\n",
    "    newS += s[i]*int(s[i+1])\n"
   ]
  },
  {
   "cell_type": "code",
   "execution_count": 4,
   "id": "synthetic-shopper",
   "metadata": {},
   "outputs": [
    {
     "data": {
      "text/plain": [
       "-1"
      ]
     },
     "execution_count": 4,
     "metadata": {},
     "output_type": "execute_result"
    }
   ],
   "source": [
    "##2033. Minimum Operations to Make a Uni-Value Grid\n",
    "# Input: grid = [[2,4],[6,8]], x = 2\n",
    "# Output: 4\n",
    "# Explanation: We can make every element equal to 4 by doing the following: \n",
    "# - Add x to 2 once.\n",
    "# - Subtract x from 6 once.\n",
    "# - Subtract x from 8 twice.\n",
    "# A total of 4 operations were used.\n",
    "\n",
    "def uniValGrid(grid, x):\n",
    "    numList = []\n",
    "    for i in range(len(grid)):\n",
    "        for j in range(len(grid[0])):\n",
    "            numList.append(grid[i][j])\n",
    "    numList.sort()\n",
    "    n = len(numList)\n",
    "    median = numList[n//2]\n",
    "    \n",
    "    ans = 0\n",
    "    for i in range(n):\n",
    "        diff = abs(numList[i] - median)\n",
    "        if diff%x != 0:\n",
    "            return -1\n",
    "        ans += diff // x\n",
    "    return ans\n",
    "\n",
    "grid = [[1,2],[3,4]]\n",
    "x = 2\n",
    "uniValGrid(grid, x)"
   ]
  },
  {
   "cell_type": "code",
   "execution_count": 15,
   "id": "sublime-weekend",
   "metadata": {},
   "outputs": [
    {
     "data": {
      "text/plain": [
       "[1, 1, 8, 1, 5, 1, 8, 8, 5]"
      ]
     },
     "execution_count": 15,
     "metadata": {},
     "output_type": "execute_result"
    }
   ],
   "source": [
    "###Union and Find\n",
    "\n",
    "# 1--->2--->6     8----->7      5--->9\n",
    "# |                      |\n",
    "# 4                      3\n",
    "\n",
    "graph = [[1,2],[2,6],[1,4],[8,7],[7,3],[5,9]]\n",
    "n = 9\n",
    "parent = []\n",
    "rank = []\n",
    "\n",
    "for i in range(1, n+1):\n",
    "    parent.append(i)\n",
    "    rank.append(0)\n",
    "    \n",
    "def find(parent, x):\n",
    "    if parent[x-1] != x:\n",
    "        parent[x-1] = find(parent, parent[x-1])   ##path compression\n",
    "    return parent[x-1]\n",
    "\n",
    "def union(parent, rank, x, y):\n",
    "    x_parent = find(parent, x)\n",
    "    y_parent = find(parent, y)\n",
    "    \n",
    "    if x_parent != y_parent:\n",
    "        if rank[x_parent-1] > rank[y_parent-1]:\n",
    "            parent[y_parent-1] = x_parent\n",
    "        elif rank[x_parent-1] < rank[y_parent-1]:\n",
    "            parent[x_parent-1] = y_parent\n",
    "        else:\n",
    "            parent[y_parent-1] = x_parent\n",
    "            rank[x_parent-1] += 1\n",
    "        \n",
    "def isCycle(graph, parent, rank):\n",
    "    for x, y in graph:\n",
    "        if not union(parent, rank, x, y):\n",
    "            return \"Cycle detected\"\n",
    "        else:\n",
    "            union(parent, rank, x, y)\n",
    "    return \"No cycle\"\n",
    "   \n",
    "for x, y in graph:\n",
    "    union(parent, rank, x, y)\n",
    "    \n",
    "dict1 = {}\n",
    "for i in range(len(parent)):\n",
    "    if parent[i] in dict1:\n",
    "        dict1[parent[i]].append(i+1)\n",
    "    else:\n",
    "        dict1[parent[i]] = [i+1]\n",
    "        \n",
    "res = []\n",
    "for key in dict1:\n",
    "    res.append(dict1[key])\n",
    "    \n",
    "#isCycle(graph, parent, rank)\n",
    "parent\n",
    "        "
   ]
  },
  {
   "cell_type": "code",
   "execution_count": 14,
   "id": "adjustable-collector",
   "metadata": {},
   "outputs": [],
   "source": [
    "accounts = [[\"John\",\"johnsmith@mail.com\",\"john_newyork@mail.com\"],\n",
    "            [\"John\",\"johnsmith@mail.com\",\"john00@mail.com\"],\n",
    "            [\"Mary\",\"mary@mail.com\"],[\"John\",\"johnnybravo@mail.com\"]]\n",
    "\n",
    "graph = [[\"John\",\"johnsmith@mail.com\"],[\"John\",\"john_newyork@mail.com\"],\n",
    "        [\"John\",\"johnsmith@mail.com\"], [\"John\", \"john00@mail.com\"],\n",
    "        [\"Mary\",\"mary@mail.com\"], [\"John\",\"johnnybravo@mail.com\"]]\n",
    "\n",
    "parent = {}\n",
    "for x,y in graph:\n",
    "    parent[y] = x\n",
    "rank = "
   ]
  },
  {
   "cell_type": "code",
   "execution_count": null,
   "id": "accepted-dance",
   "metadata": {},
   "outputs": [],
   "source": []
  }
 ],
 "metadata": {
  "kernelspec": {
   "display_name": "Python 3",
   "language": "python",
   "name": "python3"
  },
  "language_info": {
   "codemirror_mode": {
    "name": "ipython",
    "version": 3
   },
   "file_extension": ".py",
   "mimetype": "text/x-python",
   "name": "python",
   "nbconvert_exporter": "python",
   "pygments_lexer": "ipython3",
   "version": "3.7.4"
  }
 },
 "nbformat": 4,
 "nbformat_minor": 5
}
