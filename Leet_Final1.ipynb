{
 "cells": [
  {
   "cell_type": "code",
   "execution_count": 4,
   "id": "collaborative-factory",
   "metadata": {},
   "outputs": [
    {
     "data": {
      "text/plain": [
       "[0, 1]"
      ]
     },
     "execution_count": 4,
     "metadata": {},
     "output_type": "execute_result"
    }
   ],
   "source": [
    "##1. Two Sum\n",
    "def twoSum(nums, target):\n",
    "    dict1 = {}\n",
    "    for i in range(len(nums)):\n",
    "        if target - nums[i] in dict1:\n",
    "            return [dict1[target-nums[i]], i]\n",
    "        else:\n",
    "            dict1[nums[i]] = i\n",
    "            \n",
    "nums = [3,3]\n",
    "target = 6\n",
    "twoSum(nums, target)\n",
    "##Time O(N) space O(N)"
   ]
  },
  {
   "cell_type": "code",
   "execution_count": 5,
   "id": "completed-legislature",
   "metadata": {},
   "outputs": [],
   "source": [
    "##2. Add Two Numbers\n",
    "class ListNode:\n",
    "    def __init__(self, val):\n",
    "        self.val = val\n",
    "        self.next = None\n",
    "        \n",
    "def addTwoNums(l1, l2):\n",
    "    carry = 0\n",
    "    temp = dummy = ListNode()\n",
    "    while l1 or l2:\n",
    "        Val1 = l1.val if l1 else 0\n",
    "        val2 = l2.val if l2 else 0\n",
    "        Val = (Val1+Val2)%10 + carry\n",
    "        temp.next = ListNode(Val)\n",
    "        carry = (Val1+Val2) // 10\n",
    "        temp = temp.next\n",
    "        l1 = l1.next if l1 else None\n",
    "        l2 = l2.next if l2 else None\n",
    "    return dummy.next"
   ]
  },
  {
   "cell_type": "code",
   "execution_count": 8,
   "id": "driven-berlin",
   "metadata": {},
   "outputs": [
    {
     "data": {
      "text/plain": [
       "3"
      ]
     },
     "execution_count": 8,
     "metadata": {},
     "output_type": "execute_result"
    }
   ],
   "source": [
    "##3. Longest Substring Without Repeating Characters\n",
    "def longestStr(s):\n",
    "    maxLen = 0\n",
    "    seen = {}\n",
    "    start = 0\n",
    "    for i in range(len(s)):\n",
    "        if s[i] in seen:\n",
    "            start = max(start, seen[s[i]]+1)\n",
    "        seen[s[i]] = i\n",
    "        maxLen = max(maxLen, i-start+1)\n",
    "    return maxLen\n",
    "\n",
    "s = \"pwwkew\"\n",
    "longestStr(s)"
   ]
  },
  {
   "cell_type": "code",
   "execution_count": 12,
   "id": "vanilla-directory",
   "metadata": {},
   "outputs": [
    {
     "data": {
      "text/plain": [
       "'bb'"
      ]
     },
     "execution_count": 12,
     "metadata": {},
     "output_type": "execute_result"
    }
   ],
   "source": [
    "##5. Longest Palindromic Substring\n",
    "def longestpalinStr(s):\n",
    "    res = \"\"\n",
    "    for i in range(len(s)):\n",
    "        odd = palinStr(i, i, s)\n",
    "        if len(odd) > len(res):\n",
    "            res = odd\n",
    "        even = palinStr(i, i+1, s)\n",
    "        if len(even) > len(res):\n",
    "            res = even\n",
    "    return res\n",
    "    \n",
    "    \n",
    "def palinStr(left, right, s):\n",
    "    while left >= 0 and right < len(s) and s[left] == s[right]:\n",
    "        left -= 1\n",
    "        right += 1\n",
    "    return s[left+1:right]\n",
    "s = \"cbbd\"\n",
    "longestpalinStr(s)\n",
    "##Time O(n^2) space O(1)"
   ]
  },
  {
   "cell_type": "code",
   "execution_count": 17,
   "id": "automotive-accreditation",
   "metadata": {},
   "outputs": [
    {
     "data": {
      "text/plain": [
       "-321"
      ]
     },
     "execution_count": 17,
     "metadata": {},
     "output_type": "execute_result"
    }
   ],
   "source": [
    "##7. Reverse Integer\n",
    "def reverseInt(n):\n",
    "    res = 0\n",
    "    isNegative = False\n",
    "    if n < 0:\n",
    "        isNegative = True\n",
    "        n = -1*n\n",
    "    while n > 0:\n",
    "        res = res*10 + n%10\n",
    "        n = n // 10\n",
    "    if isNegative:\n",
    "        res = -1*res\n",
    "    return res\n",
    "\n",
    "n = -123\n",
    "reverseInt(num)"
   ]
  },
  {
   "cell_type": "code",
   "execution_count": 20,
   "id": "motivated-identity",
   "metadata": {},
   "outputs": [
    {
     "data": {
      "text/plain": [
       "1"
      ]
     },
     "execution_count": 20,
     "metadata": {},
     "output_type": "execute_result"
    }
   ],
   "source": [
    "##11. Container With Most Water\n",
    "def mostWater(height):\n",
    "    left = 0\n",
    "    right = len(height) - 1\n",
    "    res = 0\n",
    "    while left < right:\n",
    "        if height[left] <= height[right]:\n",
    "            area = (right-left)*height[left]\n",
    "            left += 1\n",
    "        else:\n",
    "            area = (right-left)*height[right]\n",
    "            right -= 1\n",
    "        res = max(res, area)\n",
    "    return res\n",
    "\n",
    "height = [1,1]\n",
    "mostWater(height)\n",
    "##Time complexity O(N) space O(1)"
   ]
  },
  {
   "cell_type": "code",
   "execution_count": 16,
   "id": "contrary-lender",
   "metadata": {},
   "outputs": [
    {
     "data": {
      "text/plain": [
       "''"
      ]
     },
     "execution_count": 16,
     "metadata": {},
     "output_type": "execute_result"
    }
   ],
   "source": [
    "##14. Longest Common Prefix\n",
    "# Input: strs = [\"flower\",\"flow\",\"flight\"]\n",
    "# Output: \"fl\"\n",
    "\n",
    "def longestComPrefix(strs):\n",
    "    if len(strs) == 0:\n",
    "        return \"\"\n",
    "    minLen = len(strs[0])\n",
    "    for i in range(1, len(strs)):\n",
    "        if len(strs[i]) < minLen:\n",
    "            minLen = len(strs[i])\n",
    "    \n",
    "    res = \"\"\n",
    "    for i in range(minLen):\n",
    "        char1 = strs[0][i]\n",
    "        for j in range(1, len(strs)):\n",
    "            if char1 != strs[j][i]:\n",
    "                return res\n",
    "        res += char1\n",
    "    return res\n",
    "\n",
    "strs = [\"dog\",\"racecar\",\"car\"]\n",
    "longestComPrefix(strs)"
   ]
  },
  {
   "cell_type": "code",
   "execution_count": 18,
   "id": "optional-memorial",
   "metadata": {},
   "outputs": [
    {
     "data": {
      "text/plain": [
       "[(-1, -1, 2), (-1, 0, 1)]"
      ]
     },
     "execution_count": 18,
     "metadata": {},
     "output_type": "execute_result"
    }
   ],
   "source": [
    "##15. 3Sum\n",
    "# Input: nums = [-1,0,1,2,-1,-4]\n",
    "# Output: [[-1,-1,2],[-1,0,1]]\n",
    "\n",
    "def threeSum(nums):\n",
    "    res = []\n",
    "    nums.sort()\n",
    "    for i in range(len(nums)):\n",
    "        if i > 0 and nums[i] == nums[i-1]:\n",
    "            continue\n",
    "        left = i + 1\n",
    "        right = len(nums) - 1\n",
    "        while left < right:\n",
    "            total = nums[i] + nums[left] + nums[right]\n",
    "            if total == 0:\n",
    "                res.append((nums[i], nums[left], nums[right]))\n",
    "                while left < right and nums[left] == nums[left+1]:\n",
    "                    left += 1\n",
    "                while left < right and nums[right] == nums[right-1]:\n",
    "                    right -= 1\n",
    "                left += 1\n",
    "                right -= 1\n",
    "            elif total < 0:\n",
    "                left += 1\n",
    "            else:\n",
    "                right -= 1\n",
    "    return res\n",
    "\n",
    "nums = [-1,0,1,2,-1,-4]\n",
    "threeSum(nums)\n",
    "##Time complexity O(n^2) space O(n)"
   ]
  },
  {
   "cell_type": "code",
   "execution_count": 7,
   "id": "given-costs",
   "metadata": {},
   "outputs": [
    {
     "name": "stdout",
     "output_type": "stream",
     "text": [
      "[1, 2, 3, 4, 5, 3, 2, 2]\n"
     ]
    },
    {
     "data": {
      "text/plain": [
       "[1, 2, 3, 4, 5]"
      ]
     },
     "execution_count": 7,
     "metadata": {},
     "output_type": "execute_result"
    }
   ],
   "source": [
    "##26. Remove Duplicates from Sorted Array\n",
    "def removeDuplicates(nums):\n",
    "    if len(nums) == 0:\n",
    "        return 0\n",
    "    i = 0\n",
    "    length = 1\n",
    "    for j in range(1, len(nums)):\n",
    "        if nums[i] != nums[j]:\n",
    "            i += 1\n",
    "            nums[i], nums[j] = nums[j], nums[i]\n",
    "    print(nums)\n",
    "    return nums[:i+1]\n",
    "\n",
    "nums = [1,2,2,2,3,3,4,5]\n",
    "removeDuplicates(nums)"
   ]
  },
  {
   "cell_type": "code",
   "execution_count": 8,
   "id": "central-nicholas",
   "metadata": {},
   "outputs": [],
   "source": [
    "##25. Reverse Nodes in k-Group\n",
    "class ListNode:\n",
    "    def __init__(self, val):\n",
    "        self.val = val\n",
    "        self.next = None\n",
    "        \n",
    "def reveraseKgroup(head, k):\n",
    "    if head is None or head.next is None:\n",
    "        return head\n",
    "    dummyCur = dummy = ListNode()\n",
    "    count = 1\n",
    "    while head:\n",
    "        cur = head\n",
    "        while cur.next and count < k:\n",
    "            count += 1\n",
    "            cur = cur.next\n",
    "        if count == k:\n",
    "            remaining = cur.next\n",
    "            cur.next = None\n",
    "            dummyCur.next = revrese(head)\n",
    "            head.next = remaining\n",
    "            dummyCur = head\n",
    "            head = remaining\n",
    "        else:\n",
    "            return dummy.next\n",
    "    return dummy.next\n",
    "\n",
    "def revrese(head):\n",
    "    prev = None\n",
    "    while head:\n",
    "        temp = head.next\n",
    "        head.next = prev\n",
    "        prev = head\n",
    "        head = temp\n",
    "    return prev"
   ]
  },
  {
   "cell_type": "code",
   "execution_count": 12,
   "id": "virgin-stations",
   "metadata": {},
   "outputs": [
    {
     "name": "stdout",
     "output_type": "stream",
     "text": [
      "[[0, 1, 2, 3], [1, 1, 2, 3], [2, 2, 1, 2], [3, 2, 2, 2], [4, 3, 3, 2], [5, 4, 4, 3]]\n"
     ]
    },
    {
     "data": {
      "text/plain": [
       "3"
      ]
     },
     "execution_count": 12,
     "metadata": {},
     "output_type": "execute_result"
    }
   ],
   "source": [
    "###72. Edit Distance\n",
    "#   0 r o s     \n",
    "# 0 0 1 2 3\n",
    "# h 1 1 2 3\n",
    "# o 2 2 1 2\n",
    "# r 3 2 2 2\n",
    "# s 4 3 3 2\n",
    "# e 5 4 4 3\n",
    "\n",
    "def editDistance(word1, word2):\n",
    "    table = [[0 for col in range(len(word2)+1)] for row in range(len(word1)+1)]\n",
    "    for i in range(len(table)):\n",
    "        for j in range(len(table[0])):\n",
    "            if i == 0:\n",
    "                table[0][j] = j\n",
    "            elif j == 0:\n",
    "                table[i][0] = i\n",
    "            else:\n",
    "                if word1[i-1] == word2[j-1]:\n",
    "                    table[i][j] = table[i-1][j-1]\n",
    "                else:\n",
    "                    table[i][j] = 1 + min(table[i-1][j], table[i][j-1], table[i-1][j-1])\n",
    "    print(table)\n",
    "    return table[len(word1)][len(word2)]\n",
    "\n",
    "word1 = \"horse\"\n",
    "word2 = \"ros\"\n",
    "editDistance(word1, word2)\n",
    "##Time O(MN) space O(MN)"
   ]
  },
  {
   "cell_type": "code",
   "execution_count": 14,
   "id": "national-nevada",
   "metadata": {},
   "outputs": [
    {
     "data": {
      "text/plain": [
       "[[0, 0, 0, 0], [0, 4, 5, 0], [0, 3, 1, 0]]"
      ]
     },
     "execution_count": 14,
     "metadata": {},
     "output_type": "execute_result"
    }
   ],
   "source": [
    "##73. Set Matrix Zeroes\n",
    "def setMatrixZero(grid):\n",
    "    rowSet = set()\n",
    "    colSet = set()\n",
    "    \n",
    "    for i in range(len(grid)):\n",
    "        for j in range(len(grid[0])):\n",
    "            if grid[i][j] == 0:\n",
    "                rowSet.add(i)\n",
    "                colSet.add(j)\n",
    "    for i in range(len(grid)):\n",
    "        for j in range(len(grid[0])):\n",
    "            if i in rowSet or j in colSet:\n",
    "                grid[i][j] = 0\n",
    "    return grid\n",
    "\n",
    "grid = [[0,1,2,0],[3,4,5,2],[1,3,1,5]]\n",
    "setMatrixZero(grid)\n",
    "\n",
    "                "
   ]
  },
  {
   "cell_type": "code",
   "execution_count": 15,
   "id": "fixed-dairy",
   "metadata": {},
   "outputs": [
    {
     "data": {
      "text/plain": [
       "[[0, 0, 0, 0], [0, 4, 5, 0], [0, 3, 1, 0]]"
      ]
     },
     "execution_count": 15,
     "metadata": {},
     "output_type": "execute_result"
    }
   ],
   "source": [
    "###73. Set Matrix Zeroes\n",
    "##With extra space\n",
    "\n",
    "def setMatrixZero2(grid):\n",
    "    rows = len(grid)\n",
    "    cols = len(grid[0])\n",
    "    \n",
    "    isCol = False\n",
    "    for i in range(rows):\n",
    "        if grid[i][0] == 0:\n",
    "            isCol = True\n",
    "        for j in range(1, cols):\n",
    "            if grid[i][j] == 0:\n",
    "                grid[0][j] = 0\n",
    "                grid[i][0] = 0\n",
    "    for i in range(1, rows):\n",
    "        for j in range(1, cols):\n",
    "            if grid[0][j] == 0 or grid[i][0] == 0:\n",
    "                grid[i][j] = 0\n",
    "                \n",
    "    ##For the first row\n",
    "    if grid[0][0] == 0:\n",
    "        for i in range(cols):\n",
    "            grid[0][i] = 0\n",
    "    ##For the first column\n",
    "    if isCol:\n",
    "        for i in range(rows):\n",
    "            grid[i][0] = 0\n",
    "    return grid\n",
    "\n",
    "grid = [[0,1,2,0],[3,4,5,2],[1,3,1,5]]\n",
    "setMatrixZero2(grid)\n"
   ]
  },
  {
   "cell_type": "code",
   "execution_count": 19,
   "id": "close-multimedia",
   "metadata": {},
   "outputs": [
    {
     "data": {
      "text/plain": [
       "False"
      ]
     },
     "execution_count": 19,
     "metadata": {},
     "output_type": "execute_result"
    }
   ],
   "source": [
    "##74. Search a 2D Matrix\n",
    "def searchIn2D(grid, target):\n",
    "    m = len(grid)\n",
    "    n = len(grid[0])\n",
    "    \n",
    "    left = 0\n",
    "    right = m*n - 1\n",
    "    \n",
    "    while left <= right:\n",
    "        mid = left + (right-left)//2\n",
    "        midX = mid//n\n",
    "        midY = mid%n\n",
    "        if grid[midX][midY] == target:\n",
    "            return True\n",
    "        if grid[midX][midY] < target:\n",
    "            left = mid + 1\n",
    "        else:\n",
    "            right = mid - 1\n",
    "    return False\n",
    "\n",
    "grid = [[1,3,5,7],[10,11,16,20],[23,30,34,60]]\n",
    "target = 13\n",
    "searchIn2D(grid, target)\n",
    "##Time complexity O(logMN) space O(1)"
   ]
  },
  {
   "cell_type": "code",
   "execution_count": 22,
   "id": "accurate-messaging",
   "metadata": {},
   "outputs": [
    {
     "data": {
      "text/plain": [
       "[0, 1, 2]"
      ]
     },
     "execution_count": 22,
     "metadata": {},
     "output_type": "execute_result"
    }
   ],
   "source": [
    "##75. Sort Colors\n",
    "# Input: nums = [2,0,2,1,1,0]\n",
    "# Output: [0,0,1,1,2,2]\n",
    "\n",
    "def sortColors(nums):\n",
    "    left = 0\n",
    "    right = len(nums) - 1\n",
    "    current = 0\n",
    "    \n",
    "    while current <= right:\n",
    "        if nums[current] == 0:\n",
    "            nums[current], nums[left] = nums[left], nums[current]\n",
    "            left += 1\n",
    "            current += 1\n",
    "        elif nums[current] == 2:\n",
    "            nums[current], nums[right] = nums[right], nums[current]\n",
    "            right -= 1\n",
    "        else:\n",
    "            current += 1\n",
    "            \n",
    "    return nums\n",
    "\n",
    "nums = [2,0,1]\n",
    "sortColors(nums)\n",
    "##Time O(N)  space O(1)"
   ]
  },
  {
   "cell_type": "code",
   "execution_count": 11,
   "id": "cross-demographic",
   "metadata": {},
   "outputs": [
    {
     "data": {
      "text/plain": [
       "''"
      ]
     },
     "execution_count": 11,
     "metadata": {},
     "output_type": "execute_result"
    }
   ],
   "source": [
    "##76. Minimum Window Substring\n",
    "# Input: s = \"ADOBECODEBANC\", t = \"ABC\"\n",
    "# Output: \"BANC\"\n",
    "# Explanation: The minimum window substring \"BANC\" includes 'A', 'B', and 'C' from string t.\n",
    "\n",
    "def minWindowSubStr(s, t):\n",
    "    if not s or not t:\n",
    "        return \"\"\n",
    "    dict_t = {}\n",
    "    for c in t:\n",
    "        if c in dict_t:\n",
    "            dict_t[c] += 1\n",
    "        else:\n",
    "            dict_t[c] = 1\n",
    "            \n",
    "    filtered_s = []\n",
    "    for i, c in enumerate(s):\n",
    "        if c in dict_t:\n",
    "            filtered_s.append((i, c))\n",
    "            \n",
    "    left = 0\n",
    "    right = 0\n",
    "    window = {}\n",
    "    formed = 0\n",
    "    res = [float('inf'), -1, -1]\n",
    "    \n",
    "    while right < len(filtered_s):\n",
    "        char = filtered_s[right][1]\n",
    "        window[char] = window.get(char, 0) + 1\n",
    "        if window[char] == dict_t[char]:\n",
    "            formed += 1\n",
    "        while left <= right and formed == len(dict_t):\n",
    "            start = filtered_s[left][0]\n",
    "            end = filtered_s[right][0]\n",
    "            if res[0] > end-start+1:\n",
    "                res = [end-start+1, start, end]\n",
    "            c = filtered_s[left][1]\n",
    "            window[c] -= 1\n",
    "            if window[c] < dict_t[c]:\n",
    "                formed -= 1\n",
    "            left += 1\n",
    "             \n",
    "        right += 1\n",
    "        \n",
    "    if res[0] == float('inf'):\n",
    "        return \"\"\n",
    "    else:\n",
    "        return s[res[1]:res[2]+1]\n",
    "s = \"a\"\n",
    "t = \"\"\n",
    "minWindowSubStr(s, t)\n",
    "##Time O(len(s)+len(t))  space O(len(s)+len(t))"
   ]
  },
  {
   "cell_type": "code",
   "execution_count": 19,
   "id": "upset-offense",
   "metadata": {},
   "outputs": [
    {
     "data": {
      "text/plain": [
       "False"
      ]
     },
     "execution_count": 19,
     "metadata": {},
     "output_type": "execute_result"
    }
   ],
   "source": [
    "##79. Word Search\n",
    "def wordSearch(grid, word):\n",
    "    if not grid or not word:\n",
    "        return \"\"\n",
    "    for i in range(len(grid)):\n",
    "        for j in range(len(grid[0])):\n",
    "            if grid[i][j] == word[0] and DFS(grid, word, i, j, 0):\n",
    "                return True\n",
    "    return False\n",
    "\n",
    "def DFS(grid, word, i, j, count):\n",
    "    if len(word) == count:\n",
    "        return True\n",
    "    if i < 0 or i >= len(grid) or j < 0 or j >= len(grid[0]) or grid[i][j] != word[count]:\n",
    "        return False\n",
    "    temp = grid[i][j]\n",
    "    grid[i][j] = \"*\"\n",
    "    match =  DFS(grid, word, i+1, j, count+1) or DFS(grid, word, i-1, j, count+1) or DFS(grid, word, i, j+1, count+1) or DFS(grid, word, i, j-1, count+1)\n",
    "    grid[i][j] = temp\n",
    "    return match\n",
    "\n",
    "grid = [[\"A\",\"B\",\"C\",\"E\"],[\"S\",\"F\",\"C\",\"S\"],[\"A\",\"D\",\"E\",\"E\"]]\n",
    "word = \"ABCB\"\n",
    "wordSearch(grid, word)\n",
    "##Time O(M*N*4^L)  L = length of word"
   ]
  },
  {
   "cell_type": "code",
   "execution_count": 31,
   "id": "choice-supply",
   "metadata": {},
   "outputs": [
    {
     "data": {
      "text/plain": [
       "7"
      ]
     },
     "execution_count": 31,
     "metadata": {},
     "output_type": "execute_result"
    }
   ],
   "source": [
    "##84. Largest Rectangle in Histogram\n",
    "def largestRectangle(heights):\n",
    "    stack = []\n",
    "    n = len(heights)\n",
    "    left = [0]*n\n",
    "    right = [0]*n\n",
    "    \n",
    "    for i in range(n):\n",
    "        if len(stack) == 0:\n",
    "            left[i] = 0\n",
    "            stack.append(i)\n",
    "        else:\n",
    "            while len(stack) > 0 and heights[stack[-1]] >= heights[i]:\n",
    "                stack.pop()\n",
    "            if len(stack) == 0:\n",
    "                left[i] = 0\n",
    "            else:\n",
    "                left[i] = stack[-1] + 1\n",
    "            stack.append(i)\n",
    "    stack = []\n",
    "    for i in range(n-1, -1, -1):\n",
    "        if len(stack) == 0:\n",
    "            right[i] = n - 1\n",
    "            stack.append(i)\n",
    "        else:\n",
    "            while len(stack) > 0 and heights[stack[-1]] >= heights[i]:\n",
    "                stack.pop()\n",
    "            if len(stack) == 0:\n",
    "                right[i] = n - 1\n",
    "            else:\n",
    "                right[i] = stack[-1] - 1\n",
    "            stack.append(i)\n",
    "            \n",
    "    area = 0\n",
    "    for i in range(n):\n",
    "        area = max(area, heights[i]*(right[i]-left[i]+1))\n",
    "    return area\n",
    "\n",
    "heights = [2,4,1,1,1,1,1]\n",
    "largestRectangle(heights)\n",
    "\n",
    "##Time O(N) space O(N)"
   ]
  },
  {
   "cell_type": "code",
   "execution_count": 32,
   "id": "decreased-colon",
   "metadata": {},
   "outputs": [
    {
     "data": {
      "text/plain": [
       "6"
      ]
     },
     "execution_count": 32,
     "metadata": {},
     "output_type": "execute_result"
    }
   ],
   "source": [
    "###85. Maximal Rectangle\n",
    "def maximalRectangle(grid):\n",
    "    for i in range(len(grid)):\n",
    "        for j in range(len(grid[0])):\n",
    "            grid[i][j] = int(grid[i][j])\n",
    "            \n",
    "    area = 0\n",
    "    for i in range(1, len(grid)):\n",
    "        for j in range(len(grid[0])):\n",
    "            if grid[i][j] != 0:\n",
    "                grid[i][j] += grid[i-1][j]\n",
    "            else:\n",
    "                grid[i][j] = 0\n",
    "                \n",
    "    for row in grid:\n",
    "        area = max(area, largestRectangle(row))\n",
    "    return area\n",
    "\n",
    "grid = [[\"1\",\"0\",\"1\",\"0\",\"0\"],[\"1\",\"0\",\"1\",\"1\",\"1\"],[\"1\",\"1\",\"1\",\"1\",\"1\"],[\"1\",\"0\",\"0\",\"1\",\"0\"]]\n",
    "maximalRectangle(grid)\n",
    "##Time O(MN) space O(M+N)"
   ]
  },
  {
   "cell_type": "code",
   "execution_count": 34,
   "id": "established-duncan",
   "metadata": {},
   "outputs": [
    {
     "data": {
      "text/plain": [
       "[1, 2, 2, 3, 5, 6]"
      ]
     },
     "execution_count": 34,
     "metadata": {},
     "output_type": "execute_result"
    }
   ],
   "source": [
    "##88. Merge Sorted Array\n",
    "# Input: nums1 = [1,2,3,0,0,0], m = 3, nums2 = [2,5,6], n = 3\n",
    "# Output: [1,2,2,3,5,6]\n",
    "# Explanation: The arrays we are merging are [1,2,3] and [2,5,6].\n",
    "# The result of the merge is [1,2,2,3,5,6] with the underlined elements coming from nums1.\n",
    "def mergeSortedArray(nums1, nums2, m, n):\n",
    "    right = len(nums1) -1\n",
    "    i = m - 1\n",
    "    j = n -1 \n",
    "    while i >= 0 and j >= 0:\n",
    "        if nums1[i] < nums2[j]:\n",
    "            nums1[right] = nums2[j]\n",
    "            j -= 1\n",
    "            right -= 1\n",
    "        else:\n",
    "            nums1[right] = nums1[i]\n",
    "            i -= 1\n",
    "            right -= 1\n",
    "            \n",
    "    while j >= 0:\n",
    "        nums1[right] = nums2[j]\n",
    "        j -= 1\n",
    "        right -= 1\n",
    "    return nums1\n",
    "\n",
    "nums1 = [1,2,3,0,0,0]\n",
    "m = 3\n",
    "nums2 = [2,5,6]\n",
    "n = 3\n",
    "mergeSortedArray(nums1, nums2, m, n)\n",
    "##Time O(N) space O(1)"
   ]
  },
  {
   "cell_type": "code",
   "execution_count": 1,
   "id": "standard-prospect",
   "metadata": {},
   "outputs": [],
   "source": [
    "##92. Reverse Linked List II\n",
    "def reverseLinkedList2(head, left, right):\n",
    "    if head is None or head.next is None:\n",
    "        return head\n",
    "    prev = None\n",
    "    cur = head\n",
    "    while left > 1:\n",
    "        prev = cur\n",
    "        cur = cur.next\n",
    "        left -= 1\n",
    "        right -= 1\n",
    "        \n",
    "    start = prev\n",
    "    tail = cur\n",
    "    temp = None\n",
    "    \n",
    "    while right > 0:\n",
    "        temp = cur.next\n",
    "        cur.next = prev\n",
    "        prev = cur\n",
    "        cur = temp\n",
    "        \n",
    "    if start is not None:\n",
    "        start.next = prev\n",
    "    else:\n",
    "        head = prev\n",
    "    tail.next = cur\n",
    "    return head\n",
    "\n"
   ]
  },
  {
   "cell_type": "code",
   "execution_count": 2,
   "id": "lesser-replacement",
   "metadata": {},
   "outputs": [],
   "source": [
    "##94. Binary Tree Inorder Traversal\n",
    "## Left  --> root --> right\n",
    "\n",
    "def BTinOrder(root):\n",
    "    if root is None:\n",
    "        return None\n",
    "    stack = []\n",
    "    output = []\n",
    "    \n",
    "    while root or stack:\n",
    "        while root:\n",
    "            stack.append(root)\n",
    "            root = root.left\n",
    "        root = stack.pop()\n",
    "        output.append(root.val)\n",
    "        root = root.right\n",
    "        \n",
    "    return output"
   ]
  },
  {
   "cell_type": "code",
   "execution_count": 3,
   "id": "cross-withdrawal",
   "metadata": {},
   "outputs": [],
   "source": [
    "##98. Validate Binary Search Tree\n",
    "def validateBST(root):\n",
    "    stack = []\n",
    "    prev = None\n",
    "    while root or stack:\n",
    "        while root:\n",
    "            stack.append(root)\n",
    "            root = root.left\n",
    "        root = stack.pop()\n",
    "        if prev and prev.val >= root.val:\n",
    "            return False\n",
    "        prev = root\n",
    "        root = root.right\n",
    "    return True"
   ]
  },
  {
   "cell_type": "code",
   "execution_count": 5,
   "id": "complete-exhaust",
   "metadata": {},
   "outputs": [],
   "source": [
    "##100. Same Tree\n",
    "\n",
    "def sameTree(p, q):\n",
    "    if not p and not q:\n",
    "        return True\n",
    "    if not p or not q:\n",
    "        return False\n",
    "    if p.val != q.val:\n",
    "        return False\n",
    "    return sameTree(p.left, q.left) and sameTree(p.right, q.right)\n",
    "\n",
    "##Time O(N)  space O(LogN)"
   ]
  },
  {
   "cell_type": "code",
   "execution_count": 6,
   "id": "numerous-synthesis",
   "metadata": {},
   "outputs": [],
   "source": [
    "##101. Symmetric Tree\n",
    "def symmentricTree(root):\n",
    "    stack = []\n",
    "    stack.append(root)\n",
    "    stack.append(root)\n",
    "    while len(stack) != 0:\n",
    "        t1 = stack.pop()\n",
    "        t2 = stack.pop()\n",
    "        \n",
    "        if t1 is None and t2 is None:\n",
    "            continue\n",
    "        if t1 is None or t2 is None:\n",
    "            return False\n",
    "        if t1.val != t2.val:\n",
    "            return False\n",
    "        stack.append(t1.left)\n",
    "        stack.append(t2.right)\n",
    "        stack.append(t1.right)\n",
    "        stack.append(t2.left)\n",
    "    return True"
   ]
  },
  {
   "cell_type": "code",
   "execution_count": 8,
   "id": "governmental-sussex",
   "metadata": {},
   "outputs": [],
   "source": [
    "##108. Convert Sorted Array to Binary Search Tree\n",
    "def sortedArrayToBST(nums):\n",
    "    if len(nums) == 0:\n",
    "        return None\n",
    "    idx = len(nums) // 2\n",
    "    root = TreeNode(nums[idx])\n",
    "    root.left = sortedArrayToBST(nums[:idx])\n",
    "    root.right = sortedArrayToBST(nums[idx+1:])\n",
    "    return root\n",
    "\n",
    "##Time O(N) space O(logn)"
   ]
  },
  {
   "cell_type": "code",
   "execution_count": 1,
   "id": "fancy-productivity",
   "metadata": {},
   "outputs": [],
   "source": [
    "##110. Balanced Binary Tree\n",
    "\n",
    "def balancedBT(root):\n",
    "    return helper(root) != -1\n",
    "    \n",
    "def helper(root):\n",
    "    if root is None:\n",
    "        return 0\n",
    "    leftH = helper(root.left)\n",
    "    rightH = helper(root.right)\n",
    "    if leftH == -1 or rightH == -1 or abs(leftH-rightH) > 1:\n",
    "        return -1\n",
    "    return 1 + max(leftH, rightH)\n",
    "\n",
    "##Time complexity O(N)"
   ]
  },
  {
   "cell_type": "code",
   "execution_count": 3,
   "id": "waiting-technology",
   "metadata": {},
   "outputs": [],
   "source": [
    "##111. Minimum Depth of Binary Tree\n",
    "def minDepthBT(root):\n",
    "    if root is None:\n",
    "        return 0\n",
    "    depth = 1\n",
    "    stack = [root]\n",
    "    while len(stack) != 0:\n",
    "        level = 0\n",
    "        for node in stack:\n",
    "            if node.left is None and node.right is None:\n",
    "                return depth\n",
    "            if node.left:\n",
    "                level.append(node.left)\n",
    "            if node.right:\n",
    "                level.append(node.right)\n",
    "        stack = level\n",
    "        depth += 1\n",
    "    return 0\n",
    "\n",
    "##BFS  Time O(N) space O(n)"
   ]
  },
  {
   "cell_type": "code",
   "execution_count": 4,
   "id": "meaning-breast",
   "metadata": {},
   "outputs": [],
   "source": [
    "##112. Path Sum\n",
    "class TreeNode:\n",
    "    def __init__(self, val):\n",
    "        self.val = val\n",
    "        self.left = None\n",
    "        self.right = None\n",
    "\n",
    "def pathSum(root, target):\n",
    "    if root is None:\n",
    "        return False\n",
    "    stack = [(root, root.val)]\n",
    "    while len(stack) != 0:\n",
    "        node, value = stack.pop()\n",
    "        if node.left is None and node.right is None:\n",
    "            if value == target:\n",
    "                return True\n",
    "        if node.left:\n",
    "            leftVal = value + node.left.val\n",
    "            stack.append((node.left, leftVal))\n",
    "        if node.right:\n",
    "            rightVal = value + node.right.val\n",
    "            stack.append((node.right, rightVal))\n",
    "    return False\n",
    "##Time O(N)  space O(N)"
   ]
  },
  {
   "cell_type": "code",
   "execution_count": 5,
   "id": "charitable-touch",
   "metadata": {},
   "outputs": [],
   "source": [
    "###113. Path Sum II\n",
    "def pathSum2(root, target):\n",
    "    if target == 0 or root is None:\n",
    "        return []\n",
    "    res = []\n",
    "    stack = [(root, [root.val])]\n",
    "    while len(stack) != 0:\n",
    "        node, valList = stack.pop()\n",
    "        if node.left is None and node.right is None:\n",
    "            if sum(valList) == target:\n",
    "                res.append(valList)\n",
    "            if node.left:\n",
    "                leftList = valList.append(node.left.val)\n",
    "                stack.append((node.left, leftList))\n",
    "            if node.right:\n",
    "                rightList = valList.append(node.right.val)\n",
    "                stack.append((node.right, rightList))\n",
    "    return res"
   ]
  },
  {
   "cell_type": "code",
   "execution_count": 2,
   "id": "plastic-withdrawal",
   "metadata": {},
   "outputs": [
    {
     "data": {
      "text/plain": [
       "5"
      ]
     },
     "execution_count": 2,
     "metadata": {},
     "output_type": "execute_result"
    }
   ],
   "source": [
    "##127. Word Ladder\n",
    "# Input: beginWord = \"hit\", endWord = \"cog\", wordList = [\"hot\",\"dot\",\"dog\",\"lot\",\"log\",\"cog\"]\n",
    "# Output: 5\n",
    "# Explanation: One shortest transformation sequence is \"hit\" -> \"hot\" -> \"dot\" -> \"dog\" -> cog\", \n",
    "# which is 5 words long.\n",
    "\n",
    "def wordLadder(beginWord, endWord, wordList):\n",
    "    if len(beginWord) == 0 or len(endWord) == 0:\n",
    "        return 0\n",
    "    wordList = set(wordList)\n",
    "    if endWord not in wordList:\n",
    "        return 0\n",
    "    level = 1\n",
    "    stack = [beginWord]\n",
    "    alpha = \"abcdefghijklmnopqrstuvwxyz\"\n",
    "    \n",
    "    while len(stack) != 0:\n",
    "        levels = []\n",
    "        for word in stack:\n",
    "            if word == endWord:\n",
    "                return level\n",
    "            for i, char in enumerate(word):\n",
    "                for c in alpha:\n",
    "                    newWord = word[:i] + c + word[i+1:]\n",
    "                    if newWord in wordList:\n",
    "                        levels.append(newWord)\n",
    "                        wordList.remove(newWord)\n",
    "        stack = levels\n",
    "        level += 1\n",
    "    return 0\n",
    "\n",
    "beginWord = \"hit\"\n",
    "endWord = \"cog\"\n",
    "wordList = [\"hot\",\"dot\",\"dog\",\"lot\",\"log\",\"cog\"]\n",
    "wordLadder(beginWord, endWord, wordList)\n",
    "##Time O(M*N*26)  space O(N)  M == avg length of word in wordlist, n - length of wordList"
   ]
  },
  {
   "cell_type": "code",
   "execution_count": 5,
   "id": "quality-visiting",
   "metadata": {},
   "outputs": [
    {
     "data": {
      "text/plain": [
       "9"
      ]
     },
     "execution_count": 5,
     "metadata": {},
     "output_type": "execute_result"
    }
   ],
   "source": [
    "##128. Longest Consecutive Sequence\n",
    "def longestConSequence(nums):\n",
    "    if len(nums) == 0:\n",
    "        return 0\n",
    "    numSet = set(nums)\n",
    "    \n",
    "    maxLen = 0\n",
    "    curLen = 0\n",
    "    for num in numSet:\n",
    "        if num - 1 not in numSet:\n",
    "            curNum = num\n",
    "            curLen = 1\n",
    "            while curNum + 1 in numSet:\n",
    "                curNum = curNum + 1\n",
    "                curLen += 1\n",
    "            maxLen = max(maxLen, curLen)\n",
    "    return maxLen\n",
    "\n",
    "nums = [0,3,7,2,5,8,4,6,0,1]\n",
    "longestConSequence(nums)\n",
    "##Time O(N) space O(1)"
   ]
  },
  {
   "cell_type": "code",
   "execution_count": 6,
   "id": "peripheral-mouth",
   "metadata": {},
   "outputs": [],
   "source": [
    "##129. Sum Root to Leaf Numbers\n",
    "\n",
    "def sumRootLeaf(root):\n",
    "    if root is None:\n",
    "        return 0\n",
    "    stack = [(root, [str(root.val)])]\n",
    "    res = []\n",
    "    while len(stack) != 0:\n",
    "        node, valList = stack.pop()\n",
    "        if node.left is None and node.right is None:\n",
    "            res.append(int(\"\".join(valList)))\n",
    "        if node.left:\n",
    "            leftList = valList + [str(node.left.val)]\n",
    "            stack.append((node.left, leftList))\n",
    "        if node.right:\n",
    "            rigthList = valList + [str(node.right.val)]\n",
    "            stack.append((node.right, rightList))\n",
    "    ans = 0\n",
    "    for i in res:\n",
    "        ans += int(i)\n",
    "    return ans"
   ]
  },
  {
   "cell_type": "code",
   "execution_count": 2,
   "id": "small-score",
   "metadata": {},
   "outputs": [
    {
     "data": {
      "text/plain": [
       "7"
      ]
     },
     "execution_count": 2,
     "metadata": {},
     "output_type": "execute_result"
    }
   ],
   "source": [
    "###174. Dungeon Game\n",
    "\n",
    "def dungeonGame(grid):\n",
    "    m = len(grid)\n",
    "    n = len(grid[0])\n",
    "    \n",
    "    if grid[m-1][n-1] > 0:\n",
    "        grid[m-1][n-1] = 1\n",
    "    else:\n",
    "        grid[m-1][n-1] = 1 - grid[m-1][n-1]\n",
    "        \n",
    "    for i in range(m-2, -1, -1):\n",
    "        grid[i][n-1] = max(grid[i+1][n-1] - grid[i][n-1], 1)\n",
    "    for j in range(n-2, -1, -1):\n",
    "        grid[m-1][j] = max(grid[m-1][j+1] - grid[m-1][j], 1)\n",
    "        \n",
    "    for i in range(m-2, -1, -1):\n",
    "        for j in range(n-2, -1, -1):\n",
    "            grid[i][j] = max(min(grid[i+1][j], grid[i][j+1]) - grid[i][j], 1)\n",
    "            \n",
    "    return grid[0][0]\n",
    "\n",
    "grid = [[-2,-3,3],[-5,-10,1],[10,30,-5]]\n",
    "dungeonGame(grid)\n",
    "##Time O(M*N)  space O(1)"
   ]
  },
  {
   "cell_type": "code",
   "execution_count": 13,
   "id": "american-panic",
   "metadata": {},
   "outputs": [
    {
     "name": "stdout",
     "output_type": "stream",
     "text": [
      "[4, 3, 2, 1, 5, 6, 7]\n"
     ]
    },
    {
     "data": {
      "text/plain": [
       "[5, 6, 7, 1, 2, 3, 4]"
      ]
     },
     "execution_count": 13,
     "metadata": {},
     "output_type": "execute_result"
    }
   ],
   "source": [
    "##189. Rotate Array\n",
    "# [1,2,3,4,  5,6,7]\n",
    "# 4, 3, 2, 1,  7,6,5\n",
    "# 5,6,7,1,2,3,4\n",
    "\n",
    "def rotateArray(nums, k):\n",
    "    n = len(nums)\n",
    "    k = k%n\n",
    "    if k == 0:\n",
    "        return nums\n",
    "    reverse(nums, 0, n-k-1)\n",
    "    print(nums)\n",
    "    reverse(nums, n-k, n-1)\n",
    "    reverse(nums, 0, n-1)\n",
    "    return nums\n",
    "    \n",
    "    \n",
    "def reverse(array, left, right):\n",
    "    while left <= right:\n",
    "        array[left], array[right] = array[right], array[left]\n",
    "        left += 1\n",
    "        right -= 1\n",
    "    \n",
    "nums = [1,2,3,4,5,6,7]\n",
    "k = 3\n",
    "rotateArray(nums, k)\n",
    "##Time O(N) space O(1)"
   ]
  },
  {
   "cell_type": "code",
   "execution_count": 36,
   "id": "fifth-destiny",
   "metadata": {},
   "outputs": [
    {
     "data": {
      "text/plain": [
       "12"
      ]
     },
     "execution_count": 36,
     "metadata": {},
     "output_type": "execute_result"
    }
   ],
   "source": [
    "###198. House Robber\n",
    "def houseRobber(nums):\n",
    "    if len(nums) == 0:\n",
    "        return 0\n",
    "    n = len(nums)\n",
    "    table = [0]*n\n",
    "    if n == 1:\n",
    "        return nums[0]\n",
    "    if n == 2:\n",
    "        return max(nums[0], nums[1])\n",
    "    table[0] = nums[0]\n",
    "    table[1] = max(nums[0], nums[1])\n",
    "    \n",
    "    for i in range(2, n):\n",
    "        table[i] = max(nums[i]+table[i-2], table[i-1])\n",
    "    return table[n-1]\n",
    "\n",
    "nums = [2,7,9,3,1]\n",
    "houseRobber(nums)\n",
    "##Time O(N) space O(N)    "
   ]
  },
  {
   "cell_type": "code",
   "execution_count": 18,
   "id": "inclusive-humanity",
   "metadata": {},
   "outputs": [
    {
     "data": {
      "text/plain": [
       "3"
      ]
     },
     "execution_count": 18,
     "metadata": {},
     "output_type": "execute_result"
    }
   ],
   "source": [
    "###200. Number of Islands\n",
    "def numOfIsland(grid):\n",
    "    count = 0\n",
    "    visited = [[False for col in range(len(grid[0]))] for row in range(len(grid))]\n",
    "    \n",
    "    for i in range(len(grid)):\n",
    "        for j in range(len(grid[0])):\n",
    "            if grid[i][j] == \"1\" and not visited[i][j]:\n",
    "                DFS(grid, visited, i, j)\n",
    "                count += 1\n",
    "    return count\n",
    "\n",
    "\n",
    "def DFS(grid, visited, i, j):\n",
    "    if i < 0 or i >= len(grid) or j < 0 or j >= len(grid[0]) or grid[i][j] != \"1\":\n",
    "        return\n",
    "    if visited[i][j]:\n",
    "        return\n",
    "    visited[i][j] = True\n",
    "    DFS(grid, visited, i+1, j)\n",
    "    DFS(grid, visited, i-1, j)\n",
    "    DFS(grid, visited, i, j+1)\n",
    "    DFS(grid, visited, i, j-1)\n",
    "    \n",
    "grid = [\n",
    "  [\"1\",\"1\",\"0\",\"0\",\"0\"],\n",
    "  [\"1\",\"1\",\"0\",\"0\",\"0\"],\n",
    "  [\"0\",\"0\",\"1\",\"0\",\"0\"],\n",
    "  [\"0\",\"0\",\"0\",\"1\",\"1\"]\n",
    "]\n",
    "\n",
    "numOfIsland(grid)\n",
    "\n",
    "#Time O(M*N)  space O(M*N)"
   ]
  },
  {
   "cell_type": "code",
   "execution_count": 21,
   "id": "political-double",
   "metadata": {},
   "outputs": [
    {
     "data": {
      "text/plain": [
       "3"
      ]
     },
     "execution_count": 21,
     "metadata": {},
     "output_type": "execute_result"
    }
   ],
   "source": [
    "##Number of Island using constant space\n",
    "\n",
    "def numOfIsland2(grid):\n",
    "    count = 0\n",
    "    for i in range(len(grid)):\n",
    "        for j in range(len(grid[0])):\n",
    "            if grid[i][j] == \"1\":\n",
    "                DFS(grid, i, j)\n",
    "                count += 1\n",
    "    return count\n",
    "\n",
    "def DFS(grid, i, j):\n",
    "    if i < 0 or i >= len(grid) or j < 0 or j >= len(grid[0]) or grid[i][j] != \"1\":\n",
    "        return\n",
    "    grid[i][j] = \"2\"\n",
    "    DFS(grid, i+1, j)\n",
    "    DFS(grid, i-1, j)\n",
    "    DFS(grid, i, j+1)\n",
    "    DFS(grid, i, j-1)\n",
    "    \n",
    "grid = [\n",
    "  [\"1\",\"1\",\"0\",\"0\",\"0\"],\n",
    "  [\"1\",\"1\",\"0\",\"0\",\"0\"],\n",
    "  [\"0\",\"0\",\"1\",\"0\",\"0\"],\n",
    "  [\"0\",\"0\",\"0\",\"1\",\"1\"]\n",
    "]\n",
    "\n",
    "numOfIsland2(grid)\n",
    "##Time O(M*N) space O(1)"
   ]
  },
  {
   "cell_type": "code",
   "execution_count": 24,
   "id": "continental-frank",
   "metadata": {},
   "outputs": [
    {
     "data": {
      "text/plain": [
       "False"
      ]
     },
     "execution_count": 24,
     "metadata": {},
     "output_type": "execute_result"
    }
   ],
   "source": [
    "##202. Happy Number\n",
    "def happyNumber(num):\n",
    "    def getNext(num):\n",
    "        Sum = 0\n",
    "        while num > 0:\n",
    "            rem = num%10\n",
    "            num = num // 10\n",
    "            Sum += rem**2\n",
    "        return Sum\n",
    "    \n",
    "    slow = num\n",
    "    fast = num\n",
    "    while fast != 1 and getNext(fast) != 1:\n",
    "        slow = getNext(slow)\n",
    "        fast = getNext(getNext(fast))\n",
    "        if slow == fast:\n",
    "            return False\n",
    "    return True\n",
    "\n",
    "num = 2\n",
    "happyNumber(num)\n",
    "##Time O(logN) space O(1)"
   ]
  },
  {
   "cell_type": "code",
   "execution_count": 25,
   "id": "short-incentive",
   "metadata": {},
   "outputs": [],
   "source": [
    "##206. Reverse Linked List\n",
    "def reverseLinkedList(head):\n",
    "    if head is None:\n",
    "        return None\n",
    "    prev = None\n",
    "    while head:\n",
    "        temp = head.next\n",
    "        head.next = prev\n",
    "        prev = head\n",
    "        head = temp\n",
    "    return prev\n",
    "\n",
    "##Time O(N)   space O(1)"
   ]
  },
  {
   "cell_type": "code",
   "execution_count": 32,
   "id": "liable-insider",
   "metadata": {},
   "outputs": [
    {
     "data": {
      "text/plain": [
       "1"
      ]
     },
     "execution_count": 32,
     "metadata": {},
     "output_type": "execute_result"
    }
   ],
   "source": [
    "##204. Count Primes\n",
    "def countPrimes(num):\n",
    "    if num <= 2:\n",
    "        return 0\n",
    "    table = [False]*num\n",
    "    #limit = int(sqrt(num))\n",
    "    for i in range(2, num):\n",
    "        if table[i] == False:\n",
    "            for j in range(i*i, num, i):\n",
    "                table[j] = True\n",
    "    count = 0\n",
    "    for i in range(2, num):\n",
    "        if table[i] == False:\n",
    "            count += 1\n",
    "    return count\n",
    "\n",
    "num = 3\n",
    "countPrimes(num)\n",
    "##Time O(sqrt(n)*loglog(n))  space O(n)"
   ]
  },
  {
   "cell_type": "code",
   "execution_count": 38,
   "id": "original-saying",
   "metadata": {},
   "outputs": [
    {
     "data": {
      "text/plain": [
       "3"
      ]
     },
     "execution_count": 38,
     "metadata": {},
     "output_type": "execute_result"
    }
   ],
   "source": [
    "##213. House Robber II\n",
    "def houseRobber2(nums):\n",
    "    n = len(nums)\n",
    "    if len(nums) == 0:\n",
    "        return 0\n",
    "    if len(nums) <= 2:\n",
    "        return max(nums)\n",
    "    return max(helper(nums[0:n-1]), helper(nums[1:n]))\n",
    "    \n",
    "def helper(nums):\n",
    "    n = len(nums)\n",
    "    table = [0]*n\n",
    "    if len(nums) >= 1:\n",
    "        table[0] = nums[0]\n",
    "    if len(nums) >= 2:\n",
    "        table[1] = max(nums[0], nums[1])\n",
    "        \n",
    "    for i in range(2, n):\n",
    "        table[i] = max(nums[i]+table[i-2], table[i-1])\n",
    "    return table[n-1]\n",
    "\n",
    "nums = [1,2,3]\n",
    "houseRobber2(nums)\n",
    "##Time O(N) space O(N)"
   ]
  },
  {
   "cell_type": "code",
   "execution_count": 5,
   "id": "metropolitan-remains",
   "metadata": {},
   "outputs": [
    {
     "data": {
      "text/plain": [
       "'dcbabcd'"
      ]
     },
     "execution_count": 5,
     "metadata": {},
     "output_type": "execute_result"
    }
   ],
   "source": [
    "###214. Shortest Palindrome\n",
    "def shortestPalin(s):\n",
    "    if len(s) == 0 or s == s[::-1]:\n",
    "        return \"\"\n",
    "    revS = s[::-1]\n",
    "    newStr = s + \"*\" + revS\n",
    "    n = len(s)\n",
    "    table = [0]*len(newStr)\n",
    "    j = 0\n",
    "    for i in range(1, len(table)):\n",
    "        while j > 0 and newStr[i] != newStr[j]:\n",
    "            j = table[j-1]\n",
    "        \n",
    "        if newStr[i] == newStr[j]:\n",
    "            table[i] = j + 1\n",
    "            j += 1\n",
    "            \n",
    "    return revS[:n-table[-1]] + s\n",
    "\n",
    "s = \"abcd\"\n",
    "shortestPalin(s)"
   ]
  },
  {
   "cell_type": "code",
   "execution_count": 3,
   "id": "annual-milan",
   "metadata": {},
   "outputs": [
    {
     "data": {
      "text/plain": [
       "4"
      ]
     },
     "execution_count": 3,
     "metadata": {},
     "output_type": "execute_result"
    }
   ],
   "source": [
    "####215. Kth Largest Element in an Array\n",
    "def kthLargest(nums, k):\n",
    "    if len(nums) == 0 or k > len(nums):\n",
    "        return None\n",
    "    first_index = 0\n",
    "    last_index = len(nums) - 1\n",
    "    \n",
    "    while first_index <= last_index:\n",
    "        idx = partition(first_index, last_index, nums)\n",
    "        if idx == k - 1:\n",
    "            return nums[idx]\n",
    "        if idx < k - 1:\n",
    "            first_index = idx + 1\n",
    "        else:\n",
    "            last_index = idx - 1\n",
    "    return None\n",
    "    \n",
    "def partition(first_index, last_index, nums):\n",
    "    pivot = (first_index + last_index) // 2\n",
    "    nums[last_index], nums[pivot] = nums[pivot], nums[last_index]\n",
    "    \n",
    "    for i in range(first_index, last_index):\n",
    "        if nums[i] > nums[last_index]:\n",
    "            nums[i], nums[first_index] = nums[first_index], nums[i]\n",
    "            first_index += 1\n",
    "    nums[first_index], nums[last_index] = nums[last_index], nums[first_index]\n",
    "    return first_index\n",
    "            \n",
    "nums = [3,2,3,1,2,4,5,5,6]\n",
    "k = 4\n",
    "kthLargest(nums, k)\n",
    "\n",
    "##Time O(N) space O(1)"
   ]
  },
  {
   "cell_type": "code",
   "execution_count": 7,
   "id": "valuable-pregnancy",
   "metadata": {},
   "outputs": [
    {
     "data": {
      "text/plain": [
       "[[1, 2, 6], [1, 3, 5], [2, 3, 4]]"
      ]
     },
     "execution_count": 7,
     "metadata": {},
     "output_type": "execute_result"
    }
   ],
   "source": [
    "###216. Combination Sum III\n",
    "def combinationSum3(n, k):\n",
    "    nums = [1,2,3,4,5,6,7,8,9]\n",
    "    temp = []\n",
    "    res = []\n",
    "    helper(nums, temp, res, n, k)\n",
    "    return res\n",
    "\n",
    "def helper(nums, temp, res, n, k):\n",
    "    if len(temp) == k and n == 0:\n",
    "        res.append(temp)\n",
    "        return\n",
    "    if n < 0:\n",
    "        return\n",
    "    if len(temp) > k:\n",
    "        return\n",
    "    for i in range(len(nums)):\n",
    "        helper(nums[i+1:], temp+[nums[i]], res, n-nums[i], k)\n",
    "        \n",
    "k = 3\n",
    "n = 9\n",
    "combinationSum3(n, k)"
   ]
  },
  {
   "cell_type": "code",
   "execution_count": 11,
   "id": "unauthorized-process",
   "metadata": {},
   "outputs": [
    {
     "data": {
      "text/plain": [
       "True"
      ]
     },
     "execution_count": 11,
     "metadata": {},
     "output_type": "execute_result"
    }
   ],
   "source": [
    "##217. Contains Duplicate\n",
    "def containDuplicate(nums):\n",
    "    visited = set()\n",
    "    for num in nums:\n",
    "        if num in visited:\n",
    "            return True\n",
    "        visited.add(num)\n",
    "    return False\n",
    "\n",
    "nums = [1,1,1,3,3,4,3,2,4,2]\n",
    "containDuplicate(nums)\n",
    "\n",
    "##Time O(N) space O(N)"
   ]
  },
  {
   "cell_type": "code",
   "execution_count": 7,
   "id": "committed-naples",
   "metadata": {},
   "outputs": [
    {
     "data": {
      "text/plain": [
       "12"
      ]
     },
     "execution_count": 7,
     "metadata": {},
     "output_type": "execute_result"
    }
   ],
   "source": [
    "###264 ugly number2\n",
    "def uglyNumber2(num):\n",
    "    table = [0]*num\n",
    "    table[0] = 1\n",
    "    i2 = 0\n",
    "    i3 = 0\n",
    "    i5 = 0\n",
    "    \n",
    "    mul2 = 2\n",
    "    mul3 = 3\n",
    "    mul5 = 5\n",
    "    \n",
    "    for i in range(1, len(table)):\n",
    "        table[i] = min(mul2, mul3, mul5)\n",
    "        \n",
    "        if table[i] == mul2:\n",
    "            i2 += 1\n",
    "            mul2 = table[i2]*2\n",
    "            \n",
    "        if table[i] == mul3:\n",
    "            i3 += 1\n",
    "            mul3 = table[i3]*3\n",
    "            \n",
    "        if table[i] == mul5:\n",
    "            i5 += 1\n",
    "            mul5 = table[i5]*5\n",
    "            \n",
    "    return table[-1]\n",
    "\n",
    "uglyNumber2(10)"
   ]
  },
  {
   "cell_type": "code",
   "execution_count": 10,
   "id": "major-luxury",
   "metadata": {},
   "outputs": [
    {
     "data": {
      "text/plain": [
       "8"
      ]
     },
     "execution_count": 10,
     "metadata": {},
     "output_type": "execute_result"
    }
   ],
   "source": [
    "##268. Missing Number\n",
    "def missingNumber(nums):\n",
    "    n = len(nums)\n",
    "    actual = n*(n+1)//2\n",
    "    original = sum(nums)\n",
    "    return actual - original\n",
    "\n",
    "nums = [9,6,4,2,3,5,7,0,1]\n",
    "missingNumber(nums)"
   ]
  },
  {
   "cell_type": "code",
   "execution_count": 5,
   "id": "accomplished-happening",
   "metadata": {},
   "outputs": [
    {
     "data": {
      "text/plain": [
       "'One Million Two Hundred Thirty Four Thousand Five Hundred Sixty Seven'"
      ]
     },
     "execution_count": 5,
     "metadata": {},
     "output_type": "execute_result"
    }
   ],
   "source": [
    "##273. Integer to English Words\n",
    "def intToEngWord(num):\n",
    "    dict1 = {1:\"One\", 2:\"Two\", 3:\"Three\", 4:\"Four\", 5:\"Five\", \n",
    "             6:\"Six\", 7:\"Seven\", 8:\"Eight\", 9:\"Nine\"}\n",
    "    dict2 = {90:\"Ninety\", 80:\"Eighty\", 70:\"Seventy\", 60:\"Sixty\", 50:\"Fifty\", 40:\"Forty\",\n",
    "             30:\"Thirty\", 20:\"Twenty\"}\n",
    "    dict3 = {19:\"Nineteen\", 18:\"Eighteen\", 17:\"Seventeen\", 16:\"Sixteen\", 15:\"Fifteen\",\n",
    "            14:\"Forteen\", 13:\"Thirteen\", 12:\"Twelve\", 11:\"Eleven\", 10:\"Ten\"}\n",
    "    \n",
    "    def helper(num):\n",
    "        if num < 10:\n",
    "            return dict1[num]\n",
    "        elif 10 <= num < 20:\n",
    "            return dict3[num]\n",
    "        elif num < 100:\n",
    "            res = []\n",
    "            q, rem = divmod(num, 10)\n",
    "            res.append(dict2[q*10])\n",
    "            if rem > 0:\n",
    "                res.append(\" \" + dict1[rem])\n",
    "            return \"\".join(res)\n",
    "        elif num < 1000:\n",
    "            q, rem = divmod(num, 100)\n",
    "            if rem == 0:\n",
    "                return dict1[q] + \" \" + \"Hundred\"\n",
    "            else:\n",
    "                return dict1[q] + \" \" + \"Hundred\" + \" \" + helper(rem)\n",
    "        elif num < 1000000:\n",
    "            q , rem = divmod(num, 1000)\n",
    "            if rem == 0:\n",
    "                return helper(q) + \" \" + \"Thousand\"\n",
    "            else:\n",
    "                return helper(q) + \" \" + \"Thousand\" + \" \" + helper(rem)\n",
    "        elif num < 1000000000:\n",
    "            q, rem = divmod(num, 1000000)\n",
    "            if rem == 0:\n",
    "                return helper(q) + \" \" + \"Million\"\n",
    "            else:\n",
    "                return helper(q) + \" \" + \"Million\" + \" \" + helper(rem)\n",
    "        else:\n",
    "            q, rem = divmod(num, 1000000000)\n",
    "            if rem == 0:\n",
    "                return helper(q) + \" \" + \"Billion\"\n",
    "            else:\n",
    "                return helper(q) + \" \" + \"Billion\" + \" \" + helper(rem)\n",
    "    if num == 0:\n",
    "        return \"Zero\"\n",
    "    return helper(num)\n",
    "\n",
    "num = 1234567\n",
    "intToEngWord(num)\n",
    "##Time complexity O(N)  space O(N)"
   ]
  },
  {
   "cell_type": "code",
   "execution_count": 7,
   "id": "interior-collins",
   "metadata": {},
   "outputs": [],
   "source": [
    "###278. First Bad Version\n",
    "def firstBadVersion(n):\n",
    "    left = 0\n",
    "    right = n\n",
    "    \n",
    "    while left <= right:\n",
    "        mid = left + (right-left)//2\n",
    "        if isBad(mid):\n",
    "            right = mid - 1\n",
    "        else:\n",
    "            left = mid + 1\n",
    "    return left\n",
    "\n",
    "###Time O(N)  space O(N)"
   ]
  },
  {
   "cell_type": "code",
   "execution_count": 10,
   "id": "fitted-essence",
   "metadata": {},
   "outputs": [
    {
     "data": {
      "text/plain": [
       "3"
      ]
     },
     "execution_count": 10,
     "metadata": {},
     "output_type": "execute_result"
    }
   ],
   "source": [
    "##279. Perfect Squares\n",
    "def perfectSquare(n):\n",
    "    if n < 4:\n",
    "        return n\n",
    "    table = [0]*(n+1)\n",
    "    table[0] = 0\n",
    "    table[1] = 1\n",
    "    table[2] = 2\n",
    "    table[3] = 3\n",
    "    \n",
    "    for i in range(4, len(table)):\n",
    "        table[i] = i\n",
    "        j = 1\n",
    "        while j*j <= i:\n",
    "            table[i] = min(table[i], table[i-j*j] + 1)\n",
    "            j += 1\n",
    "    return table[-1]\n",
    "\n",
    "n = 12\n",
    "perfectSquare(n)\n",
    "##Time O(N*sqrt(N))  space O(N)"
   ]
  },
  {
   "cell_type": "code",
   "execution_count": 12,
   "id": "reasonable-england",
   "metadata": {},
   "outputs": [
    {
     "data": {
      "text/plain": [
       "[1, 3, 12]"
      ]
     },
     "execution_count": 12,
     "metadata": {},
     "output_type": "execute_result"
    }
   ],
   "source": [
    "#    r\n",
    "# 0  1  0  3  12\n",
    "# 1  3  12  0  0\n",
    "#           L    r\n",
    "\n",
    "##283. Move Zeroes\n",
    "def moveZeros(nums):\n",
    "    left = 0\n",
    "    right = 0\n",
    "    n = len(nums)\n",
    "    \n",
    "    while right < n:\n",
    "        if nums[right] == 0:\n",
    "            right += 1\n",
    "        else:\n",
    "            nums[left], nums[right] = nums[right], nums[left]\n",
    "            left += 1\n",
    "            right += 1\n",
    "    return nums[:left]\n",
    "\n",
    "nums = [0, 1,0,3,12]\n",
    "moveZeros(nums)"
   ]
  },
  {
   "cell_type": "code",
   "execution_count": 25,
   "id": "parallel-worth",
   "metadata": {},
   "outputs": [],
   "source": [
    "##284. Peeking Iterator\n",
    "# Below is the interface for Iterator, which is already defined for you.\n",
    "#\n",
    "# class Iterator:\n",
    "#     def __init__(self, nums):\n",
    "#         \"\"\"\n",
    "#         Initializes an iterator object to the beginning of a list.\n",
    "#         :type nums: List[int]\n",
    "#         \"\"\"\n",
    "#\n",
    "#     def hasNext(self):\n",
    "#         \"\"\"\n",
    "#         Returns true if the iteration has more elements.\n",
    "#         :rtype: bool\n",
    "#         \"\"\"\n",
    "#\n",
    "#     def next(self):\n",
    "#         \"\"\"\n",
    "#         Returns the next element in the iteration.\n",
    "#         :rtype: int\n",
    "#         \"\"\"\n",
    "\n",
    "class peekingIterator:\n",
    "    def __init__(self, Iterator):\n",
    "        self.Iterator = Iterator\n",
    "        self.nextElement = None\n",
    "        if self.Iterator.hasNext():\n",
    "            self.nextElement = self.Iterator.next()\n",
    "            \n",
    "    def next(self):\n",
    "        res = self.nextElement\n",
    "        if self.Iterator.hasNext():\n",
    "            self.nextElement = self.Iterator.next()\n",
    "        else:\n",
    "            self.nextElement = None\n",
    "        return res\n",
    "    \n",
    "    def peek(self):\n",
    "        return nextElement\n",
    "    \n",
    "    def hasNext(self):\n",
    "        return self.nextElement != None\n",
    "    \n",
    "            \n"
   ]
  },
  {
   "cell_type": "code",
   "execution_count": 8,
   "id": "threatened-diabetes",
   "metadata": {},
   "outputs": [
    {
     "data": {
      "text/plain": [
       "0"
      ]
     },
     "execution_count": 8,
     "metadata": {},
     "output_type": "execute_result"
    }
   ],
   "source": [
    "##322. Coin Change\n",
    "def coinChange(coins, amount):\n",
    "    if amount == 0:\n",
    "        return 0\n",
    "    table = [None]*(amount+1)\n",
    "    table[0] = []\n",
    "    for i in range(len(table)):\n",
    "        if table[i] != None:\n",
    "            for num in coins:\n",
    "                if i + num <= len(table) - 1:\n",
    "                    combination = table[i] + [num]\n",
    "                    if table[i+num] == None or len(combination) < len(table[i]):\n",
    "                        table[i+num] = combination\n",
    "    if table[-1] == None:\n",
    "        return -1\n",
    "    else:\n",
    "        return len(table[-1])\n",
    "\n",
    "coins = [1]\n",
    "amount = 0\n",
    "coinChange(coins, amount)"
   ]
  },
  {
   "cell_type": "code",
   "execution_count": 10,
   "id": "conservative-cedar",
   "metadata": {},
   "outputs": [
    {
     "data": {
      "text/plain": [
       "3"
      ]
     },
     "execution_count": 10,
     "metadata": {},
     "output_type": "execute_result"
    }
   ],
   "source": [
    "##322. Coin Change\n",
    "# coins = [1,2,5], amount = 11\n",
    "def coinChange(coins, amount):\n",
    "    if amount == 0:\n",
    "        return 0\n",
    "    table = [amount+1]*(amount+1)\n",
    "    table[0] = 0\n",
    "    for val in range(len(table)):\n",
    "        for coin in coins:\n",
    "            if coin <= val:\n",
    "                table[val] = min(table[val], 1 + table[val-coin])\n",
    "    return table[-1]\n",
    "coins = [1,2,5]\n",
    "amount = 11\n",
    "coinChange(coins, amount)\n",
    "##Time complexity O(MN)  space O (M)  == N = number of coins M = amount"
   ]
  },
  {
   "cell_type": "code",
   "execution_count": 12,
   "id": "acting-decrease",
   "metadata": {},
   "outputs": [],
   "source": [
    "##328. Odd Even Linked List\n",
    "def oddEvenLinkedList(head):\n",
    "    if head is None:\n",
    "        return None\n",
    "    oddHead = head\n",
    "    evenHead = head.next\n",
    "    \n",
    "    odd = head\n",
    "    even = head.next\n",
    "    \n",
    "    while evenHead and evenHead.next:\n",
    "        evenHead.next = evenHead.next.next\n",
    "        oddHead.next = oddhead.next.next\n",
    "        \n",
    "        oddHead = oddHead.next\n",
    "        evenHead = evenHead.next\n",
    "        \n",
    "    oddHead.next = even\n",
    "    return head\n",
    "\n",
    "##Time O(N)  space O(1)"
   ]
  },
  {
   "cell_type": "code",
   "execution_count": 1,
   "id": "sought-novel",
   "metadata": {},
   "outputs": [],
   "source": [
    "###297. Serialize and Deserialize Binary Tree\n",
    "class TreeNode:\n",
    "    def __init__(self, val):\n",
    "        self.val = val\n",
    "        self.left = left\n",
    "        self.right = right\n",
    "        \n",
    "class SerializeAndDeserialize:\n",
    "    import collections\n",
    "    def serialize(self, root):\n",
    "        res = []\n",
    "        DFS(self, root, res)\n",
    "        return \"\".join(res)\n",
    "        \n",
    "    def DFS(self, root, res):\n",
    "        if root is None:\n",
    "            return \"None,\"\n",
    "        res.append(str(root.val)+\",\")\n",
    "        self.DFS(root.left, res)\n",
    "        self.DFS(root.right, res)\n",
    "        \n",
    "    def deSerialize(self, data):\n",
    "        dataList = data.split(\",\")\n",
    "        queue = collections.deque(dataList)\n",
    "        root = self.deSerialize_helper(queue)\n",
    "        return root\n",
    "    def deSerialize_helper(self, queue):\n",
    "        if queue[0] == \"None\":\n",
    "            queue.popleft()\n",
    "            return None\n",
    "        else:\n",
    "            root = TreeNode(queue[0])\n",
    "            queue.popleft()\n",
    "            root.left = deSerialize_helper(queue)\n",
    "            root.right = deSerialize_helper(queue)\n",
    "        return root\n"
   ]
  },
  {
   "cell_type": "code",
   "execution_count": 8,
   "id": "logical-sucking",
   "metadata": {},
   "outputs": [
    {
     "data": {
      "text/plain": [
       "[7]"
      ]
     },
     "execution_count": 8,
     "metadata": {},
     "output_type": "execute_result"
    }
   ],
   "source": [
    "##300. Longest Increasing Subsequence\n",
    "##nums = [10,9,2,5,3,7,101,18]\n",
    "\n",
    "def longestIncreasingSub(nums):\n",
    "    table = []\n",
    "    table.append(nums[0])\n",
    "    for i in range(1, len(nums)):\n",
    "        if nums[i] > table[-1]:\n",
    "            table.append(nums[i])\n",
    "        else:\n",
    "            idx = binaryInsert(table, nums[i])\n",
    "            table[idx] = nums[i]\n",
    "    return table\n",
    "\n",
    "def binaryInsert(table, element):\n",
    "    left = 0\n",
    "    right = len(table) - 1\n",
    "    \n",
    "    while left <= right:\n",
    "        mid = left + (right-left)//2\n",
    "        if table[mid] == element:\n",
    "            return mid\n",
    "        if table[mid] < element:\n",
    "            left = mid + 1\n",
    "        else:\n",
    "            right = mid - 1\n",
    "    return left\n",
    "\n",
    "nums = [7,7,7,7,7,7,7]\n",
    "longestIncreasingSub(nums)\n",
    "##Time O(nlogn)  space O(n)"
   ]
  },
  {
   "cell_type": "code",
   "execution_count": 11,
   "id": "covered-august",
   "metadata": {},
   "outputs": [
    {
     "data": {
      "text/plain": [
       "[1, 1, 1, 2, 2, 3, 4, 4]"
      ]
     },
     "execution_count": 11,
     "metadata": {},
     "output_type": "execute_result"
    }
   ],
   "source": [
    "##Another approach\n",
    "nums = [10,9,2,5,3,7,101,18]\n",
    "def longestIncreasing2(nums):\n",
    "    table = [1]*len(nums)\n",
    "    for i in range(len(nums)):\n",
    "        for j in range(i):\n",
    "            if nums[i] > nums[j]:\n",
    "                table[i] = max(table[i], 1 + table[j])\n",
    "    return table\n",
    "\n",
    "longestIncreasing2(nums)"
   ]
  },
  {
   "cell_type": "code",
   "execution_count": 14,
   "id": "behavioral-china",
   "metadata": {},
   "outputs": [
    {
     "data": {
      "text/plain": [
       "5"
      ]
     },
     "execution_count": 14,
     "metadata": {},
     "output_type": "execute_result"
    }
   ],
   "source": [
    "##673. Number of Longest Increasing Subsequence\n",
    "def numberOfLongest(nums):\n",
    "    LIS = [1]*len(nums)\n",
    "    count = [1]*len(nums)\n",
    "    n = len(nums)\n",
    "    for i in range(n):\n",
    "        for j in range(i):\n",
    "            if nums[i] > nums[j]:\n",
    "                if LIS[j] >= LIS[i]:\n",
    "                    LIS[i] = LIS[j] + 1\n",
    "                    count[i] = count[j]\n",
    "                elif LIS[j] == LIS[i] - 1:\n",
    "                    count[i] += count[j]\n",
    "                    \n",
    "    maxLen = max(LIS)\n",
    "    res = 0\n",
    "    for i in range(len(LIS)):\n",
    "        if LIS[i] == maxLen:\n",
    "            res += count[i]\n",
    "    return res\n",
    "\n",
    "nums = [2,2,2,2,2]\n",
    "numberOfLongest(nums)\n",
    "##Time O(N^2)  O(N)"
   ]
  },
  {
   "cell_type": "code",
   "execution_count": 18,
   "id": "closed-ghana",
   "metadata": {},
   "outputs": [
    {
     "data": {
      "text/plain": [
       "['(a())()', '(a)()()']"
      ]
     },
     "execution_count": 18,
     "metadata": {},
     "output_type": "execute_result"
    }
   ],
   "source": [
    "##301. Remove Invalid Parentheses\n",
    "\n",
    "\n",
    "def removeInvalidparen(s):\n",
    "    if isValid(s):\n",
    "        return [s]\n",
    "    res = []\n",
    "    import collections\n",
    "    queue = collections.deque([s])\n",
    "    isFound = False\n",
    "    visited = set()\n",
    "    while len(queue) != 0:\n",
    "        cur = queue.popleft()\n",
    "        if cur in visited:\n",
    "            continue\n",
    "        visited.add(cur)\n",
    "        if isValid(cur):\n",
    "            res.append(cur)\n",
    "            isFound = True\n",
    "        if isFound:\n",
    "            continue\n",
    "        for i in range(len(cur)):\n",
    "            if cur[i] == \"(\" or cur[i] == \")\":\n",
    "                temp = cur[:i] + cur[i+1:]\n",
    "                if temp not in visited:\n",
    "                    queue.append(temp)\n",
    "    return res            \n",
    "    \n",
    "def isValid(s):\n",
    "    count = 0\n",
    "    for c in s:\n",
    "        if c == \"(\":\n",
    "            count += 1\n",
    "        elif c == \")\":\n",
    "            count -= 1\n",
    "        if count < 0:\n",
    "            return False\n",
    "    return count == 0\n",
    "\n",
    "s = \"(a)())()\"\n",
    "removeInvalidparen(s)"
   ]
  },
  {
   "cell_type": "code",
   "execution_count": 21,
   "id": "turkish-quebec",
   "metadata": {},
   "outputs": [
    {
     "data": {
      "text/plain": [
       "[[1], [1, 1], [1, 2, 1], [1, 3, 3, 1], [1, 4, 6, 4, 1]]"
      ]
     },
     "execution_count": 21,
     "metadata": {},
     "output_type": "execute_result"
    }
   ],
   "source": [
    "##118. Pascal's Triangle\n",
    "def pascalTraingle(n):\n",
    "    res = [[1]*i for i in range(1,n+1)]\n",
    "    for i in range(2, n):\n",
    "        for j in range(1,i):\n",
    "            res[i][j] = res[i-1][j-1] + res[i-1][j]\n",
    "    \n",
    "    \n",
    "    return res\n",
    "\n",
    "pascalTraingle(5)\n",
    "##Time O(n^2)  space O(n^2)"
   ]
  },
  {
   "cell_type": "code",
   "execution_count": 23,
   "id": "acquired-produce",
   "metadata": {},
   "outputs": [
    {
     "data": {
      "text/plain": [
       "[1, 3, 3, 1]"
      ]
     },
     "execution_count": 23,
     "metadata": {},
     "output_type": "execute_result"
    }
   ],
   "source": [
    "##119. Pascal's Triangle II\n",
    "def pascalTriangle2(rowIndex):\n",
    "    n = rowIndex + 1\n",
    "    res = [[1]*i for i in range(1, n+1)]\n",
    "    for i in range(2, n):\n",
    "        for j in range(1, i):\n",
    "            res[i][j] = res[i-1][j-1] + res[i-1][j]\n",
    "    return res[rowIndex]\n",
    "\n",
    "pascalTriangle2(3)\n",
    "##Time O(N^2)  space O(N^2)"
   ]
  },
  {
   "cell_type": "code",
   "execution_count": 27,
   "id": "protecting-manual",
   "metadata": {},
   "outputs": [
    {
     "data": {
      "text/plain": [
       "'BANC'"
      ]
     },
     "execution_count": 27,
     "metadata": {},
     "output_type": "execute_result"
    }
   ],
   "source": [
    "##76. Minimum Window Substring\n",
    "# Input: s = \"ADOBECODEBANC\", t = \"ABC\"\n",
    "# Output: \"BANC\"\n",
    "# Explanation: The minimum window substring \"BANC\" includes 'A', 'B', and 'C' from string t.\n",
    "\n",
    "def minWindowSubstr(s, t):\n",
    "    if not s or not t:\n",
    "        return \"\"\n",
    "    dict_t = {}\n",
    "    for c in t:\n",
    "        if c in dict_t:\n",
    "            dict_t[c] += 1\n",
    "        else:\n",
    "            dict_t[c] = 1\n",
    "            \n",
    "    filtered_s = []\n",
    "    for i, c in enumerate(s):\n",
    "        if c in dict_t:\n",
    "            filtered_s.append((i, c))\n",
    "    required = len(dict_t)\n",
    "    formed = 0\n",
    "    left = 0\n",
    "    right = 0\n",
    "    res = [float('inf'), -1, -1]\n",
    "    windowStr = {}\n",
    "    while right < len(filtered_s):\n",
    "        char = filtered_s[right][1]\n",
    "        windowStr[char] = windowStr.get(char,0) + 1\n",
    "        if windowStr[char] == dict_t[char]:\n",
    "            formed += 1\n",
    "        while left <= right and formed == required:\n",
    "            start = filtered_s[left][0]\n",
    "            end = filtered_s[right][0]\n",
    "            \n",
    "            if end-start+1 < res[0]:\n",
    "                res = [end-start+1, start, end]\n",
    "            character = filtered_s[left][1]\n",
    "            windowStr[character] -= 1\n",
    "            if windowStr[character] < dict_t[character]:\n",
    "                formed -= 1\n",
    "            left += 1\n",
    "        right += 1\n",
    "    if res[0] == float('inf'):\n",
    "        return \"None\"\n",
    "    else:\n",
    "        return s[res[1]:res[2]+1]\n",
    "    \n",
    "s = \"ADOBECODEBANC\"\n",
    "t = \"ABC\"\n",
    "minWindowSubstr(s, t)\n",
    "##Time O(s+t)  space O(S+T)"
   ]
  },
  {
   "cell_type": "code",
   "execution_count": 10,
   "id": "given-provision",
   "metadata": {},
   "outputs": [
    {
     "data": {
      "text/plain": [
       "True"
      ]
     },
     "execution_count": 10,
     "metadata": {},
     "output_type": "execute_result"
    }
   ],
   "source": [
    "##334. Increasing Triplet Subsequence\n",
    "def increasingTriplet(nums):\n",
    "    i = float('inf')\n",
    "    #j = float('inf')\n",
    "    \n",
    "    for k in range(len(nums)):\n",
    "        if nums[k] <= i:\n",
    "            i = nums[k]\n",
    "#         elif nums[k] <= j:\n",
    "#             j = nums[k]\n",
    "        else:\n",
    "            return True\n",
    "    return False\n",
    "\n",
    "nums = [7,8,5,3,6]\n",
    "increasingTriplet(nums)\n",
    "##Time O(N)  space O(N)"
   ]
  },
  {
   "cell_type": "code",
   "execution_count": 17,
   "id": "swiss-strip",
   "metadata": {},
   "outputs": [
    {
     "name": "stdout",
     "output_type": "stream",
     "text": [
      "[0, 0, 0, 0, 0, 0, 0, 1, 0, 1, 2, 3, 0, 0, 0, 0, 1]\n"
     ]
    },
    {
     "data": {
      "text/plain": [
       "'abctscb'"
      ]
     },
     "execution_count": 17,
     "metadata": {},
     "output_type": "execute_result"
    }
   ],
   "source": [
    "def KMP(s):\n",
    "    revS = s[::-1]\n",
    "    n = len(s)\n",
    "    newStr = s + \"*\" + revS\n",
    "    table = [0]*len(newStr)\n",
    "    j = 0\n",
    "    for i in range(1, len(table)):\n",
    "        while j > 0 and newStr[i] != newStr[j]:\n",
    "            j = table[j-1]\n",
    "\n",
    "        if newStr[i] == newStr[j]:\n",
    "            table[i] = j + 1\n",
    "            j += 1\n",
    "    print(table)\n",
    "    return table[-1]\n",
    "\n",
    "s = \"abcstcba\"\n",
    "end = KMP(s)\n",
    "newStr = s[end:][::-1]\n",
    "newStr"
   ]
  },
  {
   "cell_type": "code",
   "execution_count": 20,
   "id": "hollywood-colombia",
   "metadata": {},
   "outputs": [
    {
     "data": {
      "text/plain": [
       "12"
      ]
     },
     "execution_count": 20,
     "metadata": {},
     "output_type": "execute_result"
    }
   ],
   "source": [
    "##337. House Robber III\n",
    "class TreeNode:\n",
    "    def __init__(self, val):\n",
    "        self.val = val\n",
    "        self.left = None\n",
    "        self.right = None\n",
    "        \n",
    "root = TreeNode(3)\n",
    "root.left = TreeNode(9)\n",
    "root.right = TreeNode(3)\n",
    "root.left.right = TreeNode(3)\n",
    "root.right.right = TreeNode(1)\n",
    "\n",
    "def houseRobber3(root):\n",
    "    if root is None:\n",
    "        return 0\n",
    "    memo = {}\n",
    "    return helper(root, memo)\n",
    "\n",
    "def helper(root, memo):\n",
    "    if root is None:\n",
    "        return 0\n",
    "    if root in memo:\n",
    "        return memo[root]\n",
    "    value = root.val\n",
    "    if root.left:\n",
    "        value += helper(root.left.left, memo) + helper(root.left.right, memo)\n",
    "    if root.right:\n",
    "        value += helper(root.right.left, memo) + helper(root.right.right, memo)\n",
    "    ##value without root\n",
    "    valWithoutRoot = helper(root.left, memo) + helper(root.right, memo)\n",
    "    memo[root] = max(value, valWithoutRoot)\n",
    "    return memo[root]\n",
    "houseRobber3(root)\n",
    "##Time complexity O(N)  space O(logn)"
   ]
  },
  {
   "cell_type": "code",
   "execution_count": 21,
   "id": "drawn-license",
   "metadata": {},
   "outputs": [],
   "source": [
    "##341. Flatten Nested List Iterator\n",
    "class nestedList:\n",
    "    def __init__(self, nestedList):\n",
    "        self.nestedList = nestedList\n",
    "        self.pointer = -1\n",
    "        self.res = []\n",
    "        helper(nestedList)\n",
    "        \n",
    "    def helper(self,nestedList):\n",
    "        if items is None:\n",
    "            return\n",
    "        for item in items:\n",
    "            if item.isInteger():\n",
    "                self.res.append(item.getInteger())\n",
    "            else:\n",
    "                self.helper(item.getList())\n",
    "    def Next(self):\n",
    "        self.pointer += 1\n",
    "        return self.res[self.pointer]\n",
    "    \n",
    "    def hasNext(self):\n",
    "        return self.pointer < len(self.res) - 1\n",
    "    \n",
    "##Time __init__ O(N)  next()  O(1)  hasNext()  O(1)  space O(N)\n",
    "        "
   ]
  },
  {
   "cell_type": "code",
   "execution_count": 27,
   "id": "executed-heaven",
   "metadata": {},
   "outputs": [
    {
     "data": {
      "text/plain": [
       "['o', 'l', 'l', 'e', 'h']"
      ]
     },
     "execution_count": 27,
     "metadata": {},
     "output_type": "execute_result"
    }
   ],
   "source": [
    "##344. Reverse String\n",
    "# Input: s = [\"h\",\"e\",\"l\",\"l\",\"o\"]\n",
    "# Output: [\"o\",\"l\",\"l\",\"e\",\"h\"]\n",
    "\n",
    "def revStr(s):\n",
    "   \n",
    "    left = 0\n",
    "    right = len(s) - 1\n",
    "    \n",
    "    while left <= right:\n",
    "        s[left], s[right] = s[right], s[left]\n",
    "        left += 1\n",
    "        right -= 1\n",
    "    return s\n",
    "\n",
    "s = [\"h\",\"e\",\"l\",\"l\",\"o\"]\n",
    "revStr(s)\n",
    "##Time O(N)  space O(1)"
   ]
  },
  {
   "cell_type": "code",
   "execution_count": 38,
   "id": "classified-colonial",
   "metadata": {},
   "outputs": [
    {
     "data": {
      "text/plain": [
       "'leotcede'"
      ]
     },
     "execution_count": 38,
     "metadata": {},
     "output_type": "execute_result"
    }
   ],
   "source": [
    "##345. Reverse Vowels of a String\n",
    "def reverseVowels(s):\n",
    "    s = list(s)\n",
    "    left = 0\n",
    "    right = len(s) - 1\n",
    "    while left <= right:\n",
    "        if s[left] in \"aeiou\" and s[right] in \"aeiou\":\n",
    "            s[left], s[right] = s[right], s[left]\n",
    "        left += 1\n",
    "        right -= 1\n",
    "    return \"\".join(s)\n",
    "\n",
    "s = \"leetcode\"\n",
    "reverseVowels(s)\n",
    "##Time O(N)  space O(1)"
   ]
  },
  {
   "cell_type": "code",
   "execution_count": 44,
   "id": "german-aggregate",
   "metadata": {},
   "outputs": [
    {
     "data": {
      "text/plain": [
       "[1, 2]"
      ]
     },
     "execution_count": 44,
     "metadata": {},
     "output_type": "execute_result"
    }
   ],
   "source": [
    "##347. Top K Frequent Elements\n",
    "# Input: nums = [1,1,1,2,2,3], k = 2\n",
    "# Output: [1,2]\n",
    "\n",
    "def topKFrequent(nums, k):\n",
    "    numDict = {}\n",
    "    for num in nums:\n",
    "        if num in numDict:\n",
    "            numDict[num] += 1\n",
    "        else:\n",
    "            numDict[num] = 1\n",
    "    nums = list(numDict.keys())\n",
    "    left = 0\n",
    "    right = len(nums) - 1\n",
    "    \n",
    "    while left <= right:\n",
    "        idx = partition(left, right, numDict, nums)\n",
    "        if idx == k -1:\n",
    "            return nums[:idx+1]\n",
    "        if idx < k -1:\n",
    "            left = idx + 1\n",
    "        else:\n",
    "            right = idx - 1 \n",
    "    \n",
    "def partition(startIdx, endIdx, numDict, nums):\n",
    "    pivot = (startIdx+endIdx) // 2\n",
    "    nums[pivot], nums[endIdx] = nums[endIdx], nums[pivot]\n",
    "    \n",
    "    for i in range(startIdx, endIdx):\n",
    "        val = nums[i]\n",
    "        if numDict[val] > numDict[nums[endIdx]]:\n",
    "            nums[i], nums[startIdx] = nums[startIdx], nums[i]\n",
    "            startIdx += 1\n",
    "    nums[startIdx], nums[endIdx] = nums[endIdx], nums[startIdx]\n",
    "    return startIdx\n",
    "\n",
    "nums = [1,1,1,2,2,3]\n",
    "k = 2\n",
    "topKFrequent(nums, k)\n",
    "##Time O(N)  space O(N)"
   ]
  },
  {
   "cell_type": "code",
   "execution_count": 46,
   "id": "systematic-asthma",
   "metadata": {},
   "outputs": [
    {
     "data": {
      "text/plain": [
       "[9, 4]"
      ]
     },
     "execution_count": 46,
     "metadata": {},
     "output_type": "execute_result"
    }
   ],
   "source": [
    "##349. Intersection of Two Arrays\n",
    "def intersect(nums1, nums2):\n",
    "    set1 = set(nums1)\n",
    "    set2 = set(nums2)\n",
    "    \n",
    "    res = []\n",
    "    for num in set1:\n",
    "        if num in set2:\n",
    "            res.append(num)\n",
    "    return res\n",
    "\n",
    "nums1 = [4,9,5]\n",
    "nums2 = [9,4,9,8,4]\n",
    "intersect(nums1, nums2)"
   ]
  },
  {
   "cell_type": "code",
   "execution_count": 55,
   "id": "miniature-leadership",
   "metadata": {},
   "outputs": [
    {
     "data": {
      "text/plain": [
       "[3, 4]"
      ]
     },
     "execution_count": 55,
     "metadata": {},
     "output_type": "execute_result"
    }
   ],
   "source": [
    "## intersectio of two sorted array in O(N) time and O(1)  space\n",
    "\n",
    "def intersectSorted(nums1, nums2):\n",
    "    res = [] \n",
    "    i = 0\n",
    "    j = 0\n",
    "    while i < len(nums1) and j < len(nums2):\n",
    "        if nums1[i] == nums2[j]:\n",
    "            if len(res) == 0 or res[-1] != nums1[i]:\n",
    "                res.append(nums1[i])\n",
    "            i += 1\n",
    "            j += 1\n",
    "        elif nums1[i] > nums2[j]:\n",
    "            j += 1\n",
    "        else:\n",
    "            i += 1\n",
    "    return res\n",
    "\n",
    "nums1 = [1,2,3,3,4,5]\n",
    "nums2 = [3,3,4,7,8,9]\n",
    "intersectSorted(nums1, nums2)\n",
    "        "
   ]
  },
  {
   "cell_type": "code",
   "execution_count": 58,
   "id": "executive-commons",
   "metadata": {},
   "outputs": [
    {
     "data": {
      "text/plain": [
       "[4, 9]"
      ]
     },
     "execution_count": 58,
     "metadata": {},
     "output_type": "execute_result"
    }
   ],
   "source": [
    "##350. Intersection of Two Arrays II\n",
    "def intersection2(nums1, nums2):\n",
    "    numDict1 = {}\n",
    "    for num in nums1:\n",
    "        if num in numDict1:\n",
    "            numDict1[num] += 1\n",
    "        else:\n",
    "            numDict1[num] = 1\n",
    "            \n",
    "    numDict2 = {}\n",
    "    for num in nums2:\n",
    "        if num in numDict2:\n",
    "            numDict2[num] += 1\n",
    "        else:\n",
    "            numDict2[num] = 1\n",
    "            \n",
    "    res = []\n",
    "    for num in numDict1:\n",
    "        if num in numDict2:\n",
    "            count = min(numDict1[num], numDict2[num])\n",
    "            res += [num]*count\n",
    "            \n",
    "    return res\n",
    "\n",
    "nums1 = [4,9,5]\n",
    "nums2 = [9,4,9,8,4]\n",
    "intersection2(nums1, nums2)\n",
    "##Time O(N)   space O(N)"
   ]
  },
  {
   "cell_type": "code",
   "execution_count": 1,
   "id": "talented-damages",
   "metadata": {},
   "outputs": [],
   "source": [
    "##374. Guess Number Higher or Lower\n",
    "def guessGame(num):\n",
    "    left = 0\n",
    "    right = num\n",
    "    \n",
    "    while left <= right:\n",
    "        mid = (left+right)//2\n",
    "        if guess(mid) == 0:\n",
    "            return mid\n",
    "        if guess(mid) == -1:\n",
    "            right = mid -1\n",
    "        else:\n",
    "            left = mid + 1\n",
    "    return -1\n",
    "\n",
    "##Time O(logn)  space O(1)"
   ]
  },
  {
   "cell_type": "code",
   "execution_count": 22,
   "id": "proved-egypt",
   "metadata": {},
   "outputs": [
    {
     "name": "stdout",
     "output_type": "stream",
     "text": [
      "True\n",
      "{1: 0}\n",
      "False\n",
      "True\n",
      "1\n",
      "{1: 0, 2: 1}\n",
      "True\n",
      "False\n",
      "2\n"
     ]
    }
   ],
   "source": [
    "##380. Insert Delete GetRandom O(1)\n",
    "from random import choice\n",
    "class randomizedSet:\n",
    "    def __init__(self):\n",
    "        self.dict1 = {}\n",
    "        self.array = []\n",
    "        \n",
    "    def insert(self, val):\n",
    "        if val not in self.dict1:\n",
    "            self.array.append(val)\n",
    "            self.dict1[val] = len(self.array) - 1\n",
    "            return True\n",
    "        return False\n",
    "    \n",
    "    def remove(self, val):\n",
    "        print(self.dict1)\n",
    "        if val in self.dict1:\n",
    "            idx = self.dict1[val]\n",
    "            lastElement = self.array[-1]\n",
    "            self.array[idx] = lastElement\n",
    "            self.array.pop()\n",
    "            self.dict1[lastElement] = idx\n",
    "            del self.dict1[val]\n",
    "            return True\n",
    "        return False\n",
    "    \n",
    "    def getRandom(self):\n",
    "        return choice(self.array)\n",
    "    \n",
    "ranSet = randomizedSet()\n",
    "print(ranSet.insert(1))\n",
    "print(ranSet.remove(2))\n",
    "print(ranSet.insert(2))\n",
    "print(ranSet.getRandom())\n",
    "print(ranSet.remove(1))\n",
    "print(ranSet.insert(2))\n",
    "print(ranSet.getRandom())\n",
    "\n",
    "##time all method average O(1)"
   ]
  },
  {
   "cell_type": "code",
   "execution_count": 7,
   "id": "spare-bulgaria",
   "metadata": {},
   "outputs": [
    {
     "data": {
      "text/plain": [
       "'abcabccdcdcdef'"
      ]
     },
     "execution_count": 7,
     "metadata": {},
     "output_type": "execute_result"
    }
   ],
   "source": [
    "##394. Decode String\n",
    "# Input: s = \"3[a]2[bc]\"\n",
    "# Output: \"aaabcbc\"\n",
    "\n",
    "def decodeStr(s):\n",
    "    curStr = \"\"\n",
    "    curCount = 0\n",
    "    stack = []\n",
    "    for c in s:\n",
    "        if c.isdigit():\n",
    "            curCount = curCount*10 + int(c)\n",
    "        elif c == \"[\":\n",
    "            stack.append(curStr)\n",
    "            stack.append(curCount)\n",
    "            curStr = \"\"\n",
    "            curCount = 0\n",
    "        elif c == \"]\":\n",
    "            Count = stack.pop()\n",
    "            prevStr = stack.pop()\n",
    "            curStr = prevStr + curStr*Count\n",
    "        else:\n",
    "            curStr += c\n",
    "    return curStr\n",
    "\n",
    "s = \"2[abc]3[cd]ef\"\n",
    "decodeStr(s)\n",
    "##Time O(N) space O(n)"
   ]
  },
  {
   "cell_type": "code",
   "execution_count": 10,
   "id": "younger-museum",
   "metadata": {},
   "outputs": [
    {
     "data": {
      "text/plain": [
       "[6.0, 0.5, -1, 1, -1]"
      ]
     },
     "execution_count": 10,
     "metadata": {},
     "output_type": "execute_result"
    }
   ],
   "source": [
    "##399. Evaluate Division\n",
    "# Input: equations = [[\"a\",\"b\"],[\"b\",\"c\"]], values = [2.0,3.0], queries = \n",
    "#     [[\"a\",\"c\"],[\"b\",\"a\"],[\"a\",\"e\"],[\"a\",\"a\"],[\"x\",\"x\"]]\n",
    "# Output: [6.00000,0.50000,-1.00000,1.00000,-1.00000]\n",
    "\n",
    "def evaluateDivision(equations, values, queries):\n",
    "    graph = {}\n",
    "    for i, (u, v) in enumerate(equations):\n",
    "        if u not in graph:\n",
    "            graph[u] = []\n",
    "        graph[u].append((v, values[i]))\n",
    "        if v not in graph:\n",
    "            graph[v] = []\n",
    "        graph[v].append((u, 1/values[i]))\n",
    "        \n",
    "    res = []\n",
    "    for src, dsc in queries:\n",
    "        res.append(DFS(graph, src, dsc))\n",
    "    return res\n",
    "    \n",
    "def DFS(graph, src, dsc):\n",
    "    seen = set()\n",
    "    stack = [(src, 1)]\n",
    "    if src not in graph or dsc not in graph:\n",
    "        return -1\n",
    "    while stack:\n",
    "        cur = stack.pop()\n",
    "        if cur[0] == dsc:\n",
    "            return cur[1]\n",
    "        if cur[0] not in seen:\n",
    "            seen.add(cur[0])\n",
    "            for nei, val in graph[cur[0]]:\n",
    "                if nei not in seen:\n",
    "                    stack.append((nei, val*cur[1]))\n",
    "    return -1\n",
    "\n",
    "equations = [[\"a\",\"b\"],[\"b\",\"c\"]]\n",
    "values = [2.0,3.0]\n",
    "queries = [[\"a\",\"c\"],[\"b\",\"a\"],[\"a\",\"e\"],[\"a\",\"a\"],[\"x\",\"x\"]]\n",
    "evaluateDivision(equations, values, queries)\n",
    "##Time O(Q*(V+E))  space O(V+E)"
   ]
  },
  {
   "cell_type": "code",
   "execution_count": 14,
   "id": "emotional-adelaide",
   "metadata": {},
   "outputs": [
    {
     "data": {
      "text/plain": [
       "False"
      ]
     },
     "execution_count": 14,
     "metadata": {},
     "output_type": "execute_result"
    }
   ],
   "source": [
    "###403. Frog Jump\n",
    "# Input: stones = [0,1,3,5,6,8,12,17]\n",
    "# Output: true\n",
    "\n",
    "def frogJump(stones):\n",
    "    if len(stones) == 0:\n",
    "        return True\n",
    "    stoneDict = {}\n",
    "    for stone in stones:\n",
    "        stoneDict[stone] = set()\n",
    "        \n",
    "    stoneDict[0].add(0)\n",
    "    \n",
    "    for stone in stones:\n",
    "        vals = stoneDict[stone]\n",
    "        for val in vals:\n",
    "            if stone+val-1 in stoneDict:\n",
    "                if val-1 > 0:\n",
    "                    stoneDict[stone+val-1].add(val-1)\n",
    "            if stone+val in stoneDict:\n",
    "                if val > 0:\n",
    "                    stoneDict[stone+val].add(val)\n",
    "            if stone+val+1 in stoneDict:\n",
    "                stoneDict[stone+val+1].add(val+1)\n",
    "                \n",
    "    if len(stoneDict[stones[-1]]) > 0:\n",
    "        return True\n",
    "    else:\n",
    "        return False\n",
    "    \n",
    "stones = [0,1,2,3,4,8,9,11]\n",
    "frogJump(stones)\n",
    "\n",
    "##Time O(N^2)  space O(N^2)"
   ]
  },
  {
   "cell_type": "code",
   "execution_count": 15,
   "id": "cosmetic-livestock",
   "metadata": {},
   "outputs": [],
   "source": [
    "##404. Sum of Left Leaves\n",
    "def sumOfLeftLeaves(root):\n",
    "    if root is None:\n",
    "        return 0\n",
    "    res = 0\n",
    "    stack = [root]\n",
    "    \n",
    "    while stack:\n",
    "        temp = []\n",
    "        for node in stack:\n",
    "            if node.left:\n",
    "                temp.append(node.left)\n",
    "                if node.left.left is None and node.left.right is None:\n",
    "                    res += node.left.val\n",
    "            if node.right:\n",
    "                temp.append(node.right)\n",
    "        stack = temp\n",
    "    return res\n",
    "\n",
    "##Time O(N)  space O(N)"
   ]
  },
  {
   "cell_type": "code",
   "execution_count": 4,
   "id": "competent-philippines",
   "metadata": {},
   "outputs": [
    {
     "data": {
      "text/plain": [
       "'a'"
      ]
     },
     "execution_count": 4,
     "metadata": {},
     "output_type": "execute_result"
    }
   ],
   "source": [
    "##524. Longest Word in Dictionary through Deleting\n",
    "# Input: s = \"abpcplea\", dictionary = [\"ale\",\"apple\",\"monkey\",\"plea\"]\n",
    "# Output: \"apple\"\n",
    "def findLongestWord(s, dict1):\n",
    "    res = \"\"\n",
    "    for word in dict1:\n",
    "        if isSubsequence(s, word):\n",
    "            if len(res) < len(word) or (len(res)==len(word) and res > word):\n",
    "                res = word\n",
    "    return res\n",
    "\n",
    "def isSubsequence(s, word):\n",
    "    if len(word) > len(s):\n",
    "        return False\n",
    "    i = 0\n",
    "    j = 0\n",
    "    while i < len(s) and j < len(word):\n",
    "        if s[i] == word[j]:\n",
    "            i += 1\n",
    "            j += 1\n",
    "        else:\n",
    "            i += 1\n",
    "    return j == len(word)\n",
    "\n",
    "s = \"abpcplea\"\n",
    "dict1 = [\"a\",\"b\",\"c\"]\n",
    "findLongestWord(s, dict1)\n",
    "##Time O(N*(M+S))  space O(1) N == length of dict1, S = len of s, M = average len of word"
   ]
  },
  {
   "cell_type": "code",
   "execution_count": 9,
   "id": "known-flesh",
   "metadata": {},
   "outputs": [
    {
     "data": {
      "text/plain": [
       "False"
      ]
     },
     "execution_count": 9,
     "metadata": {},
     "output_type": "execute_result"
    }
   ],
   "source": [
    "##523. Continuous Subarray Sum\n",
    "# Input: nums = [23,2,4,6,7], k = 6\n",
    "# Output: true\n",
    "# Explanation: [2, 4] is a continuous subarray of size 2 whose elements sum up to 6.\n",
    "\n",
    "def continuousSubarraySum(nums, k):\n",
    "    cSum = 0\n",
    "    dict1 = {0:-1}\n",
    "    for i, num in enumerate(nums):\n",
    "        cSum += num\n",
    "        if k != 0:\n",
    "            cSum = cSum%k\n",
    "        if cSum in dict1:\n",
    "            if i - dict1[cSum] >= 2:\n",
    "                return True\n",
    "        else:\n",
    "            dict1[cSum] = i\n",
    "    return False\n",
    "\n",
    "##Time O(n)  space O(n)  \n",
    "nums = [23,2,6,4,7]\n",
    "k = 13\n",
    "continuousSubarraySum(nums, k)            "
   ]
  },
  {
   "cell_type": "code",
   "execution_count": 13,
   "id": "surface-surfing",
   "metadata": {},
   "outputs": [],
   "source": [
    "##513. Find Bottom Left Tree Value\n",
    "def bottomLeftTree(root):\n",
    "    if root is None:\n",
    "            return None\n",
    "    stack = [root]\n",
    "    res = [root.val]\n",
    "\n",
    "    while stack:\n",
    "        temp = []\n",
    "        tempList = []\n",
    "        for node in stack:\n",
    "            if node.left:\n",
    "                temp.append(node.left)\n",
    "                tempList.append(node.left.val)\n",
    "            if node.right:\n",
    "                temp.append(node.right)\n",
    "                tempList.append(node.right.val)\n",
    "        if len(tempList) > 0:\n",
    "            res = tempList\n",
    "        stack = temp\n",
    "    print(res)\n",
    "    return res[0]\n",
    "##Time O(N)  space O(N)"
   ]
  },
  {
   "cell_type": "code",
   "execution_count": 14,
   "id": "excess-portable",
   "metadata": {},
   "outputs": [],
   "source": [
    "##501. Find Mode in Binary Search Tree\n",
    "def modeInBST(root):\n",
    "    if root is None:\n",
    "        return []\n",
    "    res = []\n",
    "    freq = 0\n",
    "    maxFreq = 0\n",
    "    prev = None\n",
    "    def inOrder(root):\n",
    "        if root:\n",
    "            if root.left:\n",
    "                inOrder(root.left)\n",
    "            if prev:\n",
    "                if prev.val == root.val:\n",
    "                    freq += q\n",
    "                else:\n",
    "                    freq = 1\n",
    "            prev = root\n",
    "            if freq > maxFreq:\n",
    "                maxFreq = freq\n",
    "                res = [root.val]\n",
    "            elif freq == maxFreq:\n",
    "                res.append(root.val)\n",
    "            if root.right:\n",
    "                inOrder(root.left)\n",
    "    inOrder(root)\n",
    "    return res\n",
    "\n",
    "##Time O(N)  space O(1)"
   ]
  },
  {
   "cell_type": "code",
   "execution_count": 17,
   "id": "smooth-serum",
   "metadata": {},
   "outputs": [
    {
     "data": {
      "text/plain": [
       "[3, -1]"
      ]
     },
     "execution_count": 17,
     "metadata": {},
     "output_type": "execute_result"
    }
   ],
   "source": [
    "##496. Next Greater Element I\n",
    "# Input: nums1 = [4,1,2], nums2 = [1,3,4,2]\n",
    "# Output: [-1,3,-1]\n",
    "# 2 1 3 4\n",
    "def nextGreater1(nums1, nums2):\n",
    "    dict1 = {}\n",
    "    for num in nums2:\n",
    "        dict1[num] = -1\n",
    "    stack = []\n",
    "    for num in nums2:\n",
    "        while len(stack) != 0 and stack[-1] < num:\n",
    "            dict1[stack[-1]] = num\n",
    "            stack.pop()   \n",
    "        stack.append(num)\n",
    "    res = []\n",
    "    for num in nums1:\n",
    "        res.append(dict1[num])\n",
    "    return res\n",
    "nums1 = [2,4]\n",
    "nums2 = [1,2,3,4]\n",
    "nextGreater1(nums1, nums2)\n",
    "##Time O(N)  space O(N)"
   ]
  },
  {
   "cell_type": "code",
   "execution_count": 5,
   "id": "protective-battlefield",
   "metadata": {},
   "outputs": [
    {
     "data": {
      "text/plain": [
       "['a', 'b', 'ba', 'bca', 'bda', 'bdca']"
      ]
     },
     "execution_count": 5,
     "metadata": {},
     "output_type": "execute_result"
    }
   ],
   "source": [
    "words = [\"a\",\"b\",\"bdca\",\"ba\",\"bca\",\"bda\",]\n",
    "words= sorted(words, key=len)\n",
    "words"
   ]
  },
  {
   "cell_type": "code",
   "execution_count": 3,
   "id": "ordered-belief",
   "metadata": {},
   "outputs": [
    {
     "data": {
      "text/plain": [
       "2"
      ]
     },
     "execution_count": 3,
     "metadata": {},
     "output_type": "execute_result"
    }
   ],
   "source": [
    "##525. Contiguous Array\n",
    "def contiguousArray(nums):\n",
    "    cSum = 0\n",
    "    dict1 = {}\n",
    "    maxLen = 0\n",
    "    for i, num in enumerate(nums):\n",
    "        if num == 0:\n",
    "            cSum -= 1\n",
    "        elif num == 1:\n",
    "            cSum += 1\n",
    "        if cSum in dict1:\n",
    "            maxLen = max(maxLen, i-dict1[cSum])\n",
    "        else:\n",
    "            dict1[cSum] = i\n",
    "        if cSum == 0:\n",
    "            maxLen = max(maxLen, i+1)\n",
    "            \n",
    "    return maxLen\n",
    "\n",
    "nums = [0,1,0]\n",
    "contiguousArray(nums)\n",
    "##Time O(N) space O(N)"
   ]
  },
  {
   "cell_type": "code",
   "execution_count": 4,
   "id": "alpine-current",
   "metadata": {},
   "outputs": [],
   "source": [
    "##530. Minimum Absolute Difference in BST\n",
    "def minAbsDiffBST(root):\n",
    "    if root is None:\n",
    "        return None\n",
    "    prev = None\n",
    "    stack = []\n",
    "    minDiff = float('inf')\n",
    "    \n",
    "    while root or stack:\n",
    "        while root:\n",
    "            stack.append(root)\n",
    "            root = root.left\n",
    "        root = stack.pop()\n",
    "        if prev:\n",
    "            minDiff = min(minDiff, abs(root.val-prev.val))\n",
    "        prev = root\n",
    "        root = root.right\n",
    "    return minDiff\n",
    "##Time O(N) space O(N)\n",
    "            "
   ]
  },
  {
   "cell_type": "code",
   "execution_count": 6,
   "id": "young-asian",
   "metadata": {},
   "outputs": [
    {
     "data": {
      "text/plain": [
       "4"
      ]
     },
     "execution_count": 6,
     "metadata": {},
     "output_type": "execute_result"
    }
   ],
   "source": [
    "##532. K-diff Pairs in an Array\n",
    "# nums = [3,1,4,1,5], k = 2\n",
    "\n",
    "def kDiffPair(nums, k):\n",
    "    dict1 = {}\n",
    "    count = 0\n",
    "    for num in nums:\n",
    "        if num in dict1:\n",
    "            dict1[num] += 1\n",
    "        else:\n",
    "            dict1[num] = 1\n",
    "    for key in dict1:\n",
    "        if (k>0 and key+k in dict1) or (k==0 and dict1[k]>1):\n",
    "            count += 1\n",
    "    return count\n",
    "\n",
    "nums = [1,2,3,4,5]\n",
    "k = 1\n",
    "kDiffPair(nums, k)"
   ]
  },
  {
   "cell_type": "code",
   "execution_count": 14,
   "id": "demanding-syntax",
   "metadata": {},
   "outputs": [
    {
     "data": {
      "text/plain": [
       "'https://www.tinyurl.com/1'"
      ]
     },
     "execution_count": 14,
     "metadata": {},
     "output_type": "execute_result"
    }
   ],
   "source": [
    "##535. Encode and Decode TinyURL\n",
    "class codec:\n",
    "    def __init__(self):\n",
    "        self.encode = {}\n",
    "        self.decode = {}\n",
    "        self.base = \"https://www.tinyurl.com\"\n",
    "        \n",
    "    def encodeing(self, url):\n",
    "        if url not in self.encode:\n",
    "            shortUrl = self.base + \"/\" + str(len(self.encode)+1)\n",
    "            self.encode[url] = shortUrl\n",
    "            self.decode[shortUrl] = url\n",
    "        return self.encode[url]\n",
    "    \n",
    "    def decodeing(self, shortUrl):\n",
    "        return self.decode[shortUrl]\n",
    "    \n",
    "tiny = codec()\n",
    "url = \"https://leetcode.com/problems/design-tinyurl\"\n",
    "tiny.encodeing(url)\n",
    "\n",
    "#O(1) encode O(1) decode"
   ]
  },
  {
   "cell_type": "code",
   "execution_count": 18,
   "id": "monetary-elephant",
   "metadata": {},
   "outputs": [
    {
     "data": {
      "text/plain": [
       "3"
      ]
     },
     "execution_count": 18,
     "metadata": {},
     "output_type": "execute_result"
    }
   ],
   "source": [
    "##547. Number of Provinces\n",
    "def numOfprovinces(isConnected):\n",
    "    n = len(isConnected)\n",
    "    component = 0\n",
    "    visited = set()\n",
    "    def DFS(node):\n",
    "        stack = [node]\n",
    "        while stack:\n",
    "            node = stack.pop()\n",
    "            visited.add(node)\n",
    "            neiList = []\n",
    "            for i in range(n):\n",
    "                if i == node:\n",
    "                    continue\n",
    "                if isConnected[node][i] == 1:\n",
    "                    neiList.append(i)\n",
    "            for nei in neiList:\n",
    "                if nei not in visited:\n",
    "                    stack.append(nei)\n",
    "                    \n",
    "    for i in range(n):\n",
    "        if i not in visited:\n",
    "            DFS(i)\n",
    "            component += 1\n",
    "    return component\n",
    "\n",
    "isConnected = [[1,0,0],[0,1,0],[0,0,1]]\n",
    "numOfprovinces(isConnected)\n",
    "##Time O(N^2)  space O(N)"
   ]
  },
  {
   "cell_type": "code",
   "execution_count": 20,
   "id": "laden-belize",
   "metadata": {},
   "outputs": [
    {
     "data": {
      "text/plain": [
       "\"s'teL ekat edoCteeL tsetnoc\""
      ]
     },
     "execution_count": 20,
     "metadata": {},
     "output_type": "execute_result"
    }
   ],
   "source": [
    "##557. Reverse Words in a String III\n",
    "def reverseStr3(s):\n",
    "    s = s.split()\n",
    "    res = s[0][::-1]\n",
    "    for i in range(1, len(s)):\n",
    "        res += \" \" + s[i][::-1]\n",
    "    return \"\".join(res)\n",
    "\n",
    "s = \"Let's take LeetCode contest\"\n",
    "reverseStr3(s)"
   ]
  },
  {
   "cell_type": "code",
   "execution_count": 21,
   "id": "hired-genre",
   "metadata": {},
   "outputs": [],
   "source": [
    "###559. Maximum Depth of N-ary Tree\n",
    "class nArrayTree:\n",
    "    def __init__(self, val):\n",
    "        self.val = val\n",
    "        self.children = None\n",
    "        \n",
    "def maxDepth(root):\n",
    "    if root is None:\n",
    "        return 0\n",
    "    maxDepth = 1\n",
    "    \n",
    "    stack = [(root, 1)]\n",
    "    while stack:\n",
    "        node, depth = stack.pop()\n",
    "        if node.children:\n",
    "            for cur in node.children:\n",
    "                stack.append((cur, depth+1))\n",
    "        else:\n",
    "            maxDepth = max(maxDepth, depth)\n",
    "    return maxDepth\n",
    "\n",
    "##Time O(N)  space O(n)"
   ]
  },
  {
   "cell_type": "code",
   "execution_count": 24,
   "id": "manual-lottery",
   "metadata": {},
   "outputs": [
    {
     "data": {
      "text/plain": [
       "2"
      ]
     },
     "execution_count": 24,
     "metadata": {},
     "output_type": "execute_result"
    }
   ],
   "source": [
    "##560. Subarray Sum Equals K\n",
    "# Input: nums = [1,1,1], k = 2\n",
    "# Output: 2\n",
    "\n",
    "def subArraySumK(nums, k):\n",
    "    dict1 = {0:1}\n",
    "    cSum = 0\n",
    "    count = 0\n",
    "    \n",
    "    for i, num in enumerate(nums):\n",
    "        cSum += num\n",
    "        if cSum - k in dict1:\n",
    "            count += dict1[count]\n",
    "        if cSum in dict1:\n",
    "            dict1[cSum] += 1\n",
    "        else:\n",
    "            dict1[cSum] = 1\n",
    "    return count\n",
    "\n",
    "nums = [1,2,3]\n",
    "k = 3\n",
    "subArraySumK(nums, k)    \n",
    "##Time O(N)  space O(N)    "
   ]
  },
  {
   "cell_type": "code",
   "execution_count": 27,
   "id": "alpine-johnston",
   "metadata": {},
   "outputs": [
    {
     "data": {
      "text/plain": [
       "0"
      ]
     },
     "execution_count": 27,
     "metadata": {},
     "output_type": "execute_result"
    }
   ],
   "source": [
    "###581. Shortest Unsorted Continuous Subarray\n",
    "# Input: nums = [2,6,4,8,10,9,15]\n",
    "# Output: 5\n",
    "def shortUnconSub(nums):\n",
    "    minVal = float('inf')\n",
    "    maxVal = float('-inf')\n",
    "    \n",
    "    for i in range(1, len(nums)):\n",
    "        if nums[i-1] > nums[i]:\n",
    "            minVal = min(minVal, nums[i])\n",
    "            \n",
    "    for j in range(len(nums)-2, -1, -1):\n",
    "        if nums[j] > nums[j+1]:\n",
    "            maxVal = max(maxVal, nums[j])\n",
    "    if minVal == float('inf') and maxVal == float('-inf'):\n",
    "        return  0\n",
    "    for i in range(len(nums)):\n",
    "        if nums[i] > minVal:\n",
    "            start = i\n",
    "            break\n",
    "    for j in range(len(nums)-1, -1, -1):\n",
    "        if nums[j] < maxVal:\n",
    "            end = j\n",
    "            break\n",
    "    return end - start + 1\n",
    "\n",
    "nums = [1,2,3,4]\n",
    "shortUnconSub(nums)"
   ]
  },
  {
   "cell_type": "code",
   "execution_count": 31,
   "id": "exciting-latino",
   "metadata": {},
   "outputs": [
    {
     "data": {
      "text/plain": [
       "False"
      ]
     },
     "execution_count": 31,
     "metadata": {},
     "output_type": "execute_result"
    }
   ],
   "source": [
    "###567. Permutation in String\n",
    "# Input: s1 = \"ab\", s2 = \"eidbaooo\"\n",
    "# Output: true\n",
    "# Explanation: s2 contains one permutation of s1 (\"ba\").\n",
    "\n",
    "def permutationOfStr(s1, s2):\n",
    "    if len(s1) > len(s2):\n",
    "        return False\n",
    "    s1Dict = {}\n",
    "    for c in s1:\n",
    "        if c in s1Dict:\n",
    "            s1Dict[c] += 1\n",
    "        else:\n",
    "            s1Dict[c] = 1\n",
    "    s2Dict = {}\n",
    "    for i in range(len(s2)):\n",
    "        if s2[i] in s2Dict:\n",
    "            s2Dict[s2[i]] += 1\n",
    "        else:\n",
    "            s2Dict[s2[i]] = 1\n",
    "        \n",
    "        if i >= len(s1):\n",
    "            left = s2[i-len(s1)]\n",
    "            if s2Dict[left] == 1:\n",
    "                del s2Dict[left]\n",
    "            else:\n",
    "                s2Dict[left] -= 1          \n",
    "        if s1Dict == s2Dict:\n",
    "            return True\n",
    "    return False\n",
    "        \n",
    "s1 = \"ab\"\n",
    "s2 = \"eidboaoo\"\n",
    "permutationOfStr(s1, s2)\n",
    "\n",
    "##Time O(N)  space O(N)"
   ]
  },
  {
   "cell_type": "code",
   "execution_count": 4,
   "id": "thirty-leadership",
   "metadata": {},
   "outputs": [
    {
     "data": {
      "text/plain": [
       "4"
      ]
     },
     "execution_count": 4,
     "metadata": {},
     "output_type": "execute_result"
    }
   ],
   "source": [
    "##583. Delete Operation for Two Strings\n",
    "#   \"\"  s e a\n",
    "# \"\" 0  1 2 3\n",
    "# e  1  2 1 2\n",
    "# a  2  3 2 1\n",
    "# t  3  4 2 2\n",
    "\n",
    "def minDistance(word1, word2):\n",
    "    table = [[0 for col in range(len(word2)+1)] for row in range(len(word1)+1)]\n",
    "    \n",
    "    for i in range(len(table)):\n",
    "        for j in range(len(table[0])):\n",
    "            if i == 0:\n",
    "                table[0][j] = j\n",
    "            elif j == 0:\n",
    "                table[i][0] = i\n",
    "            elif word1[i-1] == word2[j-1]:\n",
    "                table[i][j] = table[i-1][j-1]\n",
    "            else:\n",
    "                table[i][j] = 1 + min(table[i-1][j], table[i][j-1])\n",
    "    return table[-1][-1]\n",
    "\n",
    "word1 = \"leetcode\"\n",
    "word2 = \"etco\"\n",
    "minDistance(word1, word2)\n",
    "##Time O(MN) space O(MN)"
   ]
  },
  {
   "cell_type": "code",
   "execution_count": 8,
   "id": "approximate-belle",
   "metadata": {},
   "outputs": [
    {
     "data": {
      "text/plain": [
       "['Shogun']"
      ]
     },
     "execution_count": 8,
     "metadata": {},
     "output_type": "execute_result"
    }
   ],
   "source": [
    "##599. Minimum Index Sum of Two Lists\n",
    "# Input: list1 = [\"Shogun\",\"Tapioca Express\",\"Burger King\",\"KFC\"], list2 = [\"KFC\",\"Shogun\",\"Burger King\"]\n",
    "# Output: [\"Shogun\"]\n",
    "# Explanation: The restaurant they both like and have the least index sum is \"Shogun\" with \n",
    "# index sum 1 (0+1).\n",
    "\n",
    "def findRestu(list1, list2):\n",
    "    dict1 = {}\n",
    "    dict2 = {}\n",
    "    res = []\n",
    "    idx = len(list1) + len(list2)\n",
    "    for i,word in enumerate(list1):\n",
    "        dict1[word] = i\n",
    "    for j, word in enumerate(list2):\n",
    "        dict2[word] = i\n",
    "    for restu in list1:\n",
    "        if restu in dict2:\n",
    "            idxSum = dict1[restu] + dict2[restu]\n",
    "            if idxSum < idx:\n",
    "                res = [restu]\n",
    "                idx = idxSum\n",
    "            elif idxSum == idx:\n",
    "                res.append(restu)\n",
    "    return res\n",
    "\n",
    "list1 = [\"Shogun\",\"Tapioca Express\",\"Burger King\",\"KFC\"]\n",
    "list2 = [\"KFC\",\"Shogun\",\"Burger King\"]\n",
    "findRestu(list1, list2)\n",
    "##Time O(N)  space O(N)"
   ]
  },
  {
   "cell_type": "code",
   "execution_count": 9,
   "id": "spare-incentive",
   "metadata": {},
   "outputs": [],
   "source": [
    "###617. Merge Two Binary Trees\n",
    "def mergeTree(root1, root2):\n",
    "    if root1 is None:\n",
    "        return root2\n",
    "    if root2 is None:\n",
    "        return root1\n",
    "    root1.val += root2.val\n",
    "    root1.left = mergeTree(root1.left, root2.left)\n",
    "    root1.right = mergeTree(root2.right, root2.right)\n",
    "    return root1\n",
    "\n",
    "##Time O(N)"
   ]
  },
  {
   "cell_type": "code",
   "execution_count": 10,
   "id": "universal-chase",
   "metadata": {},
   "outputs": [
    {
     "data": {
      "text/plain": [
       "[[1, 2, 3], [4, 5, 6], [7, 8, 9], [10]]"
      ]
     },
     "execution_count": 10,
     "metadata": {},
     "output_type": "execute_result"
    }
   ],
   "source": [
    "def chunk(list, size):\n",
    "    all_list = []\n",
    "    for i in range(0, len(list), size):\n",
    "        all_list.append(list[i:i+size])\n",
    "    return all_list\n",
    "                      \n",
    "list1 = [1,2,3,4,5,6,7,8,9,10]\n",
    "chunk(list1, 3)"
   ]
  },
  {
   "cell_type": "code",
   "execution_count": 4,
   "id": "automatic-viewer",
   "metadata": {},
   "outputs": [
    {
     "data": {
      "text/plain": [
       "[1, 4]"
      ]
     },
     "execution_count": 4,
     "metadata": {},
     "output_type": "execute_result"
    }
   ],
   "source": [
    "###684. Redundant Connection\n",
    "# Input: edges = [[1,2],[2,3],[3,4],[1,4],[1,5]]\n",
    "# Output: [1,4]\n",
    "\n",
    "def redundantConnection(edges):\n",
    "    n = len(edges)\n",
    "    graph = {}\n",
    "    parent = {}\n",
    "    for i in range(1, n+1):\n",
    "        graph[i] = []\n",
    "        parent[i] = i\n",
    "    res = -1\n",
    "    for u,v in edges:\n",
    "        graph[u].append(v)\n",
    "        graph[v].append(u)\n",
    "    for u, v in edges:\n",
    "        if not union(parent, u, v):\n",
    "            res =  [u,v]\n",
    "    return res  \n",
    "     \n",
    "    \n",
    "def find(parent, x):\n",
    "    if x != parent[x]:\n",
    "        parent[x] = find(parent, parent[x])\n",
    "    return parent[x]\n",
    "\n",
    "def union(parent, x, y):\n",
    "    Px = find(parent, x)\n",
    "    Py = find(parent, y)\n",
    "    \n",
    "    if Px != Py:\n",
    "        parent[Py] = Px\n",
    "        return True\n",
    "    else:\n",
    "        return False\n",
    "    \n",
    "edges = [[1,2],[2,3],[3,4],[1,4],[1,5]]\n",
    "redundantConnection(edges)"
   ]
  },
  {
   "cell_type": "code",
   "execution_count": 10,
   "id": "modular-glory",
   "metadata": {},
   "outputs": [
    {
     "name": "stdout",
     "output_type": "stream",
     "text": [
      "True\n",
      "False\n",
      "True\n",
      "False\n"
     ]
    }
   ],
   "source": [
    "###705. Design HashSet\n",
    "##Separate chainning to avoid collision\n",
    "#load factor = keys/number of bucket\n",
    "\n",
    "class myHashSet:\n",
    "    def __init__(self):\n",
    "        self.numsBucket = 15000\n",
    "        self.bucket = [[] for i in range(self.numsBucket)]\n",
    "        \n",
    "    def hashFunction(self, key):\n",
    "        i = key%self.numsBucket\n",
    "        return i\n",
    "    def add(self, key):\n",
    "        i = self.hashFunction(key)\n",
    "        if key not in self.bucket[i]:\n",
    "            self.bucket[i].append(key)\n",
    "            \n",
    "    def contain(self, key):\n",
    "        i = self.hashFunction(key)\n",
    "        if key in self.bucket[i]:\n",
    "            return True\n",
    "        return  False\n",
    "    \n",
    "    def remove(self, key):\n",
    "        i = self.hashFunction(key)\n",
    "        if key in self.bucket[i]:\n",
    "            self.bucket[i].remove(key)\n",
    "        \n",
    "Set = myHashSet()\n",
    "Set.add(1)\n",
    "Set.add(2)\n",
    "print(Set.contain(1))\n",
    "print(Set.contain(3))\n",
    "Set.add(2)\n",
    "print(Set.contain(2))\n",
    "Set.remove(2)\n",
    "print(Set.contain(2))"
   ]
  },
  {
   "cell_type": "code",
   "execution_count": 20,
   "id": "realistic-staff",
   "metadata": {},
   "outputs": [
    {
     "data": {
      "text/plain": [
       "True"
      ]
     },
     "execution_count": 20,
     "metadata": {},
     "output_type": "execute_result"
    }
   ],
   "source": [
    "##700. Search in a Binary Search Tree\n",
    "class TreeNode:\n",
    "    def __init__(self, val):\n",
    "        self.val = val\n",
    "        self.left = None\n",
    "        self.right = None\n",
    " \n",
    "root = TreeNode(0)\n",
    "\n",
    "def search(root, val):\n",
    "    if root is None:\n",
    "        return False\n",
    "    if root.val == val:\n",
    "        return True\n",
    "    if root.val > val:\n",
    "        return search(root.left, val)\n",
    "    if root.val < val:\n",
    "        return search(root.right, val)\n",
    "    \n",
    "##Time O(logn)\n",
    "    \n",
    "def insert(root, val):\n",
    "    if root is None:\n",
    "        root = TreeNode(val)\n",
    "        return root\n",
    "    _insert(root, val)\n",
    "    return root\n",
    "\n",
    "def _insert(root, val):\n",
    "    if root.val > val:\n",
    "        if root.left:\n",
    "            _insert(root.left, val)\n",
    "        else:\n",
    "            root.left = TreeNode(val)\n",
    "    if root.val < val:\n",
    "        if root.right:\n",
    "            _insert(root.right, val)\n",
    "        else:\n",
    "            root.right = TreeNode(val)\n",
    "            \n",
    "##Time best case O(logn) worst case O(N) for skewed tree\n",
    "\n",
    "for i in range(1, 101):\n",
    "    insert(root, i)\n",
    "    \n",
    "search(root, 100)"
   ]
  },
  {
   "cell_type": "code",
   "execution_count": 25,
   "id": "continuing-election",
   "metadata": {},
   "outputs": [
    {
     "data": {
      "text/plain": [
       "[2, 2, 3, 1, 4, 2]"
      ]
     },
     "execution_count": 25,
     "metadata": {},
     "output_type": "execute_result"
    }
   ],
   "source": [
    "###697. Degree of an Array\n",
    "# Input: nums = [1,2,2,3,1]\n",
    "# Output: 2\n",
    "\n",
    "def degreeOfAnArray(nums):\n",
    "    degree = {}\n",
    "    left = {}\n",
    "    right = {}\n",
    "    newLeft = -1\n",
    "    newRight = -1\n",
    "    \n",
    "    for i, num in enumerate(nums):\n",
    "        if num not in left:\n",
    "            left[num] = i\n",
    "        right [num] = i\n",
    "        degree[num] = degree.get(num, 0) + 1\n",
    "        \n",
    "    ans = len(nums)\n",
    "    maxDegree = max(degree.values())\n",
    "    for num in degree:\n",
    "        if degree[num] == maxDegree:\n",
    "            #ans = min(ans, right[num]-left[num]+1)\n",
    "            if ans > right[num] - left[num] + 1:\n",
    "                ans = right[num] - left[num] + 1\n",
    "                newLeft = left[num]\n",
    "                newRight = right[num]\n",
    "    #return ans\n",
    "    return nums[newLeft:newRight+1]\n",
    "\n",
    "nums = [1,2,2,3,1,4,2]\n",
    "degreeOfAnArray(nums)\n",
    "##Time O(N)  space O(N)"
   ]
  },
  {
   "cell_type": "code",
   "execution_count": 35,
   "id": "documented-andorra",
   "metadata": {},
   "outputs": [
    {
     "name": "stdout",
     "output_type": "stream",
     "text": [
      "1.5\n",
      "2\n"
     ]
    }
   ],
   "source": [
    "##295. Find Median from Data Stream\n",
    "##maxHeap       minHeap\n",
    "import heapq\n",
    "class medianFinder:\n",
    "    def __init__(self):\n",
    "        self.maxHeap = []\n",
    "        self.minHeap = []\n",
    "#         heapq.heapify(self.maxHeap)\n",
    "#         heapq.heapify(self.minHeap)\n",
    "        \n",
    "    def addNum(self, num):\n",
    "        heapq.heappush(self.maxHeap, -num)\n",
    "        val = -heapq.heappop(self.maxHeap)\n",
    "        heapq.heappush(self.minHeap, val)\n",
    "        \n",
    "        if len(self.minHeap) > len(self.maxHeap):\n",
    "            minVal = heapq.heappop(self.minHeap)\n",
    "            heapq.heappush(self.maxHeap,-minVal)\n",
    "            \n",
    "    def median(self):\n",
    "        if len(self.maxHeap) > len(self.minHeap):\n",
    "            res = -self.maxHeap[0]\n",
    "            return res\n",
    "        else:\n",
    "            val1 = -self.maxHeap[0]\n",
    "            val2 = self.minHeap[0]\n",
    "            return (val1+val2)/2\n",
    "        \n",
    "m = medianFinder()\n",
    "m.addNum(1)\n",
    "m.addNum(2)\n",
    "print(m.median())\n",
    "m.addNum(3)\n",
    "print(m.median())\n",
    "\n",
    "##Time addNum() -> O(nlogn)  median() -> O(1)"
   ]
  },
  {
   "cell_type": "code",
   "execution_count": 7,
   "id": "descending-candle",
   "metadata": {},
   "outputs": [
    {
     "data": {
      "text/plain": [
       "['3,None,None,',\n",
       " '4,None,None,',\n",
       " '8,3,None,None,4,None,None,',\n",
       " '5,None,None,',\n",
       " '2,None,5,None,None,',\n",
       " '6,8,3,None,None,4,None,None,2,None,5,None,None,']"
      ]
     },
     "execution_count": 7,
     "metadata": {},
     "output_type": "execute_result"
    }
   ],
   "source": [
    "class TreeNode:\n",
    "    def __init__(self, val):\n",
    "        self.val = val\n",
    "        self.left = None\n",
    "        self.right = None\n",
    "        \n",
    "#          6\n",
    "#         / \\\n",
    "#        8   2\n",
    "#       / \\   \\\n",
    "#      3   4   5\n",
    "root = TreeNode(6)\n",
    "root.left = TreeNode(8)\n",
    "root.right = TreeNode(2)\n",
    "root.left.left = TreeNode(3)\n",
    "root.left.right = TreeNode(4)\n",
    "root.right.right = TreeNode(5)\n",
    "\n",
    "# def DFS(root, res):\n",
    "#     if root is None:\n",
    "#         return \"None,\"\n",
    "#     res.append(str(root.val)+\",\")\n",
    "#     DFS(root.left, res)\n",
    "#     DFS(root.right, res)\n",
    "\n",
    "def DFS(root, res):\n",
    "    if root is None:\n",
    "        return \"None,\"\n",
    "    l = DFS(root.left, res)\n",
    "    r = DFS(root.right, res)\n",
    "    encode = str(root.val) + \",\" + l + r\n",
    "    res.append(encode)\n",
    "    return encode\n",
    "\n",
    "res = []\n",
    "DFS(root, res)\n",
    "res"
   ]
  },
  {
   "cell_type": "code",
   "execution_count": 1,
   "id": "varied-sample",
   "metadata": {},
   "outputs": [],
   "source": [
    "###652. Find Duplicate Subtrees\n",
    "def findDuplicate(root):\n",
    "    if root is None:\n",
    "        return []\n",
    "    dict1 = {}\n",
    "    res = []\n",
    "    DFS(root, res, dict1)\n",
    "    return res\n",
    "\n",
    "def DFS(root, res, dict1):\n",
    "    if root is None:\n",
    "        return \"None,\"\n",
    "    l = DFS(root.left, res, dict1)\n",
    "    r = DFS(root.right, res, dict1)\n",
    "    encode = str(root.val) + \",\" + l + r\n",
    "    if encode in dict1:\n",
    "        dict1[encode] += 1\n",
    "        if dict1[encode] == 2:\n",
    "            res.append(root)\n",
    "    else:\n",
    "        dict1[encode] = 1\n",
    "    return encode"
   ]
  },
  {
   "cell_type": "code",
   "execution_count": 4,
   "id": "broad-portrait",
   "metadata": {},
   "outputs": [
    {
     "data": {
      "text/html": [
       "<div>\n",
       "<style scoped>\n",
       "    .dataframe tbody tr th:only-of-type {\n",
       "        vertical-align: middle;\n",
       "    }\n",
       "\n",
       "    .dataframe tbody tr th {\n",
       "        vertical-align: top;\n",
       "    }\n",
       "\n",
       "    .dataframe thead th {\n",
       "        text-align: right;\n",
       "    }\n",
       "</style>\n",
       "<table border=\"1\" class=\"dataframe\">\n",
       "  <thead>\n",
       "    <tr style=\"text-align: right;\">\n",
       "      <th></th>\n",
       "      <th>COTR</th>\n",
       "      <th>TIN</th>\n",
       "      <th>Holder</th>\n",
       "      <th>Code</th>\n",
       "      <th>Type</th>\n",
       "      <th>ReportingType</th>\n",
       "    </tr>\n",
       "  </thead>\n",
       "  <tbody>\n",
       "    <tr>\n",
       "      <th>0</th>\n",
       "      <td>SG</td>\n",
       "      <td></td>\n",
       "      <td>Organisation</td>\n",
       "      <td>aaa</td>\n",
       "      <td>FATCA101</td>\n",
       "      <td>CRS</td>\n",
       "    </tr>\n",
       "    <tr>\n",
       "      <th>1</th>\n",
       "      <td>HK</td>\n",
       "      <td></td>\n",
       "      <td>Organisation</td>\n",
       "      <td>aaa</td>\n",
       "      <td>FATCA102</td>\n",
       "      <td>CRS</td>\n",
       "    </tr>\n",
       "    <tr>\n",
       "      <th>2</th>\n",
       "      <td>IN</td>\n",
       "      <td></td>\n",
       "      <td>Individual</td>\n",
       "      <td>aaa</td>\n",
       "      <td>FATCA103</td>\n",
       "      <td>FATCA</td>\n",
       "    </tr>\n",
       "    <tr>\n",
       "      <th>3</th>\n",
       "      <td>SG</td>\n",
       "      <td></td>\n",
       "      <td>Organisation</td>\n",
       "      <td>aaa</td>\n",
       "      <td>FATCA101</td>\n",
       "      <td>FATCA</td>\n",
       "    </tr>\n",
       "  </tbody>\n",
       "</table>\n",
       "</div>"
      ],
      "text/plain": [
       "  COTR TIN        Holder Code      Type ReportingType\n",
       "0   SG      Organisation  aaa  FATCA101           CRS\n",
       "1   HK      Organisation  aaa  FATCA102           CRS\n",
       "2   IN        Individual  aaa  FATCA103         FATCA\n",
       "3   SG      Organisation  aaa  FATCA101         FATCA"
      ]
     },
     "execution_count": 4,
     "metadata": {},
     "output_type": "execute_result"
    }
   ],
   "source": [
    "import pandas as pd\n",
    "import numpy as np\n",
    "\n",
    "df = pd.DataFrame({\n",
    "    'COTR':['SG','HK','IN','SG'],\n",
    "    'TIN':['','','',''],\n",
    "    'Holder':['Organisation','Organisation','Individual','Organisation'],\n",
    "    'Code':[\"aaa\",\"aaa\",\"aaa\",\"aaa\"],\n",
    "    'Type':['FATCA101','FATCA102', 'FATCA103', 'FATCA101'],\n",
    "    'ReportingType':['CRS','CRS','FATCA','FATCA'],\n",
    "})\n",
    "\n",
    "df"
   ]
  },
  {
   "cell_type": "code",
   "execution_count": 6,
   "id": "twelve-shepherd",
   "metadata": {},
   "outputs": [
    {
     "data": {
      "text/plain": [
       "[('SG', 'aaa'), ('HK', 'aaa'), ('IN', 'aaa'), ('SG', 'aaa')]"
      ]
     },
     "execution_count": 6,
     "metadata": {},
     "output_type": "execute_result"
    }
   ],
   "source": [
    "df_cols = list(df.columns)\n",
    "# for row in df.values:\n",
    "#     query_doc = row[df_columns.index('query_doc')]\n",
    "#     query_doc_in_list = row[df_columns.index('query_doc_in_list')]\n",
    "fut = [(row[df_cols.index('COTR')], row[df_cols.index('Code')]) for row in df.values]\n",
    "fut"
   ]
  },
  {
   "cell_type": "code",
   "execution_count": 8,
   "id": "split-pantyhose",
   "metadata": {},
   "outputs": [],
   "source": [
    "# if __name__ == \"__main__\":\n",
    "#     with concurrent.futures.ProcessPoolExecutor(max_workers=2) as e:\n",
    "#         fut = [e.submit(singleQueryPredict, row[df_cols.index('query_doc')], row[df_cols.index('query_doc_in_list')], min_threshold, max_threshold)]"
   ]
  },
  {
   "cell_type": "code",
   "execution_count": 9,
   "id": "subjective-premium",
   "metadata": {},
   "outputs": [],
   "source": [
    "###706. Design HashMap\n",
    "class myHashMap:\n",
    "    def __init__(self):\n",
    "        self.map = [-1]*(10**6 + 1)\n",
    "    def put(self, key, val):\n",
    "        self.map[key] = val\n",
    "    def get(self, key):\n",
    "        return self.map[key]\n",
    "    def remove(self, key):\n",
    "        self.map[key] = -1\n",
    "        \n",
    "    "
   ]
  },
  {
   "cell_type": "code",
   "execution_count": 13,
   "id": "understood-renewal",
   "metadata": {},
   "outputs": [
    {
     "data": {
      "text/plain": [
       "231"
      ]
     },
     "execution_count": 13,
     "metadata": {},
     "output_type": "execute_result"
    }
   ],
   "source": [
    "###712. Minimum ASCII Delete Sum for Two Strings\n",
    "## 1 + min(row-1 col, row col-1)\n",
    "\n",
    "def minAsciiDel(word1, word2):\n",
    "    if not word1:\n",
    "        return len(word2)\n",
    "    if not word2:\n",
    "        return len(word1)\n",
    "    table = [[0 for col in range(len(word2)+1)] for row in range(len(word1)+1)]\n",
    "    for i in range(len(table)):\n",
    "        for j in range(len(table[0])):\n",
    "            if i == 0:\n",
    "                table[0][j] = sum(ord(c) for c in word2[:j])\n",
    "            elif j == 0:\n",
    "                table[i][0] = sum(ord(c) for c in word1[:i])\n",
    "            else:\n",
    "                if word1[i-1] == word2[j-1]:\n",
    "                    table[i][j] = table[i-1][j-1]\n",
    "                else:\n",
    "                    table[i][j] = min(ord(word1[i-1])+ table[i-1][j], ord(word2[j-1])+ table[i][j-1])\n",
    "    return table[-1][-1]\n",
    "\n",
    "word1 = \"sea\"\n",
    "word2 = \"eat\"\n",
    "minAsciiDel(word1, word2)\n",
    "##Time O(MN)  space O(MN)"
   ]
  },
  {
   "cell_type": "code",
   "execution_count": 17,
   "id": "tracked-genetics",
   "metadata": {},
   "outputs": [
    {
     "data": {
      "text/plain": [
       "0"
      ]
     },
     "execution_count": 17,
     "metadata": {},
     "output_type": "execute_result"
    }
   ],
   "source": [
    "###713. Subarray Product Less Than K\n",
    "def subArrayProdLessK(nums, k):\n",
    "    if k < 1:\n",
    "        return 0\n",
    "    prod = 1\n",
    "    left = 0\n",
    "    count = 0\n",
    "    for right in range(len(nums)):\n",
    "        prod *= nums[right]\n",
    "        while prod >= k:\n",
    "            prod = prod // nums[left]\n",
    "            left += 1\n",
    "        if prod < k:\n",
    "            count += right-left+1\n",
    "    return count\n",
    "\n",
    "nums = [1,2,3]\n",
    "k = 0\n",
    "subArrayProdLessK(nums, k)\n",
    "##Time O(N) space O(1)"
   ]
  },
  {
   "cell_type": "code",
   "execution_count": 21,
   "id": "former-essex",
   "metadata": {},
   "outputs": [
    {
     "data": {
      "text/plain": [
       "-1"
      ]
     },
     "execution_count": 21,
     "metadata": {},
     "output_type": "execute_result"
    }
   ],
   "source": [
    "###724. Find Pivot Index\n",
    "# Input: nums = [1,7,3,6,5,6]\n",
    "# Output: 3\n",
    "# Explanation:\n",
    "# The pivot index is 3.\n",
    "# Left sum = nums[0] + nums[1] + nums[2] = 1 + 7 + 3 = 11\n",
    "# Right sum = nums[4] + nums[5] = 5 + 6 = 11\n",
    "\n",
    "# Sum = left + nums[i] + left\n",
    "# Sum = 2left + nums[i]\n",
    "# left = 0\n",
    "\n",
    "def pivotIndex(nums):\n",
    "    Sum = sum(nums)\n",
    "    left = 0\n",
    "    for i in range(len(nums)):\n",
    "        if nums[i] == Sum - 2*left:\n",
    "            return i\n",
    "        left += nums[i]\n",
    "    return -1\n",
    "\n",
    "nums = [1,2,3]\n",
    "pivotIndex(nums)\n",
    "##Time O(N) space O(1)        "
   ]
  },
  {
   "cell_type": "code",
   "execution_count": 30,
   "id": "beautiful-rider",
   "metadata": {},
   "outputs": [
    {
     "data": {
      "text/plain": [
       "[[2, 2, 2], [2, 2, 0], [2, 0, 1]]"
      ]
     },
     "execution_count": 30,
     "metadata": {},
     "output_type": "execute_result"
    }
   ],
   "source": [
    "###733. Flood Fill\n",
    "# Input: image = [[1,1,1],[1,1,0],[1,0,1]], sr = 1, sc = 1, newColor = 2\n",
    "# Output: [[2,2,2],[2,2,0],[2,0,1]]\n",
    "\n",
    "def floodFill(image, sr, sc, newColor):\n",
    "    visited = [[False for col in range(len(image[0]))] for row in range(len(image))]\n",
    "    startColor = image[sr][sc]\n",
    "    DFS(image, sr, sc, startColor, newColor, visited)\n",
    "    return image\n",
    "\n",
    "def DFS(image, i, j, startColor, newColor, visited):\n",
    "    if i < 0 or i >= len(image) or j < 0 or j >= len(image[0]) or image[i][j] != startColor:\n",
    "        return\n",
    "    if visited[i][j]:\n",
    "        return\n",
    "    visited[i][j] = True\n",
    "    image[i][j] = newColor\n",
    "    DFS(image, i+1, j, startColor, newColor, visited)\n",
    "    DFS(image, i-1, j, startColor, newColor, visited)\n",
    "    DFS(image, i, j+1, startColor, newColor, visited)\n",
    "    DFS(image, i, j-1, startColor, newColor, visited)\n",
    "    \n",
    "image = [[1,1,1],[1,1,0],[1,0,1]]\n",
    "sr = 1\n",
    "sc = 1\n",
    "newColor = 2\n",
    "floodFill(image, sr, sc, newColor)\n",
    "##Time O(N)  space O(N)  N == number of pixel in image"
   ]
  },
  {
   "cell_type": "code",
   "execution_count": 41,
   "id": "conventional-substance",
   "metadata": {},
   "outputs": [
    {
     "name": "stdout",
     "output_type": "stream",
     "text": [
      "[-1, -1, -1, -1, -1, -1, -1, -1]\n",
      "[1, 2, 6, 5, 5, 6, -1, -1]\n"
     ]
    },
    {
     "data": {
      "text/plain": [
       "[1, 1, 4, 2, 1, 1, 0, 0]"
      ]
     },
     "execution_count": 41,
     "metadata": {},
     "output_type": "execute_result"
    }
   ],
   "source": [
    "###739. Daily Temperatures\n",
    "# Input: temperatures = [73,74,75,71,69,72,76,73]\n",
    "# Output: [1,1,4,2,1,1,0,0]\n",
    "\n",
    "def dailyTemperatures(temp):\n",
    "    NG = [-1]*len(temp)\n",
    "    print(NG)\n",
    "    stack = []\n",
    "    for i in range(len(temp)):\n",
    "        while len(stack) != 0 and temp[stack[-1]] < temp[i]:\n",
    "            NG[stack[-1]] = i\n",
    "            stack.pop()\n",
    "        stack.append(i)\n",
    "    res = []\n",
    "    print(NG)\n",
    "    for i in range(len(temp)):\n",
    "        if NG[i] == -1:\n",
    "            res.append(0)\n",
    "        else:\n",
    "            res.append(NG[i]-i)\n",
    "    return res\n",
    "\n",
    "temp = [73,74,75,71,69,72,76,73]\n",
    "dailyTemperatures(temp)\n",
    "##Time O(N)  space O(N)"
   ]
  },
  {
   "cell_type": "code",
   "execution_count": 1,
   "id": "suspended-macro",
   "metadata": {},
   "outputs": [],
   "source": [
    "##783. Minimum Distance Between BST Nodes\n",
    "def minDistBST(root):\n",
    "    if root is None:\n",
    "        return 0\n",
    "    minDict = float('-inf')\n",
    "    prev = None\n",
    "    def inOrder(root):\n",
    "        if root:\n",
    "            if root.left:\n",
    "                inOrder(root.left)\n",
    "            if prev:\n",
    "                minDict = min(minDict, root.val-prev.val)\n",
    "            prev = root\n",
    "            if root.right:\n",
    "                inOrder(root.right)\n",
    "    inOrder(root)\n",
    "    return minDict"
   ]
  },
  {
   "cell_type": "code",
   "execution_count": 4,
   "id": "least-assault",
   "metadata": {},
   "outputs": [
    {
     "data": {
      "text/plain": [
       "0"
      ]
     },
     "execution_count": 4,
     "metadata": {},
     "output_type": "execute_result"
    }
   ],
   "source": [
    "###719. Find K-th Smallest Pair Distance\n",
    "def kThSmallestPairDistance(nums, k):\n",
    "    nums.sort()\n",
    "    left = 0\n",
    "    right = nums[-1] - nums[0]\n",
    "    \n",
    "    while left < right:\n",
    "        mid = left + (right-left)//2\n",
    "        count = condition(nums, mid)\n",
    "        if count >= k:\n",
    "            right = mid\n",
    "        else:\n",
    "            left = mid + 1\n",
    "    return left\n",
    "\n",
    "def condition(nums, mid):\n",
    "    left = 0\n",
    "    count = 0\n",
    "    for right in range(1, len(nums)):\n",
    "        while nums[right] - nums[left] > mid:\n",
    "            left += 1\n",
    "        count += right - left\n",
    "    return count\n",
    "\n",
    "nums = [1,3,1]\n",
    "k = 1\n",
    "kThSmallestPairDistance(nums, k)\n",
    "        "
   ]
  },
  {
   "cell_type": "code",
   "execution_count": 8,
   "id": "vital-charm",
   "metadata": {},
   "outputs": [
    {
     "data": {
      "text/plain": [
       "[['John', ['john00@mail.com', 'john_newyork@mail.com', 'johnsmith@mail.com']],\n",
       " ['Mary', ['mary@mail.com']],\n",
       " ['John', ['johnnybravo@mail.com']]]"
      ]
     },
     "execution_count": 8,
     "metadata": {},
     "output_type": "execute_result"
    }
   ],
   "source": [
    "###721. Accounts Merge\n",
    "# Input: accounts = [[\"John\",\"johnsmith@mail.com\",\"john_newyork@mail.com\"],[\"John\",\"johnsmith@mail.com\",\n",
    "#             \"john00@mail.com\"],[\"Mary\",\"mary@mail.com\"],[\"John\",\"johnnybravo@mail.com\"]]\n",
    "# Output: [[\"John\",\"john00@mail.com\",\"john_newyork@mail.com\",\"johnsmith@mail.com\"],\n",
    "#          [\"Mary\",\"mary@mail.com\"],[\"John\",\"johnnybravo@mail.com\"]]\n",
    "import collections\n",
    "def accountMerge(accounts):\n",
    "    parent = {}\n",
    "    rank = {}\n",
    "    emailToName = {}\n",
    "    \n",
    "    for acc in accounts:\n",
    "        name = acc[0]\n",
    "        for email in acc[1:]:\n",
    "            emailToName[email] = name\n",
    "            parent[email] = email\n",
    "            rank[email] = 0\n",
    "    for acc in accounts:\n",
    "        email1 = acc[1]\n",
    "        for email2 in acc[2:]:\n",
    "            union(parent, rank, email1, email2)\n",
    "    group = collections.defaultdict(list)\n",
    "    for email in parent:\n",
    "        root = find(parent, email)\n",
    "        group[root].append(email)\n",
    "        \n",
    "    res = []\n",
    "    for root in group:\n",
    "        res.append([emailToName[root], sorted(group[root])])\n",
    "    return res\n",
    "    \n",
    "def find(parent, x):\n",
    "    if parent[x] != x:\n",
    "        find(parent, parent[x])\n",
    "    return parent[x]\n",
    "\n",
    "def union(parent, rank, x, y):\n",
    "    xP = find(parent, x)\n",
    "    yP = find(parent, y)\n",
    "    \n",
    "    if xP != yP:\n",
    "        if rank[xP] > rank[yP]:\n",
    "            parent[yP] = xP\n",
    "        elif rank[xP] < rank[yP]:\n",
    "            parent[yP] = xP\n",
    "        else:\n",
    "            parent[yP] = xP\n",
    "            rank[xP] += 1\n",
    "            \n",
    "accounts = [[\"John\",\"johnsmith@mail.com\",\"john_newyork@mail.com\"],[\"John\",\"johnsmith@mail.com\",\n",
    "               \"john00@mail.com\"],[\"Mary\",\"mary@mail.com\"],[\"John\",\"johnnybravo@mail.com\"]]\n",
    "\n",
    "accountMerge(accounts)\n",
    "##Time O(NKlogNK)  space O(NK)  N = number of account, K = max length of an account"
   ]
  },
  {
   "cell_type": "code",
   "execution_count": 14,
   "id": "deluxe-burlington",
   "metadata": {},
   "outputs": [],
   "source": [
    "##745. Prefix and Suffix Search\n",
    "##apple#apple\n",
    "##pple#apple\n",
    "##ple#apple\n",
    "##le#apple\n",
    "#e#apple\n",
    "\n",
    "class TrieNode:\n",
    "    def __init__(self):\n",
    "        self.children = {}\n",
    "        self.maxIdx = -1\n",
    "        \n",
    "class wordFilter:\n",
    "    def __init__(self, words):\n",
    "        self.root = TrieNode()\n",
    "        for i, word in enumerate(words):\n",
    "            nWord = word + \"#\" + word\n",
    "            for j in range(len(word)):\n",
    "                parent = self.root\n",
    "                for k in range(j, len(nWord)):\n",
    "                    if nWord[k] not in parent.children:\n",
    "                        parent.children[nWord[k]] = TrieNode()\n",
    "                    parent = parent.children[nWord[k]]\n",
    "                    parent.maxIdx = i\n",
    "    def search(self, prefix, suffix):\n",
    "        word = suffix + \"#\" + prefix\n",
    "        parent = self.root\n",
    "        for i, char in enumerate(word):\n",
    "            if char not in parent.children:\n",
    "                return -1\n",
    "            parent = parent.children[char]\n",
    "        return parent.maxIdx\n",
    "                \n",
    "##Time __init__()  O(n*k^2)  search O(QK)  space O(n*k^2)  n = number of words, k = max \n",
    "##length of word  Q  query time"
   ]
  },
  {
   "cell_type": "code",
   "execution_count": 17,
   "id": "furnished-arnold",
   "metadata": {},
   "outputs": [
    {
     "data": {
      "text/plain": [
       "6"
      ]
     },
     "execution_count": 17,
     "metadata": {},
     "output_type": "execute_result"
    }
   ],
   "source": [
    "###746. Min Cost Climbing Stairs\n",
    "# Input: cost = [10,15,20]\n",
    "# Output: 15\n",
    "# Explanation: You will start at index 1.\n",
    "# - Pay 15 and climb two steps to reach the top.\n",
    "# The total cost is 15.\n",
    "\n",
    "def minCost(cost):\n",
    "    if len(cost) == 0:\n",
    "        return 0\n",
    "    if len(cost) == 1:\n",
    "        return cost[0]\n",
    "    if len(cost) == 2:\n",
    "        return min(cost[0], cost[1])\n",
    "    table = [0]*len(cost)\n",
    "    table[0] = cost[0]\n",
    "    table[1] = cost[1]\n",
    "    for i in range(2, len(table)):\n",
    "        table[i] = min(cost[i]+table[i-1], cost[i]+table[i-2])\n",
    "    n = len(cost)\n",
    "    return min(table[n-1], table[n-2])\n",
    "\n",
    "cost = [1,100,1,1,1,100,1,1,100,1]\n",
    "minCost(cost)\n",
    "\n",
    "##Time O(N) space O(n)"
   ]
  },
  {
   "cell_type": "code",
   "execution_count": 17,
   "id": "sporting-difficulty",
   "metadata": {},
   "outputs": [
    {
     "data": {
      "text/plain": [
       "1"
      ]
     },
     "execution_count": 17,
     "metadata": {},
     "output_type": "execute_result"
    }
   ],
   "source": [
    "###752. Open the Lock\n",
    "# Input: deadends = [\"0201\",\"0101\",\"0102\",\"1212\",\"2002\"], target = \"0202\"\n",
    "# Output: 6\n",
    "\n",
    "def openTheLock(deadends, target):\n",
    "    banned = set(deadends)\n",
    "    stack = [\"0000\"]\n",
    "    level = 0\n",
    "    visited = set()\n",
    "    \n",
    "    while len(stack) != 0:\n",
    "        temp = []\n",
    "        for cur in stack:\n",
    "            if cur == target:\n",
    "                return level\n",
    "            if cur not in visited:\n",
    "                visited.add(cur)\n",
    "                newNodes = generate(cur)\n",
    "                for node in newNodes:\n",
    "                    if node not in visited and node not in banned:\n",
    "                        temp.append(node)\n",
    "        level += 1\n",
    "        stack = temp\n",
    "                \n",
    "    return -1\n",
    "def generate(cur):\n",
    "    arrayS = list(cur)\n",
    "    lockSet = set()\n",
    "    for i in range(len(arrayS)):\n",
    "        backUp = arrayS[i]\n",
    "        if arrayS[i] == \"9\":\n",
    "            arrayS[i] = \"0\"\n",
    "        else:\n",
    "            arrayS[i] = str(int(arrayS[i])+1)\n",
    "        lockSet.add(\"\".join(arrayS))\n",
    "        arrayS[i] = backUp\n",
    "        if arrayS[i] == \"0\":\n",
    "            arrayS[i] = \"9\"\n",
    "        else:\n",
    "            arrayS[i] = str(int(arrayS[i])-1)\n",
    "        lockSet.add(\"\".join(arrayS))\n",
    "        arrayS[i] = backUp\n",
    "    return lockSet\n",
    "\n",
    "deadends = [\"8888\"]\n",
    "target = \"0009\"\n",
    "openTheLock(deadends, target)                "
   ]
  },
  {
   "cell_type": "code",
   "execution_count": 23,
   "id": "clear-headline",
   "metadata": {},
   "outputs": [
    {
     "data": {
      "text/plain": [
       "[10]"
      ]
     },
     "execution_count": 23,
     "metadata": {},
     "output_type": "execute_result"
    }
   ],
   "source": [
    "###763. Partition Labels\n",
    "# Input: s = \"ababcbacadefegdehijhklij\"\n",
    "# Output: [9,7,8]\n",
    "\n",
    "def partitionLabels(s):\n",
    "    dictS = {}\n",
    "    for i in range(len(s)):\n",
    "        dictS[s[i]] = i\n",
    "    res = []\n",
    "    maxIdx = 0\n",
    "    start = 0\n",
    "    for i in range(len(s)):\n",
    "        maxIdx = max(maxIdx, dictS[s[i]])\n",
    "        if i == maxIdx:\n",
    "            res.append(maxIdx-start+1)\n",
    "            start = maxIdx + 1\n",
    "    return res\n",
    "\n",
    "s = \"eccbbbbdec\"\n",
    "partitionLabels(s)\n",
    "##Time O(N) space O(N)"
   ]
  },
  {
   "cell_type": "code",
   "execution_count": 11,
   "id": "personal-burns",
   "metadata": {},
   "outputs": [
    {
     "name": "stdout",
     "output_type": "stream",
     "text": [
      "defaultdict(<class 'list'>, {7: [0], 12: [0, 4], 4: [1], 5: [1], 15: [1, 3], 6: [2], 19: [3], 9: [4], 13: [4]})\n"
     ]
    },
    {
     "data": {
      "text/plain": [
       "-1"
      ]
     },
     "execution_count": 11,
     "metadata": {},
     "output_type": "execute_result"
    }
   ],
   "source": [
    "###815. Bus Routes\n",
    "# Input: routes = [[1,2,7],[3,6,7]], source = 1, target = 6\n",
    "# Output: 2\n",
    "def busRoutes(routes, source, target):\n",
    "    import collections\n",
    "    graph = collections.defaultdict(list)\n",
    "    for bus, stops in enumerate(routes):\n",
    "        for stop in stops:\n",
    "            if stop in graph:\n",
    "                graph[stop].append(bus)\n",
    "            else:\n",
    "                graph[stop] = [bus]\n",
    "     \n",
    "    print(graph)\n",
    "    res = 0\n",
    "    stopSet = set()\n",
    "    busSet = set()\n",
    "    \n",
    "    \n",
    "    queue = collections.deque([source])\n",
    "    \n",
    "    while queue:\n",
    "        for _ in range(len(queue)):\n",
    "            stop = queue.popleft()\n",
    "            if stop == target:\n",
    "                return res\n",
    "            for busId in graph[stop]:\n",
    "                if busId in busSet:\n",
    "                    continue\n",
    "                busSet.add(busId)\n",
    "                for newStop in routes[busId]:\n",
    "                    if newStop not in stopSet:\n",
    "                        stopSet.add(newStop)\n",
    "                        queue.append(newStop)\n",
    "        res += 1\n",
    "    return -1\n",
    "\n",
    "routes = [[7,12],[4,5,15],[6],[15,19],[9,12,13]]\n",
    "source = 15\n",
    "target = 12\n",
    "busRoutes(routes, source, target)\n",
    "##Time O(MN) M = length of routes which is 500 N = length of routes[i]        "
   ]
  },
  {
   "cell_type": "code",
   "execution_count": 17,
   "id": "personal-appeal",
   "metadata": {},
   "outputs": [
    {
     "data": {
      "text/plain": [
       "2"
      ]
     },
     "execution_count": 17,
     "metadata": {},
     "output_type": "execute_result"
    }
   ],
   "source": [
    "###825. Friends Of Appropriate Ages\n",
    "def appAges(ages):\n",
    "    unique = {}\n",
    "    req = 0\n",
    "    for age in ages:\n",
    "        if age in unique:\n",
    "            unique[age] += 1\n",
    "        else:\n",
    "            unique[age] = 1\n",
    "     \n",
    "    list1 = list(unique.keys())\n",
    "    for i,ageA in enumerate(list1):\n",
    "        for j, ageB in enumerate(list1):\n",
    "            if isFBPossible(ageA, ageB):\n",
    "                countA = unique[ageA]\n",
    "                countB = unique[ageB]\n",
    "                if ageA == ageB:\n",
    "                    req += (countA-1)*countA\n",
    "                if ageA != ageB:\n",
    "                    req += countA*countB\n",
    "    return req\n",
    "        \n",
    "def isFBPossible(ageA, ageB):\n",
    "    if ageB <= 0.5*ageA + 7:\n",
    "        return False\n",
    "    if ageB > ageA:\n",
    "        return False\n",
    "    if ageB > 100 and ageA < 100:\n",
    "        return False\n",
    "    return True\n",
    "\n",
    "ages = [16,17,18]\n",
    "appAges(ages)\n",
    "##Time O(n+m^2)  space O(N)  n = length of ages, m = number of unique ages"
   ]
  },
  {
   "cell_type": "code",
   "execution_count": 3,
   "id": "regulation-ordinance",
   "metadata": {},
   "outputs": [
    {
     "data": {
      "text/plain": [
       "2"
      ]
     },
     "execution_count": 3,
     "metadata": {},
     "output_type": "execute_result"
    }
   ],
   "source": [
    "##854. K-Similar Strings\n",
    "# Input: s1 = \"abc\", s2 = \"bca\"\n",
    "# Output: 2\n",
    "\n",
    "def kSimilarStr(s1, s2):\n",
    "    hight = {}\n",
    "    import collections\n",
    "    queue = collections.deque([s1])\n",
    "    hight[s1] = 0\n",
    "    \n",
    "    while queue:\n",
    "        s = queue.popleft()\n",
    "        if s == s2:\n",
    "            return hight[s]\n",
    "        neis = getNeis(s, s2)\n",
    "        for nei in neis:\n",
    "            if nei not in hight:\n",
    "                hight[nei] = hight[s] + 1\n",
    "                queue.append(nei)\n",
    "    return -1\n",
    "\n",
    "def getNeis(s, s2):\n",
    "    res = []\n",
    "    if s == s2:\n",
    "        return res\n",
    "    i = 0\n",
    "    while s[i] == s2[i]:\n",
    "        i += 1\n",
    "    sList = list(s)\n",
    "    for j in range(i+1, len(sList)):\n",
    "        if s[i] == s2[j]:\n",
    "            sList[i], sList[j] = sList[j], sList[i]\n",
    "            res.append(\"\".join(sList))\n",
    "            sList[i], sList[j] = sList[j], sList[i]\n",
    "    return res\n",
    "            \n",
    "s1 = \"abc\"\n",
    "s2 = \"bca\"        \n",
    "kSimilarStr(s1, s2)\n",
    "##Time O(N^2)  space O(N)"
   ]
  },
  {
   "cell_type": "code",
   "execution_count": 5,
   "id": "military-evolution",
   "metadata": {},
   "outputs": [],
   "source": [
    "##865. Smallest Subtree with all the Deepest Nodes\n",
    "def lowestCommonAncestor(root):\n",
    "    if root is None:\n",
    "        return None\n",
    "    leftH = getHeight(root.left)\n",
    "    rightH = getHeight(root.right)\n",
    "    \n",
    "    if leftH == rightH:\n",
    "        return root\n",
    "    if leftH > rightH:\n",
    "        return lowestCommonAncestor(root.left)\n",
    "    else:\n",
    "        return lowestCommonAncestor(root.right)\n",
    "    \n",
    "    \n",
    "def getHeight(root):\n",
    "    if root is None:\n",
    "        return 0\n",
    "    return 1 + max(getHeight(root.left), getHeight(root.right))\n",
    "\n",
    "##Time O(N)  space O(N)"
   ]
  },
  {
   "cell_type": "code",
   "execution_count": 7,
   "id": "expressed-outreach",
   "metadata": {},
   "outputs": [],
   "source": [
    "###872. Leaf-Similar Trees\n",
    "def leafSimilarTree(root1, root2):\n",
    "    if root1 is None or root2 is None:\n",
    "        return False\n",
    "    def inOrder(root, res):\n",
    "        if root:\n",
    "            inOrder(root.left, res)\n",
    "            if root.left is None and root.right is None:\n",
    "                res.append(root)\n",
    "            inOrder(root.right, res)\n",
    "            \n",
    "    res1 = []\n",
    "    res2 = []\n",
    "    inOrder(root1, res1)\n",
    "    inOrder(root2, res2)\n",
    "    return res1 == res2\n",
    "\n",
    "##Time O(N)  space O(N)"
   ]
  },
  {
   "cell_type": "code",
   "execution_count": 13,
   "id": "arbitrary-cambridge",
   "metadata": {},
   "outputs": [
    {
     "data": {
      "text/plain": [
       "23"
      ]
     },
     "execution_count": 13,
     "metadata": {},
     "output_type": "execute_result"
    }
   ],
   "source": [
    "##875. Koko Eating Bananas\n",
    "# Input: piles = [3,6,7,11], h = 8\n",
    "# Output: 4\n",
    "\n",
    "def kokoBanana(piles, h):\n",
    "    left = 1\n",
    "    right = max(piles)\n",
    "    \n",
    "    while left <= right:\n",
    "        mid = left + (right-left)//2\n",
    "        hours = condition(piles, mid)\n",
    "        if hours > h:\n",
    "            left = mid + 1\n",
    "        else:\n",
    "            right = mid - 1\n",
    "    return left\n",
    "\n",
    "def condition(piles, mid):\n",
    "    count = 0\n",
    "    for num in piles:\n",
    "        count += num//mid\n",
    "        if num%mid != 0:\n",
    "            count += 1\n",
    "    return count\n",
    "\n",
    "piles = [30,11,23,4,20]\n",
    "h = 6\n",
    "kokoBanana(piles, h)\n",
    "##Time O(nlogn)  space O(1)"
   ]
  },
  {
   "cell_type": "code",
   "execution_count": 15,
   "id": "given-lying",
   "metadata": {},
   "outputs": [],
   "source": [
    "##876. Middle of the Linked List\n",
    "def midLinkedList(head):\n",
    "    if head is None:\n",
    "        return None\n",
    "    slow = head\n",
    "    fast = head\n",
    "    while fast and fast.next:\n",
    "        slow = slow.next\n",
    "        fast = fast.next.next\n",
    "    return slow\n",
    "\n",
    "##Time O(N)  space O(1)"
   ]
  },
  {
   "cell_type": "code",
   "execution_count": 19,
   "id": "convenient-conservative",
   "metadata": {},
   "outputs": [
    {
     "data": {
      "text/plain": [
       "False"
      ]
     },
     "execution_count": 19,
     "metadata": {},
     "output_type": "execute_result"
    }
   ],
   "source": [
    "###896. Monotonic Array\n",
    "def monotonic(nums):\n",
    "    increasing = True\n",
    "    decreasing = True\n",
    "    for i in range(len(nums)-1):\n",
    "        if nums[i] > nums[i+1]:\n",
    "            increasing = False\n",
    "            break\n",
    "    for i in range(len(nums)-1):\n",
    "        if nums[i] < nums[i+1]:\n",
    "            decreasing = False\n",
    "            break\n",
    "    if increasing or decreasing:\n",
    "        return True\n",
    "    else:\n",
    "        return False\n",
    "            \n",
    "nums = [1,3,2]\n",
    "monotonic(nums)\n",
    "##Time O(N)  space O(1)"
   ]
  },
  {
   "cell_type": "code",
   "execution_count": 20,
   "id": "plain-paradise",
   "metadata": {},
   "outputs": [],
   "source": [
    "##897. Increasing Order Search Tree\n",
    "class TreeNode:\n",
    "    def __init__(self, val):\n",
    "        self.val = val\n",
    "        self.left = None\n",
    "        self.right = None\n",
    "        \n",
    "def increasingOrderTree(root):\n",
    "    if root is None:\n",
    "        return None\n",
    "    prev = None\n",
    "    stack = []\n",
    "    while root or stack:\n",
    "        while root:\n",
    "            stack.append(root)\n",
    "            root = root.left\n",
    "        root = stack.pop()\n",
    "        if not prev:\n",
    "            head = TreeNode(root.val)\n",
    "            head.left = None\n",
    "            prev = head\n",
    "        else:\n",
    "            node = TreeNode(root.val)\n",
    "            prev.right = node\n",
    "            prev.left = None\n",
    "            prev = node\n",
    "        root = root.right\n",
    "    return head\n",
    "##Time O(N)  space O(N)\n"
   ]
  },
  {
   "cell_type": "code",
   "execution_count": 5,
   "id": "obvious-resistance",
   "metadata": {},
   "outputs": [
    {
     "data": {
      "text/plain": [
       "False"
      ]
     },
     "execution_count": 5,
     "metadata": {},
     "output_type": "execute_result"
    }
   ],
   "source": [
    "##953. Verifying an Alien Dictionary\n",
    "# Input: words = [\"hello\",\"leetcode\"], order = \"hlabcdefgijkmnopqrstuvwxyz\"\n",
    "# Output: true\n",
    "# Explanation: As 'h' comes before 'l' in this language, then the sequence is sorted.\n",
    "\n",
    "def isAlienDict(words, order):\n",
    "    orderDict = {}\n",
    "    for i, char in enumerate(order):\n",
    "        orderDict[char] = i\n",
    "    for i in range(len(words)-1):\n",
    "        w1 = words[i]\n",
    "        w2 = words[i+1]\n",
    "        for j in range(len(w1)):\n",
    "            if j == len(w2):\n",
    "                return False\n",
    "            if w1[j] != w2[j]:\n",
    "                if orderDict[w1[j]] > orderDict[w2[j]]:\n",
    "                    return False\n",
    "                break\n",
    "    return True\n",
    "\n",
    "words = [\"apple\",\"app\"]\n",
    "order = \"abcdefghijklmnopqrstuvwxyz\"\n",
    "isAlienDict(words, order)\n",
    "##Time O(MN) O(M)  -- M length of words, N = average length of w1/w2"
   ]
  },
  {
   "cell_type": "code",
   "execution_count": 10,
   "id": "flush-campus",
   "metadata": {},
   "outputs": [
    {
     "data": {
      "text/plain": [
       "7"
      ]
     },
     "execution_count": 10,
     "metadata": {},
     "output_type": "execute_result"
    }
   ],
   "source": [
    "###974. Subarray Sums Divisible by K\n",
    "# Input: nums = [4,5,0,-2,-3,1], k = 5\n",
    "# Output: 7\n",
    "# Explanation: There are 7 subarrays with a sum divisible by k = 5:\n",
    "# [4, 5, 0, -2, -3, 1], [5], [5, 0], [5, 0, -2, -3], [0], [0, -2, -3], [-2, -3]\n",
    "\n",
    "def subArraySumDivByK(nums, k):\n",
    "    if len(nums) == 0 or k == 0:\n",
    "        return 0\n",
    "    dict1 = {}\n",
    "    dict1[0] = 1\n",
    "    cSum = 0\n",
    "    count = 0\n",
    "    for i, num in enumerate(nums):\n",
    "        cSum += num\n",
    "        cSum = cSum%k\n",
    "        if cSum in dict1:\n",
    "            count += dict1[cSum]\n",
    "            dict1[cSum] += 1\n",
    "            \n",
    "        else:\n",
    "            dict1[cSum] = 1\n",
    "    return count\n",
    "nums = [4,5,0,-2,-3,1]\n",
    "k = 5\n",
    "subArraySumDivByK(nums, k)\n",
    "##Time O(n) space O(n)"
   ]
  },
  {
   "cell_type": "code",
   "execution_count": 22,
   "id": "sorted-neutral",
   "metadata": {},
   "outputs": [
    {
     "data": {
      "text/plain": [
       "1"
      ]
     },
     "execution_count": 22,
     "metadata": {},
     "output_type": "execute_result"
    }
   ],
   "source": [
    "###934. Shortest Bridge\n",
    "import collections\n",
    "def shortestBridge(grid):\n",
    "    if len(grid) == 0 or len(grid[0]) == 0:\n",
    "        return 0\n",
    "    isFound = False\n",
    "    queue = collections.deque()\n",
    "    for i in range(len(grid)):\n",
    "        for j in range(len(grid[0])):\n",
    "            if grid[i][j] == 1 and isFound == False:\n",
    "                DFS(grid, i, j, queue)\n",
    "                isFound = True\n",
    "                break\n",
    "        if isFound:\n",
    "            break\n",
    "            \n",
    "    steps = 0\n",
    "    dirs = [(0,1), (1,0), (0,-1), (-1,0)]\n",
    "    while queue:\n",
    "        size = len(queue)\n",
    "        while size != 0:\n",
    "            row, col = queue.popleft()\n",
    "            for d in dirs:\n",
    "                newRow = row + d[0]\n",
    "                newCol = col + d[1]\n",
    "                if newRow < 0 or newRow >= len(grid) or newCol < 0 or newCol >= len(grid[0]):\n",
    "                    continue\n",
    "                elif grid[newRow][newCol] == 2:\n",
    "                    continue\n",
    "                elif grid[newRow][newCol] == 1:\n",
    "                    return steps\n",
    "                elif grid[newRow][newCol] == 0:\n",
    "                    grid[newRow][newCol] = 2\n",
    "                    queue.append((newRow,newCol))\n",
    "            size -= 1\n",
    "        steps += 1\n",
    "    return 0\n",
    "                \n",
    "                \n",
    "                   \n",
    "def DFS(grid, i, j, queue):\n",
    "    if i < 0 or i >= len(grid) or j < 0 or j >= len(grid[0]) or grid[i][j] == 0:\n",
    "        return\n",
    "    if grid[i][j] == 2:\n",
    "        return\n",
    "    grid[i][j] = 2\n",
    "    queue.append((i,j))\n",
    "    DFS(grid, i+1, j, queue)\n",
    "    DFS(grid, i-1, j, queue)\n",
    "    DFS(grid, i, j+1, queue)\n",
    "    DFS(grid, i, j-1, queue)\n",
    "        \n",
    "grid = [[1,1,1,1,1],[1,0,0,0,1],[1,0,1,0,1],[1,0,0,0,1],[1,1,1,1,1]]\n",
    "shortestBridge(grid)\n",
    "##Time O(MN)  space O(MN)"
   ]
  },
  {
   "cell_type": "code",
   "execution_count": 6,
   "id": "laden-happiness",
   "metadata": {},
   "outputs": [
    {
     "data": {
      "text/plain": [
       "3"
      ]
     },
     "execution_count": 6,
     "metadata": {},
     "output_type": "execute_result"
    }
   ],
   "source": [
    "nums = [1,3,5,7]\n",
    "\n",
    "def bisect(nums, val):\n",
    "    left = 0\n",
    "    right = len(nums) - 1\n",
    "    \n",
    "    while left <= right:\n",
    "        mid = left + (right-left)//2\n",
    "        if nums[mid] == val:\n",
    "            return min\n",
    "        if nums[mid] > val:\n",
    "            right = mid - 1\n",
    "        else:\n",
    "            left = mid + 1\n",
    "    return left + 1\n",
    "val = 4\n",
    "bisect(nums, val)\n",
    "\n"
   ]
  },
  {
   "cell_type": "code",
   "execution_count": 10,
   "id": "certain-uniform",
   "metadata": {},
   "outputs": [
    {
     "data": {
      "text/plain": [
       "17"
      ]
     },
     "execution_count": 10,
     "metadata": {},
     "output_type": "execute_result"
    }
   ],
   "source": [
    "###983. Minimum Cost For Tickets\n",
    "# Input: days = [1,4,6,7,8,20], costs = [2,7,15]\n",
    "# Output: 11\n",
    "\n",
    "def minCost(days, cost):\n",
    "    days = set(days)\n",
    "    lastDay = max(days)\n",
    "    table = [0]*(lastDay+1)\n",
    "    \n",
    "    for d in range(1, len(table)):\n",
    "        if d in days:\n",
    "            if d-1 < 0:\n",
    "                one = cost[0]\n",
    "            else:\n",
    "                one = table[d-1] + cost[0]\n",
    "\n",
    "            if d-7 < 0:\n",
    "                seven = cost[1]\n",
    "            else:\n",
    "                seven = table[d-7] + cost[1]\n",
    "            if d - 30 < 0:\n",
    "                thirty = cost[2]\n",
    "            else:\n",
    "                thirty = table[d-30] + cost[2]\n",
    "            table[d] = min(one, seven, thirty)\n",
    "        else:\n",
    "            table[d] = table[d-1]\n",
    "    return table[-1]\n",
    "\n",
    "days = [1,2,3,4,5,6,7,8,9,10,30,31]\n",
    "cost = [2,7,15]\n",
    "minCost(days, cost)\n",
    "##Time O(N)  space O(n)"
   ]
  },
  {
   "cell_type": "code",
   "execution_count": 15,
   "id": "fitted-hotel",
   "metadata": {},
   "outputs": [
    {
     "data": {
      "text/plain": [
       "[[1, 2], [5, 5], [8, 10], [15, 23], [24, 24], [25, 25]]"
      ]
     },
     "execution_count": 15,
     "metadata": {},
     "output_type": "execute_result"
    }
   ],
   "source": [
    "##986. Interval List Intersections\n",
    "# Input: firstList = [[0,2],[5,10],[13,23],[24,25]], secondList = [[1,5],[8,12],[15,24],[25,26]]\n",
    "# Output: [[1,2],[5,5],[8,10],[15,23],[24,24],[25,25]]\n",
    "def intervalList(firstList, secondList):\n",
    "    i = 0\n",
    "    j = 0\n",
    "    res = []\n",
    "    while i < len(firstList) and j < len(secondList):\n",
    "        firstVal = firstList[i]\n",
    "        secondVal = secondList[j]\n",
    "        \n",
    "        if firstVal[1] >= secondVal[0] and firstVal[0] <= secondVal[1]:\n",
    "            inter = [max(firstVal[0], secondVal[0]), min(firstVal[1], secondVal[1])]\n",
    "            res.append(inter)\n",
    "        if firstVal[1] >= secondVal[1]:\n",
    "            j += 1\n",
    "        else:\n",
    "            i += 1\n",
    "    return res\n",
    "firstList = [[0,2],[5,10],[13,23],[24,25]]\n",
    "secondList = [[1,5],[8,12],[15,24],[25,26]]\n",
    "intervalList(firstList, secondList)\n",
    "##Time O(n) res O(n)"
   ]
  },
  {
   "cell_type": "code",
   "execution_count": 19,
   "id": "indian-enclosure",
   "metadata": {},
   "outputs": [
    {
     "data": {
      "text/plain": [
       "True"
      ]
     },
     "execution_count": 19,
     "metadata": {},
     "output_type": "execute_result"
    }
   ],
   "source": [
    "###990. Satisfiability of Equality Equations\n",
    "# Input: equations = [\"a==b\",\"b!=a\"]\n",
    "# Output: false\n",
    "# Explanation: If we assign say, a = 1 and b = 1, then the first equation is satisfied, \n",
    "# but not the second.\n",
    "# There is no way to assign the variables to satisfy both equations.\n",
    "\n",
    "def equationPossible(equations):\n",
    "    parent = {}\n",
    "    for eq in equations:\n",
    "        x = ord(eq[0]) - ord('a')\n",
    "        y = ord(eq[3]) - ord('a')\n",
    "        parent[x] = x\n",
    "        parent[y] = y\n",
    "        \n",
    "    for eq in equations:\n",
    "        if eq[1] == \"=\":\n",
    "            x = ord(eq[0]) - ord('a')\n",
    "            y = ord(eq[3]) - ord('a')\n",
    "            union(parent, x, y)\n",
    "            \n",
    "    for eq in equations:\n",
    "        if eq[1] == \"!\":\n",
    "            x = ord(eq[0]) - ord('a')\n",
    "            y = ord(eq[3]) - ord('a')\n",
    "            xP = find(parent, x)\n",
    "            yP = find(parent, y)\n",
    "            if xP == yP:\n",
    "                return False\n",
    "    return True\n",
    "    \n",
    "def find(parent, x):\n",
    "    if x != parent[x]:\n",
    "        parent[x] = find(parent, parent[x])\n",
    "    return parent[x]\n",
    "\n",
    "def union(parent, x, y):\n",
    "    xP = find(parent, x)\n",
    "    yP = find(parent, y)\n",
    "    \n",
    "    if xP != yP:\n",
    "        parent[yP] = xP\n",
    "        \n",
    "equations = [\"b==a\",\"a==b\"]\n",
    "equationPossible(equations)\n",
    "#Time complexity: O(N * alpha(26)) = O(N)\n",
    "#Space complexity: O(26) = O(1)"
   ]
  },
  {
   "cell_type": "code",
   "execution_count": 8,
   "id": "faced-tsunami",
   "metadata": {},
   "outputs": [
    {
     "name": "stdout",
     "output_type": "stream",
     "text": [
      "False\n",
      "False\n",
      "False\n",
      "True\n",
      "False\n",
      "True\n",
      "False\n",
      "False\n",
      "False\n",
      "False\n",
      "False\n",
      "True\n"
     ]
    }
   ],
   "source": [
    "###1032. Stream of Characters\n",
    "class trieNode:\n",
    "    def __init__(self):\n",
    "        self.children = {}\n",
    "        self.isEnd = False\n",
    "class streamChecker:\n",
    "    def __init__(self, words):\n",
    "        self.words = words\n",
    "        self.stream = []\n",
    "        self.root = trieNode()\n",
    "        \n",
    "        for word in words:\n",
    "            self.addWord(word)\n",
    "            \n",
    "    def query(self,char):\n",
    "        self.stream.append(char)\n",
    "        return self.search()\n",
    "    \n",
    "    def addWord(self, word):\n",
    "        parent = self.root\n",
    "        for i, char in enumerate(word[::-1]):\n",
    "            if word not in parent.children:\n",
    "                parent.children[char] = trieNode()\n",
    "            parent = parent.children[char]\n",
    "        parent.isEnd = True\n",
    "        \n",
    "    def search(self):\n",
    "        parent = self.root\n",
    "        for i in range(len(self.stream)-1, -1, -1):\n",
    "            char = self.stream[i]\n",
    "            if char not in parent.children:\n",
    "                return False\n",
    "            parent = parent.children[char]\n",
    "            if parent.isEnd:\n",
    "                return True\n",
    "        return False\n",
    "    \n",
    "sc = streamChecker([\"cd\", \"f\", \"kl\"])\n",
    "print(sc.query('a'))\n",
    "print(sc.query('b'))\n",
    "print(sc.query('c'))\n",
    "print(sc.query('d'))\n",
    "print(sc.query('e'))\n",
    "print(sc.query('f'))\n",
    "print(sc.query('g'))\n",
    "print(sc.query('h'))\n",
    "print(sc.query('i'))\n",
    "print(sc.query('j'))\n",
    "print(sc.query('k'))\n",
    "print(sc.query('l'))"
   ]
  },
  {
   "cell_type": "code",
   "execution_count": 14,
   "id": "greek-month",
   "metadata": {},
   "outputs": [
    {
     "data": {
      "text/plain": [
       "2"
      ]
     },
     "execution_count": 14,
     "metadata": {},
     "output_type": "execute_result"
    }
   ],
   "source": [
    "##1035. Uncrossed Lines\n",
    "\n",
    "def uncrossedLine(nums1, nums2):\n",
    "    if len(nums1) == 0 or len(nums2) == 0:\n",
    "        return 0\n",
    "    table = [[0 for col in range(len(nums2)+1)] for row in range(len(nums1)+1)]\n",
    "    for i in range(1, len(table)):\n",
    "        for j in range(1, len(table[0])):\n",
    "            if nums1[i-1] == nums2[j-1]:\n",
    "                table[i][j] = table[i-1][j-1] + 1\n",
    "            else:\n",
    "                table[i][j] = max(table[i-1][j], table[i][j-1])\n",
    "    return table[-1][-1]\n",
    "\n",
    "nums1 = [1,3,7,1,7,5]\n",
    "nums2 = [1,9,2,5,1]\n",
    "uncrossedLine(nums1, nums2)\n",
    "##Time O(Mn)  space O(MN)"
   ]
  },
  {
   "cell_type": "code",
   "execution_count": 19,
   "id": "ready-diamond",
   "metadata": {},
   "outputs": [
    {
     "data": {
      "text/plain": [
       "[1, 2, 3, 4]"
      ]
     },
     "execution_count": 19,
     "metadata": {},
     "output_type": "execute_result"
    }
   ],
   "source": [
    "##1042. Flower Planting With No Adjacent\n",
    "# Input: n = 3, paths = [[1,2],[2,3],[3,1]]\n",
    "# Output: [1,2,3]\n",
    "\n",
    "def flowerNoAdjacent(n, paths):\n",
    "    graph = {}\n",
    "    for i in range(1, n+1):\n",
    "        graph[i] = []\n",
    "    for u,v in paths:\n",
    "        graph[u].append(v)\n",
    "        graph[v].append(u)\n",
    "        \n",
    "    res = [0]*n\n",
    "    for i in range(1, n+1):\n",
    "        colors = {1,2,3,4}\n",
    "        for nei in graph[i]:\n",
    "            if res[nei-1] != 0 and res[nei-1] in colors:\n",
    "                colors.remove(res[nei-1])\n",
    "        res[i-1] = colors.pop()\n",
    "    return res\n",
    "\n",
    "n = 4\n",
    "paths = [[1,2],[2,3],[3,4],[4,1],[1,3],[2,4]]\n",
    "flowerNoAdjacent(n, paths)\n",
    "##Time O(v+e)  space O(v)"
   ]
  },
  {
   "cell_type": "code",
   "execution_count": 36,
   "id": "complicated-slovakia",
   "metadata": {},
   "outputs": [
    {
     "data": {
      "text/plain": [
       "['a', 'ba', 'bca', 'bdca']"
      ]
     },
     "execution_count": 36,
     "metadata": {},
     "output_type": "execute_result"
    }
   ],
   "source": [
    "###1048. Longest String Chain\n",
    "# Input: words = [\"a\",\"b\",\"ba\",\"bca\",\"bda\",\"bdca\"]\n",
    "# Output: 4\n",
    "# Explanation: One of the longest word chains is [\"a\",\"ba\",\"bda\",\"bdca\"].\n",
    "\n",
    "def longestStrChain(words):\n",
    "    if len(words) == 0:\n",
    "        return 0\n",
    "    words = sorted(words, key=len)\n",
    "    #res = 1\n",
    "    wordDict = {}\n",
    "    ans = [words[0]]\n",
    "    #ans.add(words[0])\n",
    "    res = \"\"\n",
    "    for word in words:\n",
    "        for i in range(len(word)):\n",
    "            newWord = word[:i] + word[i+1:]\n",
    "            if newWord in wordDict:\n",
    "                wordDict[word] = wordDict[newWord] + 1\n",
    "                #res = max(res, wordDict[word])\n",
    "                if len(word) > len(res):\n",
    "                    ans.append(word)\n",
    "                    res = word\n",
    "        if word not in wordDict:\n",
    "            wordDict[word] = 1\n",
    "    return ans\n",
    "\n",
    "words = [\"a\",\"b\",\"ba\",\"bca\",\"bda\",\"bdca\"]\n",
    "longestStrChain(words)\n",
    "            "
   ]
  },
  {
   "cell_type": "code",
   "execution_count": 37,
   "id": "numerical-secondary",
   "metadata": {},
   "outputs": [],
   "source": [
    "###1110. Delete Nodes And Return Forest\n",
    "def deleteNodeAndForest(root, to_Delete):\n",
    "    if root is None:\n",
    "        return []\n",
    "    toDelete = set()\n",
    "    for node in to_delete:\n",
    "        toDelete.add(node)\n",
    "    res = []\n",
    "    postOrder(root, toDelete, res)\n",
    "    if root not in toDelete:\n",
    "        res.append(root)\n",
    "    return res\n",
    "\n",
    "\n",
    "def postOrder(root, toDelete, res):\n",
    "    if root is None:\n",
    "        return None\n",
    "    leftT = postOrder(root.left, toDelete, res)\n",
    "    rightT = postOrder(root.right, toDelete, res)\n",
    "    if root.val in toDelete:\n",
    "        if root.left:\n",
    "            res.append(root.left)\n",
    "        if root.right:\n",
    "            res.append(root.right)\n",
    "        return None\n",
    "    return root\n",
    "\n",
    "##Time O(N) space O(N)\n",
    "    "
   ]
  },
  {
   "cell_type": "code",
   "execution_count": 40,
   "id": "ethical-sacrifice",
   "metadata": {},
   "outputs": [
    {
     "data": {
      "text/plain": [
       "[2, 2, 2, 1, 4, 3, 3, 9, 6, 7, 19]"
      ]
     },
     "execution_count": 40,
     "metadata": {},
     "output_type": "execute_result"
    }
   ],
   "source": [
    "###1122. Relative Sort Array\n",
    "# Input: arr1 = [2,3,1,3,2,4,6,7,9,2,19], arr2 = [2,1,4,3,9,6]\n",
    "# Output: [2,2,2,1,4,3,3,9,6,7,19]\n",
    "\n",
    "def relativeSortArray(arr1, arr2):\n",
    "    res = []\n",
    "    dict1 = {}\n",
    "    for num in arr1:\n",
    "        if num in dict1:\n",
    "            dict1[num] += 1\n",
    "        else:\n",
    "            dict1[num] = 1\n",
    "    for num in arr2:\n",
    "        if num in dict1:\n",
    "            res += [num]*dict1[num]\n",
    "            del dict1[num]\n",
    "    remaining = sorted(dict1.keys())\n",
    "    for n in remaining:\n",
    "        res.append(n)\n",
    "    return res\n",
    "\n",
    "arr1 = [2,3,1,3,2,4,6,7,9,2,19]\n",
    "arr2 = [2,1,4,3,9,6]\n",
    "relativeSortArray(arr1, arr2)\n",
    "##Time O(nlogn)  space O(n)"
   ]
  },
  {
   "cell_type": "code",
   "execution_count": 42,
   "id": "hollow-stable",
   "metadata": {},
   "outputs": [],
   "source": [
    "###1123. Lowest Common Ancestor of Deepest Leaves\n",
    "\n",
    "def lowestCommon(root):\n",
    "    if root is None:\n",
    "        return None\n",
    "    leftH = getHight(root.left)\n",
    "    rightH = getHight(root.right)\n",
    "    if leftH == rightH:\n",
    "        return root\n",
    "    if leftH > rightH:\n",
    "        return lowestCommon(root.left)\n",
    "    else:\n",
    "        return lowestCommon(root.right)\n",
    "    \n",
    "def getHight(root):\n",
    "    if root is None:\n",
    "        return 0\n",
    "    return 1 + max(getHight(root.left), getHight(root.right))\n",
    "\n",
    "##Time O(N) space O(N) for worst case and best case O(logn)"
   ]
  },
  {
   "cell_type": "code",
   "execution_count": 45,
   "id": "solar-franklin",
   "metadata": {},
   "outputs": [
    {
     "data": {
      "text/plain": [
       "1389537"
      ]
     },
     "execution_count": 45,
     "metadata": {},
     "output_type": "execute_result"
    }
   ],
   "source": [
    "##1137. N-th Tribonacci Number\n",
    "def nThTribonacci(n):\n",
    "    if n == 0:\n",
    "        return 0\n",
    "    if n < 3:\n",
    "        return 1\n",
    "    table = [0]*(n+1)\n",
    "    table[1] = 1\n",
    "    table[2] = 1\n",
    "    \n",
    "    for i in range(3, len(table)):\n",
    "        table[i] = table[i-1] + table[i-2] + table[i-3]\n",
    "    return table[n]\n",
    "\n",
    "nThTribonacci(25)"
   ]
  },
  {
   "cell_type": "code",
   "execution_count": 51,
   "id": "positive-student",
   "metadata": {},
   "outputs": [
    {
     "data": {
      "text/plain": [
       "10"
      ]
     },
     "execution_count": 51,
     "metadata": {},
     "output_type": "execute_result"
    }
   ],
   "source": [
    "###1160. Find Words That Can Be Formed by Characters\n",
    "# Input: words = [\"cat\",\"bt\",\"hat\",\"tree\"], chars = \"atach\"\n",
    "# Output: 6\n",
    "# Explanation: The strings that can be formed are \"cat\" and \"hat\" so the answer is 3 + 3 = 6.\n",
    "\n",
    "def formedByCharacter(words, chars):\n",
    "    charDict = {}\n",
    "    for c in chars:\n",
    "        if c in charDict:\n",
    "            charDict[c] += 1\n",
    "        else:\n",
    "            charDict[c] = 1\n",
    "    res = \"\"\n",
    "    for word in words:\n",
    "        temp = charDict.copy()\n",
    "        for i in range(len(word)):\n",
    "            if word[i] not in temp:\n",
    "                break\n",
    "            temp[word[i]] -= 1\n",
    "            if temp[word[i]] == 0:\n",
    "                del temp[word[i]]\n",
    "            if i == len(word) -1:\n",
    "                res += word\n",
    "    return len(res)\n",
    "\n",
    "words = [\"hello\",\"world\",\"leetcode\"]\n",
    "chars = \"welldonehoneyr\"\n",
    "formedByCharacter(words, chars)\n",
    "##Time O(MN)  space O(k)  M = average len of word, n = len of words"
   ]
  },
  {
   "cell_type": "code",
   "execution_count": 1,
   "id": "potential-rings",
   "metadata": {},
   "outputs": [],
   "source": [
    "##1161. Maximum Level Sum of a Binary Tree\n",
    "def maxLevelSum(root):\n",
    "    if root is None:\n",
    "        return 0\n",
    "    level = 1\n",
    "    resLevel = 1\n",
    "    cSum = root.val\n",
    "    stack = [root]\n",
    "\n",
    "    while stack:\n",
    "        temp = []\n",
    "        tempSum = 0\n",
    "        for node in stack:\n",
    "            if node.left:\n",
    "                tempSum += node.left.val\n",
    "                temp.append(node.left)\n",
    "            if node.right:\n",
    "                tempSum += node.right.val\n",
    "                temp.append(node.right)\n",
    "        level += 1\n",
    "        if len(temp) == 0:\n",
    "            tempSum = None\n",
    "        if tempSum and tempSum > cSum:\n",
    "            cSum = tempSum\n",
    "            resLevel = level\n",
    "        stack = temp\n",
    "\n",
    "    return resLevel\n",
    "\n",
    "##Time O(N) space O(N)"
   ]
  },
  {
   "cell_type": "code",
   "execution_count": 5,
   "id": "industrial-rings",
   "metadata": {},
   "outputs": [
    {
     "data": {
      "text/plain": [
       "''"
      ]
     },
     "execution_count": 5,
     "metadata": {},
     "output_type": "execute_result"
    }
   ],
   "source": [
    "##1249. Minimum Remove to Make Valid Parentheses\n",
    "# Input: s = \"lee(t(c)o)de)\"\n",
    "# Output: \"lee(t(c)o)de\"\n",
    "# Explanation: \"lee(t(co)de)\" , \"lee(t(c)ode)\" would also be accepted.\n",
    "\n",
    "def makeValid(s):\n",
    "    stack = []\n",
    "    for i, char in enumerate(s):\n",
    "        if char == \"(\":\n",
    "            stack.append((char, i))\n",
    "        elif char == \")\":\n",
    "            if stack and stack[-1][0] == \"(\":\n",
    "                stack.pop()\n",
    "            else:\n",
    "                stack.append((char, i))\n",
    "    res = \"\"\n",
    "    setIdx = set()\n",
    "    for val in stack:\n",
    "        setIdx.add(val[1])\n",
    "    for i, c in enumerate(s):\n",
    "        if i not in setIdx:\n",
    "            res += c\n",
    "    return res\n",
    "\n",
    "s = \"))((\"\n",
    "makeValid(s)\n",
    "##Time O(N)  space O(N)"
   ]
  },
  {
   "cell_type": "code",
   "execution_count": 14,
   "id": "enormous-trial",
   "metadata": {},
   "outputs": [
    {
     "data": {
      "text/plain": [
       "15"
      ]
     },
     "execution_count": 14,
     "metadata": {},
     "output_type": "execute_result"
    }
   ],
   "source": [
    "##1277. Count Square Submatrices with All Ones\n",
    "def withAllOne(grid):\n",
    "    if len(grid) == 0 or len(grid[0]) == 0:\n",
    "        return 0\n",
    "    count = 0\n",
    "    table = [[0 for col in range(len(grid[0])+1)] for row in range(len(grid)+1)]\n",
    "    for i in range(1, len(table)):\n",
    "        for j in range(1, len(table[0])):\n",
    "            if grid[i-1][j-1] == 1:\n",
    "                table[i][j] = 1 + min(table[i-1][j], table[i][j-1], table[i-1][j-1])\n",
    "                count += table[i][j]\n",
    "    return count\n",
    "\n",
    "grid = [[0,1,1,1],[1,1,1,1],[0,1,1,1]]\n",
    "withAllOne(grid)\n",
    "##Time O(Mn)  space O(Mn)\n"
   ]
  },
  {
   "cell_type": "code",
   "execution_count": 17,
   "id": "adjustable-scholarship",
   "metadata": {},
   "outputs": [
    {
     "data": {
      "text/plain": [
       "44"
      ]
     },
     "execution_count": 17,
     "metadata": {},
     "output_type": "execute_result"
    }
   ],
   "source": [
    "###1283. Find the Smallest Divisor Given a Threshold\n",
    "# Input: nums = [1,2,5,9], threshold = 6\n",
    "# Output: 5\n",
    "# Explanation: We can get a sum to 17 (1+2+5+9) if the divisor is 1. \n",
    "# If the divisor is 4 we can get a sum of 7 (1+1+2+3) and if the divisor is 5 the sum will be 5 (1+1+1+2).\n",
    "\n",
    "\n",
    "def smallestDivisor(nums, threshold):\n",
    "    left = 1\n",
    "    right = max(nums)\n",
    "    \n",
    "    while left <= right:\n",
    "        mid = left + (right-left)//2\n",
    "        total = condition(nums, mid)\n",
    "        if total > threshold:\n",
    "            left = mid + 1\n",
    "        else:\n",
    "            right = mid - 1\n",
    "    return left\n",
    "\n",
    "def condition(nums, mid):\n",
    "    total = 0\n",
    "    for num in nums:\n",
    "        total += num//mid\n",
    "        if num%mid != 0:\n",
    "            total += 1\n",
    "    return total\n",
    "\n",
    "nums = [44,22,33,11,1]\n",
    "threshold = 5\n",
    "smallestDivisor(nums, threshold)\n",
    "##Time O(nlogn)  space O(1)"
   ]
  },
  {
   "cell_type": "code",
   "execution_count": 22,
   "id": "consecutive-stanley",
   "metadata": {},
   "outputs": [
    {
     "data": {
      "text/plain": [
       "False"
      ]
     },
     "execution_count": 22,
     "metadata": {},
     "output_type": "execute_result"
    }
   ],
   "source": [
    "##1296. Divide Array in Sets of K Consecutive Numbers\n",
    "# Input: nums = [1,2,3,3,4,4,5,6], k = 4\n",
    "# Output: true\n",
    "# Explanation: Array can be divided into [1,2,3,4] and [3,4,5,6].\n",
    "\n",
    "def kConsecutive(nums, k):\n",
    "    if len(nums) % k != 0:\n",
    "        return False\n",
    "    numDict = {}\n",
    "    for num in nums:\n",
    "        if num in numDict:\n",
    "            numDict[num] += 1\n",
    "        else:\n",
    "            numDict[num] = 1\n",
    "    import heapq\n",
    "    minHeap = list(numDict.keys())\n",
    "    heapq.heapify(minHeap)\n",
    "    \n",
    "    while minHeap:\n",
    "        first = minHeap[0]\n",
    "        for val in range(first, first+k):\n",
    "            if val not in numDict:\n",
    "                return False\n",
    "            numDict[val] -= 1\n",
    "            if numDict[val] == 0:\n",
    "                if minHeap[0] != val:\n",
    "                    return False\n",
    "                heapq.heappop(minHeap)\n",
    "    return True\n",
    "\n",
    "nums = [1,2,3,4]\n",
    "k = 3\n",
    "kConsecutive(nums, k)\n",
    "##Time O(nlogn)  space O(n)    "
   ]
  },
  {
   "cell_type": "code",
   "execution_count": 25,
   "id": "stretch-thumbnail",
   "metadata": {},
   "outputs": [
    {
     "data": {
      "text/plain": [
       "[-1]"
      ]
     },
     "execution_count": 25,
     "metadata": {},
     "output_type": "execute_result"
    }
   ],
   "source": [
    "##1299. Replace Elements with Greatest Element on Right Side\n",
    "# Input: arr = [17,18,5,4,6,1]\n",
    "# Output: [18,6,6,6,1,-1]\n",
    "\n",
    "def greatestRight(arr):\n",
    "    n = len(arr)\n",
    "    res = [-1]*n\n",
    "    maxVal = arr[-1]\n",
    "    for i in range(n-2, -1, -1):\n",
    "        maxVal = max(maxVal, arr[i+1])\n",
    "        res[i] = maxVal\n",
    "    return res\n",
    "\n",
    "arr = [400]\n",
    "greatestRight(arr)\n",
    "    "
   ]
  },
  {
   "cell_type": "code",
   "execution_count": 28,
   "id": "corresponding-motivation",
   "metadata": {},
   "outputs": [
    {
     "data": {
      "text/plain": [
       "-1"
      ]
     },
     "execution_count": 28,
     "metadata": {},
     "output_type": "execute_result"
    }
   ],
   "source": [
    "###1319. Number of Operations to Make Network Connected\n",
    "# Input: n = 4, connections = [[0,1],[0,2],[1,2]]\n",
    "# Output: 1\n",
    "# Explanation: Remove cable between computer 1 and 2 and place between computers 1 and 3.\n",
    "\n",
    "def makeNetworkConnected(n, connections):\n",
    "    parent = {}\n",
    "    conn = 0\n",
    "    \n",
    "    if len(connections) != n-1:\n",
    "        return -1\n",
    "    for i in range(n):\n",
    "        parent[i] = i\n",
    "    for x,y in connections:\n",
    "        if find(parent, x) != find(parent, y):\n",
    "            union(parent, x, y)\n",
    "        else:\n",
    "            conn += 1\n",
    "    return conn\n",
    "    \n",
    "def find(parent, x):\n",
    "    if x != parent[x]:\n",
    "        parent[x] = find(parent, parent[x])\n",
    "    return parent[x]\n",
    "\n",
    "def union(parent, x, y):\n",
    "    xP = find(parent, x)\n",
    "    yP = find(parent, y)   \n",
    "    if xP != yP:\n",
    "        parent[yP] = x\n",
    "        \n",
    "n = 6\n",
    "connections = [[0,1],[0,2],[0,3],[1,2]]\n",
    "makeNetworkConnected(n, connections)"
   ]
  },
  {
   "cell_type": "code",
   "execution_count": 33,
   "id": "monetary-beast",
   "metadata": {},
   "outputs": [
    {
     "data": {
      "text/plain": [
       "0"
      ]
     },
     "execution_count": 33,
     "metadata": {},
     "output_type": "execute_result"
    }
   ],
   "source": [
    "###1334. Find the City With the Smallest Number of Neighbors at a Threshold Distance\n",
    "# Input: n = 4, edges = [[0,1,3],[1,2,1],[1,3,4],[2,3,1]], distanceThreshold = 4\n",
    "# Output: 3\n",
    "import heapq\n",
    "def smallestNei(n, edges, threshold):\n",
    "    graph = {}\n",
    "    for i in range(n):\n",
    "        graph[i] = []\n",
    "    for u, v, w in edges:\n",
    "        graph[u].append((v, w))\n",
    "        graph[v].append((u, w))\n",
    "    \n",
    "    ans = [float('-inf'), float('inf')]\n",
    "    for i in range(n):\n",
    "        val = DFS(i, n, graph, threshold)\n",
    "        if val <= ans[1]:\n",
    "            ans = [max(ans[0],i), val]\n",
    "    return ans[0]\n",
    "\n",
    "def DFS(node, n, graph, threshold):\n",
    "    distance = [float('inf')]*n\n",
    "    distance[node] = 0\n",
    "    minHeap = [(0, node)]\n",
    "    while minHeap:\n",
    "        w, cur = heapq.heappop(minHeap)\n",
    "        for nei, w1 in graph[cur]:\n",
    "            if w + w1 > threshold:\n",
    "                continue\n",
    "            if distance[nei] > w + w1:\n",
    "                distance[nei] = w + w1\n",
    "                heapq.heappush(minHeap, (w+w1, nei))\n",
    "    return sum(d<=threshold for d in distance)\n",
    "\n",
    "n = 5\n",
    "edges = [[0,1,2],[0,4,8],[1,2,3],[1,4,2],[2,3,1],[3,4,1]]\n",
    "threshold = 2\n",
    "smallestNei(n, edges, threshold)\n",
    "##Time O(VElogV)  space O(V)"
   ]
  },
  {
   "cell_type": "code",
   "execution_count": 35,
   "id": "lightweight-summit",
   "metadata": {},
   "outputs": [],
   "source": [
    "###1339. Maximum Product of Splitted Binary Tree\n",
    "# Input: root = [1,2,3,4,5,6]\n",
    "# Output: 110\n",
    "# Explanation: Remove the red edge and get 2 binary trees with sum 11 and 10.\n",
    "# Their product is 110 (11*10)\n",
    "\n",
    "def maxProdOfSplitedBT(root):\n",
    "    subTree_sum = []\n",
    "    ans = float('-inf')\n",
    "    total = postOrder(root, 0, subTree_sum)\n",
    "    for sum1 in sunTree_sum:\n",
    "        ans = max(ans, sum1*(total-sum1))\n",
    "    return ans%(10**9 +7)\n",
    "    \n",
    "def postOrder(root, Sum, subTree_sum):\n",
    "    if root is None:\n",
    "        return 0\n",
    "    leftT = postOrder(root.left, Sum, subTree_sum)\n",
    "    rightT = postOrder(root.right, Sum, subTree_sum)\n",
    "    Sum = root.val + leftT + rightT\n",
    "    subTree_sum.append(Sum)\n",
    "    return  Sum\n",
    "\n",
    "##Time O(N)  space O(n)"
   ]
  },
  {
   "cell_type": "code",
   "execution_count": 37,
   "id": "irish-apple",
   "metadata": {},
   "outputs": [],
   "source": [
    "##1376. Time Needed to Inform All Employees\n",
    "# Input: n = 6, headID = 2, manager = [2,2,-1,2,2,2], informTime = [0,0,1,0,0,0]\n",
    "# Output: 1\n",
    "# Explanation: The head of the company with id = 2 is the direct manager of all the employees \n",
    "# in the company and needs 1 minute to inform them all.\n",
    "# The tree structure of the employees in the company is shown.\n",
    "import collections\n",
    "def informAll(n, headID, manager, informTime):\n",
    "    if n == 1:\n",
    "        return 0\n",
    "    ans = 0\n",
    "    graph = collections.defaultdict(list)\n",
    "    for emp, man in enumerate(manager):\n",
    "        if man == -1:\n",
    "            continue\n",
    "        graph[man].append(emp)\n",
    "    queue = collections.deque()\n",
    "    queue.append(headID)\n",
    "    seen = set()\n",
    "    maxVar = [0]*n\n",
    "    while queue:\n",
    "        size = len(queue)\n",
    "        while size != 0:\n",
    "            node = queue.popleft()\n",
    "            seen.add(node)\n",
    "            for nei in graph[node]:\n",
    "                if nei not in seen:\n",
    "                    queue.append(nei)\n",
    "                    maxVar[nei] += informTime[node] + maxVar[node]\n",
    "            ans = max(ans, maxVar[nei])\n",
    "            size -= 1\n",
    "    return ans\n",
    "\n",
    "##Time O(n)  space O(N)"
   ]
  },
  {
   "cell_type": "code",
   "execution_count": 10,
   "id": "placed-vaccine",
   "metadata": {},
   "outputs": [
    {
     "name": "stdout",
     "output_type": "stream",
     "text": [
      "5\n",
      "5.0\n",
      "6\n",
      "5.5\n",
      "9\n",
      "6.666666666666667\n"
     ]
    }
   ],
   "source": [
    "###1396. Design Underground System\n",
    "class underGroundSystem:\n",
    "    def __init__(self):\n",
    "        self.customerInfo = {}\n",
    "        self.timeInfo = {}\n",
    "        \n",
    "    def checkIn(self, id, stationName, time):\n",
    "        self.customerInfo[id] = (stationName, time)\n",
    "        \n",
    "    def checkOut(self, id, stationName, time):\n",
    "        startStation = self.customerInfo[id][0]\n",
    "        t = self.customerInfo[id][1]\n",
    "        \n",
    "        if (startStation, stationName) in self.timeInfo:\n",
    "            self.timeInfo[(startStation, stationName)].append(time-t)\n",
    "        else:\n",
    "            self.timeInfo[(startStation, stationName)] = [time-t]\n",
    "        return time - t\n",
    "            \n",
    "    def getAverageTime(self, startStation, endStation):\n",
    "        if len(self.timeInfo[(startStation, endStation)]) > 0:\n",
    "            return sum(self.timeInfo[(startStation, endStation)]) / len(self.timeInfo[(startStation, endStation)])\n",
    "        \n",
    "under =  underGroundSystem()\n",
    "under.checkIn(10, \"Leyton\", 3)\n",
    "print(under.checkOut(10, \"Paradise\", 8))\n",
    "print(under.getAverageTime(\"Leyton\", \"Paradise\"))\n",
    "under.checkIn(5, \"Leyton\", 10)\n",
    "print(under.checkOut(5, \"Paradise\", 16))\n",
    "print(under.getAverageTime(\"Leyton\", \"Paradise\"))\n",
    "under.checkIn(2, \"Leyton\", 21)\n",
    "print(under.checkOut(2, \"Paradise\", 30))\n",
    "print(under.getAverageTime(\"Leyton\", \"Paradise\"))"
   ]
  },
  {
   "cell_type": "code",
   "execution_count": 16,
   "id": "irish-leeds",
   "metadata": {},
   "outputs": [
    {
     "data": {
      "text/plain": [
       "18"
      ]
     },
     "execution_count": 16,
     "metadata": {},
     "output_type": "execute_result"
    }
   ],
   "source": [
    "##1458. Max Dot Product of Two Subsequences\n",
    "# Input: nums1 = [2,1,-2,5], nums2 = [3,0,-6]\n",
    "# Output: 18\n",
    "# Explanation: Take subsequence [2,-2] from nums1 and subsequence [3,-6] from nums2.\n",
    "# Their dot product is (2*3 + (-2)*(-6)) = 18.\n",
    "def maxDotProduct(nums1, nums2):\n",
    "    table = [[0 for col in range(len(nums2))] for row in range(len(nums1))]\n",
    "    table[0][0] = nums1[0]*nums2[0]\n",
    "    for i in range(1, len(table)):\n",
    "        table[i][0] = max(table[i-1][0], nums1[i]*nums2[0])\n",
    "    for j in range(1, len(table[0])):\n",
    "        table[0][j] = max(table[0][j-1], nums1[0]*nums2[j])\n",
    "        \n",
    "    for i in range(1, len(table)):\n",
    "        for j in range(1, len(table[0])):\n",
    "            table[i][j] = max(table[i-1][j], table[i][j-1], table[i-1][j-1] + nums1[i]*nums2[j], \n",
    "                              nums1[i]*nums2[j])\n",
    "    return table[-1][-1]\n",
    "\n",
    "nums1 = [2,1,-2,5]\n",
    "nums2 = [3,0,-6]\n",
    "maxDotProduct(nums1, nums2)\n",
    "##Time O(MN)   space O(MN)"
   ]
  },
  {
   "cell_type": "code",
   "execution_count": 20,
   "id": "comic-solomon",
   "metadata": {},
   "outputs": [
    {
     "data": {
      "text/plain": [
       "2"
      ]
     },
     "execution_count": 20,
     "metadata": {},
     "output_type": "execute_result"
    }
   ],
   "source": [
    "##1466. Reorder Routes to Make All Paths Lead to the City Zero\n",
    "# Input: n = 6, connections = [[0,1],[1,3],[2,3],[4,0],[4,5]]\n",
    "# Output: 3\n",
    "# Explanation: Change the direction of edges show in red such that each node can reach the node 0 \n",
    "# (capital).\n",
    "\n",
    "def reOrder(n, connections):\n",
    "    graph = {}\n",
    "    for i in range(n):\n",
    "        graph[i] = []\n",
    "    conn = set()\n",
    "    visited = set()\n",
    "    for u, v in connections:\n",
    "        graph[u].append(v)\n",
    "        graph[v].append(u)\n",
    "        conn.add((u,v))\n",
    "        \n",
    "    \n",
    "    def DFS(graph, node, conn, visited):\n",
    "        res = 0\n",
    "        if node in visited:\n",
    "            return\n",
    "        visited.add(node)\n",
    "        for nei in graph[node]:\n",
    "            if nei not in visited:\n",
    "                if (node, nei) in conn:\n",
    "                    res += 1\n",
    "                res += DFS(graph, nei, conn, visited)\n",
    "        return res\n",
    "    return DFS(graph, 0, conn, visited)\n",
    "\n",
    "n = 5\n",
    "connections = [[1,0],[1,2],[3,2],[3,4]]\n",
    "reOrder(n, connections)\n",
    "##Time O(N)  space O(N)"
   ]
  },
  {
   "cell_type": "code",
   "execution_count": 32,
   "id": "assisted-outside",
   "metadata": {},
   "outputs": [
    {
     "name": "stdout",
     "output_type": "stream",
     "text": [
      "facebook.com\n",
      "google.com\n",
      "facebook.com\n",
      "None\n",
      "linkedin.com\n",
      "google.com\n",
      "leetcode.com\n"
     ]
    }
   ],
   "source": [
    "###1472. Design Browser History\n",
    "class node:\n",
    "    def __init__(self, val):\n",
    "        self.val = val\n",
    "        self.prev = None\n",
    "        self.next = None\n",
    "        \n",
    "class browserHistory:\n",
    "    def __init__(self, homepage):\n",
    "        self.head = node(homepage)\n",
    "    \n",
    "    def visit(self, url):\n",
    "        newNode = node(url)\n",
    "        self.head.next = newNode\n",
    "        newNode.prev = self.head\n",
    "        self.head = self.head.next\n",
    "        \n",
    "    def back(self, steps):\n",
    "        while self.head.prev and steps:\n",
    "            self.head = self.head.prev\n",
    "            steps -= 1\n",
    "        return self.head.val\n",
    "    \n",
    "    def forward(self, steps):\n",
    "        while self.head.next and steps:\n",
    "            self.head = self.head.next\n",
    "            steps -= 1\n",
    "        return self.head.val\n",
    "    \n",
    "BH = browserHistory(\"leetcode.com\")\n",
    "BH.visit(\"google.com\")\n",
    "BH.visit(\"facebook.com\")\n",
    "BH.visit(\"youtube.com\")\n",
    "print(BH.back(1))\n",
    "print(BH.back(1))\n",
    "print(BH.forward(1))\n",
    "print(BH.visit(\"linkedin.com\"))\n",
    "print(BH.forward(2))\n",
    "print(BH.back(2))\n",
    "print(BH.back(7))"
   ]
  },
  {
   "cell_type": "code",
   "execution_count": 1,
   "id": "corrected-essex",
   "metadata": {},
   "outputs": [
    {
     "data": {
      "text/plain": [
       "[3, 4, 6, 16, 17]"
      ]
     },
     "execution_count": 1,
     "metadata": {},
     "output_type": "execute_result"
    }
   ],
   "source": [
    "##1480. Running Sum of 1d Array\n",
    "# Input: nums = [1,2,3,4]\n",
    "# Output: [1,3,6,10]\n",
    "# Explanation: Running sum is obtained as follows: [1, 1+2, 1+2+3, 1+2+3+4].\n",
    "\n",
    "def runningSum(nums):\n",
    "    for i in range(1, len(nums)):\n",
    "        nums[i] += nums[i-1]\n",
    "    return nums\n",
    "\n",
    "nums = [3,1,2,10,1]\n",
    "runningSum(nums)"
   ]
  },
  {
   "cell_type": "code",
   "execution_count": 4,
   "id": "dominant-marks",
   "metadata": {},
   "outputs": [
    {
     "data": {
      "text/plain": [
       "1"
      ]
     },
     "execution_count": 4,
     "metadata": {},
     "output_type": "execute_result"
    }
   ],
   "source": [
    "##1525. Number of Good Ways to Split a String\n",
    "# Input: s = \"aacaba\"\n",
    "# Output: 2\n",
    "\n",
    "def goodWaySplit(s):\n",
    "    n = len(s)\n",
    "    prefixSet = set()\n",
    "    prefixSum = [0]*n\n",
    "    suffixSet = set()\n",
    "    suffixSum = [0]*n\n",
    "    \n",
    "    for i in range(len(s)):\n",
    "        prefixSet.add(s[i])\n",
    "        prefixSum[i] = len(prefixSet)\n",
    "        \n",
    "    for i in range(len(s)-1, -1, -1):\n",
    "        suffixSet.add(s[i])\n",
    "        suffixSum[i] = len(suffixSet)\n",
    "        \n",
    "    count = 0\n",
    "    for i in range(1, len(suffixSum)):\n",
    "        if prefixSum[i-1] == suffixSum[i]:\n",
    "            count += 1\n",
    "    return count\n",
    "\n",
    "s = \"abcd\"\n",
    "goodWaySplit(s)\n",
    "##Time O(N)  space O(n)"
   ]
  },
  {
   "cell_type": "code",
   "execution_count": 8,
   "id": "governing-reply",
   "metadata": {},
   "outputs": [
    {
     "data": {
      "text/plain": [
       "40"
      ]
     },
     "execution_count": 8,
     "metadata": {},
     "output_type": "execute_result"
    }
   ],
   "source": [
    "##1537. Get the Maximum Score\n",
    "# Input: nums1 = [2,4,5,8,10], nums2 = [4,6,8,9]\n",
    "# Output: 30\n",
    "\n",
    "def getMaxScore(nums1, nums2):\n",
    "    s1 = 0\n",
    "    s2 = 0\n",
    "    res = 0\n",
    "    i = 0\n",
    "    j = 0\n",
    "    \n",
    "    while i < len(nums1) and j < len(nums2):\n",
    "        if nums1[i] < nums2[j]:\n",
    "            s1 += nums1[i]\n",
    "            i += 1\n",
    "        elif nums1[i] > nums2[j]:\n",
    "            s2 += nums2[j]\n",
    "            j += 1\n",
    "        else:\n",
    "            res += max(s1, s2) + nums1[i]\n",
    "            i += 1\n",
    "            j += 1\n",
    "            s1 = 0\n",
    "            s2 = 0\n",
    "            \n",
    "    while i < len(nums1):\n",
    "        s1 += nums1[i]\n",
    "        i += 1\n",
    "    while j < len(nums2):\n",
    "        s2 += nums2[j]\n",
    "        j += 1\n",
    "    res += max(s1, s2)\n",
    "    return res%(10**9 + 7)\n",
    "\n",
    "nums1 = [1,2,3,4,5]\n",
    "nums2 = [6,7,8,9,10]\n",
    "getMaxScore(nums1, nums2)\n",
    "##Time O(N)  space O(1)"
   ]
  },
  {
   "cell_type": "code",
   "execution_count": 16,
   "id": "fatal-eagle",
   "metadata": {},
   "outputs": [
    {
     "data": {
      "text/plain": [
       "[0, 3]"
      ]
     },
     "execution_count": 16,
     "metadata": {},
     "output_type": "execute_result"
    }
   ],
   "source": [
    "###1557. Minimum Number of Vertices to Reach All Nodes\n",
    "# Input: n = 6, edges = [[0,1],[0,2],[2,5],[3,4],[4,2]]\n",
    "# Output: [0,3]\n",
    "\n",
    "def minNumberVertix(n, edges):\n",
    "    ##Intution -- node with no indegree\n",
    "    inDegree = [0]*n\n",
    "    for u, v in edges:\n",
    "        inDegree[v] += 1\n",
    "    res = []\n",
    "    for i in range(n):\n",
    "        if inDegree[i] == 0:\n",
    "            res.append(i)\n",
    "    return res\n",
    "            \n",
    "n = 6\n",
    "edges = [[0,1],[0,2],[2,5],[3,4],[4,2]]\n",
    "minNumberVertix(n, edges)\n",
    "##Time O(E)  space O(n)"
   ]
  },
  {
   "cell_type": "code",
   "execution_count": 22,
   "id": "tracked-louis",
   "metadata": {},
   "outputs": [
    {
     "data": {
      "text/plain": [
       "18"
      ]
     },
     "execution_count": 22,
     "metadata": {},
     "output_type": "execute_result"
    }
   ],
   "source": [
    "##1584. Min Cost to Connect All Points\n",
    "# Input: points = [[0,0],[2,2],[3,10],[5,2],[7,0]]\n",
    "# Output: 20\n",
    "\n",
    "def minCost(points):\n",
    "    n = len(points)\n",
    "    edges = []\n",
    "    for i in range(len(points)):\n",
    "        for j in range(i+1, len(points)):\n",
    "            dist = abs(points[i][0]-points[j][0]) + abs(points[i][1]-points[j][1])\n",
    "            edges.append((dist, i, j))\n",
    "    parent = {}\n",
    "    for i in range(n):\n",
    "        parent[i] = i\n",
    "    edges = sorted(edges, key = lambda x:x[0])\n",
    "    e = 0\n",
    "    w = 0\n",
    "    i = 0\n",
    "    while e < n -1:\n",
    "        dist, u, v = edges[i]\n",
    "        if find(parent, u) != find(parent, v):\n",
    "            union(parent, u, v)\n",
    "            w += dist\n",
    "            e += 1\n",
    "        i += 1\n",
    "    return w\n",
    "        \n",
    "\n",
    "def find(parent, x):\n",
    "    if x != parent[x]:\n",
    "        parent[x] = find(parent, parent[x])\n",
    "    return parent[x]\n",
    "\n",
    "def union(parent, x, y):\n",
    "    xP = find(parent, x)\n",
    "    yP = find(parent, y)\n",
    "    if xP != yP:\n",
    "        parent[yP] = xP\n",
    "        \n",
    "points = [[3,12],[-2,5],[-4,1]]\n",
    "minCost(points)\n",
    "##Time O(nlogn + n^2)  space O(N^2)"
   ]
  },
  {
   "cell_type": "code",
   "execution_count": 24,
   "id": "demonstrated-cargo",
   "metadata": {},
   "outputs": [],
   "source": [
    "###1603. Design Parking System\n",
    "class parkingSystem:\n",
    "    def __init__(self, big, medimum, small):\n",
    "        self.big = big\n",
    "        self.medimum = medimum\n",
    "        self.small = small\n",
    "        \n",
    "    def addCar(self, carType):\n",
    "        if carType == 1:\n",
    "            if self.big > 0:\n",
    "                self.big -= 1\n",
    "                return True\n",
    "        if carType == 2:\n",
    "            if self.medium > 0:\n",
    "                self.medium -= 1\n",
    "                return True\n",
    "        if carType == 3:\n",
    "            if self.small > 0:\n",
    "                self.small -= 1\n",
    "                return True\n",
    "        return False\n",
    "                "
   ]
  },
  {
   "cell_type": "code",
   "execution_count": 27,
   "id": "sitting-template",
   "metadata": {},
   "outputs": [
    {
     "data": {
      "text/plain": [
       "2"
      ]
     },
     "execution_count": 27,
     "metadata": {},
     "output_type": "execute_result"
    }
   ],
   "source": [
    "##1653. Minimum Deletions to Make String Balanced\n",
    "# Input: s = \"aababbab\"\n",
    "# Output: 2\n",
    "# Explanation: You can either:\n",
    "# Delete the characters at 0-indexed positions 2 and 6 (\"aababbab\" -> \"aaabbb\"), or\n",
    "# Delete the characters at 0-indexed positions 3 and 6 (\"aababbab\" -> \"aabbbb\").\n",
    "\n",
    "def minDeletion(s):\n",
    "    if len(s) == 0:\n",
    "        return 0\n",
    "    numOfa = 0\n",
    "    deletion = 0\n",
    "    \n",
    "    for i in range(len(s)-1, -1, -1):\n",
    "        if s[i] == \"b\":\n",
    "            if numOfa > 0:\n",
    "                deletion += 1\n",
    "                numOfa -= 1\n",
    "        else:\n",
    "            numOfa += 1\n",
    "    return deletion\n",
    "\n",
    "s = \"bbaaaaabb\"\n",
    "minDeletion(s)\n",
    "##Time O(N)  space O(1)"
   ]
  },
  {
   "cell_type": "code",
   "execution_count": 33,
   "id": "pending-level",
   "metadata": {},
   "outputs": [
    {
     "data": {
      "text/plain": [
       "5"
      ]
     },
     "execution_count": 33,
     "metadata": {},
     "output_type": "execute_result"
    }
   ],
   "source": [
    "###1658. Minimum Operations to Reduce X to Zero\n",
    "# Input: nums = [1,1,4,2,3], x = 5\n",
    "# Output: 2\n",
    "# Explanation: The optimal solution is to remove the last two elements to reduce x to zero.\n",
    "\n",
    "def minOperation(nums, x):\n",
    "    total = sum(nums)\n",
    "    target = total - x\n",
    "    if target < 0:\n",
    "        return -1\n",
    "    if target == 0:\n",
    "        return len(nums)\n",
    "    \n",
    "    cSum = 0\n",
    "    left = 0\n",
    "    ops = len(nums) + 1\n",
    "    \n",
    "    for i in range(len(nums)):\n",
    "        cSum += nums[i]\n",
    "        while cSum > target and left <= i:\n",
    "            cSum -= nums[left]\n",
    "            left += 1\n",
    "        if cSum == target:\n",
    "            ops = min(ops, len(nums)-(i-left+1))\n",
    "    if ops == len(nums) + 1:\n",
    "        return -1\n",
    "    else:\n",
    "        return ops\n",
    "    \n",
    "nums = [3,2,20,1,1,3]\n",
    "x = 10\n",
    "minOperation(nums, x)\n",
    "##Time O(N) space O(1)"
   ]
  },
  {
   "cell_type": "code",
   "execution_count": 34,
   "id": "harmful-navigation",
   "metadata": {},
   "outputs": [],
   "source": [
    "###1721. Swapping Nodes in a Linked List\n",
    "# Input: head = [1,2,3,4,5], k = 2\n",
    "# Output: [1,4,3,2,5]\n",
    "\n",
    "def swapNode(head, k):\n",
    "    if head is None:\n",
    "        return None\n",
    "    cur = head\n",
    "    for _ in range(k-1):\n",
    "        cur = cur.next\n",
    "    node1 = cur\n",
    "    node2 = head\n",
    "    \n",
    "    while cur.next:\n",
    "        node2 = node2.next\n",
    "        cur = cur.next\n",
    "    node1.val, node2.val = node2.val, node1.val\n",
    "    return head\n",
    "\n",
    "##Time O(N)  space O(1)"
   ]
  },
  {
   "cell_type": "code",
   "execution_count": 5,
   "id": "amazing-marks",
   "metadata": {},
   "outputs": [
    {
     "data": {
      "text/plain": [
       "8"
      ]
     },
     "execution_count": 5,
     "metadata": {},
     "output_type": "execute_result"
    }
   ],
   "source": [
    "##1749. Maximum Absolute Sum of Any Subarray\n",
    "def maxAbsoluteSum(nums):\n",
    "    maxByEnd = nums[0]\n",
    "    minByEnd = nums[0]\n",
    "    maxSofar = nums[0]\n",
    "    \n",
    "    for i in range(1, len(nums)):\n",
    "        maxByEnd = max(nums[i], maxByEnd+nums[i])\n",
    "        minByEnd = min(nums[i], minByEnd+nums[i])\n",
    "        \n",
    "        maxSofar = max(maxSofar, abs(maxByEnd), abs(minByEnd))\n",
    "    return  maxSofar\n",
    "\n",
    "nums = [2,-5,1,-4,3,-2]\n",
    "maxAbsoluteSum(nums)\n",
    "##Time O(n)  space O(1)"
   ]
  },
  {
   "cell_type": "code",
   "execution_count": 10,
   "id": "early-enclosure",
   "metadata": {},
   "outputs": [
    {
     "data": {
      "text/plain": [
       "7"
      ]
     },
     "execution_count": 10,
     "metadata": {},
     "output_type": "execute_result"
    }
   ],
   "source": [
    "##1760. Minimum Limit of Balls in a Bag\n",
    "# Input: nums = [2,4,8,2], maxOperations = 4\n",
    "# Output: 2\n",
    "\n",
    "def minLimitOfBalls(nums, maxOperations):\n",
    "    left = 1\n",
    "    right = max(nums)\n",
    "    \n",
    "    while left <= right:\n",
    "        mid = left + (right-left)//2\n",
    "        ops = condition(nums, mid)\n",
    "        if ops > maxOperations:\n",
    "            left = mid + 1\n",
    "        else:\n",
    "            right = mid - 1\n",
    "    return left\n",
    "\n",
    "def condition(nums, mid):\n",
    "    ops = 0\n",
    "    for num in nums:\n",
    "        if num > mid:\n",
    "            ops += (num-1)//mid\n",
    "    return ops\n",
    "\n",
    "nums = [7,17]\n",
    "maxOperations = 2\n",
    "minLimitOfBalls(nums, maxOperations)\n",
    "##Time O(nlogn)  space O(1)"
   ]
  },
  {
   "cell_type": "code",
   "execution_count": 14,
   "id": "loose-backup",
   "metadata": {},
   "outputs": [
    {
     "data": {
      "text/plain": [
       "-1"
      ]
     },
     "execution_count": 14,
     "metadata": {},
     "output_type": "execute_result"
    }
   ],
   "source": [
    "##1779. Find Nearest Point That Has the Same X or Y Coordinate\n",
    "# Input: x = 3, y = 4, points = [[1,2],[3,1],[2,4],[2,3],[4,4]]\n",
    "# Output: 2\n",
    "\n",
    "def nearestPoints(x, y, points):\n",
    "    if len(points) == 0:\n",
    "        return -1\n",
    "    res = -1\n",
    "    d = float('inf')\n",
    "    for i, (x1,y1) in enumerate(points):\n",
    "        if x1 == x or y1 == y:\n",
    "            dist = abs(x-x1) + abs(y-y1)\n",
    "            if dist < d:\n",
    "                d = dist\n",
    "                res = i\n",
    "    return res\n",
    "\n",
    "x = 3\n",
    "y = 4\n",
    "points = [[2,3]]\n",
    "nearestPoints(x, y, points)\n",
    "##Time O(N)  space O(1)\n",
    "            "
   ]
  },
  {
   "cell_type": "code",
   "execution_count": 17,
   "id": "remarkable-return",
   "metadata": {},
   "outputs": [
    {
     "data": {
      "text/plain": [
       "20"
      ]
     },
     "execution_count": 17,
     "metadata": {},
     "output_type": "execute_result"
    }
   ],
   "source": [
    "###1793. Maximum Score of a Good Subarray\n",
    "# Input: nums = [1,4,3,7,4,5], k = 3\n",
    "# Output: 15\n",
    "# Explanation: The optimal subarray is (1, 5) with a score of min(4,3,7,4,5) * (5-1+1) = 3 * 5 = 15.\n",
    "\n",
    "def maxScore(nums, k):\n",
    "    if len(nums) == 0:\n",
    "        return 0\n",
    "    res = nums[k]\n",
    "    left = k\n",
    "    right = k\n",
    "    minVal = nums[k]\n",
    "    while left > 0 and right < len(nums) - 1:\n",
    "        if nums[left] > nums[right]:\n",
    "            left -= 1\n",
    "            minVal = min(minVal, nums[left])\n",
    "        else:\n",
    "            right += 1\n",
    "            minVal = min(minVal, nums[right])\n",
    "        res = max(res, minVal*(right-left+1))\n",
    "        \n",
    "    while left > 0:\n",
    "        left -= 1\n",
    "        minVal = min(minVal, nums[left])\n",
    "        res = max(res, minVal*(right-left+1))\n",
    "    \n",
    "    while right < len(nums) - 1:\n",
    "        right += 1\n",
    "        minVal = min(minVal, nums[right])\n",
    "        res = max(res, minVal*(right-left+1))\n",
    "    return res\n",
    "\n",
    "nums = [5,5,4,5,4,1,1,1]\n",
    "k = 0\n",
    "maxScore(nums, k)\n",
    "##Time O(N)  space O(1)"
   ]
  },
  {
   "cell_type": "code",
   "execution_count": 28,
   "id": "lesser-south",
   "metadata": {},
   "outputs": [
    {
     "data": {
      "text/plain": [
       "2"
      ]
     },
     "execution_count": 28,
     "metadata": {},
     "output_type": "execute_result"
    }
   ],
   "source": [
    "##1796. Second Largest Digit in a String\n",
    "# Input: s = \"dfa12321afd\"\n",
    "# Output: 2\n",
    "# Explanation: The digits that appear in s are [1, 2, 3]. The second largest digit is 2.\n",
    "\n",
    "def secondLargest(s):\n",
    "    first = float('-inf')\n",
    "    second = float('-inf')\n",
    "    for c in s:\n",
    "        if c.isdigit():\n",
    "            if int(c) > first:\n",
    "                first, second = int(c), first\n",
    "            elif int(c) > second and int(c) < first:\n",
    "                second = int(c)\n",
    "    if second == float('-inf'):\n",
    "        return -1\n",
    "    else:\n",
    "        return second\n",
    "\n",
    "s = \"dfa12321afd\"\n",
    "secondLargest(s)\n",
    "##Time O(1)  space O(1)"
   ]
  },
  {
   "cell_type": "code",
   "execution_count": 33,
   "id": "least-tactics",
   "metadata": {},
   "outputs": [
    {
     "data": {
      "text/plain": [
       "True"
      ]
     },
     "execution_count": 33,
     "metadata": {},
     "output_type": "execute_result"
    }
   ],
   "source": [
    "##1813. Sentence Similarity III\n",
    "# Input: sentence1 = \"My name is Haley\", sentence2 = \"My Haley\"\n",
    "# Output: true\n",
    "# Explanation: sentence2 can be turned to sentence1 by inserting \"name is\" between \"My\" and \"Haley\".\n",
    "\n",
    "def sentenceSimilarity3(s1, s2):\n",
    "    w1 = s1.split(\" \")\n",
    "    w2 = s2.split(\" \")\n",
    "    \n",
    "    if len(w1) < len(w2):\n",
    "        w1, w2 = w2, w1\n",
    "    i = 0\n",
    "    j = len(w2) - 1\n",
    "    \n",
    "    diff = len(w1) - len(w2)\n",
    "    while i < len(w2) and w1[i] == w2[i]:\n",
    "        i += 1\n",
    "    while j >= 0 and w2[j] == w1[j+diff]:\n",
    "        j -= 1\n",
    "    return i > j\n",
    "\n",
    "s1 = \"Eating right now\"\n",
    "s2 = \"Eating\"\n",
    "sentenceSimilarity3(s1, s2)\n",
    "##Time O(n)  space O(1)"
   ]
  },
  {
   "cell_type": "code",
   "execution_count": 36,
   "id": "interim-guard",
   "metadata": {},
   "outputs": [
    {
     "data": {
      "text/plain": [
       "'chopper is not a tanuki'"
      ]
     },
     "execution_count": 36,
     "metadata": {},
     "output_type": "execute_result"
    }
   ],
   "source": [
    "##1816. Truncate Sentence\n",
    "# Input: s = \"Hello how are you Contestant\", k = 4\n",
    "# Output: \"Hello how are you\"\n",
    "# Explanation:\n",
    "# The words in s are [\"Hello\", \"how\" \"are\", \"you\", \"Contestant\"].\n",
    "# The first 4 words are [\"Hello\", \"how\", \"are\", \"you\"].\n",
    "# Hence, you should return \"Hello how are you\".\n",
    "\n",
    "def truncateSentence(s, k):\n",
    "    s = s.split(\" \")\n",
    "    n = len(s)\n",
    "    for _ in range(n-k):\n",
    "        s.pop()\n",
    "    return \" \".join(s)\n",
    "\n",
    "s = \"chopper is not a tanuki\"\n",
    "k = 5\n",
    "truncateSentence(s, k)"
   ]
  },
  {
   "cell_type": "code",
   "execution_count": 40,
   "id": "capital-wholesale",
   "metadata": {},
   "outputs": [
    {
     "data": {
      "text/plain": [
       "True"
      ]
     },
     "execution_count": 40,
     "metadata": {},
     "output_type": "execute_result"
    }
   ],
   "source": [
    "##1886. Determine Whether Matrix Can Be Obtained By Rotation\n",
    "# Input: mat = [[0,1],[1,0]], target = [[1,0],[0,1]]\n",
    "# Output: true\n",
    "# Explanation: We can rotate mat 90 degrees clockwise to make mat equal target.\n",
    "\n",
    "def obtainByRotation(mat, target):\n",
    "    if len(target) == 0 or len(target[0]) == 0:\n",
    "        return False\n",
    "    for _ in range(3):\n",
    "        mat = rotate(mat)\n",
    "        if mat == target:\n",
    "            return True\n",
    "    return False\n",
    "    \n",
    "def rotate(mat):\n",
    "    for row in range(len(mat)):\n",
    "        for col in range(row, len(mat[0])):\n",
    "            mat[row][col], mat[col][row] = mat[col][row], mat[row][col]\n",
    "    for row in range(len(mat)):\n",
    "        mat[row] = mat[row][::-1]\n",
    "    return mat\n",
    "\n",
    "mat = [[0,0,0],[0,1,0],[1,1,1]]\n",
    "target = [[1,1,1],[0,1,0],[0,0,0]]\n",
    "obtainByRotation(mat, target)        \n",
    "##Time O(MN)  space O(1)"
   ]
  },
  {
   "cell_type": "code",
   "execution_count": 51,
   "id": "discrete-meter",
   "metadata": {},
   "outputs": [
    {
     "data": {
      "text/plain": [
       "'dab'"
      ]
     },
     "execution_count": 51,
     "metadata": {},
     "output_type": "execute_result"
    }
   ],
   "source": [
    "##1910. Remove All Occurrences of a Substring\n",
    "# Input: s = \"daabcbaabcbc\", part = \"abc\"\n",
    "# Output: \"dab\"\n",
    "# Explanation: The following operations are done:\n",
    "# - s = \"daabcbaabcbc\", remove \"abc\" starting at index 2, so s = \"dabaabcbc\".\n",
    "# - s = \"dabaabcbc\", remove \"abc\" starting at index 4, so s = \"dababc\".\n",
    "# - s = \"dababc\", remove \"abc\" starting at index 3, so s = \"dab\".\n",
    "# Now s has no occurrences of \"abc\".\n",
    "\n",
    "def removeAllOcc(s, part):\n",
    "    if len(part) == 0:\n",
    "        return s\n",
    "    stack = []\n",
    "    for i in range(len(s)):\n",
    "        stack.append(s[i])\n",
    "        if len(stack) >= len(part):\n",
    "            newStr = \"\".join(stack[len(stack)-len(part):])\n",
    "            if newStr == part:\n",
    "                n = len(part)\n",
    "                j = 0\n",
    "                stack = stack[:len(stack)-len(part)]\n",
    "#                 while j < len(part):\n",
    "#                     stack.pop()\n",
    "#                     j += 1\n",
    "        \n",
    "    return \"\".join(stack)\n",
    "\n",
    "s = \"daabcbaabcbc\"\n",
    "part = \"abc\"\n",
    "removeAllOcc(s, part)\n",
    "##Time O(MN) M = length of s, N = length of part,  space O(M)"
   ]
  },
  {
   "cell_type": "code",
   "execution_count": 55,
   "id": "negative-shareware",
   "metadata": {},
   "outputs": [
    {
     "data": {
      "text/plain": [
       "8"
      ]
     },
     "execution_count": 55,
     "metadata": {},
     "output_type": "execute_result"
    }
   ],
   "source": [
    "##1945. Sum of Digits of String After Convert\n",
    "# Input: s = \"leetcode\", k = 2\n",
    "# Output: 6\n",
    "# Explanation: The operations are as follows:\n",
    "# - Convert: \"leetcode\" ➝ \"(12)(5)(5)(20)(3)(15)(4)(5)\" ➝ \"12552031545\" ➝ 12552031545\n",
    "# - Transform #1: 12552031545 ➝ 1 + 2 + 5 + 5 + 2 + 0 + 3 + 1 + 5 + 4 + 5 ➝ 33\n",
    "# - Transform #2: 33 ➝ 3 + 3 ➝ 6\n",
    "# Thus the resulting integer is 6.\n",
    "\n",
    "def sumOfDigits(s, k):\n",
    "    alpha = \"abcdefghijklmnopqrstuvwxyz\"\n",
    "    dict1 = {}\n",
    "    v = 1\n",
    "    for char in alpha:\n",
    "        dict1[char] = v\n",
    "        v += 1\n",
    "    res = \"\"\n",
    "    for c in s:\n",
    "        res += str(dict1[c])\n",
    "    for i in range(k):\n",
    "        val = 0\n",
    "        for c in res:\n",
    "            val += int(c)\n",
    "        res = str(val)\n",
    "    return int(res)\n",
    "\n",
    "s = \"zbax\"\n",
    "k = 2\n",
    "sumOfDigits(s, k)    "
   ]
  },
  {
   "cell_type": "code",
   "execution_count": 60,
   "id": "athletic-expert",
   "metadata": {},
   "outputs": [
    {
     "data": {
      "text/plain": [
       "0"
      ]
     },
     "execution_count": 60,
     "metadata": {},
     "output_type": "execute_result"
    }
   ],
   "source": [
    "###1963. Minimum Number of Swaps to Make the String Balanced\n",
    "# Input: s = \"]]][[[\"\n",
    "# Output: 2\n",
    "# Explanation: You can do the following to make the string balanced:\n",
    "# - Swap index 0 with index 4. s = \"[]][][\".\n",
    "# - Swap index 1 with index 5. s = \"[[][]]\".\n",
    "# The resulting string is \"[[][]]\".\n",
    "\n",
    "def minSwap(s):\n",
    "    if len(s) == 0:\n",
    "        return 0\n",
    "    Max = 0\n",
    "    close = 0\n",
    "    for c in s:\n",
    "        if c == \"]\":\n",
    "            close += 1\n",
    "        else:\n",
    "            close -= 1\n",
    "        Max = max(Max, close)\n",
    "    return (Max+1)//2\n",
    "\n",
    "s = \"[]\"\n",
    "minSwap(s)\n",
    "##Time O(N)  space O(1)"
   ]
  },
  {
   "cell_type": "code",
   "execution_count": 4,
   "id": "affiliated-script",
   "metadata": {},
   "outputs": [
    {
     "data": {
      "text/plain": [
       "3"
      ]
     },
     "execution_count": 4,
     "metadata": {},
     "output_type": "execute_result"
    }
   ],
   "source": [
    "###2006. Count Number of Pairs With Absolute Difference K\n",
    "# Input: nums = [1,2,2,1], k = 1\n",
    "# Output: 4\n",
    "\n",
    "def countNumOfPairs(nums, k):\n",
    "    numDict = {}\n",
    "    count = 0\n",
    "    for num in nums:\n",
    "        x1 = num + k\n",
    "        x2 = num - k\n",
    "        if x1 in numDict:\n",
    "            count += numDict[x1]\n",
    "        if x2 in numDict:\n",
    "            count += numDict[x2]\n",
    "        if num in numDict:\n",
    "            numDict[num] += 1\n",
    "        else:\n",
    "            numDict[num] = 1\n",
    "    return count\n",
    "nums = [3,2,1,5,4]\n",
    "k = 2\n",
    "countNumOfPairs(nums, k)\n",
    "##Time O(N) space O(N)"
   ]
  },
  {
   "cell_type": "code",
   "execution_count": 11,
   "id": "average-event",
   "metadata": {},
   "outputs": [
    {
     "data": {
      "text/plain": [
       "[[1, 5], [4, 3], [10, 5], [10, 4]]"
      ]
     },
     "execution_count": 11,
     "metadata": {},
     "output_type": "execute_result"
    }
   ],
   "source": [
    "properties = [[1,5],[10,4],[4,3],[10,5]]\n",
    "properties.sort(key=lambda x:(x[0], -x[1]))\n",
    "properties"
   ]
  },
  {
   "cell_type": "code",
   "execution_count": 16,
   "id": "uniform-certificate",
   "metadata": {},
   "outputs": [
    {
     "data": {
      "text/plain": [
       "1"
      ]
     },
     "execution_count": 16,
     "metadata": {},
     "output_type": "execute_result"
    }
   ],
   "source": [
    "###1996. The Number of Weak Characters in the Game\n",
    "def weekCharacter(props):\n",
    "    props.sort(key=lambda x:(x[0], -x[1]))\n",
    "    maxDiff = 0\n",
    "    ans = 0\n",
    "    for i in range(len(props)-1, -1, -1):\n",
    "        if props[i][1] < maxDiff:\n",
    "            ans += 1\n",
    "        maxDiff = max(maxDiff, props[i][1])\n",
    "    return ans\n",
    "\n",
    "props = [[1,5],[10,4],[4,3]]\n",
    "weekCharacter(props)\n",
    "##Time O(nlogn)  space O(1)"
   ]
  },
  {
   "cell_type": "code",
   "execution_count": 21,
   "id": "jewish-contemporary",
   "metadata": {},
   "outputs": [
    {
     "data": {
      "text/plain": [
       "-1"
      ]
     },
     "execution_count": 21,
     "metadata": {},
     "output_type": "execute_result"
    }
   ],
   "source": [
    "##1991. Find the Middle Index in Array\n",
    "# Input: nums = [2,3,-1,8,4]\n",
    "# Output: 3\n",
    "# Explanation: The sum of the numbers before index 3 is: 2 + 3 + -1 = 4\n",
    "# The sum of the numbers after index 3 is: 4 = 4\n",
    "\n",
    "##left + num + left = total\n",
    "##num = total - 2*left\n",
    "\n",
    "def middleIndex(nums):\n",
    "    total = sum(nums)\n",
    "    left = 0\n",
    "    for i in range(len(nums)):\n",
    "        if nums[i] == total - 2*left:\n",
    "            return i\n",
    "        left += nums[i]\n",
    "    return -1\n",
    "\n",
    "nums = [2,5]\n",
    "middleIndex(nums)\n",
    "##Time O(N)  space O(1)"
   ]
  },
  {
   "cell_type": "code",
   "execution_count": 3,
   "id": "dutch-tract",
   "metadata": {},
   "outputs": [
    {
     "data": {
      "text/plain": [
       "1"
      ]
     },
     "execution_count": 3,
     "metadata": {},
     "output_type": "execute_result"
    }
   ],
   "source": [
    "##1963. Minimum Number of Swaps to Make the String Balanced\n",
    "##[]][\n",
    "# Input: s = \"]]][[[\"\n",
    "# Output: 2\n",
    "def minSwap(s):\n",
    "    Max = 0\n",
    "    close = 0\n",
    "    for i in range(len(s)):\n",
    "        if s[i] == \"[\":\n",
    "            close -= 1\n",
    "        else:\n",
    "            close += 1\n",
    "        Max = max(Max, close)\n",
    "    return (Max+1)//2\n",
    "s = \"][][\"\n",
    "minSwap(s)\n",
    "##Time O(N)  space O(1)"
   ]
  },
  {
   "cell_type": "code",
   "execution_count": 8,
   "id": "encouraging-suite",
   "metadata": {},
   "outputs": [
    {
     "data": {
      "text/plain": [
       "-1"
      ]
     },
     "execution_count": 8,
     "metadata": {},
     "output_type": "execute_result"
    }
   ],
   "source": [
    "##1928. Minimum Cost to Reach Destination in Time\n",
    "# maxTime = 30, edges = [[0,1,10],[1,2,10],[2,5,10],[0,3,1],[3,4,10],[4,5,15]]\n",
    "# passingFees = [5,1,2,20,20,3]\n",
    "import heapq\n",
    "def minCost(maxTime, edges, passingFees):\n",
    "    n = len(passingFees)\n",
    "    graph = {}\n",
    "    for i in range(n):\n",
    "        graph[i] = []\n",
    "    for u,v,t in edges:\n",
    "        graph[u].append((v, t))\n",
    "        graph[v].append((u, t))\n",
    "    dist = [float('inf')]*n\n",
    "    dist[0] = 0\n",
    "    pq = [(passingFees[0], 0, 0)] ## cost, time, node\n",
    "    while pq:\n",
    "        cost, time, node = heapq.heappop(pq)\n",
    "        if node == n - 1:\n",
    "            return cost\n",
    "        for nei, t in graph[node]:\n",
    "            newTime = time + t\n",
    "            newCost = cost + passingFees[nei]\n",
    "            if newTime < dist[nei] and newTime <= maxTime:\n",
    "                dist[nei] = newTime\n",
    "                heapq.heappush(pq, (newCost, newTime, nei))\n",
    "    return -1\n",
    "\n",
    "maxTime = 25\n",
    "edges = [[0,1,10],[1,2,10],[2,5,10],[0,3,1],[3,4,10],[4,5,15]]\n",
    "passingFees = [5,1,2,20,20,3]\n",
    "minCost(maxTime, edges, passingFees)\n",
    "##Time O(V + ElogV)  space O(V+E)"
   ]
  },
  {
   "cell_type": "code",
   "execution_count": 11,
   "id": "negative-vacuum",
   "metadata": {},
   "outputs": [
    {
     "data": {
      "text/plain": [
       "'dab'"
      ]
     },
     "execution_count": 11,
     "metadata": {},
     "output_type": "execute_result"
    }
   ],
   "source": [
    "##1910. Remove All Occurrences of a Substring\n",
    "# Input: s = \"daabcbaabcbc\", part = \"abc\"\n",
    "# Output: \"dab\"\n",
    "\n",
    "def removeAllOccurance(s, part):\n",
    "    stack = []\n",
    "    for i in range(len(s)):\n",
    "        stack.append(s[i])\n",
    "        if len(stack) >= len(part):\n",
    "            n = len(stack)\n",
    "            if \"\".join(stack[n-len(part):]) == part:\n",
    "                stack = stack[:n-len(part)]\n",
    "        \n",
    "    return \"\".join(stack)\n",
    "\n",
    "s = \"daabcbaabcbc\"\n",
    "part = \"abc\"\n",
    "removeAllOccurance(s, part)"
   ]
  },
  {
   "cell_type": "code",
   "execution_count": 14,
   "id": "about-stupid",
   "metadata": {},
   "outputs": [
    {
     "data": {
      "text/plain": [
       "True"
      ]
     },
     "execution_count": 14,
     "metadata": {},
     "output_type": "execute_result"
    }
   ],
   "source": [
    "##1886. Determine Whether Matrix Can Be Obtained By Rotation\n",
    "# Input: mat = [[0,1],[1,0]], target = [[1,0],[0,1]]\n",
    "# Output: true\n",
    "\n",
    "def canObtain(mat, target):\n",
    "    if mat == target:\n",
    "        return True\n",
    "    for _ in range(3):\n",
    "        mat = rotate(mat)\n",
    "        if mat == target:\n",
    "            return True\n",
    "    return False\n",
    "\n",
    "def rotate(mat):\n",
    "    ##Transpose the matrix\n",
    "    for row in range(len(mat)):\n",
    "        for col in range(row, len(mat[0])):\n",
    "            mat[row][col], mat[col][row] = mat[col][row], mat[row][col]\n",
    "            \n",
    "    ##reverse the row\n",
    "    for i in range(len(mat)):\n",
    "        mat[i] = mat[i][::-1]\n",
    "    return mat\n",
    "\n",
    "mat = [[0,0,0],[0,1,0],[1,1,1]]\n",
    "target = [[1,1,1],[0,1,0],[0,0,0]]\n",
    "canObtain(mat, target)"
   ]
  },
  {
   "cell_type": "code",
   "execution_count": 15,
   "id": "ultimate-nelson",
   "metadata": {},
   "outputs": [],
   "source": [
    "###1813. Sentence Similarity III\n",
    "# Input: sentence1 = \"My name is Haley\", sentence2 = \"My Haley\"\n",
    "# Output: true\n",
    "# Explanation: sentence2 can be turned to sentence1 by inserting \"name is\" between \"My\" and \"Haley\".\n",
    "\n",
    "def sentenceSimilarity(sent1, sent2):\n",
    "    s1 = sent1.split(\" \")\n",
    "    s2 = sent2.split(\" \")\n",
    "    \n",
    "    if len(s1) < len(s2):\n",
    "        s1, s2 = s2, s1\n",
    "    i = 0\n",
    "    j = len(s2) - 1\n",
    "    diff = len(s1) - len(s2)\n",
    "    \n",
    "    while i < len(s2) and s1[i] == s2[i]:\n",
    "        i -= 1\n",
    "    while j >= 0 and s2[j] == s1[diff+j]:\n",
    "        j -= 1\n",
    "    return i < j  "
   ]
  },
  {
   "cell_type": "code",
   "execution_count": 18,
   "id": "corporate-pipeline",
   "metadata": {},
   "outputs": [
    {
     "data": {
      "text/plain": [
       "-1"
      ]
     },
     "execution_count": 18,
     "metadata": {},
     "output_type": "execute_result"
    }
   ],
   "source": [
    "###1796. Second Largest Digit in a String\n",
    "# Input: s = \"dfa12321afd\"\n",
    "# Output: 2\n",
    "# Explanation: The digits that appear in s are [1, 2, 3]. The second largest digit is 2.\n",
    "\n",
    "def secondLargest(s):\n",
    "    first = -1\n",
    "    second = -1\n",
    "    \n",
    "    for i in range(len(s)):\n",
    "        if s[i].isdigit():\n",
    "            if int(s[i]) > first:\n",
    "                first, second = int(s[i]), first\n",
    "            elif int(s[i]) < first and int(s[i]) > second:\n",
    "                second = int(s[i])\n",
    "    return second\n",
    "              \n",
    "s = \"abc1111\"\n",
    "secondLargest(s)\n",
    "##Time O(N) space O(1)"
   ]
  },
  {
   "cell_type": "code",
   "execution_count": 4,
   "id": "statistical-tournament",
   "metadata": {},
   "outputs": [
    {
     "data": {
      "text/plain": [
       "8"
      ]
     },
     "execution_count": 4,
     "metadata": {},
     "output_type": "execute_result"
    }
   ],
   "source": [
    "##713. Subarray Product Less Than K\n",
    "# Input: nums = [10,5,2,6], k = 100\n",
    "# Output: 8\n",
    "\n",
    "def subArrayProd(nums, k):\n",
    "    count = 0\n",
    "    prod = 1\n",
    "    left = 0\n",
    "    for i in range(len(nums)):\n",
    "        prod *= nums[i]\n",
    "        while left <= i and prod >= k:\n",
    "            prod = prod // nums[left]\n",
    "            left += 1\n",
    "        if prod < k:\n",
    "            count += i - left + 1\n",
    "    return count\n",
    "            \n",
    "nums = [10,5,2,6]\n",
    "k = 100\n",
    "subArrayProd(nums, k)\n",
    "##Time O(N) space O(1)"
   ]
  },
  {
   "cell_type": "code",
   "execution_count": 8,
   "id": "desirable-bearing",
   "metadata": {},
   "outputs": [
    {
     "data": {
      "text/plain": [
       "5"
      ]
     },
     "execution_count": 8,
     "metadata": {},
     "output_type": "execute_result"
    }
   ],
   "source": [
    "###719. Find K-th Smallest Pair Distance\n",
    "# Input: nums = [1,3,1], k = 1\n",
    "# Output: 0\n",
    "\n",
    "def kThSmallest(nums, k):\n",
    "    left = 0\n",
    "    right = max(nums) - min(nums)\n",
    "    \n",
    "    while left <= right:\n",
    "        mid = left + (right-left)//2\n",
    "        count = condition(nums, mid)\n",
    "        if count >= k:\n",
    "            right = mid - 1\n",
    "        else:\n",
    "            left = mid + 1\n",
    "    return left\n",
    "\n",
    "def condition(nums, mid):\n",
    "    count = 0\n",
    "    left = 0\n",
    "    for right in range(1, len(nums)):\n",
    "        while nums[right] - nums[left] > mid:\n",
    "            left += 1\n",
    "        count += right - left\n",
    "    return count\n",
    "\n",
    "nums = [1,6,1]\n",
    "k = 3\n",
    "kThSmallest(nums, k)"
   ]
  },
  {
   "cell_type": "code",
   "execution_count": 15,
   "id": "polished-laser",
   "metadata": {},
   "outputs": [
    {
     "data": {
      "text/plain": [
       "[['John', 'john00@mail.com', 'john_newyork@mail.com', 'johnsmith@mail.com'],\n",
       " ['Mary', 'mary@mail.com'],\n",
       " ['John', 'johnnybravo@mail.com']]"
      ]
     },
     "execution_count": 15,
     "metadata": {},
     "output_type": "execute_result"
    }
   ],
   "source": [
    "##721. Accounts Merge\n",
    "# Input: accounts = [[\"John\",\"johnsmith@mail.com\",\"john_newyork@mail.com\"],[\"John\",\"johnsmith@mail.com\",\n",
    "#             \"john00@mail.com\"],[\"Mary\",\"mary@mail.com\"],[\"John\",\"johnnybravo@mail.com\"]]\n",
    "# Output: [[\"John\",\"john00@mail.com\",\"john_newyork@mail.com\",\"johnsmith@mail.com\"],\n",
    "#          [\"Mary\",\"mary@mail.com\"],[\"John\",\"johnnybravo@mail.com\"]]\n",
    "\n",
    "def accountMerge(accounts):\n",
    "    emailToName = {}\n",
    "    parent = {}\n",
    "    for acc in accounts:\n",
    "        name = acc[0]\n",
    "        for email1 in acc[1:]:\n",
    "            emailToName[email1] = name\n",
    "            parent[email1] = email1\n",
    "    for acc in accounts:\n",
    "        email1 = acc[1]\n",
    "        for email2 in acc[2:]:\n",
    "            union(parent, email1, email2)\n",
    "    import collections\n",
    "    group = collections.defaultdict(list)\n",
    "    for email in parent:\n",
    "        r = find(parent, email)\n",
    "        group[r].append(email)\n",
    "        \n",
    "    res = []\n",
    "    for email in group:\n",
    "        res.append(([emailToName[email]] + sorted(group[email])))\n",
    "    return res\n",
    "    \n",
    "def find(parent, x):\n",
    "    if x != parent[x]:\n",
    "        parent[x] = find(parent, parent[x])\n",
    "    return parent[x]\n",
    "\n",
    "def union(parent, x, y):\n",
    "    xP = find(parent, x)\n",
    "    yP = find(parent, y)\n",
    "    if xP != yP:\n",
    "        parent[yP] = xP\n",
    "        \n",
    "accounts = [[\"John\",\"johnsmith@mail.com\",\"john_newyork@mail.com\"],[\"John\",\"johnsmith@mail.com\",\"john00@mail.com\"],[\"Mary\",\"mary@mail.com\"],[\"John\",\"johnnybravo@mail.com\"]]\n",
    "accountMerge(accounts)\n",
    "##Time O(ElogV)  space O(V+E)"
   ]
  },
  {
   "cell_type": "code",
   "execution_count": 18,
   "id": "according-cradle",
   "metadata": {},
   "outputs": [
    {
     "data": {
      "text/plain": [
       "0"
      ]
     },
     "execution_count": 18,
     "metadata": {},
     "output_type": "execute_result"
    }
   ],
   "source": [
    "###724. Find Pivot Index\n",
    "# Input: nums = [1,7,3,6,5,6]\n",
    "# Output: 3\n",
    "## total == nums[i] + 2*left\n",
    "\n",
    "def findPivot(nums):\n",
    "    left = 0\n",
    "    total = sum(nums)\n",
    "    for i in range(len(nums)):\n",
    "        if total - 2*left == nums[i]:\n",
    "            return i\n",
    "        left += nums[i]\n",
    "    return -1\n",
    "\n",
    "nums = [2,1,-1]\n",
    "findPivot(nums)\n"
   ]
  },
  {
   "cell_type": "code",
   "execution_count": 1,
   "id": "planned-chuck",
   "metadata": {},
   "outputs": [
    {
     "data": {
      "text/plain": [
       "[9, 4]"
      ]
     },
     "execution_count": 1,
     "metadata": {},
     "output_type": "execute_result"
    }
   ],
   "source": [
    "###349. Intersection of Two Arrays\n",
    "# Input: nums1 = [4,9,5], nums2 = [9,4,9,8,4]\n",
    "# Output: [9,4]\n",
    "# Explanation: [4,9] is also accepted.\n",
    "\n",
    "def intersection(nums1, nums2):\n",
    "    set1 = set(nums1)\n",
    "    set2 = set(nums2)\n",
    "    \n",
    "    res = []\n",
    "    for num in set1:\n",
    "        if num in set2:\n",
    "            res.append(num)\n",
    "    return res\n",
    "\n",
    "nums1 = [4,9,5]\n",
    "nums2 = [9,4,9,8,4]\n",
    "intersection(nums1, nums2)\n",
    "    \n",
    "    "
   ]
  },
  {
   "cell_type": "code",
   "execution_count": 4,
   "id": "effective-feeding",
   "metadata": {},
   "outputs": [
    {
     "data": {
      "text/plain": [
       "[4, 9]"
      ]
     },
     "execution_count": 4,
     "metadata": {},
     "output_type": "execute_result"
    }
   ],
   "source": [
    "##350. Intersection of Two Arrays II\n",
    "# Input: nums1 = [1,2,2,1], nums2 = [2,2]\n",
    "# Output: [2,2]\n",
    "\n",
    "def intersection2(nums1, nums2):\n",
    "    dict1 = {}\n",
    "    dict2 = {}\n",
    "    \n",
    "    for num in nums1:\n",
    "        if num in dict1:\n",
    "            dict1[num] += 1\n",
    "        else:\n",
    "            dict1[num] = 1\n",
    "    for num in nums2:\n",
    "        if num in dict2:\n",
    "            dict2[num] += 1\n",
    "        else:\n",
    "            dict2[num] = 1\n",
    "    res = []\n",
    "    for key in dict1:\n",
    "        if key in dict2:\n",
    "            res += min(dict1[key], dict2[key])*[key]\n",
    "    return res\n",
    "\n",
    "nums1 = [4,9,5]\n",
    "nums2 = [9,4,9,8,4]\n",
    "intersection2(nums1, nums2)"
   ]
  },
  {
   "cell_type": "code",
   "execution_count": 8,
   "id": "adolescent-laptop",
   "metadata": {},
   "outputs": [
    {
     "data": {
      "text/plain": [
       "[[2, 3], [5, 4], [6, 7], [6, 5], [6, 4]]"
      ]
     },
     "execution_count": 8,
     "metadata": {},
     "output_type": "execute_result"
    }
   ],
   "source": [
    "envelopes = [[5,4],[6,4],[6,7],[2,3],[6,5]]\n",
    "envelopes.sort(key=lambda key:(key[0], -key[1]))\n",
    "envelopes"
   ]
  },
  {
   "cell_type": "code",
   "execution_count": 12,
   "id": "cutting-probability",
   "metadata": {},
   "outputs": [
    {
     "data": {
      "text/plain": [
       "1"
      ]
     },
     "execution_count": 12,
     "metadata": {},
     "output_type": "execute_result"
    }
   ],
   "source": [
    "###354. Russian Doll Envelopes\n",
    "# Input: envelopes = [[5,4],[6,4],[6,7],[2,3]]\n",
    "# Output: 3\n",
    "\n",
    "def russianDoll(envelopes):\n",
    "    ##sort width accesding order and height in deceanding order\n",
    "    envelopes.sort(key=lambda x:(x[0], -x[1]))\n",
    "    table = []\n",
    "    table.append(envelopes[0][1])\n",
    "    for i in range(1, len(envelopes)):\n",
    "        if envelopes[i][1] > table[-1]:\n",
    "            table.append(envelopes[i][0])\n",
    "        else:\n",
    "            idx = binaryInsert(table, envelopes[i][0])\n",
    "    return len(table)\n",
    "    \n",
    "def binaryInsert(nums, val):\n",
    "    left = 0\n",
    "    right = len(nums) - 1\n",
    "    while left <= right:\n",
    "        mid = left + (right-left)//2\n",
    "        if nums[mid] == val:\n",
    "            return mid\n",
    "        if val > nums[mid]:\n",
    "            left = mid + 1\n",
    "        else:\n",
    "            right = mid - 1\n",
    "    return left\n",
    "envelopes = [[1,1],[1,1],[1,1]]\n",
    "russianDoll(envelopes)\n",
    "##Time O(nlogn) space o(n)"
   ]
  },
  {
   "cell_type": "code",
   "execution_count": 14,
   "id": "standard-remark",
   "metadata": {},
   "outputs": [
    {
     "data": {
      "text/plain": [
       "False"
      ]
     },
     "execution_count": 14,
     "metadata": {},
     "output_type": "execute_result"
    }
   ],
   "source": [
    "###367. Valid Perfect Square\n",
    "def perfectSquare(num):\n",
    "    left = 0\n",
    "    right = num\n",
    "    \n",
    "    while left <= right:\n",
    "        mid = left + (right-left)//2\n",
    "        if mid*mid == num:\n",
    "            return True\n",
    "        if mid*mid > num:\n",
    "            right = mid - 1\n",
    "        else:\n",
    "            left = mid + 1\n",
    "    return False\n",
    "\n",
    "num = 14\n",
    "perfectSquare(num)"
   ]
  },
  {
   "cell_type": "code",
   "execution_count": 20,
   "id": "greenhouse-pitch",
   "metadata": {},
   "outputs": [
    {
     "data": {
      "text/plain": [
       "[(1, 1), (1, 1)]"
      ]
     },
     "execution_count": 20,
     "metadata": {},
     "output_type": "execute_result"
    }
   ],
   "source": [
    "###373. Find K Pairs with Smallest Sums\n",
    "# Input: nums1 = [1,7,11], nums2 = [2,4,6], k = 3\n",
    "# Output: [[1,2],[1,4],[1,6]]\n",
    "# Explanation: The first 3 pairs are returned from the sequence: \n",
    "# [1,2],[1,4],[1,6],[7,2],[7,4],[11,2],[7,6],[11,4],[11,6]\n",
    "import heapq\n",
    "def findKpairs(nums1, nums2, k):\n",
    "    res = []\n",
    "    seen = set()\n",
    "    n1 = len(nums1)\n",
    "    n2 = len(nums2)\n",
    "    pq = [(nums1[0]+nums2[0], 0, 0)]\n",
    "    \n",
    "    while pq:\n",
    "        val = heapq.heappop(pq)\n",
    "        x1 = val[1]\n",
    "        x2 = val[2]\n",
    "        if (x1, x2) in seen:\n",
    "            continue\n",
    "        seen.add((x1, x2))\n",
    "        res.append((nums1[x1], nums2[x2]))\n",
    "        if len(res) == k:\n",
    "            break\n",
    "        if x1+1 < n1 and (x1+1, x2) not in seen:\n",
    "            heapq.heappush(pq, (nums1[x1+1]+nums2[x2], x1+1, x2))\n",
    "        if x2+1 < n2 and (x1, x2+1) not in seen:\n",
    "            heapq.heappush(pq, (nums1[x1]+nums2[x2+1], x1, x2+1))\n",
    "    return res\n",
    "\n",
    "nums1 = [1,1,2]\n",
    "nums2 = [1,2,3]\n",
    "k = 2\n",
    "findKpairs(nums1, nums2, k)\n",
    "##Time O(klogk) space O(N)"
   ]
  },
  {
   "cell_type": "code",
   "execution_count": 5,
   "id": "dominant-badge",
   "metadata": {},
   "outputs": [
    {
     "name": "stdout",
     "output_type": "stream",
     "text": [
      "3\n"
     ]
    }
   ],
   "source": [
    "####433. Minimum Genetic Mutation\n",
    "# Input: start = \"AACCGGTT\", end = \"AAACGGTA\", bank = [\"AACCGGTA\",\"AACCGCTA\",\"AAACGGTA\"]\n",
    "# Output: 2\n",
    "import collections\n",
    "def minGenMutation(start, end, bank):\n",
    "    if start == end:\n",
    "        return 0\n",
    "    bank = set(bank)\n",
    "    if end not in bank:\n",
    "        return -1\n",
    "    lebels = 0\n",
    "    queue = collections.deque([start])\n",
    "    alpha = \"ACGT\"\n",
    "    seen = set()\n",
    "    while queue:\n",
    "        for _ in range(len(queue)):\n",
    "            cur = queue.popleft()\n",
    "            if cur == end:\n",
    "                return lebels\n",
    "            seen.add(cur)\n",
    "            for i in range(len(cur)):\n",
    "                for c in alpha:\n",
    "                    newCur = cur[:i] + c + cur[i+1:]\n",
    "                    if newCur not in seen and newCur in bank:\n",
    "                        queue.append(newCur)\n",
    "        lebels += 1\n",
    "    return -1\n",
    "\n",
    "start = \"AAAAACCC\"\n",
    "end = \"AACCCCCC\"\n",
    "bank = [\"AAAACCCC\",\"AAACCCCC\",\"AACCCCCC\"]\n",
    "print(minGenMutation(start, end, bank))\n",
    "##Time O(MN)  space O(MN)        "
   ]
  },
  {
   "cell_type": "code",
   "execution_count": 4,
   "id": "competent-settlement",
   "metadata": {},
   "outputs": [
    {
     "data": {
      "text/plain": [
       "4"
      ]
     },
     "execution_count": 4,
     "metadata": {},
     "output_type": "execute_result"
    }
   ],
   "source": [
    "###463. Island Perimeter\n",
    "# Input: grid = [[0,1,0,0],[1,1,1,0],[0,1,0,0],[1,1,0,0]]\n",
    "# Output: 16\n",
    "\n",
    "def islandPerimeter(grid):\n",
    "    res = 0\n",
    "    for i in range(len(grid)):\n",
    "        for j in range(len(grid[0])):\n",
    "            if grid[i][j] == 1:\n",
    "                res += 4\n",
    "                if i > 0:\n",
    "                    res -= grid[i-1][j]\n",
    "                if i < len(grid) - 1:\n",
    "                    res -= grid[i+1][j]\n",
    "                if j > 0:\n",
    "                    res -= grid[i][j-1]\n",
    "                if j < len(grid[0]) - 1:\n",
    "                    res -= grid[i][j+1]\n",
    "    return res\n",
    "\n",
    "grid = [[1,0]]\n",
    "islandPerimeter(grid)"
   ]
  },
  {
   "cell_type": "code",
   "execution_count": 1,
   "id": "generic-january",
   "metadata": {},
   "outputs": [],
   "source": [
    "###987. Vertical Order Traversal of a Binary Tree\n",
    "def verticalOrderTraversal(root):\n",
    "    if root is None:\n",
    "        return []\n",
    "    dict1 = {}\n",
    "    stack = [(root, 0, 0)]\n",
    "    \n",
    "    while stack:\n",
    "        temp = []\n",
    "        for cur in stack:\n",
    "            node = cur[0]\n",
    "            row = cur[1]\n",
    "            col = cur[2]\n",
    "            if col in dict1:\n",
    "                dict1[col].append((node.val, row))\n",
    "            else:\n",
    "                dict1[col] = [(node.val, row)]\n",
    "            if node.left:\n",
    "                temp.append((node.left, row+1, col-1))\n",
    "            if node.right:\n",
    "                temp.append((node.right, row+1, col-1))\n",
    "        if len(temp) != 0:\n",
    "            stack = temp\n",
    "            \n",
    "    res = []\n",
    "    for k in sorted(dict1.keys()):\n",
    "        ans = [value[0] for value in sorted(dcit1[k])]\n",
    "        res.append(ans)\n",
    "    return ans\n",
    "                \n",
    "            \n",
    "        "
   ]
  },
  {
   "cell_type": "code",
   "execution_count": 4,
   "id": "freelance-favorite",
   "metadata": {},
   "outputs": [],
   "source": [
    "###993. Cousins in Binary Tree\n",
    "def isCousins(root, x, y):\n",
    "    if root is None:\n",
    "        return False\n",
    "    if root.val == x or root.val == y:\n",
    "        return False\n",
    "    xList = []\n",
    "    yList = []\n",
    "    DFS(root, 0, None, x, xList)\n",
    "    DFS(root, 0, None, y, yList)\n",
    "    return xList[0][0] != yList[0][0] and xList[0][1] == yList[0][1]\n",
    "    \n",
    "def DFS(root, depth, parent, cousin, List):\n",
    "    if root is None:\n",
    "        return \n",
    "    if root.val == cousin:\n",
    "        List.append((parent.val, depth))\n",
    "        return\n",
    "    DFS(root.left, depth+1, root, cousin, List)\n",
    "    DFS(root.right, depth+1, root, cousin, List)"
   ]
  },
  {
   "cell_type": "code",
   "execution_count": 7,
   "id": "surprised-anime",
   "metadata": {},
   "outputs": [
    {
     "data": {
      "text/plain": [
       "True"
      ]
     },
     "execution_count": 7,
     "metadata": {},
     "output_type": "execute_result"
    }
   ],
   "source": [
    "####1013. Partition Array Into Three Parts With Equal Sum\n",
    "\n",
    "def partition(arr):\n",
    "    if sum(arr)%3 != 0:\n",
    "        return False\n",
    "    ideal = sum(arr)//3\n",
    "    parts = 0\n",
    "    temp = 0\n",
    "    for num in arr:\n",
    "        temp += num\n",
    "        if temp == ideal:\n",
    "            parts += 1\n",
    "            temp = 0\n",
    "    if parts >= 3:\n",
    "        return True\n",
    "    return False\n",
    "\n",
    "arr = [3,3,6,5,-2,2,5,1,-9,4]\n",
    "partition(arr)"
   ]
  },
  {
   "cell_type": "code",
   "execution_count": 12,
   "id": "pursuant-scout",
   "metadata": {},
   "outputs": [
    {
     "name": "stdout",
     "output_type": "stream",
     "text": [
      "helloworld\n"
     ]
    },
    {
     "data": {
      "text/plain": [
       "10"
      ]
     },
     "execution_count": 12,
     "metadata": {},
     "output_type": "execute_result"
    }
   ],
   "source": [
    "##1160. Find Words That Can Be Formed by Characters\n",
    "# Input: words = [\"cat\",\"bt\",\"hat\",\"tree\"], chars = \"atach\"\n",
    "# Output: 6\n",
    "# Explanation: The strings that can be formed are \"cat\" and \"hat\" so the answer is 3 + 3 = 6.\n",
    "\n",
    "def findWord(words, chars):\n",
    "    if len(chars) == 0 or len(words) == 0:\n",
    "        return 0\n",
    "    charDict = {}\n",
    "    for c in chars:\n",
    "        if c in charDict:\n",
    "            charDict[c] += 1\n",
    "        else:\n",
    "            charDict[c] = 1\n",
    "            \n",
    "    res = \"\"\n",
    "    for word in words:\n",
    "        temp = charDict.copy()\n",
    "        for i, c in enumerate(word):\n",
    "            if c not in temp:\n",
    "                break\n",
    "            temp[c] -= 1\n",
    "            if temp[c] == 0:\n",
    "                del temp[c]\n",
    "            if i == len(word) - 1:\n",
    "                res += word\n",
    "    print(res)\n",
    "    return len(res)\n",
    "\n",
    "words = [\"hello\",\"world\",\"leetcode\"]\n",
    "chars = \"welldonehoneyr\"\n",
    "findWord(words, chars)"
   ]
  },
  {
   "cell_type": "code",
   "execution_count": 20,
   "id": "false-motion",
   "metadata": {},
   "outputs": [
    {
     "data": {
      "text/plain": [
       "6"
      ]
     },
     "execution_count": 20,
     "metadata": {},
     "output_type": "execute_result"
    }
   ],
   "source": [
    "##1293. Shortest Path in a Grid with Obstacles Elimination\n",
    "# Input: grid = [[0,0,0],[1,1,0],[0,0,0],[0,1,1],[0,0,0]], k = 1\n",
    "# Output: 6\n",
    "import collections\n",
    "def shortestPathWithEle(grid, k):\n",
    "    queue = collections.deque()\n",
    "    queue.append((0,0,k))\n",
    "    seen = set()\n",
    "    seen.add((0,0,k))\n",
    "    steps = 0\n",
    "    dirs = [(1,0), (0,1), (-1,0), (0,-1)]\n",
    "    while queue:\n",
    "        for _ in range(len(queue)):\n",
    "            cur = queue.popleft()\n",
    "            row = cur[0]\n",
    "            col = cur[1]\n",
    "            obs = cur[2]\n",
    "            if row == len(grid) - 1 and col == len(grid[0]) - 1:\n",
    "                return steps\n",
    "            for d in dirs:\n",
    "                newRow = row + d[0]\n",
    "                newCol = col + d[1]\n",
    "                if 0 <= newRow < len(grid) and 0<= newCol < len(grid[0]):\n",
    "                    if obs > 0 and grid[newRow][newCol] == 1:\n",
    "                        if (newRow, newCol, obs-1) not in seen:\n",
    "                            seen.add((newRow, newCol, obs-1))\n",
    "                            queue.append((newRow, newCol, obs-1))\n",
    "                    elif grid[newRow][newCol] == 0:\n",
    "                        if (newRow, newCol, obs) not in seen:\n",
    "                            seen.add((newRow, newCol, obs))\n",
    "                            queue.append((newRow, newCol, obs))\n",
    "        steps += 1\n",
    "    return -1\n",
    "\n",
    "grid = [[0,0,0],[1,1,0],[0,0,0],[0,1,1],[0,0,0]]\n",
    "k = 1\n",
    "shortestPathWithEle(grid, k)    \n",
    " \n",
    "##Time O(MNK)  space O(MNK)"
   ]
  },
  {
   "cell_type": "code",
   "execution_count": 23,
   "id": "military-operation",
   "metadata": {},
   "outputs": [
    {
     "data": {
      "text/plain": [
       "0"
      ]
     },
     "execution_count": 23,
     "metadata": {},
     "output_type": "execute_result"
    }
   ],
   "source": [
    "###1334. Find the City With the Smallest Number of Neighbors at a Threshold Distance\n",
    "# Input: n = 4, edges = [[0,1,3],[1,2,1],[1,3,4],[2,3,1]], distanceThreshold = 4\n",
    "# Output: 3\n",
    "import heapq\n",
    "def findCity(n, edges, threshold):\n",
    "    graph = {}\n",
    "    for i in range(n):\n",
    "        graph[i] = []\n",
    "    for u, v, w in edges:\n",
    "        graph[u].append((v, w))\n",
    "        graph[v].append((u, w))\n",
    "    ans = [float('-inf'), float('inf')]\n",
    "    for node in range(n):\n",
    "        val = DFS(node, n, graph, threshold)\n",
    "        if val <= ans[1]:\n",
    "            ans = [max(ans[0], node), val]\n",
    "    return ans[0]\n",
    "    \n",
    "def DFS(node, n, graph, threshold):\n",
    "    dist = [float('inf')]*n\n",
    "    dist[node] = 0\n",
    "    pq = [(0, node)]  ## distance, node\n",
    "    while pq:\n",
    "        d, node = heapq.heappop(pq)\n",
    "        for nei, w in graph[node]:\n",
    "            if d + w > threshold:\n",
    "                continue\n",
    "            if dist[nei] > d + w:\n",
    "                dist[nei] = d + w\n",
    "                heapq.heappush(pq, (d+w, nei))\n",
    "    return sum(d<=threshold for d in dist) - 1\n",
    "n = 5\n",
    "edges = [[0,1,2],[0,4,8],[1,2,3],[1,4,2],[2,3,1],[3,4,1]]\n",
    "threshold = 2\n",
    "findCity(n, edges, threshold)\n",
    "##Time O(VElogV) space O(V)"
   ]
  },
  {
   "cell_type": "code",
   "execution_count": 24,
   "id": "private-ethnic",
   "metadata": {},
   "outputs": [],
   "source": [
    "###1339. Maximum Product of Splitted Binary Tree\n",
    "def maxProd(root):\n",
    "    if root is None:\n",
    "        return 0\n",
    "    subTrees = []\n",
    "    Sum = 0\n",
    "    total = DFS(root, subTrees, Sum)\n",
    "    res = float('-inf')\n",
    "    for val in subTrees:\n",
    "        res = max(res, val*(total-val))\n",
    "    return res%(10**9 + 7)\n",
    "   \n",
    "##Post order traversal  left, right, root\n",
    "def DFS(root, subTrees, Sum):\n",
    "    if root is None:\n",
    "        return 0\n",
    "    leftT = DFS(root.left, subTrees, Sum)\n",
    "    rightT = DFS(root.right, subTrees, Sum)\n",
    "    \n",
    "    Sum = root.val + leftT + rightT\n",
    "    subTrees.append(Sum)\n",
    "    return Sum\n",
    "\n",
    "##Time O(N)  space O(N)\n",
    "    "
   ]
  },
  {
   "cell_type": "code",
   "execution_count": null,
   "id": "breeding-leave",
   "metadata": {},
   "outputs": [],
   "source": []
  }
 ],
 "metadata": {
  "kernelspec": {
   "display_name": "Python 3",
   "language": "python",
   "name": "python3"
  },
  "language_info": {
   "codemirror_mode": {
    "name": "ipython",
    "version": 3
   },
   "file_extension": ".py",
   "mimetype": "text/x-python",
   "name": "python",
   "nbconvert_exporter": "python",
   "pygments_lexer": "ipython3",
   "version": "3.7.4"
  }
 },
 "nbformat": 4,
 "nbformat_minor": 5
}
