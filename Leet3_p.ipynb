{
 "cells": [
  {
   "cell_type": "code",
   "execution_count": 2,
   "id": "dynamic-bunch",
   "metadata": {},
   "outputs": [
    {
     "data": {
      "text/plain": [
       "[0, 1]"
      ]
     },
     "execution_count": 2,
     "metadata": {},
     "output_type": "execute_result"
    }
   ],
   "source": [
    "##1. Two Sum\n",
    "# Input: nums = [2,7,11,15], target = 9\n",
    "# Output: [0,1]\n",
    "# Output: Because nums[0] + nums[1] == 9, we return [0, 1].\n",
    "\n",
    "def twoSum(nums, target):\n",
    "    numDict = {}\n",
    "    for i in range(len(nums)):\n",
    "        if target-nums[i] in numDict:\n",
    "            return [numDict[target-nums[i]], i]\n",
    "        else:\n",
    "            numDict[nums[i]] = i\n",
    "            \n",
    "nums = [3,3]\n",
    "target = 6\n",
    "twoSum(nums, target)"
   ]
  },
  {
   "cell_type": "code",
   "execution_count": 4,
   "id": "hungarian-negative",
   "metadata": {},
   "outputs": [],
   "source": [
    "##206. Reverse Linked List\n",
    "def reverseList(head):\n",
    "    prev = None\n",
    "    cur = head\n",
    "    while cur:\n",
    "        temp = cur.next\n",
    "        cur.next = prev\n",
    "        prev = cur\n",
    "        cur = temp\n",
    "    return prev\n",
    "    "
   ]
  },
  {
   "cell_type": "code",
   "execution_count": 19,
   "id": "regulation-weight",
   "metadata": {},
   "outputs": [
    {
     "name": "stdout",
     "output_type": "stream",
     "text": [
      "1\n",
      "-1\n",
      "-1\n",
      "3\n",
      "4\n"
     ]
    }
   ],
   "source": [
    "##146. LRU Cache\n",
    "class dll:\n",
    "    def __init__(self, key, val):\n",
    "        self.key = key\n",
    "        self.val = val\n",
    "        self.prev = None\n",
    "        self.next = None\n",
    "        \n",
    "class LRU:\n",
    "    def __init__(self,capacity):\n",
    "        self.capacity = capacity\n",
    "        self.cache = {}\n",
    "        self.head = dll(0,0)\n",
    "        self.tail = dll(0,0)\n",
    "        self.head.next = self.tail\n",
    "        self.tail.prev = self.head\n",
    "        \n",
    "    def add(self, node):\n",
    "        p = self.tail.prev\n",
    "        p.next = node\n",
    "        node.prev = p\n",
    "        \n",
    "        node.next = self.tail\n",
    "        self.tail.prev = node\n",
    "        \n",
    "    def remove(self, node):\n",
    "        p = node.prev\n",
    "        q = node.next\n",
    "        \n",
    "        p.next = q\n",
    "        q.prev = p\n",
    "        \n",
    "    def get(self, key):\n",
    "        if key in self.cache:\n",
    "            node = self.cache[key]\n",
    "            self.remove(node)\n",
    "            self.add(node)\n",
    "            return node.val\n",
    "        return -1\n",
    "    \n",
    "    def put(self, key, value):\n",
    "        if key in self.cache:\n",
    "            self.remove(node)\n",
    "        self.cache[key] = dll(key, value)\n",
    "        node = self.cache[key]\n",
    "        self.add(node)\n",
    "        if self.capacity < len(self.cache):\n",
    "            lru = self.head.next\n",
    "            self.remove(lru)\n",
    "            del self.cache[lru.key]\n",
    "            \n",
    "# lru = LRU(2)\n",
    "# lru.put(1,1)\n",
    "# lru.put(2,2)\n",
    "# print(lru.get(1))\n",
    "# lru.put(3,3)\n",
    "# print(lru.get(2))\n",
    "# lru.put(4,4)\n",
    "# print(lru.get(1))\n",
    "# print(lru.get(3))\n",
    "# print(lru.get(4))"
   ]
  },
  {
   "cell_type": "code",
   "execution_count": 20,
   "id": "bizarre-passion",
   "metadata": {},
   "outputs": [
    {
     "data": {
      "text/plain": [
       "[1, 3, 12, 0, 0]"
      ]
     },
     "execution_count": 20,
     "metadata": {},
     "output_type": "execute_result"
    }
   ],
   "source": [
    "##283. Move Zeroes\n",
    "##initially left , right both 0..we have to make right shift if nums[right] == 0 else\n",
    "##swap both and make both left and right shift \n",
    "\n",
    "def moveZeros(nums):\n",
    "    left = 0\n",
    "    right = 0\n",
    "    n = len(nums)\n",
    "    while right < n:\n",
    "        if nums[right] == 0:\n",
    "            right += 1\n",
    "        else:\n",
    "            nums[left], nums[right] = nums[right], nums[left]\n",
    "            left += 1\n",
    "            right += 1\n",
    "    return nums\n",
    "\n",
    "nums = [0,1,0,3,12]\n",
    "moveZeros(nums)"
   ]
  },
  {
   "cell_type": "code",
   "execution_count": 1,
   "id": "prescribed-encounter",
   "metadata": {},
   "outputs": [],
   "source": [
    "###23. Merge k Sorted Lists\n",
    "# Input: lists = [[1,4,5],[1,3,4],[2,6]]\n",
    "# Output: [1,1,2,3,4,4,5,6]\n",
    "class ListNode:\n",
    "    def __init__(self, val):\n",
    "        self.val = val\n",
    "        self.next = None\n",
    "        \n",
    "def kSorted(lists):\n",
    "    if not lists or len(lists) == 0:\n",
    "        return None\n",
    "    amount = len(lists)\n",
    "    interval = 1\n",
    "    while interval < amount:\n",
    "        for i in range(0, amount-interval, interval*2):\n",
    "            lists[i] = merge(lists[i], lists[i+interval])\n",
    "        interval *= 2\n",
    "    return lists[0] if amount>0 else None\n",
    "        \n",
    "        \n",
    "        \n",
    "def merge(list1, list2):\n",
    "    cur = dummy = ListNode(0)\n",
    "    while list1 and list2:\n",
    "        if list1.val < list2.val:\n",
    "            cur.next = ListNode(list1.val)\n",
    "            list1 = list1.next\n",
    "        else:\n",
    "            cur.next = ListNode(list2.val)\n",
    "            list2 = list2.next\n",
    "        cur = cur.next\n",
    "             \n",
    "    while list1:\n",
    "        cur.next = ListNode(list1.val)\n",
    "        cur = cur.next\n",
    "        list1 = list1.next\n",
    "        \n",
    "    while list2:\n",
    "        cur.next = ListNode(list2.val)\n",
    "        cur = cur.next\n",
    "        list2 = list2.next\n",
    "    return dummy.next\n",
    "             "
   ]
  },
  {
   "cell_type": "code",
   "execution_count": 3,
   "id": "historic-convention",
   "metadata": {},
   "outputs": [
    {
     "data": {
      "text/plain": [
       "[1, 2, 2, 3, 5, 6]"
      ]
     },
     "execution_count": 3,
     "metadata": {},
     "output_type": "execute_result"
    }
   ],
   "source": [
    "##88. Merge Sorted Array\n",
    "# Input: nums1 = [1,2,3,0,0,0], m = 3, nums2 = [2,5,6], n = 3\n",
    "# Output: [1,2,2,3,5,6]\n",
    "# Explanation: The arrays we are merging are [1,2,3] and [2,5,6].\n",
    "# The result of the merge is [1,2,2,3,5,6] with the underlined elements coming from nums1.\n",
    "\n",
    "def mergesorted(nums1, m, nums2, n):\n",
    "    p1 = m - 1\n",
    "    p2 = n - 1\n",
    "    i = m + n - 1\n",
    "    \n",
    "    while p1 >= 0 and p2>=0:\n",
    "        if nums1[p1] > nums2[p2]:\n",
    "            nums1[i] = nums1[p1]\n",
    "            p1 -= 1\n",
    "            i -= 1\n",
    "        else:\n",
    "            nums1[i] = nums2[p2]\n",
    "            p2 -= 1\n",
    "            i -= 1\n",
    "            \n",
    "    while p2 >= 0:\n",
    "        nums1[i] = nums2[p2]\n",
    "        p2 -= 1\n",
    "        i -= 1\n",
    "        \n",
    "    return nums1\n",
    "\n",
    "nums1 = [1,2,3,0,0,0]\n",
    "m = 3\n",
    "nums2 = [2,5,6]\n",
    "n = 3\n",
    "mergesorted(nums1, m, nums2, n)    \n",
    "    "
   ]
  },
  {
   "cell_type": "code",
   "execution_count": 1,
   "id": "unexpected-dallas",
   "metadata": {},
   "outputs": [
    {
     "name": "stdout",
     "output_type": "stream",
     "text": [
      "[1, 3, 5, 6, 7]\n",
      "[8, 9, 15]\n"
     ]
    }
   ],
   "source": [
    "##\n",
    "nums1 = [1,3,5,7,8]\n",
    "nums2 = [6,9,15]\n",
    "\n",
    "def insert1(nums2, i):\n",
    "    original = nums2[i]\n",
    "    i += 1\n",
    "    while i < len(nums2) and nums2[i] < original:\n",
    "        nums2[i-1] = nums2[i]\n",
    "        i += 1\n",
    "    nums2[i-1] = original\n",
    "    \n",
    "end = len(nums1)\n",
    "i = 0\n",
    "while i < end:\n",
    "    if nums1[i] > nums2[0]:\n",
    "        nums1[i], nums2[0] = nums2[0], nums1[i]\n",
    "        insert1(nums2, 0)\n",
    "    i += 1\n",
    "    \n",
    "print(nums1)\n",
    "print(nums2)"
   ]
  },
  {
   "cell_type": "code",
   "execution_count": 2,
   "id": "racial-defendant",
   "metadata": {},
   "outputs": [
    {
     "data": {
      "text/plain": [
       "([1, 3, 5, 6, 7], [8, 9, 15])"
      ]
     },
     "execution_count": 2,
     "metadata": {},
     "output_type": "execute_result"
    }
   ],
   "source": [
    "##rearrange two sorted array without any space\n",
    "\n",
    "def reArrange(nums1, nums2):\n",
    "    i = 0\n",
    "    end = len(nums1)\n",
    "    \n",
    "    while i < end:\n",
    "        if nums1[i] > nums2[0]:\n",
    "            nums1[i], nums2[0] = nums2[0], nums1[i]\n",
    "            insert(nums2, 0)\n",
    "        i += 1\n",
    "    return nums1, nums2\n",
    "\n",
    "def insert(nums2, i):\n",
    "    original = nums2[i]\n",
    "    i += 1\n",
    "    while i < len(nums2) and nums2[i] < original:\n",
    "        nums2[i-1] = nums2[i]\n",
    "        i += 1\n",
    "    nums2[i-1] = original\n",
    "    \n",
    "    \n",
    "nums1 = [1,3,5,7,8]\n",
    "nums2 = [6,9,15]    \n",
    "reArrange(nums1, nums2)\n"
   ]
  },
  {
   "cell_type": "code",
   "execution_count": 9,
   "id": "greenhouse-delaware",
   "metadata": {},
   "outputs": [
    {
     "name": "stdout",
     "output_type": "stream",
     "text": [
      "edge 0 --> 2 Weight 5\n",
      "edge 3 --> 4 Weight 7\n",
      "edge 0 --> 1 Weight 8\n",
      "edge 2 --> 4 Weight 10\n"
     ]
    }
   ],
   "source": [
    "###Implementation of kruskal algorithm\n",
    "\n",
    "class kruskal:\n",
    "    def __init__(self,vertix):\n",
    "        self.vertix = vertix\n",
    "        self.graph = []\n",
    "    \n",
    "    def add_edge(self, u, v, w):\n",
    "        self.graph.append((u,v,w))\n",
    "        \n",
    "    def find(self, parent, node):\n",
    "        if parent[node] != node:\n",
    "            node = self.find(parent, parent[node])\n",
    "        return parent[node]\n",
    "    \n",
    "    def union(self, parent, rank, u, v):\n",
    "        u_root = self.find(parent, u)\n",
    "        v_root = self.find(parent, v)\n",
    "        \n",
    "        if rank[u_root] > rank[v_root]:\n",
    "            parent[v_root] = u_root\n",
    "        elif rank[u_root] < rank[v_root]:\n",
    "            parent[u_root] = v_root\n",
    "        else:\n",
    "            parent[v_root] = u_root\n",
    "            rank[u_root] += 1\n",
    "            \n",
    "    def kruskal_algo(self):\n",
    "        parent = []\n",
    "        rank = []\n",
    "        res = []\n",
    "        self.graph = sorted(self.graph, key=lambda x:x[2])\n",
    "        for i in range(self.vertix):\n",
    "            parent.append(i)\n",
    "            rank.append(0)\n",
    "        i = 0\n",
    "        edge = 0\n",
    "        \n",
    "        while edge < self.vertix - 1:\n",
    "            u, v, w = self.graph[i]\n",
    "            i += 1\n",
    "            u_parent = self.find(parent, u)\n",
    "            v_parent = self.find(parent, v)\n",
    "            if u_parent != v_parent:\n",
    "                edge += 1\n",
    "                res.append((u,v,w))\n",
    "                self.union(parent, rank, u_parent, v_parent)\n",
    "        for u,v, w in res:\n",
    "            print(\"edge\",u,\"-->\",v,end=\" \")\n",
    "            print(\"Weight\", w)\n",
    "            \n",
    "g = kruskal(5)\n",
    "g.add_edge(0, 1, 8)\n",
    "g.add_edge(0, 2, 5)\n",
    "g.add_edge(1, 2, 9)\n",
    "g.add_edge(1, 3, 11)\n",
    "g.add_edge(2, 3, 15)\n",
    "g.add_edge(2, 4, 10)\n",
    "g.add_edge(3, 4, 7)\n",
    "g.kruskal_algo()\n",
    "        "
   ]
  },
  {
   "cell_type": "code",
   "execution_count": 2,
   "id": "initial-quantum",
   "metadata": {},
   "outputs": [],
   "source": [
    "##Clone graph\n",
    "\n",
    "class graphNode:\n",
    "    def __init__(self, val, neighbours=None):\n",
    "        self.val = val\n",
    "        self.neighbours = neighbours if neighbours is None else []\n",
    "        \n",
    "def cloneGraph(node):\n",
    "    clone = {}\n",
    "    clone[node] = graphNode(node.val, [])\n",
    "    \n",
    "    import collections\n",
    "    queue = collections.deque()\n",
    "    queue.append(node)\n",
    "    \n",
    "    while queue:\n",
    "        cur = queue.popleft()\n",
    "        for nei in cur.neighbours:\n",
    "            if nei not in clone:\n",
    "                clone[nei] = graphNode(nei.val, [])\n",
    "                queue.append(nei)\n",
    "            clone[cur].neighbours.append(clone[nei])\n",
    "    return clone[node]"
   ]
  },
  {
   "cell_type": "code",
   "execution_count": 5,
   "id": "subject-ribbon",
   "metadata": {},
   "outputs": [
    {
     "data": {
      "text/plain": [
       "0"
      ]
     },
     "execution_count": 5,
     "metadata": {},
     "output_type": "execute_result"
    }
   ],
   "source": [
    "##221. Maximal Square\n",
    "\n",
    "def maximalSquare(grid):\n",
    "    m = len(grid)\n",
    "    n = len(grid[0])\n",
    "    height = 0\n",
    "    table = [[0 for col in range(n+1)] for row in range(m+1)]\n",
    "    for i in range(len(table)):\n",
    "        for j in range(len(table[0])):\n",
    "            if grid[i-1][j-1] == \"1\":\n",
    "                table[i][j] = 1 + min(table[i-1][j], table[i][j-1], table[i-1][j-1])\n",
    "                height = max(height, table[i][j])\n",
    "    return height*height\n",
    "\n",
    "grid = [[\"0\"]]\n",
    "maximalSquare(grid)"
   ]
  },
  {
   "cell_type": "code",
   "execution_count": 17,
   "id": "homeless-mixer",
   "metadata": {},
   "outputs": [
    {
     "name": "stdout",
     "output_type": "stream",
     "text": [
      "True\n",
      "False\n",
      "True\n",
      "1\n",
      "True\n",
      "False\n",
      "2\n"
     ]
    }
   ],
   "source": [
    "##380. Insert Delete GetRandom O(1)\n",
    "\n",
    "class randomizedSet:\n",
    "    from random import choice\n",
    "    def __init__(self):\n",
    "        self.dict = {}\n",
    "        self.array = []\n",
    "        \n",
    "    def insert(self, val):\n",
    "        if val in self.dict:\n",
    "            return False\n",
    "        self.dict[val] = len(self.array)\n",
    "        self.array.append(val)\n",
    "        return True\n",
    "    \n",
    "    def remove(self, val):\n",
    "        if val in self.dict:\n",
    "            lastElement = self.array[-1]\n",
    "            originalIdx = self.dict[val]\n",
    "            self.array[originalIdx] = lastElement\n",
    "            self.dict[lastElement] = originalIdx\n",
    "            self.array.pop()\n",
    "            del self.dict[val]\n",
    "            return True\n",
    "        return False\n",
    "    def getRandom(self):\n",
    "        from random import choice\n",
    "        return choice(self.array)\n",
    "    \n",
    "ran = randomizedSet()\n",
    "print(ran.insert(1))\n",
    "print(ran.remove(2))\n",
    "print(ran.insert(2))\n",
    "print(ran.getRandom())\n",
    "print(ran.remove(1))\n",
    "print(ran.insert(2))\n",
    "print(ran.getRandom())\n",
    "\n"
   ]
  },
  {
   "cell_type": "code",
   "execution_count": 3,
   "id": "framed-mustang",
   "metadata": {},
   "outputs": [
    {
     "data": {
      "text/plain": [
       "4"
      ]
     },
     "execution_count": 3,
     "metadata": {},
     "output_type": "execute_result"
    }
   ],
   "source": [
    "##410. Split Array Largest Sum\n",
    "# Input: nums = [7,2,5,10,8], m = 2\n",
    "# Output: 18\n",
    "\n",
    "def splitArrayMaxSum(nums, m):\n",
    "    left = max(nums)\n",
    "    right = sum(nums)\n",
    "    \n",
    "    while left <= right:\n",
    "        mid = left + (right-left)//2\n",
    "        count = condition(nums, mid)\n",
    "        if count <= m:\n",
    "            right = mid - 1\n",
    "        else:\n",
    "            left = mid + 1\n",
    "    return left\n",
    "\n",
    "def condition(nums, mid):\n",
    "    count = 1\n",
    "    total = 0\n",
    "    for num in nums:\n",
    "        total += num\n",
    "        if total > mid:\n",
    "            count += 1\n",
    "            total = num\n",
    "    return count\n",
    "\n",
    "nums = [1,4,4]\n",
    "m = 3\n",
    "splitArrayMaxSum(nums, m)\n",
    "            "
   ]
  },
  {
   "cell_type": "code",
   "execution_count": 4,
   "id": "extended-repair",
   "metadata": {},
   "outputs": [],
   "source": [
    "###637. Average of Levels in Binary Tree\n",
    "def averageOfLevels(root):\n",
    "    if root is None:\n",
    "        return []\n",
    "    stack = [root]\n",
    "    res = [root.val]\n",
    "    \n",
    "    while len(stack) != 0:\n",
    "        temp = []\n",
    "        nodeCount = 0\n",
    "        cSum = 0\n",
    "        for node in stack:\n",
    "            if node.left:\n",
    "                temp.append(node.left)\n",
    "                cSum += node.left.val\n",
    "                nodeCount += 1\n",
    "            if node.right:\n",
    "                temp.append(node.right)\n",
    "                cSum += node.right.val\n",
    "                nodeCount += 1\n",
    "            if nodeCount > 0:\n",
    "                avg = cSum / nodeCount\n",
    "                res.append(avg)\n",
    "        stack = temp\n",
    "        \n",
    "    return res"
   ]
  },
  {
   "cell_type": "code",
   "execution_count": 8,
   "id": "geological-integrity",
   "metadata": {},
   "outputs": [
    {
     "data": {
      "text/plain": [
       "[[4, -1, 0, 1], [3, 2, 1, -1], [4, -1, 2, -1], [5, -1, 3, 4]]"
      ]
     },
     "execution_count": 8,
     "metadata": {},
     "output_type": "execute_result"
    }
   ],
   "source": [
    "##286. Walls and Gates\n",
    "\n",
    "def wallsAndGates(rooms):\n",
    "    for i in range(len(rooms)):\n",
    "        for j in range(len(rooms[0])):\n",
    "            if rooms[i][j] == 0:\n",
    "                dfs(i, j, 0, rooms)\n",
    "    return rooms\n",
    "\n",
    "def dfs(i, j, count, rooms):\n",
    "    if i < 0 or i >= len(rooms) or j < 0 or j >= len(rooms[0]) or rooms[i][j] < count:\n",
    "        return\n",
    "    rooms[i][j] = count\n",
    "    dfs(i+1, j, count+1, rooms)\n",
    "    dfs(i-1, j, count+1, rooms)\n",
    "    dfs(i, j+1, count+1, rooms)\n",
    "    dfs(i, j-1, count+1, rooms)\n",
    "INF = float('inf') \n",
    "rooms = [[INF, -1 ,0 ,INF],\n",
    "         [INF,INF,INF,-1],\n",
    "        [INF ,-1,INF, -1],\n",
    "        [INF, -1, INF, INF]]\n",
    "\n",
    "wallsAndGates(rooms)"
   ]
  },
  {
   "cell_type": "code",
   "execution_count": 9,
   "id": "stainless-portugal",
   "metadata": {},
   "outputs": [],
   "source": [
    "# [[4, -1, 0, 1], \n",
    "#  [3, 2, 1, -1], \n",
    "#  [4, -1, 2, -1], \n",
    "#  [5, -1, 3, 4]]"
   ]
  },
  {
   "cell_type": "code",
   "execution_count": 14,
   "id": "unnecessary-chick",
   "metadata": {},
   "outputs": [
    {
     "data": {
      "text/plain": [
       "[0]"
      ]
     },
     "execution_count": 14,
     "metadata": {},
     "output_type": "execute_result"
    }
   ],
   "source": [
    "###210. Course Schedule II\n",
    "def courseSchedule2(numCourses, preRequisites):\n",
    "    adj_list = {}\n",
    "    for i in range(numCourses):\n",
    "        adj_list[i] = []\n",
    "    for u, v in preRequisites:\n",
    "        adj_list[v].append(u)\n",
    "        \n",
    "    res = []\n",
    "    if detectCycle(adj_list, numCourses):\n",
    "        return res\n",
    "    stack = []\n",
    "    visited = [False]*numCourses\n",
    "    for i in range(numCourses):\n",
    "        if not visited[i]:\n",
    "            dfs(adj_list, visited, i, stack)\n",
    "    while len(stack) != 0:\n",
    "        res.append(stack.pop())\n",
    "    return res\n",
    "            \n",
    "def dfs(adj_list, visited, i, stack):\n",
    "    visited[i] = True\n",
    "    for nei in adj_list[i]:\n",
    "        if not visited[nei]:\n",
    "            dfs(adj_list, visited, nei, stack)\n",
    "    stack.append(i)\n",
    "    \n",
    "\n",
    "def detectCycle(adj_list, numCourses):\n",
    "    visited = [0]*numCourses\n",
    "    for i in range(numCourses):\n",
    "        if visited[i] == 0:\n",
    "            if isCycle(adj_list, visited, i):\n",
    "                return True\n",
    "    return False\n",
    "\n",
    "def isCycle(adj_list, visited, i):\n",
    "    if visited[i] == 2:\n",
    "        return True\n",
    "    visited[i] = 2\n",
    "    for nei in adj_list[i]:\n",
    "        if visited[nei] != 1:\n",
    "            if isCycle(adj_list, visited, nei):\n",
    "                return True\n",
    "    visited[i] = 1\n",
    "    return False\n",
    "\n",
    "numCourses = 1\n",
    "prerequisites = []\n",
    "courseSchedule2(numCourses, prerequisites)"
   ]
  },
  {
   "cell_type": "code",
   "execution_count": 4,
   "id": "indian-acrylic",
   "metadata": {},
   "outputs": [
    {
     "data": {
      "text/plain": [
       "0.25"
      ]
     },
     "execution_count": 4,
     "metadata": {},
     "output_type": "execute_result"
    }
   ],
   "source": [
    "##50. Pow(x, n)\n",
    "\n",
    "def myPow(x, n):\n",
    "    if n == 0:\n",
    "        return 1.0\n",
    "    if n == 1:\n",
    "        return x\n",
    "    \n",
    "    res = 1\n",
    "    n1 = n\n",
    "    if n1 < 0:\n",
    "        n1 = n1*(-1)\n",
    "    while n1 > 0:\n",
    "        if n1%2 != 0:\n",
    "            res = res*x\n",
    "        n1 = n1 //2\n",
    "        x = x*x\n",
    "    return res if n > 0 else 1/res\n",
    "\n",
    "x = 2.00000\n",
    "n = -2\n",
    "myPow(x, n)"
   ]
  },
  {
   "cell_type": "code",
   "execution_count": null,
   "id": "regional-medline",
   "metadata": {},
   "outputs": [],
   "source": []
  }
 ],
 "metadata": {
  "kernelspec": {
   "display_name": "Python 3",
   "language": "python",
   "name": "python3"
  },
  "language_info": {
   "codemirror_mode": {
    "name": "ipython",
    "version": 3
   },
   "file_extension": ".py",
   "mimetype": "text/x-python",
   "name": "python",
   "nbconvert_exporter": "python",
   "pygments_lexer": "ipython3",
   "version": "3.7.4"
  }
 },
 "nbformat": 4,
 "nbformat_minor": 5
}
